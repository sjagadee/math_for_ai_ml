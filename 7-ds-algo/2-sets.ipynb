{
 "cells": [
  {
   "cell_type": "markdown",
   "id": "e5ad62f0",
   "metadata": {},
   "source": [
    "### Set-Based Data Structures (Maps/ Dictionaries)"
   ]
  },
  {
   "cell_type": "code",
   "execution_count": 1,
   "id": "1b60fac5",
   "metadata": {},
   "outputs": [
    {
     "data": {
      "text/plain": [
       "{}"
      ]
     },
     "execution_count": 1,
     "metadata": {},
     "output_type": "execute_result"
    }
   ],
   "source": [
    "inventory = {}\n",
    "inventory"
   ]
  },
  {
   "cell_type": "code",
   "execution_count": 2,
   "id": "04e580ef",
   "metadata": {},
   "outputs": [
    {
     "data": {
      "text/plain": [
       "{'hammer': [18]}"
      ]
     },
     "execution_count": 2,
     "metadata": {},
     "output_type": "execute_result"
    }
   ],
   "source": [
    "inventory[\"hammer\"] = [18]\n",
    "inventory"
   ]
  },
  {
   "cell_type": "code",
   "execution_count": 3,
   "id": "26f8c63b",
   "metadata": {},
   "outputs": [],
   "source": [
    "inventory[\"nail\"] = [2553]\n",
    "inventory[\"unicorn\"] = [1]\n",
    "inventory[\"dolphin\"] = [\"none\"]"
   ]
  },
  {
   "cell_type": "code",
   "execution_count": 4,
   "id": "ffd4444b",
   "metadata": {},
   "outputs": [
    {
     "data": {
      "text/plain": [
       "{'hammer': [18], 'nail': [2553], 'unicorn': [1], 'dolphin': ['none']}"
      ]
     },
     "execution_count": 4,
     "metadata": {},
     "output_type": "execute_result"
    }
   ],
   "source": [
    "inventory"
   ]
  },
  {
   "cell_type": "code",
   "execution_count": 5,
   "id": "518e3668",
   "metadata": {},
   "outputs": [
    {
     "data": {
      "text/plain": [
       "{'hammer': [18], 'nail': [2553], 'unicorn': [1], 'dolphin': [0]}"
      ]
     },
     "execution_count": 5,
     "metadata": {},
     "output_type": "execute_result"
    }
   ],
   "source": [
    "inventory[\"dolphin\"] = [0]\n",
    "inventory"
   ]
  },
  {
   "cell_type": "code",
   "execution_count": 6,
   "id": "d5e7b293",
   "metadata": {},
   "outputs": [],
   "source": [
    "inventory[\"unicorn\"].append(2)"
   ]
  },
  {
   "cell_type": "code",
   "execution_count": 7,
   "id": "f0f6ab55",
   "metadata": {},
   "outputs": [
    {
     "data": {
      "text/plain": [
       "{'hammer': [18], 'nail': [2553], 'unicorn': [1, 2], 'dolphin': [0]}"
      ]
     },
     "execution_count": 7,
     "metadata": {},
     "output_type": "execute_result"
    }
   ],
   "source": [
    "inventory"
   ]
  },
  {
   "cell_type": "markdown",
   "id": "2cb75827",
   "metadata": {},
   "source": [
    "#### Hashing"
   ]
  },
  {
   "cell_type": "code",
   "execution_count": 8,
   "id": "8c88b285",
   "metadata": {},
   "outputs": [
    {
     "data": {
      "text/plain": [
       "['5', '5', '5', '1', '2', '3', '4', '5', '6', '7']"
      ]
     },
     "execution_count": 8,
     "metadata": {},
     "output_type": "execute_result"
    }
   ],
   "source": [
    "# Let's say we have some values\n",
    "\n",
    "values = 5551234567\n",
    "\n",
    "# A common hash function is to use the modulo operator for the last few digits of the number:\n",
    "\n",
    "split_value = [digit for digit in str(values)]\n",
    "split_value"
   ]
  },
  {
   "cell_type": "code",
   "execution_count": 9,
   "id": "bca97e6f",
   "metadata": {},
   "outputs": [
    {
     "data": {
      "text/plain": [
       "67"
      ]
     },
     "execution_count": 9,
     "metadata": {},
     "output_type": "execute_result"
    }
   ],
   "source": [
    "final_digits = int(\"\".join(split_value[-2:])) # final digits typically used b/c they tend to vary more\n",
    "final_digits"
   ]
  },
  {
   "cell_type": "code",
   "execution_count": 10,
   "id": "6aa5d4df",
   "metadata": {},
   "outputs": [
    {
     "data": {
      "text/plain": [
       "7"
      ]
     },
     "execution_count": 10,
     "metadata": {},
     "output_type": "execute_result"
    }
   ],
   "source": [
    "hash_value = final_digits % 10 # 10 is arbitrarily chosen and to be consistent accross all values \n",
    "hash_value"
   ]
  },
  {
   "cell_type": "code",
   "execution_count": 11,
   "id": "47d8c358",
   "metadata": {},
   "outputs": [],
   "source": [
    "def simple_hash(v):\n",
    "    split_v = [digit for digit in str(v)]\n",
    "    final_2 = int(''.join(split_v[-2:]))\n",
    "    return final_2 % 10"
   ]
  },
  {
   "cell_type": "code",
   "execution_count": 12,
   "id": "926e277e",
   "metadata": {},
   "outputs": [
    {
     "data": {
      "text/plain": [
       "7"
      ]
     },
     "execution_count": 12,
     "metadata": {},
     "output_type": "execute_result"
    }
   ],
   "source": [
    "simple_hash(values)"
   ]
  },
  {
   "cell_type": "code",
   "execution_count": 13,
   "id": "331b0476",
   "metadata": {},
   "outputs": [
    {
     "data": {
      "text/plain": [
       "1"
      ]
     },
     "execution_count": 13,
     "metadata": {},
     "output_type": "execute_result"
    }
   ],
   "source": [
    "simple_hash(5551234321)"
   ]
  },
  {
   "cell_type": "markdown",
   "id": "f18d9fdc",
   "metadata": {},
   "source": [
    "These hash values (`7` and `1`) could be used in a sequential, small-integer index, i.e., a *hash table*."
   ]
  },
  {
   "cell_type": "markdown",
   "id": "783c13c6",
   "metadata": {},
   "source": [
    "#### Collision\n",
    "\n",
    "Major problem with the `simple_hash()` function:\n",
    "* The hash table has at most ten indices\n",
    "* Ergo, many input values will result in **collisions**, e.g.:"
   ]
  },
  {
   "cell_type": "code",
   "execution_count": 14,
   "id": "c608398c",
   "metadata": {},
   "outputs": [
    {
     "data": {
      "text/plain": [
       "5"
      ]
     },
     "execution_count": 14,
     "metadata": {},
     "output_type": "execute_result"
    }
   ],
   "source": [
    "simple_hash(555)"
   ]
  },
  {
   "cell_type": "code",
   "execution_count": 15,
   "id": "d447acaa",
   "metadata": {},
   "outputs": [
    {
     "data": {
      "text/plain": [
       "5"
      ]
     },
     "execution_count": 15,
     "metadata": {},
     "output_type": "execute_result"
    }
   ],
   "source": [
    "simple_hash(125)"
   ]
  },
  {
   "cell_type": "markdown",
   "id": "17c44017",
   "metadata": {},
   "source": [
    "Three common ways to resolve collisions:\n",
    "1. Change the modulus denominator (e.g., `10` --> `11`); this adds procedural (and thus time) complexity to hash algo\n",
    "2. Change the hash function entirely; ditto w.r.t. procedural complexity\n",
    "3. Store a list (or similar) at the index, e.g.:"
   ]
  },
  {
   "cell_type": "code",
   "execution_count": 16,
   "id": "7836c088",
   "metadata": {},
   "outputs": [
    {
     "data": {
      "text/plain": [
       "{5: [555]}"
      ]
     },
     "execution_count": 16,
     "metadata": {},
     "output_type": "execute_result"
    }
   ],
   "source": [
    "hash_table = {}\n",
    "\n",
    "hash_table[simple_hash(555)] = [555]\n",
    "hash_table"
   ]
  },
  {
   "cell_type": "code",
   "execution_count": 17,
   "id": "66aa1741",
   "metadata": {},
   "outputs": [
    {
     "data": {
      "text/plain": [
       "{5: [555, 125]}"
      ]
     },
     "execution_count": 17,
     "metadata": {},
     "output_type": "execute_result"
    }
   ],
   "source": [
    "hash_table[simple_hash(125)].append(125)\n",
    "hash_table"
   ]
  },
  {
   "cell_type": "markdown",
   "id": "2c2e0ae5",
   "metadata": {},
   "source": [
    "Such a list is called a **bucket**.\n",
    "\n",
    "Worst case:\n",
    "* All of the values hash to the same hash value (e.g., `5`)\n",
    "* Thus, all of the values are stored in a single bucket\n",
    "* Searching through the bucket has linear O($n$) time complexity\n",
    "\n",
    "Alternatively, we can increase memory complexity instead of time complexity:\n",
    "* Use very large modulus denominator\n",
    "* Reduces probability of collisions\n",
    "* If use denominator of `1e9`, we have a hash table with a billion buckets\n",
    "\n",
    "Could also have a second hash function *inside* of the bucket (e.g., if we know we'll have a few very large buckets).\n",
    "\n",
    "There is no \"perfect hash\". It depends on the values you're working with. There are many options to consider with various trade-offs."
   ]
  },
  {
   "cell_type": "markdown",
   "id": "08b6f5fe",
   "metadata": {},
   "source": [
    "#### Load Factor\n",
    "\n",
    "Metric that guides hashing decisions:\n",
    "$$ \\text{load factor} = \\frac{n_\\text{values}}{n_\\text{buckets}} $$"
   ]
  },
  {
   "cell_type": "code",
   "execution_count": 18,
   "id": "a5790601",
   "metadata": {},
   "outputs": [
    {
     "data": {
      "text/plain": [
       "1e-08"
      ]
     },
     "execution_count": 18,
     "metadata": {},
     "output_type": "execute_result"
    }
   ],
   "source": [
    "10/1e9"
   ]
  },
  {
   "cell_type": "markdown",
   "id": "0c2605bf",
   "metadata": {},
   "source": [
    "If we have ten values to store, but a billion buckets...\n",
    "$$ \\text{load factor} = \\frac{10}{10^9} = 10^{-8}$$\n",
    "\n",
    "...we are probably using much more memory than we need to. This is the case whenever load factor $\\approx 0$."
   ]
  },
  {
   "cell_type": "markdown",
   "id": "6e80f4c2",
   "metadata": {},
   "source": [
    "As a general rule of thumb, the \"Goldilocks\" sweet spot would be to maintain a load factor between 0.6 and 0.75, providing a balance between memory and time complexity.\n",
    "\n",
    "Below 0.6, you're potentially wasting memory with too many empty buckets.\n",
    "\n",
    "Above 0.75, you risk having too many collisions, which degrades performance."
   ]
  },
  {
   "cell_type": "markdown",
   "id": "88ce098b",
   "metadata": {},
   "source": [
    "#### Hash Map\n",
    "\n",
    "In all of the above examples, we were hashing \"values\", but these \"values\" could in fact be the *keys* of a key-value pair, allowing us to have a **hash map**.\n",
    "\n",
    "Let's say `Jane Dough` has receipt number `5551234567`, where we're using the receipt numbers as keys to look up customers.\n",
    "\n",
    "We can add this as an entry in a hash table for quick lookup later (once we have many more receipts...):"
   ]
  },
  {
   "cell_type": "code",
   "execution_count": null,
   "id": "8f38fabb",
   "metadata": {},
   "outputs": [],
   "source": [
    "hash_map = {}\n",
    "\n",
    "hash_map[simple_hash(5551234567)] = (5551234567, \"Jane Dough\")\n"
   ]
  },
  {
   "cell_type": "code",
   "execution_count": 21,
   "id": "21c2e87f",
   "metadata": {},
   "outputs": [
    {
     "data": {
      "text/plain": [
       "{7: (5551234567, 'Jane Dough')}"
      ]
     },
     "execution_count": 21,
     "metadata": {},
     "output_type": "execute_result"
    }
   ],
   "source": [
    "hash_map"
   ]
  },
  {
   "cell_type": "code",
   "execution_count": 22,
   "id": "fcfc5e1f",
   "metadata": {},
   "outputs": [
    {
     "data": {
      "text/plain": [
       "{7: (5551234567, 'Jane Dough'), 8: (5551234568, 'John Lee')}"
      ]
     },
     "execution_count": 22,
     "metadata": {},
     "output_type": "execute_result"
    }
   ],
   "source": [
    "hash_map[simple_hash(5551234568)] = (5551234568, \"John Lee\")\n",
    "hash_map"
   ]
  },
  {
   "cell_type": "markdown",
   "id": "cd447c27",
   "metadata": {},
   "source": [
    "**FYI**: In Python, dictionaries are hash maps."
   ]
  },
  {
   "cell_type": "markdown",
   "id": "88650c71",
   "metadata": {},
   "source": [
    "#### String keys\n",
    "\n",
    "If our keys are character strings, we can still make use of hashing by converting the character string into an integer.\n",
    "\n",
    "For example, we could use the [ASCII table](http://www.asciitable.com) to convert `Jon` to `112157156`."
   ]
  },
  {
   "cell_type": "markdown",
   "id": "775a5d93",
   "metadata": {},
   "source": [
    "**Exercises**\n",
    "\n",
    "1. Use the `simple_hash()` function to add a customer named Jean d'Eau, who has receipt number `5551234569`, to `hash_map`.\n",
    "\n",
    "2. You have a hash table with a million buckets and two million values to store in the table. What is your load factor? Are collisions likely? If so, how can the probability of collisions be reduced?\n",
    "\n",
    "3. Use the octal standard of the ASCII table to convert the string `Llama` into an integer representation."
   ]
  },
  {
   "cell_type": "code",
   "execution_count": 23,
   "id": "44f908be",
   "metadata": {},
   "outputs": [
    {
     "data": {
      "text/plain": [
       "{7: (5551234567, 'Jane Dough'),\n",
       " 8: (5551234568, 'John Lee'),\n",
       " 9: (5551234569, \"Jean d'Eau\")}"
      ]
     },
     "execution_count": 23,
     "metadata": {},
     "output_type": "execute_result"
    }
   ],
   "source": [
    "hash_map[simple_hash(5551234569)] = (5551234569, \"Jean d'Eau\")\n",
    "hash_map"
   ]
  },
  {
   "cell_type": "code",
   "execution_count": 31,
   "id": "2c92d972",
   "metadata": {},
   "outputs": [
    {
     "data": {
      "text/plain": [
       "0.6666666666666666"
      ]
     },
     "execution_count": 31,
     "metadata": {},
     "output_type": "execute_result"
    }
   ],
   "source": [
    "load_factor = 2e6/3e6\n",
    "load_factor"
   ]
  },
  {
   "cell_type": "markdown",
   "id": "f85a9fb1",
   "metadata": {},
   "source": [
    "Load factor is 2.0, collision is highly likely, to reduce collision we can increase the bucket size to 3 million"
   ]
  },
  {
   "cell_type": "code",
   "execution_count": null,
   "id": "a740b79d",
   "metadata": {},
   "outputs": [
    {
     "data": {
      "text/plain": [
       "97"
      ]
     },
     "execution_count": 35,
     "metadata": {},
     "output_type": "execute_result"
    }
   ],
   "source": [
    "#  convert string to ascii octal\n",
    "\n"
   ]
  },
  {
   "cell_type": "code",
   "execution_count": null,
   "id": "4a88a28d",
   "metadata": {},
   "outputs": [],
   "source": []
  }
 ],
 "metadata": {
  "kernelspec": {
   "display_name": "my_ai_py",
   "language": "python",
   "name": "python3"
  },
  "language_info": {
   "codemirror_mode": {
    "name": "ipython",
    "version": 3
   },
   "file_extension": ".py",
   "mimetype": "text/x-python",
   "name": "python",
   "nbconvert_exporter": "python",
   "pygments_lexer": "ipython3",
   "version": "3.12.9"
  }
 },
 "nbformat": 4,
 "nbformat_minor": 5
}
