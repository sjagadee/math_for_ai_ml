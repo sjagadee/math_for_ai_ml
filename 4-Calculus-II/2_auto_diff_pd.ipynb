{
 "cells": [
  {
   "cell_type": "markdown",
   "id": "73308a0d",
   "metadata": {},
   "source": [
    "## Auto Differentiation for Partial Derivatives\n",
    "\n",
    "Determining partial derivatives by hand using rules is helpful for understanding how calculus works. In practice, however, autodiff enables us to do so more easily (especially if there are a large number of variables). For example, let's use the PyTorch automatic differentiation library to calculate the slope of $z$ with respect to both $x$ and $y$ at any given point $(x, y, z)$:"
   ]
  },
  {
   "cell_type": "code",
   "execution_count": 1,
   "id": "38a3d3b5",
   "metadata": {},
   "outputs": [],
   "source": [
    "import numpy as np\n",
    "import matplotlib.pyplot as plt\n",
    "import torch\n",
    "import math"
   ]
  },
  {
   "cell_type": "markdown",
   "id": "d1087a02",
   "metadata": {},
   "source": [
    "define a function $f(x, y)$ for $z = x^2 - y^2$:"
   ]
  },
  {
   "cell_type": "code",
   "execution_count": 2,
   "id": "8811ef45",
   "metadata": {},
   "outputs": [],
   "source": [
    "def f(my_x, my_y):\n",
    "    return my_x**2 - my_y**2"
   ]
  },
  {
   "cell_type": "code",
   "execution_count": 3,
   "id": "aac4ea72",
   "metadata": {},
   "outputs": [
    {
     "data": {
      "text/plain": [
       "tensor(0., requires_grad=True)"
      ]
     },
     "execution_count": 3,
     "metadata": {},
     "output_type": "execute_result"
    }
   ],
   "source": [
    "x = torch.tensor(0., requires_grad=True)\n",
    "x"
   ]
  },
  {
   "cell_type": "code",
   "execution_count": 4,
   "id": "2a37d4ed",
   "metadata": {},
   "outputs": [
    {
     "data": {
      "text/plain": [
       "tensor(0., requires_grad=True)"
      ]
     },
     "execution_count": 4,
     "metadata": {},
     "output_type": "execute_result"
    }
   ],
   "source": [
    "y = torch.tensor(0., requires_grad=True)\n",
    "y"
   ]
  },
  {
   "cell_type": "code",
   "execution_count": 5,
   "id": "d9d58587",
   "metadata": {},
   "outputs": [
    {
     "data": {
      "text/plain": [
       "tensor(0., grad_fn=<SubBackward0>)"
      ]
     },
     "execution_count": 5,
     "metadata": {},
     "output_type": "execute_result"
    }
   ],
   "source": [
    "z = f(x, y) # forward pass\n",
    "z"
   ]
  },
  {
   "cell_type": "code",
   "execution_count": 6,
   "id": "496fb865",
   "metadata": {},
   "outputs": [],
   "source": [
    "z.backward() # backward pass - autodiff"
   ]
  },
  {
   "cell_type": "markdown",
   "id": "c62b7387",
   "metadata": {},
   "source": [
    "As we already know from our exercises above, the slope of the point (0, 0, 0) is zero w.r.t. both the $x$ and $y$ axes:"
   ]
  },
  {
   "cell_type": "code",
   "execution_count": 7,
   "id": "77e47138",
   "metadata": {},
   "outputs": [
    {
     "data": {
      "text/plain": [
       "tensor(0.)"
      ]
     },
     "execution_count": 7,
     "metadata": {},
     "output_type": "execute_result"
    }
   ],
   "source": [
    "x.grad"
   ]
  },
  {
   "cell_type": "code",
   "execution_count": 8,
   "id": "1b8991dc",
   "metadata": {},
   "outputs": [
    {
     "data": {
      "text/plain": [
       "tensor(-0.)"
      ]
     },
     "execution_count": 8,
     "metadata": {},
     "output_type": "execute_result"
    }
   ],
   "source": [
    "y.grad"
   ]
  },
  {
   "cell_type": "code",
   "execution_count": 9,
   "id": "cf8304b8",
   "metadata": {},
   "outputs": [
    {
     "data": {
      "text/plain": [
       "(tensor(6.), tensor(-0.))"
      ]
     },
     "execution_count": 9,
     "metadata": {},
     "output_type": "execute_result"
    }
   ],
   "source": [
    "# x = 3, y = 0\n",
    "\n",
    "my_x = torch.tensor(3., requires_grad=True)\n",
    "my_y = torch.tensor(0., requires_grad=True)\n",
    "my_z = f(my_x, my_y) # forward pass\n",
    "my_z.backward() # backward pass - autodiff\n",
    "my_x.grad, my_y.grad"
   ]
  },
  {
   "cell_type": "code",
   "execution_count": 10,
   "id": "7d339860",
   "metadata": {},
   "outputs": [
    {
     "data": {
      "text/plain": [
       "(tensor(4.), tensor(-6.))"
      ]
     },
     "execution_count": 10,
     "metadata": {},
     "output_type": "execute_result"
    }
   ],
   "source": [
    "# x = 2, y = 3\n",
    "\n",
    "my_x = torch.tensor(2., requires_grad=True)\n",
    "my_y = torch.tensor(3., requires_grad=True)\n",
    "my_z = f(my_x, my_y) # forward pass\n",
    "my_z.backward() # backward pass - autodiff\n",
    "my_x.grad, my_y.grad"
   ]
  },
  {
   "cell_type": "code",
   "execution_count": 11,
   "id": "31f751d7",
   "metadata": {},
   "outputs": [
    {
     "data": {
      "text/plain": [
       "(tensor(-4.), tensor(6.))"
      ]
     },
     "execution_count": 11,
     "metadata": {},
     "output_type": "execute_result"
    }
   ],
   "source": [
    "\n",
    "# x = -2, y = -3\n",
    "\n",
    "my_x = torch.tensor(-2., requires_grad=True)\n",
    "my_y = torch.tensor(-3., requires_grad=True)\n",
    "my_z = f(my_x, my_y) # forward pass\n",
    "my_z.backward() # backward pass - autodiff\n",
    "my_x.grad, my_y.grad"
   ]
  },
  {
   "cell_type": "markdown",
   "id": "600d9935",
   "metadata": {},
   "source": [
    "### Partial derivatives of a cylinder's volume\n",
    "\n",
    "The volume of a cylinder is described by $v = \\pi r^2 l$ where: \n",
    "\n",
    "* $r$ is the radius of the cylinder\n",
    "* $l$ is its length"
   ]
  },
  {
   "cell_type": "code",
   "execution_count": 12,
   "id": "1d2a5a2f",
   "metadata": {},
   "outputs": [],
   "source": [
    "def cylinder_volume(my_r, my_l):\n",
    "    return math.pi * my_r**2 * my_l"
   ]
  },
  {
   "cell_type": "code",
   "execution_count": 13,
   "id": "14cb1800",
   "metadata": {},
   "outputs": [
    {
     "data": {
      "text/plain": [
       "tensor(3., requires_grad=True)"
      ]
     },
     "execution_count": 13,
     "metadata": {},
     "output_type": "execute_result"
    }
   ],
   "source": [
    "# lets sat the radius is 3 meters\n",
    "r = torch.tensor(3.).requires_grad_(True)\n",
    "r"
   ]
  },
  {
   "cell_type": "code",
   "execution_count": 14,
   "id": "2c30dbe7",
   "metadata": {},
   "outputs": [
    {
     "data": {
      "text/plain": [
       "tensor(5., requires_grad=True)"
      ]
     },
     "execution_count": 14,
     "metadata": {},
     "output_type": "execute_result"
    }
   ],
   "source": [
    "# and the length is 5 meters\n",
    "l = torch.tensor(5.).requires_grad_(True)\n",
    "l       "
   ]
  },
  {
   "cell_type": "code",
   "execution_count": 15,
   "id": "cdaf7486",
   "metadata": {},
   "outputs": [
    {
     "data": {
      "text/plain": [
       "tensor(141.3717, grad_fn=<MulBackward0>)"
      ]
     },
     "execution_count": 15,
     "metadata": {},
     "output_type": "execute_result"
    }
   ],
   "source": [
    "# the volume of the cylinder is\n",
    "v = cylinder_volume(r, l)\n",
    "v"
   ]
  },
  {
   "cell_type": "code",
   "execution_count": 16,
   "id": "48c56e8c",
   "metadata": {},
   "outputs": [
    {
     "data": {
      "text/plain": [
       "tensor(28.2743)"
      ]
     },
     "execution_count": 16,
     "metadata": {},
     "output_type": "execute_result"
    }
   ],
   "source": [
    "v.backward()\n",
    "l.grad"
   ]
  },
  {
   "cell_type": "markdown",
   "id": "25254e2f",
   "metadata": {},
   "source": [
    "As derived in the notes: $\\frac{\\partial v}{\\partial l} = \\pi r^2$"
   ]
  },
  {
   "cell_type": "code",
   "execution_count": 17,
   "id": "301ee9e8",
   "metadata": {},
   "outputs": [
    {
     "data": {
      "text/plain": [
       "28.274333882308138"
      ]
     },
     "execution_count": 17,
     "metadata": {},
     "output_type": "execute_result"
    }
   ],
   "source": [
    "math.pi * 3**2"
   ]
  },
  {
   "cell_type": "markdown",
   "id": "30bd3bb6",
   "metadata": {},
   "source": [
    "This means that with $r = 3$, a change in $l$ by one unit corresponds to a change in $v$ of 28.27 $m^3$. We can prove this to ourselves: "
   ]
  },
  {
   "cell_type": "code",
   "execution_count": 18,
   "id": "63f7c06b",
   "metadata": {},
   "outputs": [
    {
     "data": {
      "text/plain": [
       "169.64600329384882"
      ]
     },
     "execution_count": 18,
     "metadata": {},
     "output_type": "execute_result"
    }
   ],
   "source": [
    "cylinder_volume(3, 6)"
   ]
  },
  {
   "cell_type": "code",
   "execution_count": 19,
   "id": "39375973",
   "metadata": {},
   "outputs": [
    {
     "data": {
      "text/plain": [
       "28.274333882308127"
      ]
     },
     "execution_count": 19,
     "metadata": {},
     "output_type": "execute_result"
    }
   ],
   "source": [
    "cylinder_volume(3, 6) - cylinder_volume(3, 5)"
   ]
  },
  {
   "cell_type": "code",
   "execution_count": 20,
   "id": "01e5c6d7",
   "metadata": {},
   "outputs": [
    {
     "data": {
      "text/plain": [
       "28.274333882308156"
      ]
     },
     "execution_count": 20,
     "metadata": {},
     "output_type": "execute_result"
    }
   ],
   "source": [
    "cylinder_volume(3, 7) - cylinder_volume(3, 6)"
   ]
  },
  {
   "cell_type": "markdown",
   "id": "74f7c7da",
   "metadata": {},
   "source": [
    "For chnages in $v$ w.r.t. $r$ we have the following from the notes:\n",
    "\n",
    "$\\frac{\\partial v}{\\partial r}  = 2\\pi rl$"
   ]
  },
  {
   "cell_type": "code",
   "execution_count": 21,
   "id": "b8ea2ce7",
   "metadata": {},
   "outputs": [
    {
     "data": {
      "text/plain": [
       "tensor(94.2478)"
      ]
     },
     "execution_count": 21,
     "metadata": {},
     "output_type": "execute_result"
    }
   ],
   "source": [
    "r.grad"
   ]
  },
  {
   "cell_type": "code",
   "execution_count": 22,
   "id": "b1521505",
   "metadata": {},
   "outputs": [
    {
     "data": {
      "text/plain": [
       "94.24777960769379"
      ]
     },
     "execution_count": 22,
     "metadata": {},
     "output_type": "execute_result"
    }
   ],
   "source": [
    "2 * math.pi * 3 * 5"
   ]
  },
  {
   "cell_type": "markdown",
   "id": "c0a7865c",
   "metadata": {},
   "source": [
    "r is included in the partial derivatives so adjusting it affects the scale of its impact on $v$. Although it's our first example in this notebook, it is typical in calculus for the derivative only to apply at an infinitesimally small $\\Delta r$. The smaller the $\\Delta r$, the closer to the true $\\frac{\\partial v}{\\partial r}$\n",
    "\n",
    "\n",
    "Eg: at $\\Delta r = 1 \\times 10^{-6}$"
   ]
  },
  {
   "cell_type": "code",
   "execution_count": 28,
   "id": "d0236336",
   "metadata": {},
   "outputs": [],
   "source": [
    "delta = 1e-6"
   ]
  },
  {
   "cell_type": "code",
   "execution_count": 29,
   "id": "f79041f3",
   "metadata": {},
   "outputs": [
    {
     "data": {
      "text/plain": [
       "94.24779531741478"
      ]
     },
     "execution_count": 29,
     "metadata": {},
     "output_type": "execute_result"
    }
   ],
   "source": [
    "(cylinder_volume(3 + delta, 5) - cylinder_volume(3, 5)) /delta # dividing by delta restores scale"
   ]
  },
  {
   "cell_type": "code",
   "execution_count": null,
   "id": "f1e31acc",
   "metadata": {},
   "outputs": [],
   "source": []
  },
  {
   "cell_type": "code",
   "execution_count": null,
   "id": "9da4b6ad",
   "metadata": {},
   "outputs": [],
   "source": []
  }
 ],
 "metadata": {
  "kernelspec": {
   "display_name": "my_ai_py",
   "language": "python",
   "name": "python3"
  },
  "language_info": {
   "codemirror_mode": {
    "name": "ipython",
    "version": 3
   },
   "file_extension": ".py",
   "mimetype": "text/x-python",
   "name": "python",
   "nbconvert_exporter": "python",
   "pygments_lexer": "ipython3",
   "version": "3.12.9"
  }
 },
 "nbformat": 4,
 "nbformat_minor": 5
}
