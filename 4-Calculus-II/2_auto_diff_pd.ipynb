{
 "cells": [
  {
   "cell_type": "markdown",
   "id": "73308a0d",
   "metadata": {},
   "source": [
    "## Auto Differentiation for Partial Derivatives\n",
    "\n",
    "Determining partial derivatives by hand using rules is helpful for understanding how calculus works. In practice, however, autodiff enables us to do so more easily (especially if there are a large number of variables). For example, let's use the PyTorch automatic differentiation library to calculate the slope of $z$ with respect to both $x$ and $y$ at any given point $(x, y, z)$:"
   ]
  },
  {
   "cell_type": "code",
   "execution_count": 1,
   "id": "38a3d3b5",
   "metadata": {},
   "outputs": [],
   "source": [
    "import numpy as np\n",
    "import matplotlib.pyplot as plt\n",
    "import torch\n",
    "import math"
   ]
  },
  {
   "cell_type": "markdown",
   "id": "d1087a02",
   "metadata": {},
   "source": [
    "define a function $f(x, y)$ for $z = x^2 - y^2$:"
   ]
  },
  {
   "cell_type": "code",
   "execution_count": 2,
   "id": "8811ef45",
   "metadata": {},
   "outputs": [],
   "source": [
    "def f(my_x, my_y):\n",
    "    return my_x**2 - my_y**2"
   ]
  },
  {
   "cell_type": "code",
   "execution_count": 3,
   "id": "aac4ea72",
   "metadata": {},
   "outputs": [
    {
     "data": {
      "text/plain": [
       "tensor(0., requires_grad=True)"
      ]
     },
     "execution_count": 3,
     "metadata": {},
     "output_type": "execute_result"
    }
   ],
   "source": [
    "x = torch.tensor(0., requires_grad=True)\n",
    "x"
   ]
  },
  {
   "cell_type": "code",
   "execution_count": 4,
   "id": "2a37d4ed",
   "metadata": {},
   "outputs": [
    {
     "data": {
      "text/plain": [
       "tensor(0., requires_grad=True)"
      ]
     },
     "execution_count": 4,
     "metadata": {},
     "output_type": "execute_result"
    }
   ],
   "source": [
    "y = torch.tensor(0., requires_grad=True)\n",
    "y"
   ]
  },
  {
   "cell_type": "code",
   "execution_count": 5,
   "id": "d9d58587",
   "metadata": {},
   "outputs": [
    {
     "data": {
      "text/plain": [
       "tensor(0., grad_fn=<SubBackward0>)"
      ]
     },
     "execution_count": 5,
     "metadata": {},
     "output_type": "execute_result"
    }
   ],
   "source": [
    "z = f(x, y) # forward pass\n",
    "z"
   ]
  },
  {
   "cell_type": "code",
   "execution_count": 6,
   "id": "496fb865",
   "metadata": {},
   "outputs": [],
   "source": [
    "z.backward() # backward pass - autodiff"
   ]
  },
  {
   "cell_type": "markdown",
   "id": "c62b7387",
   "metadata": {},
   "source": [
    "As we already know from our exercises above, the slope of the point (0, 0, 0) is zero w.r.t. both the $x$ and $y$ axes:"
   ]
  },
  {
   "cell_type": "code",
   "execution_count": 7,
   "id": "77e47138",
   "metadata": {},
   "outputs": [
    {
     "data": {
      "text/plain": [
       "tensor(0.)"
      ]
     },
     "execution_count": 7,
     "metadata": {},
     "output_type": "execute_result"
    }
   ],
   "source": [
    "x.grad"
   ]
  },
  {
   "cell_type": "code",
   "execution_count": 8,
   "id": "1b8991dc",
   "metadata": {},
   "outputs": [
    {
     "data": {
      "text/plain": [
       "tensor(-0.)"
      ]
     },
     "execution_count": 8,
     "metadata": {},
     "output_type": "execute_result"
    }
   ],
   "source": [
    "y.grad"
   ]
  },
  {
   "cell_type": "code",
   "execution_count": null,
   "id": "cf8304b8",
   "metadata": {},
   "outputs": [
    {
     "data": {
      "text/plain": [
       "(tensor(6.), tensor(-0.))"
      ]
     },
     "execution_count": 13,
     "metadata": {},
     "output_type": "execute_result"
    }
   ],
   "source": [
    "# x = 3, y = 0\n",
    "\n",
    "my_x = torch.tensor(3., requires_grad=True)\n",
    "my_y = torch.tensor(0., requires_grad=True)\n",
    "my_z = f(my_x, my_y) # forward pass\n",
    "my_z.backward() # backward pass - autodiff\n",
    "my_x.grad, my_y.grad"
   ]
  },
  {
   "cell_type": "code",
   "execution_count": 14,
   "id": "7d339860",
   "metadata": {},
   "outputs": [
    {
     "data": {
      "text/plain": [
       "(tensor(4.), tensor(-6.))"
      ]
     },
     "execution_count": 14,
     "metadata": {},
     "output_type": "execute_result"
    }
   ],
   "source": [
    "# x = 2, y = 3\n",
    "\n",
    "my_x = torch.tensor(2., requires_grad=True)\n",
    "my_y = torch.tensor(3., requires_grad=True)\n",
    "my_z = f(my_x, my_y) # forward pass\n",
    "my_z.backward() # backward pass - autodiff\n",
    "my_x.grad, my_y.grad"
   ]
  },
  {
   "cell_type": "code",
   "execution_count": 15,
   "id": "31f751d7",
   "metadata": {},
   "outputs": [
    {
     "data": {
      "text/plain": [
       "(tensor(-4.), tensor(6.))"
      ]
     },
     "execution_count": 15,
     "metadata": {},
     "output_type": "execute_result"
    }
   ],
   "source": [
    "\n",
    "# x = -2, y = -3\n",
    "\n",
    "my_x = torch.tensor(-2., requires_grad=True)\n",
    "my_y = torch.tensor(-3., requires_grad=True)\n",
    "my_z = f(my_x, my_y) # forward pass\n",
    "my_z.backward() # backward pass - autodiff\n",
    "my_x.grad, my_y.grad"
   ]
  },
  {
   "cell_type": "code",
   "execution_count": null,
   "id": "1d2a5a2f",
   "metadata": {},
   "outputs": [],
   "source": []
  }
 ],
 "metadata": {
  "kernelspec": {
   "display_name": "my_ai_py",
   "language": "python",
   "name": "python3"
  },
  "language_info": {
   "codemirror_mode": {
    "name": "ipython",
    "version": 3
   },
   "file_extension": ".py",
   "mimetype": "text/x-python",
   "name": "python",
   "nbconvert_exporter": "python",
   "pygments_lexer": "ipython3",
   "version": "3.12.9"
  }
 },
 "nbformat": 4,
 "nbformat_minor": 5
}
