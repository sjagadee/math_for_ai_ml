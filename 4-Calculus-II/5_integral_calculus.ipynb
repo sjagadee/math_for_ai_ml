{
 "cells": [
  {
   "cell_type": "markdown",
   "id": "013d646f",
   "metadata": {},
   "source": [
    "## Integral Calculus"
   ]
  },
  {
   "cell_type": "code",
   "execution_count": 1,
   "id": "da706d28",
   "metadata": {},
   "outputs": [],
   "source": [
    "from scipy.integrate import quad # 'quadrature' = numerical integration (as opposed to symbolic integration)"
   ]
  },
  {
   "cell_type": "markdown",
   "id": "5031555f",
   "metadata": {},
   "source": [
    "From notes we have:\n",
    "\n",
    "$ \\int_1^2 \\frac{x}{2} dx = \\frac{3}{4} $"
   ]
  },
  {
   "cell_type": "code",
   "execution_count": 2,
   "id": "f958b371",
   "metadata": {},
   "outputs": [],
   "source": [
    "def g(x):\n",
    "    return x / 2"
   ]
  },
  {
   "cell_type": "code",
   "execution_count": 3,
   "id": "45b6f333",
   "metadata": {},
   "outputs": [
    {
     "data": {
      "text/plain": [
       "(0.75, 8.326672684688674e-15)"
      ]
     },
     "execution_count": 3,
     "metadata": {},
     "output_type": "execute_result"
    }
   ],
   "source": [
    "quad(g, 1, 2)"
   ]
  },
  {
   "cell_type": "markdown",
   "id": "8ba8ad82",
   "metadata": {},
   "source": [
    "The second output of quad is an estimate of the absolute error of the integral which in this case is essentially zero."
   ]
  },
  {
   "cell_type": "markdown",
   "id": "0ccc6bb6",
   "metadata": {},
   "source": [
    "Let us calculate integral for (exercise)\n",
    "\n",
    "$ \\int_3^4 (2x) dx = 7 $"
   ]
  },
  {
   "cell_type": "code",
   "execution_count": 4,
   "id": "901a5d52",
   "metadata": {},
   "outputs": [],
   "source": [
    "def f(x):\n",
    "    return 2 * x"
   ]
  },
  {
   "cell_type": "code",
   "execution_count": 5,
   "id": "084b0128",
   "metadata": {},
   "outputs": [
    {
     "data": {
      "text/plain": [
       "(7.0, 7.771561172376096e-14)"
      ]
     },
     "execution_count": 5,
     "metadata": {},
     "output_type": "execute_result"
    }
   ],
   "source": [
    "quad(f, 3, 4)"
   ]
  },
  {
   "cell_type": "markdown",
   "id": "deded91c",
   "metadata": {},
   "source": [
    "With the above output for the function using numaric integration we have found out that we get 7.0 as the integral value (AUC) for the range between 3 and 4"
   ]
  },
  {
   "cell_type": "markdown",
   "id": "8321dc89",
   "metadata": {},
   "source": [
    "### Area Under the ROC Curve\n",
    "\n",
    "When we don't have a function but we do have $(x, y)$ coordinates, we can use the scikit-learn library's `auc()` method, which uses a numerical approach (the [trapezoidal rule](https://en.wikipedia.org/wiki/Trapezoidal_rule)) to find the area under the curve described by the coordinates: "
   ]
  },
  {
   "cell_type": "code",
   "execution_count": 6,
   "id": "0befe720",
   "metadata": {},
   "outputs": [],
   "source": [
    "from sklearn.metrics import auc"
   ]
  },
  {
   "cell_type": "markdown",
   "id": "48aa7b07",
   "metadata": {},
   "source": [
    "From the slides and notes we know, the $(x, y)$ coordinates of our hot dog-detecting ROC curve are:\n",
    "1. (0, 0)\n",
    "2. (0, 0.5)\n",
    "3. (0.5, 0.5)\n",
    "4. (0.5, 1)\n",
    "5. (1, 1)"
   ]
  },
  {
   "cell_type": "code",
   "execution_count": 7,
   "id": "4c104049",
   "metadata": {},
   "outputs": [],
   "source": [
    "xs = [0, 0, 0.5, 0.5, 1]\n",
    "ys = [0, 0.5, 0.5, 1, 1]"
   ]
  },
  {
   "cell_type": "code",
   "execution_count": 8,
   "id": "5d1156bc",
   "metadata": {},
   "outputs": [
    {
     "data": {
      "text/plain": [
       "np.float64(0.75)"
      ]
     },
     "execution_count": 8,
     "metadata": {},
     "output_type": "execute_result"
    }
   ],
   "source": [
    "auc(xs, ys)"
   ]
  },
  {
   "cell_type": "code",
   "execution_count": null,
   "id": "a860a760",
   "metadata": {},
   "outputs": [],
   "source": []
  }
 ],
 "metadata": {
  "kernelspec": {
   "display_name": "my_ai_py",
   "language": "python",
   "name": "python3"
  },
  "language_info": {
   "codemirror_mode": {
    "name": "ipython",
    "version": 3
   },
   "file_extension": ".py",
   "mimetype": "text/x-python",
   "name": "python",
   "nbconvert_exporter": "python",
   "pygments_lexer": "ipython3",
   "version": "3.12.9"
  }
 },
 "nbformat": 4,
 "nbformat_minor": 5
}
