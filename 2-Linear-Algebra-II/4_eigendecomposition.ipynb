{
 "cells": [
  {
   "cell_type": "markdown",
   "id": "4de68be8",
   "metadata": {},
   "source": [
    "## Eigendecomposition\n",
    "\n",
    "The **eigendecomposition** of some matrix $A$ is \n",
    "\n",
    "$A = V \\Lambda V^{-1}$\n",
    "\n",
    "Where: \n",
    "\n",
    "* As in examples above, $V$ is the concatenation of all the eigenvectors of $A$\n",
    "* $\\Lambda$ (upper-case $\\lambda$) is the diagonal matrix diag($\\lambda$). Note that the convention is to arrange the lambda values in descending order; as a result, the first eigenvalue (and its associated eigenvector) may be a primary characteristic of the matrix $A$."
   ]
  },
  {
   "cell_type": "code",
   "execution_count": 2,
   "id": "1da54e29",
   "metadata": {},
   "outputs": [
    {
     "data": {
      "text/plain": [
       "array([[ 4,  2],\n",
       "       [-5, -3]])"
      ]
     },
     "execution_count": 2,
     "metadata": {},
     "output_type": "execute_result"
    }
   ],
   "source": [
    "import numpy as np\n",
    "\n",
    "A = np.array([[4, 2],[-5, -3]])\n",
    "A"
   ]
  },
  {
   "cell_type": "code",
   "execution_count": 4,
   "id": "581c35e5",
   "metadata": {},
   "outputs": [
    {
     "data": {
      "text/plain": [
       "(array([ 2., -1.]),\n",
       " array([[ 0.70710678, -0.37139068],\n",
       "        [-0.70710678,  0.92847669]]))"
      ]
     },
     "execution_count": 4,
     "metadata": {},
     "output_type": "execute_result"
    }
   ],
   "source": [
    "lambdas, V = np.linalg.eig(A)\n",
    "lambdas, V"
   ]
  },
  {
   "cell_type": "code",
   "execution_count": 5,
   "id": "0eb93d88",
   "metadata": {},
   "outputs": [
    {
     "data": {
      "text/plain": [
       "array([[2.3570226 , 0.94280904],\n",
       "       [1.79505494, 1.79505494]])"
      ]
     },
     "execution_count": 5,
     "metadata": {},
     "output_type": "execute_result"
    }
   ],
   "source": [
    "Vinv = np.linalg.inv(V)\n",
    "Vinv"
   ]
  },
  {
   "cell_type": "code",
   "execution_count": 6,
   "id": "16aa0c13",
   "metadata": {},
   "outputs": [
    {
     "data": {
      "text/plain": [
       "array([[ 2.,  0.],\n",
       "       [ 0., -1.]])"
      ]
     },
     "execution_count": 6,
     "metadata": {},
     "output_type": "execute_result"
    }
   ],
   "source": [
    "Lambda = np.diag(lambdas)\n",
    "Lambda"
   ]
  },
  {
   "cell_type": "markdown",
   "id": "12cbb02c",
   "metadata": {},
   "source": [
    "confirm that $A = V \\Lambda V^{-1}$"
   ]
  },
  {
   "cell_type": "code",
   "execution_count": 7,
   "id": "3a204320",
   "metadata": {},
   "outputs": [
    {
     "data": {
      "text/plain": [
       "array([[ 4.,  2.],\n",
       "       [-5., -3.]])"
      ]
     },
     "execution_count": 7,
     "metadata": {},
     "output_type": "execute_result"
    }
   ],
   "source": [
    "np.dot(np.dot(V, Lambda), Vinv)"
   ]
  },
  {
   "cell_type": "markdown",
   "id": "ce4e99c7",
   "metadata": {},
   "source": [
    "Eigendecomposition is not possible with all matrices. And in some cases where it is possible, the eigendecomposition involves complex numbers instead of straightforward real numbers. \n",
    "\n",
    "In machine learning, however, we are typically working with real symmetric matrices, which can be conveniently and efficiently decomposed into real-only eigenvectors and real-only eigenvalues. If $A$ is a real symmetric matrix then...\n",
    "\n",
    "$A = Q \\Lambda Q^T$\n",
    "\n",
    "...where $Q$ is analogous to $V$ from the previous equation except that it's special because it's an orthogonal matrix. "
   ]
  },
  {
   "cell_type": "code",
   "execution_count": 8,
   "id": "e3905b1d",
   "metadata": {},
   "outputs": [
    {
     "data": {
      "text/plain": [
       "array([[2, 1],\n",
       "       [1, 2]])"
      ]
     },
     "execution_count": 8,
     "metadata": {},
     "output_type": "execute_result"
    }
   ],
   "source": [
    "A = np.array([[2, 1], [1, 2]])\n",
    "A"
   ]
  },
  {
   "cell_type": "code",
   "execution_count": 9,
   "id": "3444951b",
   "metadata": {},
   "outputs": [
    {
     "data": {
      "text/plain": [
       "(array([3., 1.]),\n",
       " array([[ 0.70710678, -0.70710678],\n",
       "        [ 0.70710678,  0.70710678]]))"
      ]
     },
     "execution_count": 9,
     "metadata": {},
     "output_type": "execute_result"
    }
   ],
   "source": [
    "lambdas, Q = np.linalg.eig(A)\n",
    "lambdas, Q"
   ]
  },
  {
   "cell_type": "code",
   "execution_count": 12,
   "id": "7dd84bbe",
   "metadata": {},
   "outputs": [
    {
     "data": {
      "text/plain": [
       "array([[ 0.70710678,  0.70710678],\n",
       "       [-0.70710678,  0.70710678]])"
      ]
     },
     "execution_count": 12,
     "metadata": {},
     "output_type": "execute_result"
    }
   ],
   "source": [
    "Q_T = Q.T\n",
    "Q_T"
   ]
  },
  {
   "cell_type": "code",
   "execution_count": 13,
   "id": "2c3a431f",
   "metadata": {},
   "outputs": [
    {
     "data": {
      "text/plain": [
       "array([[3., 0.],\n",
       "       [0., 1.]])"
      ]
     },
     "execution_count": 13,
     "metadata": {},
     "output_type": "execute_result"
    }
   ],
   "source": [
    "Lambda = np.diag(lambdas)\n",
    "Lambda"
   ]
  },
  {
   "cell_type": "markdown",
   "id": "531711b4",
   "metadata": {},
   "source": [
    "lets confirm $A = Q \\Lambda Q^T$"
   ]
  },
  {
   "cell_type": "code",
   "execution_count": 14,
   "id": "0b8f5823",
   "metadata": {},
   "outputs": [
    {
     "data": {
      "text/plain": [
       "array([[2., 1.],\n",
       "       [1., 2.]])"
      ]
     },
     "execution_count": 14,
     "metadata": {},
     "output_type": "execute_result"
    }
   ],
   "source": [
    "np.dot(np.dot(Q, Lambda), Q_T)"
   ]
  },
  {
   "cell_type": "markdown",
   "id": "8805e58e",
   "metadata": {},
   "source": [
    "(As a quick aside, we can demostrate that $Q$ is an orthogonal matrix because $Q^TQ = QQ^T = I$.)"
   ]
  },
  {
   "cell_type": "code",
   "execution_count": 15,
   "id": "1a63497d",
   "metadata": {},
   "outputs": [
    {
     "data": {
      "text/plain": [
       "array([[ 1.00000000e+00, -2.23711432e-17],\n",
       "       [-2.23711432e-17,  1.00000000e+00]])"
      ]
     },
     "execution_count": 15,
     "metadata": {},
     "output_type": "execute_result"
    }
   ],
   "source": [
    "np.dot(Q, Q_T)"
   ]
  },
  {
   "cell_type": "code",
   "execution_count": 16,
   "id": "2e07938e",
   "metadata": {},
   "outputs": [
    {
     "data": {
      "text/plain": [
       "array([[1.00000000e+00, 2.23711432e-17],\n",
       "       [2.23711432e-17, 1.00000000e+00]])"
      ]
     },
     "execution_count": 16,
     "metadata": {},
     "output_type": "execute_result"
    }
   ],
   "source": [
    "np.dot(Q_T, Q)"
   ]
  },
  {
   "cell_type": "markdown",
   "id": "5336959d",
   "metadata": {},
   "source": [
    "Exercises:\n",
    "\n",
    "1. Use PyTorch to decompose the matrix $P$ (below) into its components $V$, $\\Lambda$, and $V^{-1}$. Confirm that $P = V \\Lambda V^{-1}$.\n",
    "2. Use PyTorch to decompose the symmetric matrix $S$ (below) into its components $Q$, $\\Lambda$, and $Q^T$. Confirm that $S = Q \\Lambda Q^T$."
   ]
  },
  {
   "cell_type": "code",
   "execution_count": 17,
   "id": "3ab47a66",
   "metadata": {},
   "outputs": [
    {
     "data": {
      "text/plain": [
       "tensor([[25.,  2., -5.],\n",
       "        [ 3., -2.,  1.],\n",
       "        [ 5.,  7.,  4.]])"
      ]
     },
     "execution_count": 17,
     "metadata": {},
     "output_type": "execute_result"
    }
   ],
   "source": [
    "import torch\n",
    "\n",
    "P = torch.tensor([[25, 2, -5], [3, -2, 1], [5, 7, 4.]])\n",
    "P"
   ]
  },
  {
   "cell_type": "code",
   "execution_count": 18,
   "id": "8e52286f",
   "metadata": {},
   "outputs": [
    {
     "data": {
      "text/plain": [
       "tensor([[25.,  2., -5.],\n",
       "        [ 2., -2.,  1.],\n",
       "        [-5.,  1.,  4.]])"
      ]
     },
     "execution_count": 18,
     "metadata": {},
     "output_type": "execute_result"
    }
   ],
   "source": [
    "S = torch.tensor([[25, 2, -5], [2, -2, 1], [-5, 1, 4.]])\n",
    "S"
   ]
  },
  {
   "cell_type": "code",
   "execution_count": 20,
   "id": "61b9cdc5",
   "metadata": {},
   "outputs": [
    {
     "data": {
      "text/plain": [
       "(tensor([26.2361+0.j,  3.2435+0.j, -2.4796+0.j]),\n",
       " tensor([[ 0.9744+0.j,  0.1943+0.j, -0.1132+0.j],\n",
       "         [ 0.0614+0.j,  0.2548+0.j,  0.9651+0.j],\n",
       "         [-0.2163+0.j,  0.9473+0.j, -0.2363+0.j]]))"
      ]
     },
     "execution_count": 20,
     "metadata": {},
     "output_type": "execute_result"
    }
   ],
   "source": [
    "lambdas, V = torch.linalg.eig(S)\n",
    "lambdas, V"
   ]
  },
  {
   "cell_type": "code",
   "execution_count": 21,
   "id": "1d10c031",
   "metadata": {},
   "outputs": [
    {
     "data": {
      "text/plain": [
       "tensor([[26.2361+0.j,  0.0000+0.j,  0.0000+0.j],\n",
       "        [ 0.0000+0.j,  3.2435+0.j,  0.0000+0.j],\n",
       "        [ 0.0000+0.j,  0.0000+0.j, -2.4796+0.j]])"
      ]
     },
     "execution_count": 21,
     "metadata": {},
     "output_type": "execute_result"
    }
   ],
   "source": [
    "Lambda = torch.diag(lambdas)\n",
    "Lambda"
   ]
  },
  {
   "cell_type": "code",
   "execution_count": 22,
   "id": "f3a05860",
   "metadata": {},
   "outputs": [
    {
     "data": {
      "text/plain": [
       "tensor([[ 0.9744+0.j,  0.0614+0.j, -0.2163+0.j],\n",
       "        [ 0.1943+0.j,  0.2548+0.j,  0.9473+0.j],\n",
       "        [-0.1132+0.j,  0.9651+0.j, -0.2363+0.j]])"
      ]
     },
     "execution_count": 22,
     "metadata": {},
     "output_type": "execute_result"
    }
   ],
   "source": [
    "Vinv = torch.inverse(V)\n",
    "Vinv"
   ]
  },
  {
   "cell_type": "code",
   "execution_count": 23,
   "id": "cd7dd351",
   "metadata": {},
   "outputs": [
    {
     "data": {
      "text/plain": [
       "tensor([[25.0000+0.j,  2.0000+0.j, -5.0000+0.j],\n",
       "        [ 2.0000+0.j, -2.0000+0.j,  1.0000+0.j],\n",
       "        [-5.0000+0.j,  1.0000+0.j,  4.0000+0.j]])"
      ]
     },
     "execution_count": 23,
     "metadata": {},
     "output_type": "execute_result"
    }
   ],
   "source": [
    "torch.matmul(torch.matmul(V, Lambda), Vinv)"
   ]
  },
  {
   "cell_type": "code",
   "execution_count": 24,
   "id": "ea4e38b9",
   "metadata": {},
   "outputs": [
    {
     "data": {
      "text/plain": [
       "tensor([[25.,  2., -5.],\n",
       "        [ 3., -2.,  1.],\n",
       "        [ 5.,  7.,  4.]])"
      ]
     },
     "execution_count": 24,
     "metadata": {},
     "output_type": "execute_result"
    }
   ],
   "source": [
    "P"
   ]
  },
  {
   "cell_type": "markdown",
   "id": "ff4617e7",
   "metadata": {},
   "source": [
    "So by this we can confirm  $P = V \\Lambda V^{-1}$. "
   ]
  },
  {
   "cell_type": "code",
   "execution_count": 25,
   "id": "01409761",
   "metadata": {},
   "outputs": [
    {
     "data": {
      "text/plain": [
       "tensor([[25.,  2., -5.],\n",
       "        [ 2., -2.,  1.],\n",
       "        [-5.,  1.,  4.]])"
      ]
     },
     "execution_count": 25,
     "metadata": {},
     "output_type": "execute_result"
    }
   ],
   "source": [
    "S"
   ]
  },
  {
   "cell_type": "code",
   "execution_count": 28,
   "id": "eb031cb9",
   "metadata": {},
   "outputs": [
    {
     "data": {
      "text/plain": [
       "(tensor([26.2361+0.j,  3.2435+0.j, -2.4796+0.j]),\n",
       " tensor([[ 0.9744+0.j,  0.1943+0.j, -0.1132+0.j],\n",
       "         [ 0.0614+0.j,  0.2548+0.j,  0.9651+0.j],\n",
       "         [-0.2163+0.j,  0.9473+0.j, -0.2363+0.j]]))"
      ]
     },
     "execution_count": 28,
     "metadata": {},
     "output_type": "execute_result"
    }
   ],
   "source": [
    "lambdas, Q = torch.linalg.eig(S)\n",
    "lambdas, Q"
   ]
  },
  {
   "cell_type": "code",
   "execution_count": 29,
   "id": "f8cbaf15",
   "metadata": {},
   "outputs": [
    {
     "data": {
      "text/plain": [
       "tensor([[26.2361+0.j,  0.0000+0.j,  0.0000+0.j],\n",
       "        [ 0.0000+0.j,  3.2435+0.j,  0.0000+0.j],\n",
       "        [ 0.0000+0.j,  0.0000+0.j, -2.4796+0.j]])"
      ]
     },
     "execution_count": 29,
     "metadata": {},
     "output_type": "execute_result"
    }
   ],
   "source": [
    "Lambda = torch.diag(lambdas)\n",
    "Lambda"
   ]
  },
  {
   "cell_type": "code",
   "execution_count": 30,
   "id": "a3f36f21",
   "metadata": {},
   "outputs": [
    {
     "data": {
      "text/plain": [
       "tensor([[ 0.9744+0.j,  0.0614+0.j, -0.2163+0.j],\n",
       "        [ 0.1943+0.j,  0.2548+0.j,  0.9473+0.j],\n",
       "        [-0.1132+0.j,  0.9651+0.j, -0.2363+0.j]])"
      ]
     },
     "execution_count": 30,
     "metadata": {},
     "output_type": "execute_result"
    }
   ],
   "source": [
    "Q_T = torch.transpose(Q, 0, 1)\n",
    "Q_T"
   ]
  },
  {
   "cell_type": "code",
   "execution_count": 31,
   "id": "18bd3600",
   "metadata": {},
   "outputs": [
    {
     "data": {
      "text/plain": [
       "tensor([[25.0000+0.j,  2.0000+0.j, -5.0000+0.j],\n",
       "        [ 2.0000+0.j, -2.0000+0.j,  1.0000+0.j],\n",
       "        [-5.0000+0.j,  1.0000+0.j,  4.0000+0.j]])"
      ]
     },
     "execution_count": 31,
     "metadata": {},
     "output_type": "execute_result"
    }
   ],
   "source": [
    "torch.matmul(torch.matmul(Q, Lambda), Q_T)"
   ]
  },
  {
   "cell_type": "code",
   "execution_count": 32,
   "id": "0d06c663",
   "metadata": {},
   "outputs": [
    {
     "data": {
      "text/plain": [
       "tensor([[25.,  2., -5.],\n",
       "        [ 2., -2.,  1.],\n",
       "        [-5.,  1.,  4.]])"
      ]
     },
     "execution_count": 32,
     "metadata": {},
     "output_type": "execute_result"
    }
   ],
   "source": [
    "S"
   ]
  },
  {
   "cell_type": "markdown",
   "id": "8ede630a",
   "metadata": {},
   "source": [
    "So by this we can confirm $S = Q \\Lambda Q^T$."
   ]
  }
 ],
 "metadata": {
  "kernelspec": {
   "display_name": "my_ai_py",
   "language": "python",
   "name": "python3"
  },
  "language_info": {
   "codemirror_mode": {
    "name": "ipython",
    "version": 3
   },
   "file_extension": ".py",
   "mimetype": "text/x-python",
   "name": "python",
   "nbconvert_exporter": "python",
   "pygments_lexer": "ipython3",
   "version": "3.12.9"
  }
 },
 "nbformat": 4,
 "nbformat_minor": 5
}
