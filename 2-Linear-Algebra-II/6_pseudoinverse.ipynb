{
 "cells": [
  {
   "cell_type": "markdown",
   "id": "9ea4d0ec",
   "metadata": {},
   "source": [
    "### The Moore-Penrose Pseudoinverse\n",
    "\n",
    "---\n",
    "\n",
    "Let's calculate the pseudoinverse $A^+$ of some matrix $A$ using the formula from the slides: \n",
    "\n",
    "$A^+ = VD^+U^T$\n",
    "\n",
    "Where:\n",
    "* $U, D$ and $V$ are SVD of $A$\n",
    "* $D^+$ = ($D$ with reciprocal of all-non zero elements)$^T$"
   ]
  },
  {
   "cell_type": "code",
   "execution_count": 1,
   "id": "35a919f6",
   "metadata": {},
   "outputs": [],
   "source": [
    "import numpy as np\n",
    "import matplotlib.pyplot as plt\n",
    "import torch"
   ]
  },
  {
   "cell_type": "code",
   "execution_count": 2,
   "id": "08dd5e3a",
   "metadata": {},
   "outputs": [
    {
     "data": {
      "text/plain": [
       "array([[-1,  2],\n",
       "       [ 3, -2],\n",
       "       [ 5,  7]])"
      ]
     },
     "execution_count": 2,
     "metadata": {},
     "output_type": "execute_result"
    }
   ],
   "source": [
    "A = np.array([[-1, 2], [3, -2], [5, 7]])\n",
    "A"
   ]
  },
  {
   "cell_type": "markdown",
   "id": "438e1ca6",
   "metadata": {},
   "source": [
    "As shown earlier the SVD methods return $U, d$ and $V^T$"
   ]
  },
  {
   "cell_type": "code",
   "execution_count": 3,
   "id": "a4834668",
   "metadata": {},
   "outputs": [
    {
     "data": {
      "text/plain": [
       "(array([[ 0.12708324,  0.47409506,  0.87125411],\n",
       "        [ 0.00164602, -0.87847553,  0.47778451],\n",
       "        [ 0.99189069, -0.0592843 , -0.11241989]]),\n",
       " array([8.66918448, 4.10429538]),\n",
       " array([[ 0.55798885,  0.82984845],\n",
       "        [-0.82984845,  0.55798885]]))"
      ]
     },
     "execution_count": 3,
     "metadata": {},
     "output_type": "execute_result"
    }
   ],
   "source": [
    "U, d, VT = np.linalg.svd(A)\n",
    "U, d, VT"
   ]
  },
  {
   "cell_type": "code",
   "execution_count": 4,
   "id": "f3615706",
   "metadata": {},
   "outputs": [
    {
     "data": {
      "text/plain": [
       "array([[8.66918448, 0.        ],\n",
       "       [0.        , 4.10429538]])"
      ]
     },
     "execution_count": 4,
     "metadata": {},
     "output_type": "execute_result"
    }
   ],
   "source": [
    "D = np.diag(d)\n",
    "D"
   ]
  },
  {
   "cell_type": "code",
   "execution_count": 5,
   "id": "52a8588d",
   "metadata": {},
   "outputs": [
    {
     "data": {
      "text/plain": [
       "0.11535110393682613"
      ]
     },
     "execution_count": 5,
     "metadata": {},
     "output_type": "execute_result"
    }
   ],
   "source": [
    "1/8.66918448\n"
   ]
  },
  {
   "cell_type": "code",
   "execution_count": 6,
   "id": "16890c6a",
   "metadata": {},
   "outputs": [
    {
     "data": {
      "text/plain": [
       "0.24364718116365203"
      ]
     },
     "execution_count": 6,
     "metadata": {},
     "output_type": "execute_result"
    }
   ],
   "source": [
    "1/4.10429538"
   ]
  },
  {
   "cell_type": "markdown",
   "id": "acb72cd1",
   "metadata": {},
   "source": [
    "We can do it manually like shown above but matrix is diagonal matrix so we can do it by inverting D"
   ]
  },
  {
   "cell_type": "code",
   "execution_count": 7,
   "id": "788c5189",
   "metadata": {},
   "outputs": [
    {
     "data": {
      "text/plain": [
       "array([[0.1153511 , 0.        ],\n",
       "       [0.        , 0.24364718]])"
      ]
     },
     "execution_count": 7,
     "metadata": {},
     "output_type": "execute_result"
    }
   ],
   "source": [
    "Dinv = np.linalg.inv(D)\n",
    "Dinv"
   ]
  },
  {
   "cell_type": "markdown",
   "id": "3d2e9344",
   "metadata": {},
   "source": [
    "$D^+$ must have the same dimensions as $A^T$ in order for $VD^+U^T$ matrix multiplication to be possible: "
   ]
  },
  {
   "cell_type": "code",
   "execution_count": 8,
   "id": "fcfe1d0e",
   "metadata": {},
   "outputs": [
    {
     "data": {
      "text/plain": [
       "array([[0.1153511 , 0.        , 0.        ],\n",
       "       [0.        , 0.24364718, 0.        ]])"
      ]
     },
     "execution_count": 8,
     "metadata": {},
     "output_type": "execute_result"
    }
   ],
   "source": [
    "Dplus = np.concatenate((Dinv, np.zeros((1, 2)).T), axis=1)\n",
    "Dplus"
   ]
  },
  {
   "cell_type": "markdown",
   "id": "de59780f",
   "metadata": {},
   "source": [
    "bold text(Recall $D$ must have the same dimensions as $A$ for SVD's $UDV^T$, but for MPP $U$ and $V$ have swapped sides around the diagonal matrix.)\n",
    "\n",
    "Now we have everything we need to calculate $A^+$ with $VD^+U^T$: "
   ]
  },
  {
   "cell_type": "code",
   "execution_count": 9,
   "id": "b439a016",
   "metadata": {},
   "outputs": [
    {
     "data": {
      "text/plain": [
       "array([[-0.08767773,  0.17772512,  0.07582938],\n",
       "       [ 0.07661927, -0.1192733 ,  0.08688784]])"
      ]
     },
     "execution_count": 9,
     "metadata": {},
     "output_type": "execute_result"
    }
   ],
   "source": [
    "Aplus = np.dot(VT.T, np.dot(Dplus, U.T))\n",
    "Aplus"
   ]
  },
  {
   "cell_type": "markdown",
   "id": "22ab6b70",
   "metadata": {},
   "source": [
    "Working out this derivation is helpful for understanding how Moore-Penrose pseudoinverses work, but unsurprisingly NumPy is loaded with an existing method `pinv()`: "
   ]
  },
  {
   "cell_type": "code",
   "execution_count": null,
   "id": "b8f2da86",
   "metadata": {},
   "outputs": [
    {
     "data": {
      "text/plain": [
       "array([[-0.08767773,  0.17772512,  0.07582938],\n",
       "       [ 0.07661927, -0.1192733 ,  0.08688784]])"
      ]
     },
     "execution_count": 10,
     "metadata": {},
     "output_type": "execute_result"
    }
   ],
   "source": [
    "np.linalg.pinv(A)"
   ]
  },
  {
   "cell_type": "markdown",
   "id": "3207d0b6",
   "metadata": {},
   "source": [
    "**Exercise** \n",
    "\n",
    "Use the `torch.svd()` method to calculate the pseudoinverse of `A_p`, confirming that your result matches the output of `torch.pinverse(A_p)`:"
   ]
  },
  {
   "cell_type": "code",
   "execution_count": 11,
   "id": "d492f1a8",
   "metadata": {},
   "outputs": [
    {
     "data": {
      "text/plain": [
       "tensor([[-1.,  2.],\n",
       "        [ 3., -2.],\n",
       "        [ 5.,  7.]])"
      ]
     },
     "execution_count": 11,
     "metadata": {},
     "output_type": "execute_result"
    }
   ],
   "source": [
    "A_p = torch.tensor([[-1, 2], [3, -2], [5, 7.]])\n",
    "A_p"
   ]
  },
  {
   "cell_type": "code",
   "execution_count": 12,
   "id": "e543ee42",
   "metadata": {},
   "outputs": [
    {
     "data": {
      "text/plain": [
       "tensor([[-0.0877,  0.1777,  0.0758],\n",
       "        [ 0.0766, -0.1193,  0.0869]])"
      ]
     },
     "execution_count": 12,
     "metadata": {},
     "output_type": "execute_result"
    }
   ],
   "source": [
    "torch.pinverse(A_p)"
   ]
  },
  {
   "cell_type": "code",
   "execution_count": 14,
   "id": "6be6ca86",
   "metadata": {},
   "outputs": [
    {
     "data": {
      "text/plain": [
       "(tensor([[ 0.1271,  0.4741,  0.8713],\n",
       "         [ 0.0016, -0.8785,  0.4778],\n",
       "         [ 0.9919, -0.0593, -0.1124]]),\n",
       " tensor([8.6692, 4.1043]),\n",
       " tensor([[ 0.5580,  0.8298],\n",
       "         [-0.8298,  0.5580]]))"
      ]
     },
     "execution_count": 14,
     "metadata": {},
     "output_type": "execute_result"
    }
   ],
   "source": [
    "Ut, dt, Vt = torch.linalg.svd(A_p)\n",
    "Ut, dt, Vt"
   ]
  },
  {
   "cell_type": "code",
   "execution_count": 15,
   "id": "1d644320",
   "metadata": {},
   "outputs": [
    {
     "data": {
      "text/plain": [
       "tensor([[8.6692, 0.0000],\n",
       "        [0.0000, 4.1043]])"
      ]
     },
     "execution_count": 15,
     "metadata": {},
     "output_type": "execute_result"
    }
   ],
   "source": [
    "Dt = torch.diag(dt)\n",
    "Dt"
   ]
  },
  {
   "cell_type": "code",
   "execution_count": 16,
   "id": "a99151f1",
   "metadata": {},
   "outputs": [
    {
     "data": {
      "text/plain": [
       "tensor([[0.1154, 0.0000],\n",
       "        [0.0000, 0.2436]])"
      ]
     },
     "execution_count": 16,
     "metadata": {},
     "output_type": "execute_result"
    }
   ],
   "source": [
    "Dt_inv = torch.linalg.inv(Dt)\n",
    "Dt_inv"
   ]
  },
  {
   "cell_type": "code",
   "execution_count": 24,
   "id": "dd8971a0",
   "metadata": {},
   "outputs": [
    {
     "data": {
      "text/plain": [
       "tensor([[0.1154, 0.0000, 0.0000],\n",
       "        [0.0000, 0.2436, 0.0000]])"
      ]
     },
     "execution_count": 24,
     "metadata": {},
     "output_type": "execute_result"
    }
   ],
   "source": [
    "Dt_plus =torch.cat((Dt_inv, torch.zeros((1, 2)).transpose(0, 1)), dim=1)\n",
    "Dt_plus"
   ]
  },
  {
   "cell_type": "code",
   "execution_count": 30,
   "id": "02f2013b",
   "metadata": {},
   "outputs": [
    {
     "data": {
      "text/plain": [
       "tensor([[-0.0877,  0.1777,  0.0758],\n",
       "        [ 0.0766, -0.1193,  0.0869]])"
      ]
     },
     "execution_count": 30,
     "metadata": {},
     "output_type": "execute_result"
    }
   ],
   "source": [
    "Ap_plus = torch.linalg.matmul(Vt.T, torch.linalg.matmul(Dt_plus, Ut.T))\n",
    "Ap_plus"
   ]
  },
  {
   "cell_type": "code",
   "execution_count": 33,
   "id": "d346b566",
   "metadata": {},
   "outputs": [
    {
     "data": {
      "text/plain": [
       "tensor([[-0.0877,  0.1777,  0.0758],\n",
       "        [ 0.0766, -0.1193,  0.0869]])"
      ]
     },
     "execution_count": 33,
     "metadata": {},
     "output_type": "execute_result"
    }
   ],
   "source": [
    "torch.linalg.pinv(A_p)"
   ]
  },
  {
   "cell_type": "code",
   "execution_count": null,
   "id": "c4b57763",
   "metadata": {},
   "outputs": [],
   "source": []
  }
 ],
 "metadata": {
  "kernelspec": {
   "display_name": "my_ai_py",
   "language": "python",
   "name": "python3"
  },
  "language_info": {
   "codemirror_mode": {
    "name": "ipython",
    "version": 3
   },
   "file_extension": ".py",
   "mimetype": "text/x-python",
   "name": "python",
   "nbconvert_exporter": "python",
   "pygments_lexer": "ipython3",
   "version": "3.12.9"
  }
 },
 "nbformat": 4,
 "nbformat_minor": 5
}
