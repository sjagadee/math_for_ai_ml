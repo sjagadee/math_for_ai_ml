{
 "cells": [
  {
   "cell_type": "markdown",
   "id": "86cde29b",
   "metadata": {},
   "source": [
    "## Moore-Penrose Pseudoinverse\n",
    "\n",
    "Using Matrix inversion we can calculate $w$ (unknowns) in the equation $y = Xw$ \n",
    "- If $X^{-1}$ exists (we can calculate for square matrix only) \n",
    "    - $y = Xw$ can also be written as $Xw = y$\n",
    "    - $X^{-1} Xw = X^{-1}y$\n",
    "    - $I_n w = X^{-1}y$\n",
    "    - $w = X^{-1}y$\n",
    "\n",
    "For non square matrix, which is common in ML data sets we can use pseudoinverse:\n",
    "- Would be unusual to have exactly as many cases (n) - rows as that of features (m) - columns\n",
    "- With psudoinverse $X^+$, we can now estimate model weights w even if $n ≠ m$:\n",
    "    - $w = X^+ y$\n",
    "\n",
    "- If $X$ is overdetermined ($n > m$), $X^+$ provides $Xy$ as close to $w$ as possible (euclidean distance $|| Xy - w ||_2$)\n",
    "- If $X$ is underdetermined ($n < m$), $X^+$ provides $w = X^+ y$ solution that has the smallest Euclidean norm $||x||_2$ from all possible solutions"
   ]
  },
  {
   "cell_type": "code",
   "execution_count": null,
   "id": "57c4ac09",
   "metadata": {
    "vscode": {
     "languageId": "plaintext"
    }
   },
   "outputs": [],
   "source": []
  },
  {
   "cell_type": "markdown",
   "id": "a16216d8",
   "metadata": {},
   "source": []
  }
 ],
 "metadata": {
  "language_info": {
   "name": "python"
  }
 },
 "nbformat": 4,
 "nbformat_minor": 5
}
