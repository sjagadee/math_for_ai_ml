{
 "cells": [
  {
   "cell_type": "markdown",
   "id": "be127751",
   "metadata": {},
   "source": [
    "## Matrix Determinants\n",
    "\n",
    "- Map Square matrix to scalar\n",
    "- Enables us to determine whether matrix can be inverted\n",
    "- For any matrix $X$, denoted as det($X$)\n",
    "- If det($X$) == 0:\n",
    "    - Matrix $X^{-1}$ cannot be computed becasue $X^{-1}$ = 1/det($X$) = 1/0\n",
    "    - Matrix $X$ is sigular: It contains linearly-dependent columns\n",
    "- det($X$) easiest to calculate for 2x2 matrix"
   ]
  },
  {
   "cell_type": "code",
   "execution_count": 5,
   "id": "d960971f",
   "metadata": {},
   "outputs": [
    {
     "name": "stdout",
     "output_type": "stream",
     "text": [
      "Determinant of X: -2.0000000000000004\n"
     ]
    }
   ],
   "source": [
    "import numpy as np\n",
    "import matplotlib.pyplot as plt\n",
    "import torch\n",
    "\n",
    "# 2x2 matrix\n",
    "X = np.array([[4, 2], [-5, -3]])\n",
    "det = np.linalg.det(X)\n",
    "print(\"Determinant of X:\", det)"
   ]
  },
  {
   "cell_type": "code",
   "execution_count": 6,
   "id": "85cb785d",
   "metadata": {},
   "outputs": [],
   "source": [
    "def plot_vector(vectors, colors):\n",
    "    plt.figure()\n",
    "    plt.axvline(x=0, color=\"lightgray\")\n",
    "    plt.axhline(y=0, color=\"lightgray\")\n",
    "\n",
    "    for i in range(len(vectors)):\n",
    "        x = np.concatenate(([0, 0], vectors[i]))\n",
    "        plt.quiver([x[0]], [x[1]], [x[2]], [x[3]], angles=\"xy\", scale_units=\"xy\", scale=1, color=colors[i])\n",
    "\n",
    "\n",
    "def col_to_vec(matrix,col):\n",
    "    return np.array(matrix[:,col]).reshape(-1)"
   ]
  },
  {
   "cell_type": "code",
   "execution_count": 7,
   "id": "ece52c99",
   "metadata": {},
   "outputs": [
    {
     "name": "stdout",
     "output_type": "stream",
     "text": [
      "Determinant of N: 0.0\n"
     ]
    }
   ],
   "source": [
    "\n",
    "N = np.array([[-4, 1], [-8, 2]])\n",
    "det = np.linalg.det(N)\n",
    "print(\"Determinant of N:\", det)\n",
    "\n",
    "## this is because the matrix is sigular(first row is linearly dependent on second - and they are parallel) cannot be inverted"
   ]
  },
  {
   "cell_type": "code",
   "execution_count": 8,
   "id": "06219e8f",
   "metadata": {},
   "outputs": [],
   "source": [
    "# Ninv = np.linalg.inv(N)\n",
    "# print(\"Inverse of N:\", Ninv)"
   ]
  },
  {
   "cell_type": "code",
   "execution_count": 9,
   "id": "f1dc0bc3",
   "metadata": {},
   "outputs": [
    {
     "name": "stdout",
     "output_type": "stream",
     "text": [
      "Determinant of N: tensor(-0.)\n"
     ]
    }
   ],
   "source": [
    "N = torch.tensor([[-4, 1.], [-8, 2]])\n",
    "det = torch.det(N)\n",
    "print(\"Determinant of N:\", det)"
   ]
  },
  {
   "cell_type": "markdown",
   "id": "28a8afbd",
   "metadata": {},
   "source": [
    "## Determinants for larger matrix\n",
    "\n",
    "Generalizing determinants"
   ]
  },
  {
   "cell_type": "code",
   "execution_count": 10,
   "id": "9382bdab",
   "metadata": {},
   "outputs": [
    {
     "data": {
      "text/plain": [
       "array([[ 1,  2,  4],\n",
       "       [ 2, -1,  3],\n",
       "       [ 0,  5,  1]])"
      ]
     },
     "execution_count": 10,
     "metadata": {},
     "output_type": "execute_result"
    }
   ],
   "source": [
    "X = np.array([[1, 2, 4], [2, -1, 3], [0, 5, 1]])\n",
    "X"
   ]
  },
  {
   "cell_type": "code",
   "execution_count": 11,
   "id": "6f408446",
   "metadata": {},
   "outputs": [
    {
     "data": {
      "text/plain": [
       "np.float64(19.999999999999996)"
      ]
     },
     "execution_count": 11,
     "metadata": {},
     "output_type": "execute_result"
    }
   ],
   "source": [
    "np.linalg.det(X)"
   ]
  },
  {
   "cell_type": "markdown",
   "id": "7b84bf96",
   "metadata": {},
   "source": [
    "Determinants and Eigenvalues\n",
    "\n",
    "det($X$) = product of all eigenvalues of $X$"
   ]
  },
  {
   "cell_type": "code",
   "execution_count": 12,
   "id": "97fbc735",
   "metadata": {},
   "outputs": [
    {
     "name": "stdout",
     "output_type": "stream",
     "text": [
      "[-3.25599251 -1.13863631  5.39462882]\n"
     ]
    }
   ],
   "source": [
    "lambdas, vectors = np.linalg.eig(X)\n",
    "print(lambdas)"
   ]
  },
  {
   "cell_type": "code",
   "execution_count": 13,
   "id": "c0ed6de9",
   "metadata": {},
   "outputs": [
    {
     "data": {
      "text/plain": [
       "np.float64(19.99999999999999)"
      ]
     },
     "execution_count": 13,
     "metadata": {},
     "output_type": "execute_result"
    }
   ],
   "source": [
    "np.prod(lambdas)"
   ]
  },
  {
   "cell_type": "markdown",
   "id": "5a4ebd7e",
   "metadata": {},
   "source": [
    "Here's |det($X$)| in numpy"
   ]
  },
  {
   "cell_type": "code",
   "execution_count": 14,
   "id": "2413a9cf",
   "metadata": {},
   "outputs": [
    {
     "data": {
      "text/plain": [
       "np.float64(19.999999999999996)"
      ]
     },
     "execution_count": 14,
     "metadata": {},
     "output_type": "execute_result"
    }
   ],
   "source": [
    "np.abs(np.linalg.det(X))"
   ]
  },
  {
   "cell_type": "markdown",
   "id": "fb012264",
   "metadata": {},
   "source": [
    "Let us use a matrix B, which is composed of basis vectors, to explore the impact of applying matrices with varying |det($X$)| values:"
   ]
  },
  {
   "cell_type": "code",
   "execution_count": 15,
   "id": "1674b826",
   "metadata": {},
   "outputs": [
    {
     "data": {
      "text/plain": [
       "array([[1, 0],\n",
       "       [0, 1]])"
      ]
     },
     "execution_count": 15,
     "metadata": {},
     "output_type": "execute_result"
    }
   ],
   "source": [
    "B = np.array([[1, 0], [0, 1]])\n",
    "B"
   ]
  },
  {
   "cell_type": "code",
   "execution_count": 16,
   "id": "c6d42594",
   "metadata": {},
   "outputs": [
    {
     "data": {
      "image/png": "[encoded data removed]",
      "text/plain": [
       "<Figure size 640x480 with 1 Axes>"
      ]
     },
     "metadata": {},
     "output_type": "display_data"
    }
   ],
   "source": [
    "plot_vector([col_to_vec(B, 0), col_to_vec(B, 1)], [\"green\", \"orange\"])\n",
    "plt.xlim(-1, 3)\n",
    "_ = plt.ylim(-1, 3)\n"
   ]
  },
  {
   "cell_type": "markdown",
   "id": "5e390807",
   "metadata": {},
   "source": [
    "Let us start applying the matrix $N$ to $B$, where $N$ is singular"
   ]
  },
  {
   "cell_type": "code",
   "execution_count": 17,
   "id": "0f3b4c4d",
   "metadata": {},
   "outputs": [
    {
     "name": "stdout",
     "output_type": "stream",
     "text": [
      "Determinant of N: 0.0\n"
     ]
    }
   ],
   "source": [
    "N = np.array([[-4, 1], [-8, 2]])\n",
    "det = np.linalg.det(N)\n",
    "print(\"Determinant of N:\", det)"
   ]
  },
  {
   "cell_type": "code",
   "execution_count": 19,
   "id": "e399f9c1",
   "metadata": {},
   "outputs": [
    {
     "data": {
      "text/plain": [
       "array([[-4,  1],\n",
       "       [-8,  2]])"
      ]
     },
     "execution_count": 19,
     "metadata": {},
     "output_type": "execute_result"
    }
   ],
   "source": [
    "NB = np.matmul(N, B)\n",
    "NB"
   ]
  },
  {
   "cell_type": "code",
   "execution_count": 25,
   "id": "8f8992f4",
   "metadata": {},
   "outputs": [
    {
     "data": {
      "image/png": "[encoded data removed]",
      "text/plain": [
       "<Figure size 640x480 with 1 Axes>"
      ]
     },
     "metadata": {},
     "output_type": "display_data"
    }
   ],
   "source": [
    "plot_vector([col_to_vec(B, 0), col_to_vec(B, 1), col_to_vec(NB, 0), col_to_vec(NB, 1)], [\"green\", \"orange\", \"blue\", \"red\"])\n",
    "plt.xlim(-5, 2)\n",
    "_ = plt.ylim(-9, 3)"
   ]
  },
  {
   "cell_type": "code",
   "execution_count": 26,
   "id": "fdb019a2",
   "metadata": {},
   "outputs": [
    {
     "name": "stdout",
     "output_type": "stream",
     "text": [
      "[-2.  0.]\n"
     ]
    }
   ],
   "source": [
    "lambdas, vectors = np.linalg.eig(N)\n",
    "print(lambdas)"
   ]
  },
  {
   "cell_type": "markdown",
   "id": "a861e176",
   "metadata": {},
   "source": [
    "If one of the eigenvalues in a matrix is zero, then the product of the eigenvalues must be zero and the determinants must also be zero\n",
    "\n",
    "Now let us apply identity matrix $I_2$ on $B$"
   ]
  },
  {
   "cell_type": "code",
   "execution_count": 27,
   "id": "36dc589e",
   "metadata": {},
   "outputs": [
    {
     "data": {
      "text/plain": [
       "array([[1, 0],\n",
       "       [0, 1]])"
      ]
     },
     "execution_count": 27,
     "metadata": {},
     "output_type": "execute_result"
    }
   ],
   "source": [
    "I = np.array([[1, 0], [0, 1]])\n",
    "I"
   ]
  },
  {
   "cell_type": "code",
   "execution_count": 28,
   "id": "b7c7569f",
   "metadata": {},
   "outputs": [
    {
     "data": {
      "text/plain": [
       "np.float64(1.0)"
      ]
     },
     "execution_count": 28,
     "metadata": {},
     "output_type": "execute_result"
    }
   ],
   "source": [
    "np.linalg.det(I)"
   ]
  },
  {
   "cell_type": "code",
   "execution_count": 29,
   "id": "584b9340",
   "metadata": {},
   "outputs": [
    {
     "data": {
      "text/plain": [
       "array([[1, 0],\n",
       "       [0, 1]])"
      ]
     },
     "execution_count": 29,
     "metadata": {},
     "output_type": "execute_result"
    }
   ],
   "source": [
    "IB = np.matmul(I, B)\n",
    "IB"
   ]
  },
  {
   "cell_type": "code",
   "execution_count": 30,
   "id": "3db85d5f",
   "metadata": {},
   "outputs": [
    {
     "data": {
      "image/png": "[encoded data removed]",
      "text/plain": [
       "<Figure size 640x480 with 1 Axes>"
      ]
     },
     "metadata": {},
     "output_type": "display_data"
    }
   ],
   "source": [
    "plot_vector([col_to_vec(B, 0), col_to_vec(B, 1), col_to_vec(IB, 0), col_to_vec(IB, 1)], [\"green\", \"orange\", \"blue\", \"red\"])\n",
    "plt.xlim(-1, 3)\n",
    "_ = plt.ylim(-1, 3)"
   ]
  },
  {
   "cell_type": "code",
   "execution_count": 32,
   "id": "d4fe0952",
   "metadata": {},
   "outputs": [
    {
     "name": "stdout",
     "output_type": "stream",
     "text": [
      "[1. 1.]\n"
     ]
    }
   ],
   "source": [
    "lambdas, vectors = np.linalg.eig(I)\n",
    "print(lambdas)"
   ]
  },
  {
   "cell_type": "markdown",
   "id": "1cea165e",
   "metadata": {},
   "source": [
    "Let us now apply matrix $J$ "
   ]
  },
  {
   "cell_type": "code",
   "execution_count": 33,
   "id": "fceef684",
   "metadata": {},
   "outputs": [
    {
     "data": {
      "text/plain": [
       "array([[-0.5,  0. ],\n",
       "       [ 0. ,  2. ]])"
      ]
     },
     "execution_count": 33,
     "metadata": {},
     "output_type": "execute_result"
    }
   ],
   "source": [
    "J = np.array([[-0.5, 0], [0, 2]])\n",
    "J"
   ]
  },
  {
   "cell_type": "code",
   "execution_count": 34,
   "id": "95871fbd",
   "metadata": {},
   "outputs": [
    {
     "data": {
      "text/plain": [
       "np.float64(-1.0)"
      ]
     },
     "execution_count": 34,
     "metadata": {},
     "output_type": "execute_result"
    }
   ],
   "source": [
    "np.linalg.det(J)"
   ]
  },
  {
   "cell_type": "code",
   "execution_count": 35,
   "id": "dfa257ff",
   "metadata": {},
   "outputs": [
    {
     "data": {
      "text/plain": [
       "np.float64(1.0)"
      ]
     },
     "execution_count": 35,
     "metadata": {},
     "output_type": "execute_result"
    }
   ],
   "source": [
    "np.abs(np.linalg.det(J))"
   ]
  },
  {
   "cell_type": "code",
   "execution_count": 37,
   "id": "9712d8fe",
   "metadata": {},
   "outputs": [
    {
     "data": {
      "text/plain": [
       "array([[-0.5,  0. ],\n",
       "       [ 0. ,  2. ]])"
      ]
     },
     "execution_count": 37,
     "metadata": {},
     "output_type": "execute_result"
    }
   ],
   "source": [
    "JB = np.matmul(J, B)\n",
    "JB"
   ]
  },
  {
   "cell_type": "code",
   "execution_count": 38,
   "id": "bf35aeb3",
   "metadata": {},
   "outputs": [
    {
     "name": "stdout",
     "output_type": "stream",
     "text": [
      "[-0.5  2. ]\n"
     ]
    }
   ],
   "source": [
    "lambdas, vectors = np.linalg.eig(J)\n",
    "print(lambdas)"
   ]
  },
  {
   "cell_type": "code",
   "execution_count": 39,
   "id": "e2133902",
   "metadata": {},
   "outputs": [
    {
     "data": {
      "image/png": "[encoded data removed]",
      "text/plain": [
       "<Figure size 640x480 with 1 Axes>"
      ]
     },
     "metadata": {},
     "output_type": "display_data"
    }
   ],
   "source": [
    "plot_vector([col_to_vec(B, 0), col_to_vec(B, 1), col_to_vec(JB, 0), col_to_vec(JB, 1)], [\"green\", \"orange\", \"blue\", \"red\"])\n",
    "plt.xlim(-1, 3)\n",
    "_ = plt.ylim(-1, 3)"
   ]
  },
  {
   "cell_type": "markdown",
   "id": "497dc353",
   "metadata": {},
   "source": [
    "Finally let us apply D, which scales vectors by doubling along both axis ($x$ and $y$)"
   ]
  },
  {
   "cell_type": "code",
   "execution_count": 40,
   "id": "3a460a28",
   "metadata": {},
   "outputs": [
    {
     "data": {
      "text/plain": [
       "array([[2, 0],\n",
       "       [0, 2]])"
      ]
     },
     "execution_count": 40,
     "metadata": {},
     "output_type": "execute_result"
    }
   ],
   "source": [
    "D = I * 2\n",
    "D"
   ]
  },
  {
   "cell_type": "code",
   "execution_count": 41,
   "id": "3b4afaa7",
   "metadata": {},
   "outputs": [
    {
     "data": {
      "text/plain": [
       "np.float64(4.0)"
      ]
     },
     "execution_count": 41,
     "metadata": {},
     "output_type": "execute_result"
    }
   ],
   "source": [
    "np.linalg.det(D)"
   ]
  },
  {
   "cell_type": "code",
   "execution_count": 42,
   "id": "68296b7e",
   "metadata": {},
   "outputs": [
    {
     "data": {
      "text/plain": [
       "array([[2, 0],\n",
       "       [0, 2]])"
      ]
     },
     "execution_count": 42,
     "metadata": {},
     "output_type": "execute_result"
    }
   ],
   "source": [
    "DB = np.matmul(D, B)\n",
    "DB"
   ]
  },
  {
   "cell_type": "code",
   "execution_count": 43,
   "id": "14c7f671",
   "metadata": {},
   "outputs": [
    {
     "data": {
      "image/png": "[encoded data removed]",
      "text/plain": [
       "<Figure size 640x480 with 1 Axes>"
      ]
     },
     "metadata": {},
     "output_type": "display_data"
    }
   ],
   "source": [
    "plot_vector([col_to_vec(B, 0), col_to_vec(B, 1), col_to_vec(DB, 0), col_to_vec(DB, 1)], [\"green\", \"orange\", \"blue\", \"red\"])\n",
    "plt.xlim(-1, 3)\n",
    "_ = plt.ylim(-1, 3)"
   ]
  },
  {
   "cell_type": "code",
   "execution_count": 44,
   "id": "56912eec",
   "metadata": {},
   "outputs": [
    {
     "name": "stdout",
     "output_type": "stream",
     "text": [
      "[2. 2.]\n"
     ]
    }
   ],
   "source": [
    "lambdas, vectors = np.linalg.eig(D)\n",
    "print(lambdas)"
   ]
  },
  {
   "cell_type": "code",
   "execution_count": null,
   "id": "ca5a15af",
   "metadata": {},
   "outputs": [],
   "source": []
  }
 ],
 "metadata": {
  "kernelspec": {
   "display_name": "my_ai_py",
   "language": "python",
   "name": "python3"
  },
  "language_info": {
   "codemirror_mode": {
    "name": "ipython",
    "version": 3
   },
   "file_extension": ".py",
   "mimetype": "text/x-python",
   "name": "python",
   "nbconvert_exporter": "python",
   "pygments_lexer": "ipython3",
   "version": "3.12.9"
  }
 },
 "nbformat": 4,
 "nbformat_minor": 5
}
