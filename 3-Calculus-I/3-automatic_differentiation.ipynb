{
 "cells": [
  {
   "cell_type": "markdown",
   "id": "cffd11fd",
   "metadata": {},
   "source": [
    "## Automatic Differentiation\n",
    "\n",
    "TenserFlow and PyTorch are the two most popular automatic differentiaion libraries\n",
    "\n",
    "Let's use them to calculate $dy/dx$ at $x = 5$ where: \n",
    "\n",
    "$$y = x^2$$\n",
    "\n",
    "$$ \\frac{dy}{dx} = 2x = 2(5) = 10 $$"
   ]
  },
  {
   "cell_type": "code",
   "execution_count": 1,
   "id": "d24658c7",
   "metadata": {},
   "outputs": [],
   "source": [
    "# Autodiff with PyTorch\n",
    "\n",
    "import torch"
   ]
  },
  {
   "cell_type": "code",
   "execution_count": 2,
   "id": "644806a6",
   "metadata": {},
   "outputs": [],
   "source": [
    "x = torch.tensor(5.0)"
   ]
  },
  {
   "cell_type": "code",
   "execution_count": 3,
   "id": "fecf34da",
   "metadata": {},
   "outputs": [
    {
     "data": {
      "text/plain": [
       "tensor(5.)"
      ]
     },
     "execution_count": 3,
     "metadata": {},
     "output_type": "execute_result"
    }
   ],
   "source": [
    "x"
   ]
  },
  {
   "cell_type": "code",
   "execution_count": 4,
   "id": "04f45f34",
   "metadata": {},
   "outputs": [
    {
     "data": {
      "text/plain": [
       "tensor(5., requires_grad=True)"
      ]
     },
     "execution_count": 4,
     "metadata": {},
     "output_type": "execute_result"
    }
   ],
   "source": [
    "x.requires_grad_() # contagiously track gradients through forward pass"
   ]
  },
  {
   "cell_type": "code",
   "execution_count": 5,
   "id": "3a4b75a6",
   "metadata": {},
   "outputs": [],
   "source": [
    "y = x**2"
   ]
  },
  {
   "cell_type": "code",
   "execution_count": 6,
   "id": "adb003bd",
   "metadata": {},
   "outputs": [],
   "source": [
    "y.backward() # use autodiff"
   ]
  },
  {
   "cell_type": "code",
   "execution_count": 7,
   "id": "e092ed1f",
   "metadata": {},
   "outputs": [
    {
     "data": {
      "text/plain": [
       "tensor(10.)"
      ]
     },
     "execution_count": 7,
     "metadata": {},
     "output_type": "execute_result"
    }
   ],
   "source": [
    "x.grad"
   ]
  },
  {
   "cell_type": "code",
   "execution_count": 8,
   "id": "aec527cd",
   "metadata": {},
   "outputs": [],
   "source": [
    "# Auto diff in tensorflow\n",
    "import tensorflow as tf\n",
    "\n",
    "x = tf.Variable(5.0)"
   ]
  },
  {
   "cell_type": "code",
   "execution_count": 9,
   "id": "1b7cfd31",
   "metadata": {},
   "outputs": [],
   "source": [
    "with tf.GradientTape() as tape:\n",
    "    tape.watch(x) # track gradients through forward pass\n",
    "    y = x**2"
   ]
  },
  {
   "cell_type": "code",
   "execution_count": 10,
   "id": "29956c19",
   "metadata": {},
   "outputs": [
    {
     "data": {
      "text/plain": [
       "<tf.Tensor: shape=(), dtype=float32, numpy=10.0>"
      ]
     },
     "execution_count": 10,
     "metadata": {},
     "output_type": "execute_result"
    }
   ],
   "source": [
    "tape.gradient(y, x) # use autodiff"
   ]
  },
  {
   "cell_type": "markdown",
   "id": "296a803f",
   "metadata": {},
   "source": [
    "As usual, PyTorch feels more intuitive and pythonic than TensorFlow. See the standalone [*Regression in PyTorch*](https://github.com/jonkrohn/ML-foundations/blob/master/notebooks/regression-in-pytorch.ipynb) notebook for an example of autodiff paired with gradient descent in order to fit a simple regression line."
   ]
  },
  {
   "cell_type": "markdown",
   "id": "56e16119",
   "metadata": {},
   "source": [
    "Excercise to use PyTorch and find the slope of $y = x^2 + 2x + 2$\n",
    "\n",
    "Let's use them to calculate $dy/dx$ at $x = 2$ where: \n",
    "\n",
    "\n",
    "\n",
    "$ \\frac{dy}{dx} = 2x + 2= 2(2) + 2 = 8 $"
   ]
  },
  {
   "cell_type": "code",
   "execution_count": 11,
   "id": "693eba10",
   "metadata": {},
   "outputs": [
    {
     "data": {
      "text/plain": [
       "tensor(2.)"
      ]
     },
     "execution_count": 11,
     "metadata": {},
     "output_type": "execute_result"
    }
   ],
   "source": [
    "xe = torch.tensor(2.0)\n",
    "xe"
   ]
  },
  {
   "cell_type": "code",
   "execution_count": 12,
   "id": "b52e8caf",
   "metadata": {},
   "outputs": [
    {
     "data": {
      "text/plain": [
       "tensor(2., requires_grad=True)"
      ]
     },
     "execution_count": 12,
     "metadata": {},
     "output_type": "execute_result"
    }
   ],
   "source": [
    "xe.requires_grad_() # contagiously track gradients through forward pass"
   ]
  },
  {
   "cell_type": "code",
   "execution_count": 13,
   "id": "7787d9a3",
   "metadata": {},
   "outputs": [],
   "source": [
    "ye = xe**2 + 2*xe + 2\n"
   ]
  },
  {
   "cell_type": "code",
   "execution_count": 14,
   "id": "a6b2e573",
   "metadata": {},
   "outputs": [],
   "source": [
    "ye.backward() # use autodiff"
   ]
  },
  {
   "cell_type": "code",
   "execution_count": 16,
   "id": "ae501106",
   "metadata": {},
   "outputs": [
    {
     "data": {
      "text/plain": [
       "tensor(6.)"
      ]
     },
     "execution_count": 16,
     "metadata": {},
     "output_type": "execute_result"
    }
   ],
   "source": [
    "xe.grad"
   ]
  },
  {
   "cell_type": "code",
   "execution_count": null,
   "id": "29a78b19",
   "metadata": {},
   "outputs": [],
   "source": []
  }
 ],
 "metadata": {
  "kernelspec": {
   "display_name": "my_ai_py",
   "language": "python",
   "name": "python3"
  },
  "language_info": {
   "codemirror_mode": {
    "name": "ipython",
    "version": 3
   },
   "file_extension": ".py",
   "mimetype": "text/x-python",
   "name": "python",
   "nbconvert_exporter": "python",
   "pygments_lexer": "ipython3",
   "version": "3.12.9"
  }
 },
 "nbformat": 4,
 "nbformat_minor": 5
}
