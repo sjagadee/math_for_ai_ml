{
 "cells": [
  {
   "cell_type": "markdown",
   "id": "b5f68c8b",
   "metadata": {},
   "source": [
    "## Regression\n",
    "\n",
    "### Linear Least Squares for Fitting a Line to Points on a Cartesian Plane"
   ]
  },
  {
   "cell_type": "code",
   "execution_count": 1,
   "id": "70b7b406",
   "metadata": {},
   "outputs": [],
   "source": [
    "import numpy as np\n",
    "import scipy.stats as st\n",
    "import matplotlib.pyplot as plt\n",
    "import seaborn as sns"
   ]
  },
  {
   "cell_type": "code",
   "execution_count": 2,
   "id": "e0a7d071",
   "metadata": {},
   "outputs": [
    {
     "data": {
      "text/html": [
       "<div>\n",
       "<style scoped>\n",
       "    .dataframe tbody tr th:only-of-type {\n",
       "        vertical-align: middle;\n",
       "    }\n",
       "\n",
       "    .dataframe tbody tr th {\n",
       "        vertical-align: top;\n",
       "    }\n",
       "\n",
       "    .dataframe thead th {\n",
       "        text-align: right;\n",
       "    }\n",
       "</style>\n",
       "<table border=\"1\" class=\"dataframe\">\n",
       "  <thead>\n",
       "    <tr style=\"text-align: right;\">\n",
       "      <th></th>\n",
       "      <th>sepal_length</th>\n",
       "      <th>sepal_width</th>\n",
       "      <th>petal_length</th>\n",
       "      <th>petal_width</th>\n",
       "      <th>species</th>\n",
       "    </tr>\n",
       "  </thead>\n",
       "  <tbody>\n",
       "    <tr>\n",
       "      <th>0</th>\n",
       "      <td>5.1</td>\n",
       "      <td>3.5</td>\n",
       "      <td>1.4</td>\n",
       "      <td>0.2</td>\n",
       "      <td>setosa</td>\n",
       "    </tr>\n",
       "    <tr>\n",
       "      <th>1</th>\n",
       "      <td>4.9</td>\n",
       "      <td>3.0</td>\n",
       "      <td>1.4</td>\n",
       "      <td>0.2</td>\n",
       "      <td>setosa</td>\n",
       "    </tr>\n",
       "    <tr>\n",
       "      <th>2</th>\n",
       "      <td>4.7</td>\n",
       "      <td>3.2</td>\n",
       "      <td>1.3</td>\n",
       "      <td>0.2</td>\n",
       "      <td>setosa</td>\n",
       "    </tr>\n",
       "    <tr>\n",
       "      <th>3</th>\n",
       "      <td>4.6</td>\n",
       "      <td>3.1</td>\n",
       "      <td>1.5</td>\n",
       "      <td>0.2</td>\n",
       "      <td>setosa</td>\n",
       "    </tr>\n",
       "    <tr>\n",
       "      <th>4</th>\n",
       "      <td>5.0</td>\n",
       "      <td>3.6</td>\n",
       "      <td>1.4</td>\n",
       "      <td>0.2</td>\n",
       "      <td>setosa</td>\n",
       "    </tr>\n",
       "  </tbody>\n",
       "</table>\n",
       "</div>"
      ],
      "text/plain": [
       "   sepal_length  sepal_width  petal_length  petal_width species\n",
       "0           5.1          3.5           1.4          0.2  setosa\n",
       "1           4.9          3.0           1.4          0.2  setosa\n",
       "2           4.7          3.2           1.3          0.2  setosa\n",
       "3           4.6          3.1           1.5          0.2  setosa\n",
       "4           5.0          3.6           1.4          0.2  setosa"
      ]
     },
     "execution_count": 2,
     "metadata": {},
     "output_type": "execute_result"
    }
   ],
   "source": [
    "iris = sns.load_dataset('iris')\n",
    "iris.head()"
   ]
  },
  {
   "cell_type": "code",
   "execution_count": 3,
   "id": "f24cf9ee",
   "metadata": {},
   "outputs": [
    {
     "data": {
      "image/png": "[encoded data removed]",
      "text/plain": [
       "<Figure size 640x480 with 1 Axes>"
      ]
     },
     "metadata": {},
     "output_type": "display_data"
    }
   ],
   "source": [
    "x = iris['sepal_length']\n",
    "y = iris['petal_length']\n",
    "\n",
    "sns.set_style('darkgrid')\n",
    "_ = sns.scatterplot(x=x, y=y)"
   ]
  },
  {
   "cell_type": "markdown",
   "id": "01f209df",
   "metadata": {},
   "source": [
    "Consider fitting a line to points on a **Cartesian plane** (2-D surface, with $y$-axis perpendicular to horizontal $x$-axis). To fit such a line, the only parameters we require are a $y$-intercept (say, $\\beta_0$) and a slope (say, $\\beta_1$):\n",
    "\n",
    "$$ y = \\beta_0 + \\beta_1 x $$\n",
    "\n",
    "This corresponds to the case where we have a single feature (a single predictor variable, $x$) in a regression model:\n",
    "\n",
    "$$ y = \\beta_0 + \\beta_1 x + \\epsilon $$\n",
    "\n",
    "The $\\epsilon$ (epsilon) term denotes **error**. For a given instance $i$, $\\epsilon_i$ is a measure of the difference between the true $y_i$ and the model's estimate, $\\hat{y}_i$. If the model predicts $y_i$ perfectly, then $\\epsilon_i = 0$.\n",
    "\n",
    "Our objective is to find the parameters $\\beta_0$ and $\\beta_1$ that minimize $\\epsilon$ across all the available data points.\n",
    "\n",
    "(Note that sepal length may not be an ideal example of a predictor variable, but these iris data are conveniently available at this stage of the notebook.)"
   ]
  },
  {
   "cell_type": "markdown",
   "id": "f7f0a354",
   "metadata": {},
   "source": [
    "In the case of a model with a single predictor $x$, there is a fairly straightforward **linear least squares** formula we can use to estimate $\\beta_1$:\n",
    "$$ \\hat{\\beta}_1 = \\frac{\\text{cov}(x,y)}{\\sigma^2_x} $$\n",
    "\n",
    "(We'll dig further into the \"least squares\" concept in the next section, for now we can think of it as minimizing the squared error $(\\hat{y}_i - y_i)^2$, which we isolate from $\\text{cov}(x,y)$ via division by $\\sigma^2_x$)"
   ]
  },
  {
   "cell_type": "code",
   "execution_count": 4,
   "id": "0d5d6613",
   "metadata": {},
   "outputs": [
    {
     "name": "stdout",
     "output_type": "stream",
     "text": [
      "5.843333333333334 3.7580000000000005\n"
     ]
    }
   ],
   "source": [
    "xbar, ybar = np.mean(x), np.mean(y)\n",
    "print(xbar, ybar)"
   ]
  },
  {
   "cell_type": "code",
   "execution_count": 5,
   "id": "83df6ec9",
   "metadata": {},
   "outputs": [],
   "source": [
    "n = iris.sepal_length.size"
   ]
  },
  {
   "cell_type": "code",
   "execution_count": 6,
   "id": "7d739405",
   "metadata": {},
   "outputs": [
    {
     "data": {
      "text/plain": [
       "np.float64(1.2658200000000006)"
      ]
     },
     "execution_count": 6,
     "metadata": {},
     "output_type": "execute_result"
    }
   ],
   "source": [
    "product = []\n",
    "for i in range(n):\n",
    "    product.append((x[i] - xbar) * (y[i] - ybar))\n",
    "    \n",
    "cov = sum(product) / n\n",
    "cov"
   ]
  },
  {
   "cell_type": "code",
   "execution_count": 7,
   "id": "8ef845cc",
   "metadata": {},
   "outputs": [
    {
     "data": {
      "text/plain": [
       "np.float64(1.8584329782548417)"
      ]
     },
     "execution_count": 7,
     "metadata": {},
     "output_type": "execute_result"
    }
   ],
   "source": [
    "beta_1 = cov / np.var(x)\n",
    "beta_1"
   ]
  },
  {
   "cell_type": "markdown",
   "id": "6b1f4ea9",
   "metadata": {},
   "source": [
    "With $\\hat{\\beta}_1$ in hand, we can then rearrange the line equation ($y = \\beta_0 + \\beta_1 x$) to estimate $\\beta_0$:\n",
    "$$ \\hat{\\beta}_0 = \\bar{y} - \\hat{\\beta}_1 \\bar{x} $$"
   ]
  },
  {
   "cell_type": "code",
   "execution_count": 8,
   "id": "b80991ac",
   "metadata": {},
   "outputs": [
    {
     "data": {
      "text/plain": [
       "np.float64(-7.101443369602459)"
      ]
     },
     "execution_count": 8,
     "metadata": {},
     "output_type": "execute_result"
    }
   ],
   "source": [
    "beta_0 = ybar - beta_1 * xbar\n",
    "beta_0"
   ]
  },
  {
   "cell_type": "code",
   "execution_count": 9,
   "id": "7c14925f",
   "metadata": {},
   "outputs": [],
   "source": [
    "xline = np.linspace(4, 8, 1000)\n",
    "yline = beta_0 + beta_1 * xline\n"
   ]
  },
  {
   "cell_type": "code",
   "execution_count": 10,
   "id": "b88ec7d2",
   "metadata": {},
   "outputs": [
    {
     "data": {
      "image/png": "[encoded data removed]",
      "text/plain": [
       "<Figure size 640x480 with 1 Axes>"
      ]
     },
     "metadata": {},
     "output_type": "display_data"
    }
   ],
   "source": [
    "sns.set_style('darkgrid')\n",
    "_ = sns.scatterplot(x=x, y=y)\n",
    "_ = plt.plot(xline, yline, c='orange')"
   ]
  },
  {
   "cell_type": "markdown",
   "id": "5b7c9bb5",
   "metadata": {},
   "source": [
    "In regression model terms, if we were provided with a sepal length $x_i$ we could now use the parameter estimates $\\hat{\\beta}_0$ and $\\hat{\\beta}_1$ to predict the petal length of an iris:\n",
    "$$ \\hat{y}_i = \\hat{\\beta}_0 + \\hat{\\beta}_1 x_i $$\n",
    "\n",
    "For instance, our model predicts that an iris with a 5.5cm-long sepal would have 3.1cm-long petal:"
   ]
  },
  {
   "cell_type": "code",
   "execution_count": 11,
   "id": "5f135203",
   "metadata": {},
   "outputs": [
    {
     "data": {
      "text/plain": [
       "np.float64(3.1199380107991708)"
      ]
     },
     "execution_count": 11,
     "metadata": {},
     "output_type": "execute_result"
    }
   ],
   "source": [
    "x_i = 5.5\n",
    "y_i = beta_0 + beta_1 * x_i\n",
    "y_i"
   ]
  },
  {
   "cell_type": "code",
   "execution_count": 12,
   "id": "2102a0aa",
   "metadata": {},
   "outputs": [
    {
     "data": {
      "image/png": "[encoded data removed]",
      "text/plain": [
       "<Figure size 640x480 with 1 Axes>"
      ]
     },
     "metadata": {},
     "output_type": "display_data"
    }
   ],
   "source": [
    "sns.scatterplot(x=x, y=y)\n",
    "_ = plt.plot(xline, yline, c='orange')\n",
    "_ = plt.scatter(x_i, y_i, c='red', marker='o')"
   ]
  },
  {
   "cell_type": "markdown",
   "id": "1b8fa15e",
   "metadata": {},
   "source": [
    "As a second example, using the same simulated \"Alzheimer's drug\" data as the [*Regression in PyTorch* notebook](https://github.com/jonkrohn/ML-foundations/blob/master/notebooks/regression-in-pytorch.ipynb) and several others in the *ML Foundations* series:"
   ]
  },
  {
   "cell_type": "code",
   "execution_count": 13,
   "id": "a62f01ff",
   "metadata": {},
   "outputs": [
    {
     "data": {
      "image/png": "[encoded data removed]",
      "text/plain": [
       "<Figure size 640x480 with 1 Axes>"
      ]
     },
     "metadata": {},
     "output_type": "display_data"
    }
   ],
   "source": [
    "x = np.array([0, 1, 2, 3, 4, 5, 6, 7.])\n",
    "y = np.array([1.86, 1.31, .62, .33, .09, -.67, -1.23, -1.37])\n",
    "\n",
    "sns.scatterplot(x=x, y=y)\n",
    "plt.title(\"Clinical Trial\")\n",
    "plt.xlabel(\"Drug dosage (mL)\")\n",
    "_ = plt.ylabel(\"Forgetfulness\")"
   ]
  },
  {
   "cell_type": "code",
   "execution_count": 14,
   "id": "3a837df1",
   "metadata": {},
   "outputs": [
    {
     "data": {
      "text/plain": [
       "array([[ 6.        , -2.81571429],\n",
       "       [-2.81571429,  1.34362143]])"
      ]
     },
     "execution_count": 14,
     "metadata": {},
     "output_type": "execute_result"
    }
   ],
   "source": [
    "cov_mat = np.cov(x, y)\n",
    "cov_mat"
   ]
  },
  {
   "cell_type": "markdown",
   "id": "e8eceab0",
   "metadata": {},
   "source": [
    "$$ \\hat{\\beta}_1 = \\frac{\\text{cov}(x,y)}{\\sigma^2_x} $$"
   ]
  },
  {
   "cell_type": "code",
   "execution_count": 15,
   "id": "c8b76e41",
   "metadata": {},
   "outputs": [
    {
     "data": {
      "text/plain": [
       "np.float64(-0.4692857142857143)"
      ]
     },
     "execution_count": 15,
     "metadata": {},
     "output_type": "execute_result"
    }
   ],
   "source": [
    "beta_1 = cov_mat[0, 1] / cov_mat[0, 0]\n",
    "beta_1"
   ]
  },
  {
   "cell_type": "markdown",
   "id": "f9ce2135",
   "metadata": {},
   "source": [
    "...and that:\n",
    "$$ \\hat{\\beta}_0 = \\bar{y} - \\hat{\\beta}_1 \\bar{x} $$"
   ]
  },
  {
   "cell_type": "code",
   "execution_count": 16,
   "id": "0d3b4188",
   "metadata": {},
   "outputs": [
    {
     "data": {
      "text/plain": [
       "np.float64(1.76)"
      ]
     },
     "execution_count": 16,
     "metadata": {},
     "output_type": "execute_result"
    }
   ],
   "source": [
    "ybar = np.mean(y)\n",
    "xbar = np.mean(x)\n",
    "beta_0 = ybar - beta_1 * xbar\n",
    "beta_0"
   ]
  },
  {
   "cell_type": "markdown",
   "id": "5d3b70e4",
   "metadata": {},
   "source": [
    "...and, of course, our regression formula:\n",
    "$$ \\hat{y}_i = \\hat{\\beta}_0 + \\hat{\\beta}_1 x_i $$"
   ]
  },
  {
   "cell_type": "code",
   "execution_count": 17,
   "id": "ff6b0b4e",
   "metadata": {},
   "outputs": [],
   "source": [
    "xline = np.linspace(0, 7, 1000)\n",
    "yline = beta_0 + beta_1 * xline"
   ]
  },
  {
   "cell_type": "markdown",
   "id": "a99d4d6c",
   "metadata": {},
   "source": [
    "By administering 4.5mL of the drug, our model predicts a forgetfulness score of -0.35:"
   ]
  },
  {
   "cell_type": "code",
   "execution_count": 18,
   "id": "32edfaec",
   "metadata": {},
   "outputs": [
    {
     "data": {
      "text/plain": [
       "(4.5, np.float64(-0.35178571428571437))"
      ]
     },
     "execution_count": 18,
     "metadata": {},
     "output_type": "execute_result"
    }
   ],
   "source": [
    "x_i = 4.5\n",
    "y_i = beta_0 + beta_1 * x_i\n",
    "x_i, y_i"
   ]
  },
  {
   "cell_type": "code",
   "execution_count": 19,
   "id": "6305c83c",
   "metadata": {},
   "outputs": [
    {
     "data": {
      "image/png": "[encoded data removed]",
      "text/plain": [
       "<Figure size 640x480 with 1 Axes>"
      ]
     },
     "metadata": {},
     "output_type": "display_data"
    }
   ],
   "source": [
    "_ = sns.scatterplot(x=x, y=y)\n",
    "plt.title(\"Clinical Trial\")\n",
    "plt.xlabel(\"Drug dosage (mL)\")\n",
    "plt.ylabel(\"Forgetfulness\")\n",
    "plt.plot(xline, yline, color='orange')\n",
    "_ = plt.scatter(x_i, y_i, marker='o', color='purple')"
   ]
  },
  {
   "cell_type": "markdown",
   "id": "e930889b",
   "metadata": {},
   "source": [
    "**Exercise**: With data from female Adélie penguins, create a linear least squares model that predicts body mass with flipper length. Predict the mass of a female Adélie penguin that has a flipper length of 197mm."
   ]
  },
  {
   "cell_type": "code",
   "execution_count": 20,
   "id": "b46f2b92",
   "metadata": {},
   "outputs": [
    {
     "data": {
      "text/html": [
       "<div>\n",
       "<style scoped>\n",
       "    .dataframe tbody tr th:only-of-type {\n",
       "        vertical-align: middle;\n",
       "    }\n",
       "\n",
       "    .dataframe tbody tr th {\n",
       "        vertical-align: top;\n",
       "    }\n",
       "\n",
       "    .dataframe thead th {\n",
       "        text-align: right;\n",
       "    }\n",
       "</style>\n",
       "<table border=\"1\" class=\"dataframe\">\n",
       "  <thead>\n",
       "    <tr style=\"text-align: right;\">\n",
       "      <th></th>\n",
       "      <th>species</th>\n",
       "      <th>island</th>\n",
       "      <th>bill_length_mm</th>\n",
       "      <th>bill_depth_mm</th>\n",
       "      <th>flipper_length_mm</th>\n",
       "      <th>body_mass_g</th>\n",
       "      <th>sex</th>\n",
       "    </tr>\n",
       "  </thead>\n",
       "  <tbody>\n",
       "    <tr>\n",
       "      <th>0</th>\n",
       "      <td>Adelie</td>\n",
       "      <td>Torgersen</td>\n",
       "      <td>39.1</td>\n",
       "      <td>18.7</td>\n",
       "      <td>181.0</td>\n",
       "      <td>3750.0</td>\n",
       "      <td>Male</td>\n",
       "    </tr>\n",
       "    <tr>\n",
       "      <th>1</th>\n",
       "      <td>Adelie</td>\n",
       "      <td>Torgersen</td>\n",
       "      <td>39.5</td>\n",
       "      <td>17.4</td>\n",
       "      <td>186.0</td>\n",
       "      <td>3800.0</td>\n",
       "      <td>Female</td>\n",
       "    </tr>\n",
       "    <tr>\n",
       "      <th>2</th>\n",
       "      <td>Adelie</td>\n",
       "      <td>Torgersen</td>\n",
       "      <td>40.3</td>\n",
       "      <td>18.0</td>\n",
       "      <td>195.0</td>\n",
       "      <td>3250.0</td>\n",
       "      <td>Female</td>\n",
       "    </tr>\n",
       "    <tr>\n",
       "      <th>3</th>\n",
       "      <td>Adelie</td>\n",
       "      <td>Torgersen</td>\n",
       "      <td>NaN</td>\n",
       "      <td>NaN</td>\n",
       "      <td>NaN</td>\n",
       "      <td>NaN</td>\n",
       "      <td>NaN</td>\n",
       "    </tr>\n",
       "    <tr>\n",
       "      <th>4</th>\n",
       "      <td>Adelie</td>\n",
       "      <td>Torgersen</td>\n",
       "      <td>36.7</td>\n",
       "      <td>19.3</td>\n",
       "      <td>193.0</td>\n",
       "      <td>3450.0</td>\n",
       "      <td>Female</td>\n",
       "    </tr>\n",
       "  </tbody>\n",
       "</table>\n",
       "</div>"
      ],
      "text/plain": [
       "  species     island  bill_length_mm  bill_depth_mm  flipper_length_mm  \\\n",
       "0  Adelie  Torgersen            39.1           18.7              181.0   \n",
       "1  Adelie  Torgersen            39.5           17.4              186.0   \n",
       "2  Adelie  Torgersen            40.3           18.0              195.0   \n",
       "3  Adelie  Torgersen             NaN            NaN                NaN   \n",
       "4  Adelie  Torgersen            36.7           19.3              193.0   \n",
       "\n",
       "   body_mass_g     sex  \n",
       "0       3750.0    Male  \n",
       "1       3800.0  Female  \n",
       "2       3250.0  Female  \n",
       "3          NaN     NaN  \n",
       "4       3450.0  Female  "
      ]
     },
     "execution_count": 20,
     "metadata": {},
     "output_type": "execute_result"
    }
   ],
   "source": [
    "penguins = sns.load_dataset('penguins')\n",
    "penguins.head()"
   ]
  },
  {
   "cell_type": "code",
   "execution_count": 21,
   "id": "26789c87",
   "metadata": {},
   "outputs": [
    {
     "data": {
      "text/html": [
       "<div>\n",
       "<style scoped>\n",
       "    .dataframe tbody tr th:only-of-type {\n",
       "        vertical-align: middle;\n",
       "    }\n",
       "\n",
       "    .dataframe tbody tr th {\n",
       "        vertical-align: top;\n",
       "    }\n",
       "\n",
       "    .dataframe thead th {\n",
       "        text-align: right;\n",
       "    }\n",
       "</style>\n",
       "<table border=\"1\" class=\"dataframe\">\n",
       "  <thead>\n",
       "    <tr style=\"text-align: right;\">\n",
       "      <th></th>\n",
       "      <th>species</th>\n",
       "      <th>island</th>\n",
       "      <th>bill_length_mm</th>\n",
       "      <th>bill_depth_mm</th>\n",
       "      <th>flipper_length_mm</th>\n",
       "      <th>body_mass_g</th>\n",
       "      <th>sex</th>\n",
       "    </tr>\n",
       "  </thead>\n",
       "  <tbody>\n",
       "    <tr>\n",
       "      <th>0</th>\n",
       "      <td>Adelie</td>\n",
       "      <td>Torgersen</td>\n",
       "      <td>39.1</td>\n",
       "      <td>18.7</td>\n",
       "      <td>181.0</td>\n",
       "      <td>3750.0</td>\n",
       "      <td>Male</td>\n",
       "    </tr>\n",
       "    <tr>\n",
       "      <th>1</th>\n",
       "      <td>Adelie</td>\n",
       "      <td>Torgersen</td>\n",
       "      <td>39.5</td>\n",
       "      <td>17.4</td>\n",
       "      <td>186.0</td>\n",
       "      <td>3800.0</td>\n",
       "      <td>Female</td>\n",
       "    </tr>\n",
       "    <tr>\n",
       "      <th>2</th>\n",
       "      <td>Adelie</td>\n",
       "      <td>Torgersen</td>\n",
       "      <td>40.3</td>\n",
       "      <td>18.0</td>\n",
       "      <td>195.0</td>\n",
       "      <td>3250.0</td>\n",
       "      <td>Female</td>\n",
       "    </tr>\n",
       "    <tr>\n",
       "      <th>4</th>\n",
       "      <td>Adelie</td>\n",
       "      <td>Torgersen</td>\n",
       "      <td>36.7</td>\n",
       "      <td>19.3</td>\n",
       "      <td>193.0</td>\n",
       "      <td>3450.0</td>\n",
       "      <td>Female</td>\n",
       "    </tr>\n",
       "    <tr>\n",
       "      <th>5</th>\n",
       "      <td>Adelie</td>\n",
       "      <td>Torgersen</td>\n",
       "      <td>39.3</td>\n",
       "      <td>20.6</td>\n",
       "      <td>190.0</td>\n",
       "      <td>3650.0</td>\n",
       "      <td>Male</td>\n",
       "    </tr>\n",
       "  </tbody>\n",
       "</table>\n",
       "</div>"
      ],
      "text/plain": [
       "  species     island  bill_length_mm  bill_depth_mm  flipper_length_mm  \\\n",
       "0  Adelie  Torgersen            39.1           18.7              181.0   \n",
       "1  Adelie  Torgersen            39.5           17.4              186.0   \n",
       "2  Adelie  Torgersen            40.3           18.0              195.0   \n",
       "4  Adelie  Torgersen            36.7           19.3              193.0   \n",
       "5  Adelie  Torgersen            39.3           20.6              190.0   \n",
       "\n",
       "   body_mass_g     sex  \n",
       "0       3750.0    Male  \n",
       "1       3800.0  Female  \n",
       "2       3250.0  Female  \n",
       "4       3450.0  Female  \n",
       "5       3650.0    Male  "
      ]
     },
     "execution_count": 21,
     "metadata": {},
     "output_type": "execute_result"
    }
   ],
   "source": [
    "adelie = penguins[penguins['species'] == 'Adelie'].dropna()\n",
    "adelie.head()"
   ]
  },
  {
   "cell_type": "code",
   "execution_count": 22,
   "id": "07b2e182",
   "metadata": {},
   "outputs": [
    {
     "data": {
      "text/plain": [
       "1022"
      ]
     },
     "execution_count": 22,
     "metadata": {},
     "output_type": "execute_result"
    }
   ],
   "source": [
    "adelie.size"
   ]
  },
  {
   "cell_type": "code",
   "execution_count": 23,
   "id": "1161b9ba",
   "metadata": {},
   "outputs": [
    {
     "data": {
      "text/html": [
       "<div>\n",
       "<style scoped>\n",
       "    .dataframe tbody tr th:only-of-type {\n",
       "        vertical-align: middle;\n",
       "    }\n",
       "\n",
       "    .dataframe tbody tr th {\n",
       "        vertical-align: top;\n",
       "    }\n",
       "\n",
       "    .dataframe thead th {\n",
       "        text-align: right;\n",
       "    }\n",
       "</style>\n",
       "<table border=\"1\" class=\"dataframe\">\n",
       "  <thead>\n",
       "    <tr style=\"text-align: right;\">\n",
       "      <th></th>\n",
       "      <th>species</th>\n",
       "      <th>island</th>\n",
       "      <th>bill_length_mm</th>\n",
       "      <th>bill_depth_mm</th>\n",
       "      <th>flipper_length_mm</th>\n",
       "      <th>body_mass_g</th>\n",
       "      <th>sex</th>\n",
       "      <th>body_mass_kg</th>\n",
       "    </tr>\n",
       "  </thead>\n",
       "  <tbody>\n",
       "    <tr>\n",
       "      <th>0</th>\n",
       "      <td>Adelie</td>\n",
       "      <td>Torgersen</td>\n",
       "      <td>39.1</td>\n",
       "      <td>18.7</td>\n",
       "      <td>181.0</td>\n",
       "      <td>3750.0</td>\n",
       "      <td>Male</td>\n",
       "      <td>3.75</td>\n",
       "    </tr>\n",
       "    <tr>\n",
       "      <th>1</th>\n",
       "      <td>Adelie</td>\n",
       "      <td>Torgersen</td>\n",
       "      <td>39.5</td>\n",
       "      <td>17.4</td>\n",
       "      <td>186.0</td>\n",
       "      <td>3800.0</td>\n",
       "      <td>Female</td>\n",
       "      <td>3.80</td>\n",
       "    </tr>\n",
       "    <tr>\n",
       "      <th>2</th>\n",
       "      <td>Adelie</td>\n",
       "      <td>Torgersen</td>\n",
       "      <td>40.3</td>\n",
       "      <td>18.0</td>\n",
       "      <td>195.0</td>\n",
       "      <td>3250.0</td>\n",
       "      <td>Female</td>\n",
       "      <td>3.25</td>\n",
       "    </tr>\n",
       "    <tr>\n",
       "      <th>4</th>\n",
       "      <td>Adelie</td>\n",
       "      <td>Torgersen</td>\n",
       "      <td>36.7</td>\n",
       "      <td>19.3</td>\n",
       "      <td>193.0</td>\n",
       "      <td>3450.0</td>\n",
       "      <td>Female</td>\n",
       "      <td>3.45</td>\n",
       "    </tr>\n",
       "    <tr>\n",
       "      <th>5</th>\n",
       "      <td>Adelie</td>\n",
       "      <td>Torgersen</td>\n",
       "      <td>39.3</td>\n",
       "      <td>20.6</td>\n",
       "      <td>190.0</td>\n",
       "      <td>3650.0</td>\n",
       "      <td>Male</td>\n",
       "      <td>3.65</td>\n",
       "    </tr>\n",
       "  </tbody>\n",
       "</table>\n",
       "</div>"
      ],
      "text/plain": [
       "  species     island  bill_length_mm  bill_depth_mm  flipper_length_mm  \\\n",
       "0  Adelie  Torgersen            39.1           18.7              181.0   \n",
       "1  Adelie  Torgersen            39.5           17.4              186.0   \n",
       "2  Adelie  Torgersen            40.3           18.0              195.0   \n",
       "4  Adelie  Torgersen            36.7           19.3              193.0   \n",
       "5  Adelie  Torgersen            39.3           20.6              190.0   \n",
       "\n",
       "   body_mass_g     sex  body_mass_kg  \n",
       "0       3750.0    Male          3.75  \n",
       "1       3800.0  Female          3.80  \n",
       "2       3250.0  Female          3.25  \n",
       "4       3450.0  Female          3.45  \n",
       "5       3650.0    Male          3.65  "
      ]
     },
     "execution_count": 23,
     "metadata": {},
     "output_type": "execute_result"
    }
   ],
   "source": [
    "adelie[\"body_mass_kg\"] = adelie[\"body_mass_g\"] / 1000\n",
    "adelie.head()"
   ]
  },
  {
   "cell_type": "code",
   "execution_count": 24,
   "id": "a7c455b8",
   "metadata": {},
   "outputs": [
    {
     "data": {
      "text/plain": [
       "<Axes: >"
      ]
     },
     "execution_count": 24,
     "metadata": {},
     "output_type": "execute_result"
    },
    {
     "data": {
      "image/png": "[encoded data removed]",
      "text/plain": [
       "<Figure size 640x480 with 1 Axes>"
      ]
     },
     "metadata": {},
     "output_type": "display_data"
    }
   ],
   "source": [
    "x = adelie[adelie[\"sex\"] == \"Female\"]['flipper_length_mm'].to_numpy()\n",
    "y = adelie[adelie[\"sex\"] == \"Female\"]['body_mass_kg'].to_numpy()\n",
    "\n",
    "sns.scatterplot(x=x, y=y)"
   ]
  },
  {
   "cell_type": "code",
   "execution_count": 25,
   "id": "a68bb441",
   "metadata": {},
   "outputs": [
    {
     "data": {
      "text/plain": [
       "array([[31.304414  ,  0.3962852 ],\n",
       "       [ 0.3962852 ,  0.07256564]])"
      ]
     },
     "execution_count": 25,
     "metadata": {},
     "output_type": "execute_result"
    }
   ],
   "source": [
    "cov_mat = np.cov(x, y)\n",
    "cov_mat"
   ]
  },
  {
   "cell_type": "markdown",
   "id": "4c7b411e",
   "metadata": {},
   "source": [
    "Finding Beta 1:\n",
    "$$ \\hat{\\beta}_1 = \\frac{\\text{cov}(x,y)}{\\sigma^2_x} $$"
   ]
  },
  {
   "cell_type": "code",
   "execution_count": 26,
   "id": "e7be1611",
   "metadata": {},
   "outputs": [
    {
     "data": {
      "text/plain": [
       "np.float64(0.012659083726357767)"
      ]
     },
     "execution_count": 26,
     "metadata": {},
     "output_type": "execute_result"
    }
   ],
   "source": [
    "beta_1 = cov_mat[0, 1] / cov_mat[0, 0]\n",
    "beta_1"
   ]
  },
  {
   "cell_type": "markdown",
   "id": "3d5808dc",
   "metadata": {},
   "source": [
    "...and that:\n",
    "$$ \\hat{\\beta}_0 = \\bar{y} - \\hat{\\beta}_1 \\bar{x} $$"
   ]
  },
  {
   "cell_type": "code",
   "execution_count": 27,
   "id": "9dc4f417",
   "metadata": {},
   "outputs": [
    {
     "data": {
      "text/plain": [
       "np.float64(0.9915290574707036)"
      ]
     },
     "execution_count": 27,
     "metadata": {},
     "output_type": "execute_result"
    }
   ],
   "source": [
    "beta_0 = np.mean(y) - beta_1 * np.mean(x)\n",
    "beta_0"
   ]
  },
  {
   "cell_type": "markdown",
   "id": "d21e5b82",
   "metadata": {},
   "source": [
    "...and, of course, our regression formula:\n",
    "$$ \\hat{y}_i = \\hat{\\beta}_0 + \\hat{\\beta}_1 x_i $$"
   ]
  },
  {
   "cell_type": "code",
   "execution_count": 28,
   "id": "2bbfddfa",
   "metadata": {},
   "outputs": [],
   "source": [
    "xline = np.linspace(170, 205, 1000)\n",
    "yline = beta_0 + beta_1 * xline"
   ]
  },
  {
   "cell_type": "markdown",
   "id": "f4743d11",
   "metadata": {},
   "source": [
    "To Predict the mass of a female Adélie penguin that has a flipper length of 197mm"
   ]
  },
  {
   "cell_type": "code",
   "execution_count": 29,
   "id": "d00e866e",
   "metadata": {},
   "outputs": [
    {
     "data": {
      "text/plain": [
       "(197, np.float64(3.485368551563184))"
      ]
     },
     "execution_count": 29,
     "metadata": {},
     "output_type": "execute_result"
    }
   ],
   "source": [
    "x_i = 197\n",
    "y_i = beta_0 + beta_1 * x_i\n",
    "x_i, y_i"
   ]
  },
  {
   "cell_type": "code",
   "execution_count": 30,
   "id": "9a3a8569",
   "metadata": {},
   "outputs": [
    {
     "data": {
      "image/png": "[encoded data removed]",
      "text/plain": [
       "<Figure size 640x480 with 1 Axes>"
      ]
     },
     "metadata": {},
     "output_type": "display_data"
    }
   ],
   "source": [
    "_ = sns.scatterplot(x=x, y=y)\n",
    "plt.title(\"Flipper length vs body mass\")\n",
    "plt.xlabel(\"Adelie flipper length (mm)\")\n",
    "plt.ylabel(\"Adelie body mass (kg)\")\n",
    "plt.plot(xline, yline, color='orange')\n",
    "_ = plt.scatter(x_i, y_i, marker='o', color='purple')"
   ]
  },
  {
   "cell_type": "markdown",
   "id": "35ea917a",
   "metadata": {},
   "source": [
    "## Ordinary least squares (OLS)\n",
    "\n",
    "**Ordinary least squares** (OLS) is a linear least squares method we can use to estimate the parameters of regression models that have more than one predictor variable, e.g.:\n",
    "\n",
    "$$ y = \\beta_0 + \\beta_1 x_1 + \\beta_2 x_2 + \\beta_3 x_3 + \\epsilon $$\n",
    "\n",
    "Generalizing to $m$ predictors:\n",
    "$$ y = \\beta_0 + \\sum_{j=1}^m \\beta_j x_j + \\epsilon $$\n",
    "\n",
    "To keep the calculations as simple as possible, however, for now we'll stick with a single predictor $x$ (in an example adapted from [here](https://en.wikipedia.org/wiki/Linear_least_squares#Example)):"
   ]
  },
  {
   "cell_type": "code",
   "execution_count": 32,
   "id": "c687955b",
   "metadata": {},
   "outputs": [
    {
     "data": {
      "image/png": "[encoded data removed]",
      "text/plain": [
       "<Figure size 640x480 with 1 Axes>"
      ]
     },
     "metadata": {},
     "output_type": "display_data"
    }
   ],
   "source": [
    "x = np.array([1, 2, 3, 4.])\n",
    "y = np.array([6, 5, 7, 10.])\n",
    "\n",
    "sns.set_style('whitegrid')\n",
    "\n",
    "fig, ax = plt.subplots()\n",
    "plt.title('Generative Adversarial Network')\n",
    "plt.xlabel('Number of convolutional layers')\n",
    "plt.ylabel('Image realism (out of 10)')\n",
    "_ = ax.scatter(x, y)"
   ]
  },
  {
   "cell_type": "markdown",
   "id": "0fcd99d8",
   "metadata": {},
   "source": [
    "As is typical in regression model-fitting, we have an *overdetermined* system of linear algebra equations. From the general regression equation $y = \\beta_0 + \\beta_1 x$, we have four equations (one for each instance $i$) with the two unknown parameters $\\beta_0$ and $\\beta_1$ shared across the system.\n",
    "$$ 6 = \\beta_0 + \\beta_1 $$\n",
    "$$ 5 = \\beta_0 + 2\\beta_1 $$\n",
    "$$ 7 = \\beta_0 + 3\\beta_1 $$\n",
    "$$ 10 = \\beta_0 + 4\\beta_1 $$"
   ]
  },
  {
   "cell_type": "markdown",
   "id": "e9b8a293",
   "metadata": {},
   "source": [
    "Since we have more equations than unknowns, we can't solve for the parameters through algebraic rearraging. We can, however, estimate parameters that approximately solve all of the equations with the *Moore-Penrose Pseudoinverse* (from [*Linear Algebra II*](https://github.com/jonkrohn/ML-foundations/blob/master/notebooks/2-linear-algebra-ii.ipynb)) or we could use partial-derivative calculus as we'll use here. Either way, with the OLS approach, our objective is to minimize the \"sum of squared errors\" (SSE).\n",
    "\n",
    "The squared error (a.k.a. quadratic cost, from *Calc II*) for a given instance $i$ is $(\\hat{y}_i-y_i)^2$.\n",
    "\n",
    "The SSE over $n$ instances is then:\n",
    "$$ \\sum_{i=1}^n (\\hat{y}_i-y_i)^2 $$"
   ]
  },
  {
   "cell_type": "markdown",
   "id": "f3ce7ebe",
   "metadata": {},
   "source": [
    "In this case, where $\\hat{y}_i = \\beta_0 + \\beta_1 x_i$, we can define the SSE function as:\n",
    "$$ S(\\beta_0, \\beta_1) = \\sum_{i=1}^n (\\beta_0 + \\beta_1 x_i - y_i)^2 $$"
   ]
  },
  {
   "cell_type": "markdown",
   "id": "199b29ce",
   "metadata": {},
   "source": [
    "Then (rather laboriously) expanding out the squares and simplifying the result by combining like terms:\n",
    "$$ S(\\beta_0, \\beta_1) = 4\\beta_0^2 + 30\\beta_1^2 + 20\\beta_0\\beta_1 - 56\\beta_0 - 154\\beta_1 + 210 $$\n",
    "\n",
    "To minimize SSE, we can now use partial derivatives. Specifically, to find where there is no slope of $S(\\beta_0, \\beta_1)$ with respect to $\\beta_0$:\n",
    "$$ \\frac{\\partial S}{\\partial \\beta_0} = 8\\beta_0 + 20\\beta_1 - 56 = 0 $$\n",
    "...and $\\beta_1$:\n",
    "$$ \\frac{\\partial S}{\\partial \\beta_1} = 20\\beta_0 + 60\\beta_1 - 154 = 0 $$\n",
    "\n",
    "Rearranging, we obtain a system of two linear equations called the **normal equations** (however many parameters are in the model is how many rows of equations we'll have in the system):\n",
    "$$ 8\\beta_0 + 20\\beta_1 = 56 $$\n",
    "$$ 20\\beta_0 + 60\\beta_1 = 154 $$\n",
    "\n",
    "A handy numerical approach for solving for $\\beta_0$ and $\\beta_1$ is matrix inversion (which we covered in detail toward the end of the [*Intro to Linear Algebra* notebook](https://github.com/jonkrohn/ML-foundations/blob/master/notebooks/1-intro-to-linear-algebra.ipynb)).\n",
    "\n",
    "To avoid confusion with with the broader $x$ (number of GAN conv layers) and $y$ variables (image realism), let's use $A$ for the matrix of \"inputs\" and $z$ for the vector of \"outputs\", with the vector $w$ containing the unknown weights $\\beta_0$ and $\\beta_1$:\n",
    "$$ Aw = z $$"
   ]
  },
  {
   "cell_type": "code",
   "execution_count": 33,
   "id": "275396aa",
   "metadata": {},
   "outputs": [
    {
     "data": {
      "text/plain": [
       "array([[ 8, 20],\n",
       "       [20, 60]])"
      ]
     },
     "execution_count": 33,
     "metadata": {},
     "output_type": "execute_result"
    }
   ],
   "source": [
    "A = np.array([[8, 20],[20, 60]])\n",
    "A"
   ]
  },
  {
   "cell_type": "code",
   "execution_count": 35,
   "id": "9fe3ed41",
   "metadata": {},
   "outputs": [
    {
     "data": {
      "text/plain": [
       "array([ 56, 154])"
      ]
     },
     "execution_count": 35,
     "metadata": {},
     "output_type": "execute_result"
    }
   ],
   "source": [
    "z = np.array([56, 154])\n",
    "z"
   ]
  },
  {
   "cell_type": "markdown",
   "id": "95b78504",
   "metadata": {},
   "source": [
    "To solve for $w$, we can invert $A$ (assuming $A$ is not singular; i.e., all of its columns are independent):\n",
    "$$ w = A^{-1}z $$"
   ]
  },
  {
   "cell_type": "code",
   "execution_count": 36,
   "id": "b276775e",
   "metadata": {},
   "outputs": [
    {
     "data": {
      "text/plain": [
       "array([[ 0.75, -0.25],\n",
       "       [-0.25,  0.1 ]])"
      ]
     },
     "execution_count": 36,
     "metadata": {},
     "output_type": "execute_result"
    }
   ],
   "source": [
    "Ainv = np.linalg.inv(A)\n",
    "Ainv"
   ]
  },
  {
   "cell_type": "code",
   "execution_count": 37,
   "id": "7238f43c",
   "metadata": {},
   "outputs": [
    {
     "data": {
      "text/plain": [
       "array([3.5, 1.4])"
      ]
     },
     "execution_count": 37,
     "metadata": {},
     "output_type": "execute_result"
    }
   ],
   "source": [
    "w = np.dot(Ainv, z)\n",
    "w"
   ]
  },
  {
   "cell_type": "markdown",
   "id": "0a7b9ec2",
   "metadata": {},
   "source": [
    "Thus, the line that minimizes the squared error across all four equations has the parameters $\\hat{\\beta}_0 = 3.5$ and $\\hat{\\beta}_1 = 1.4$:\n",
    "$$ \\hat{y} = 3.5 + 1.4 x $$"
   ]
  },
  {
   "cell_type": "code",
   "execution_count": 38,
   "id": "dd893f6a",
   "metadata": {},
   "outputs": [],
   "source": [
    "xline = np.linspace(1, 4, 1000)\n",
    "yline = w[0] + w[1]*xline"
   ]
  },
  {
   "cell_type": "code",
   "execution_count": 39,
   "id": "fb5a023c",
   "metadata": {},
   "outputs": [
    {
     "data": {
      "image/png": "[encoded data removed]",
      "text/plain": [
       "<Figure size 640x480 with 1 Axes>"
      ]
     },
     "metadata": {},
     "output_type": "display_data"
    }
   ],
   "source": [
    "fig, ax = plt.subplots()\n",
    "plt.title('Generative Adversarial Network')\n",
    "plt.xlabel('Number of convolutional layers')\n",
    "plt.ylabel('Image realism (out of 10)')\n",
    "ax.scatter(x, y)\n",
    "_ = plt.plot(xline, yline, color='orange')"
   ]
  },
  {
   "cell_type": "markdown",
   "id": "1baf8bcd",
   "metadata": {},
   "source": [
    "For fun, following the linear algebra in the slides, we could output $\\hat{y}$ across all the instances $i$:\n",
    "$$ \\hat{y} = Xw $$"
   ]
  },
  {
   "cell_type": "code",
   "execution_count": 40,
   "id": "f5eb2570",
   "metadata": {},
   "outputs": [
    {
     "data": {
      "text/plain": [
       "matrix([[1., 1.],\n",
       "        [1., 2.],\n",
       "        [1., 3.],\n",
       "        [1., 4.]])"
      ]
     },
     "execution_count": 40,
     "metadata": {},
     "output_type": "execute_result"
    }
   ],
   "source": [
    "X = np.concatenate([np.matrix(np.ones(x.size)).T, np.matrix(x).T], axis=1)\n",
    "X"
   ]
  },
  {
   "cell_type": "code",
   "execution_count": 41,
   "id": "7589c03b",
   "metadata": {},
   "outputs": [
    {
     "data": {
      "text/plain": [
       "matrix([[4.9, 6.3, 7.7, 9.1]])"
      ]
     },
     "execution_count": 41,
     "metadata": {},
     "output_type": "execute_result"
    }
   ],
   "source": [
    "yhat = np.dot(X, w)\n",
    "yhat"
   ]
  },
  {
   "cell_type": "markdown",
   "id": "2879fcf9",
   "metadata": {},
   "source": [
    "Incidentally, **residuals** are the distances between $\\hat{y}_i$ and $y_i$:"
   ]
  },
  {
   "cell_type": "code",
   "execution_count": 42,
   "id": "0fe11787",
   "metadata": {},
   "outputs": [
    {
     "data": {
      "image/png": "[encoded data removed]",
      "text/plain": [
       "<Figure size 640x480 with 1 Axes>"
      ]
     },
     "metadata": {},
     "output_type": "display_data"
    }
   ],
   "source": [
    "fig, ax = plt.subplots()\n",
    "plt.title('Generative Adversarial Network')\n",
    "plt.xlabel('Number of convolutional layers')\n",
    "plt.ylabel('Image realism (out of 10)')\n",
    "ax.scatter(x, y)\n",
    "_ = plt.plot(xline, yline, color='orange')\n",
    "for i in range(x.size):\n",
    "    plt.plot([x[i],x[i]], [y[i],yhat[0,i]], color='darkred')"
   ]
  },
  {
   "cell_type": "markdown",
   "id": "c908bf35",
   "metadata": {},
   "source": [
    "The square of these residuals is what we minimize with SSE in OLS regression.\n",
    "\n",
    "The above OLS approach expands to a wide variety of circumstances:\n",
    "\n",
    "* Multiple features ($x$, the predictors)\n",
    "* Polynomial (typically quadratic) features, e.g., $y = \\beta_0 + \\beta_1 x + \\beta_2 x^2$\n",
    "* Interacting features, e.g., $y = \\beta_0 + \\beta_1 x_1 + \\beta_2 x_2 + \\beta_3 x_1 x_2$\n",
    "* Discrete, categorical features, incl. any combination of continuous and discrete features\n",
    "\n",
    "As an example of the latter..."
   ]
  },
  {
   "cell_type": "code",
   "execution_count": 43,
   "id": "36362396",
   "metadata": {},
   "outputs": [
    {
     "data": {
      "text/html": [
       "<div>\n",
       "<style scoped>\n",
       "    .dataframe tbody tr th:only-of-type {\n",
       "        vertical-align: middle;\n",
       "    }\n",
       "\n",
       "    .dataframe tbody tr th {\n",
       "        vertical-align: top;\n",
       "    }\n",
       "\n",
       "    .dataframe thead th {\n",
       "        text-align: right;\n",
       "    }\n",
       "</style>\n",
       "<table border=\"1\" class=\"dataframe\">\n",
       "  <thead>\n",
       "    <tr style=\"text-align: right;\">\n",
       "      <th></th>\n",
       "      <th>sepal_length</th>\n",
       "      <th>sepal_width</th>\n",
       "      <th>petal_length</th>\n",
       "      <th>petal_width</th>\n",
       "      <th>species</th>\n",
       "    </tr>\n",
       "  </thead>\n",
       "  <tbody>\n",
       "    <tr>\n",
       "      <th>0</th>\n",
       "      <td>5.1</td>\n",
       "      <td>3.5</td>\n",
       "      <td>1.4</td>\n",
       "      <td>0.2</td>\n",
       "      <td>setosa</td>\n",
       "    </tr>\n",
       "    <tr>\n",
       "      <th>1</th>\n",
       "      <td>4.9</td>\n",
       "      <td>3.0</td>\n",
       "      <td>1.4</td>\n",
       "      <td>0.2</td>\n",
       "      <td>setosa</td>\n",
       "    </tr>\n",
       "    <tr>\n",
       "      <th>2</th>\n",
       "      <td>4.7</td>\n",
       "      <td>3.2</td>\n",
       "      <td>1.3</td>\n",
       "      <td>0.2</td>\n",
       "      <td>setosa</td>\n",
       "    </tr>\n",
       "    <tr>\n",
       "      <th>3</th>\n",
       "      <td>4.6</td>\n",
       "      <td>3.1</td>\n",
       "      <td>1.5</td>\n",
       "      <td>0.2</td>\n",
       "      <td>setosa</td>\n",
       "    </tr>\n",
       "    <tr>\n",
       "      <th>4</th>\n",
       "      <td>5.0</td>\n",
       "      <td>3.6</td>\n",
       "      <td>1.4</td>\n",
       "      <td>0.2</td>\n",
       "      <td>setosa</td>\n",
       "    </tr>\n",
       "  </tbody>\n",
       "</table>\n",
       "</div>"
      ],
      "text/plain": [
       "   sepal_length  sepal_width  petal_length  petal_width species\n",
       "0           5.1          3.5           1.4          0.2  setosa\n",
       "1           4.9          3.0           1.4          0.2  setosa\n",
       "2           4.7          3.2           1.3          0.2  setosa\n",
       "3           4.6          3.1           1.5          0.2  setosa\n",
       "4           5.0          3.6           1.4          0.2  setosa"
      ]
     },
     "execution_count": 43,
     "metadata": {},
     "output_type": "execute_result"
    }
   ],
   "source": [
    "iris = sns.load_dataset('iris')\n",
    "iris.head()"
   ]
  },
  {
   "cell_type": "code",
   "execution_count": 44,
   "id": "6c16fab6",
   "metadata": {},
   "outputs": [
    {
     "data": {
      "image/png": "[encoded data removed]",
      "text/plain": [
       "<Figure size 640x480 with 1 Axes>"
      ]
     },
     "metadata": {},
     "output_type": "display_data"
    }
   ],
   "source": [
    "sns.set_style('darkgrid')\n",
    "_ = sns.scatterplot(x='sepal_length', y='petal_length', hue='species', data=iris)"
   ]
  },
  {
   "cell_type": "code",
   "execution_count": 45,
   "id": "37c0bf51",
   "metadata": {},
   "outputs": [],
   "source": [
    "import pandas as pd"
   ]
  },
  {
   "cell_type": "code",
   "execution_count": 46,
   "id": "0c3e4675",
   "metadata": {},
   "outputs": [
    {
     "data": {
      "text/html": [
       "<div>\n",
       "<style scoped>\n",
       "    .dataframe tbody tr th:only-of-type {\n",
       "        vertical-align: middle;\n",
       "    }\n",
       "\n",
       "    .dataframe tbody tr th {\n",
       "        vertical-align: top;\n",
       "    }\n",
       "\n",
       "    .dataframe thead th {\n",
       "        text-align: right;\n",
       "    }\n",
       "</style>\n",
       "<table border=\"1\" class=\"dataframe\">\n",
       "  <thead>\n",
       "    <tr style=\"text-align: right;\">\n",
       "      <th></th>\n",
       "      <th>setosa</th>\n",
       "      <th>versicolor</th>\n",
       "      <th>virginica</th>\n",
       "    </tr>\n",
       "  </thead>\n",
       "  <tbody>\n",
       "    <tr>\n",
       "      <th>0</th>\n",
       "      <td>1</td>\n",
       "      <td>0</td>\n",
       "      <td>0</td>\n",
       "    </tr>\n",
       "    <tr>\n",
       "      <th>1</th>\n",
       "      <td>1</td>\n",
       "      <td>0</td>\n",
       "      <td>0</td>\n",
       "    </tr>\n",
       "    <tr>\n",
       "      <th>2</th>\n",
       "      <td>1</td>\n",
       "      <td>0</td>\n",
       "      <td>0</td>\n",
       "    </tr>\n",
       "    <tr>\n",
       "      <th>3</th>\n",
       "      <td>1</td>\n",
       "      <td>0</td>\n",
       "      <td>0</td>\n",
       "    </tr>\n",
       "    <tr>\n",
       "      <th>4</th>\n",
       "      <td>1</td>\n",
       "      <td>0</td>\n",
       "      <td>0</td>\n",
       "    </tr>\n",
       "    <tr>\n",
       "      <th>...</th>\n",
       "      <td>...</td>\n",
       "      <td>...</td>\n",
       "      <td>...</td>\n",
       "    </tr>\n",
       "    <tr>\n",
       "      <th>145</th>\n",
       "      <td>0</td>\n",
       "      <td>0</td>\n",
       "      <td>1</td>\n",
       "    </tr>\n",
       "    <tr>\n",
       "      <th>146</th>\n",
       "      <td>0</td>\n",
       "      <td>0</td>\n",
       "      <td>1</td>\n",
       "    </tr>\n",
       "    <tr>\n",
       "      <th>147</th>\n",
       "      <td>0</td>\n",
       "      <td>0</td>\n",
       "      <td>1</td>\n",
       "    </tr>\n",
       "    <tr>\n",
       "      <th>148</th>\n",
       "      <td>0</td>\n",
       "      <td>0</td>\n",
       "      <td>1</td>\n",
       "    </tr>\n",
       "    <tr>\n",
       "      <th>149</th>\n",
       "      <td>0</td>\n",
       "      <td>0</td>\n",
       "      <td>1</td>\n",
       "    </tr>\n",
       "  </tbody>\n",
       "</table>\n",
       "<p>150 rows × 3 columns</p>\n",
       "</div>"
      ],
      "text/plain": [
       "     setosa  versicolor  virginica\n",
       "0         1           0          0\n",
       "1         1           0          0\n",
       "2         1           0          0\n",
       "3         1           0          0\n",
       "4         1           0          0\n",
       "..      ...         ...        ...\n",
       "145       0           0          1\n",
       "146       0           0          1\n",
       "147       0           0          1\n",
       "148       0           0          1\n",
       "149       0           0          1\n",
       "\n",
       "[150 rows x 3 columns]"
      ]
     },
     "execution_count": 46,
     "metadata": {},
     "output_type": "execute_result"
    }
   ],
   "source": [
    "dummy = pd.get_dummies(iris.species, dtype = 'int64') # int64 dtype required to avoid ValueError when calling sm.OLS() below\n",
    "dummy"
   ]
  },
  {
   "cell_type": "code",
   "execution_count": 47,
   "id": "775d441c",
   "metadata": {},
   "outputs": [],
   "source": [
    "y = iris.petal_length"
   ]
  },
  {
   "cell_type": "code",
   "execution_count": 48,
   "id": "49b20b68",
   "metadata": {},
   "outputs": [
    {
     "data": {
      "text/html": [
       "<div>\n",
       "<style scoped>\n",
       "    .dataframe tbody tr th:only-of-type {\n",
       "        vertical-align: middle;\n",
       "    }\n",
       "\n",
       "    .dataframe tbody tr th {\n",
       "        vertical-align: top;\n",
       "    }\n",
       "\n",
       "    .dataframe thead th {\n",
       "        text-align: right;\n",
       "    }\n",
       "</style>\n",
       "<table border=\"1\" class=\"dataframe\">\n",
       "  <thead>\n",
       "    <tr style=\"text-align: right;\">\n",
       "      <th></th>\n",
       "      <th>sepal_length</th>\n",
       "      <th>setosa</th>\n",
       "      <th>versicolor</th>\n",
       "    </tr>\n",
       "  </thead>\n",
       "  <tbody>\n",
       "    <tr>\n",
       "      <th>0</th>\n",
       "      <td>5.1</td>\n",
       "      <td>1</td>\n",
       "      <td>0</td>\n",
       "    </tr>\n",
       "    <tr>\n",
       "      <th>1</th>\n",
       "      <td>4.9</td>\n",
       "      <td>1</td>\n",
       "      <td>0</td>\n",
       "    </tr>\n",
       "    <tr>\n",
       "      <th>2</th>\n",
       "      <td>4.7</td>\n",
       "      <td>1</td>\n",
       "      <td>0</td>\n",
       "    </tr>\n",
       "    <tr>\n",
       "      <th>3</th>\n",
       "      <td>4.6</td>\n",
       "      <td>1</td>\n",
       "      <td>0</td>\n",
       "    </tr>\n",
       "    <tr>\n",
       "      <th>4</th>\n",
       "      <td>5.0</td>\n",
       "      <td>1</td>\n",
       "      <td>0</td>\n",
       "    </tr>\n",
       "    <tr>\n",
       "      <th>...</th>\n",
       "      <td>...</td>\n",
       "      <td>...</td>\n",
       "      <td>...</td>\n",
       "    </tr>\n",
       "    <tr>\n",
       "      <th>145</th>\n",
       "      <td>6.7</td>\n",
       "      <td>0</td>\n",
       "      <td>0</td>\n",
       "    </tr>\n",
       "    <tr>\n",
       "      <th>146</th>\n",
       "      <td>6.3</td>\n",
       "      <td>0</td>\n",
       "      <td>0</td>\n",
       "    </tr>\n",
       "    <tr>\n",
       "      <th>147</th>\n",
       "      <td>6.5</td>\n",
       "      <td>0</td>\n",
       "      <td>0</td>\n",
       "    </tr>\n",
       "    <tr>\n",
       "      <th>148</th>\n",
       "      <td>6.2</td>\n",
       "      <td>0</td>\n",
       "      <td>0</td>\n",
       "    </tr>\n",
       "    <tr>\n",
       "      <th>149</th>\n",
       "      <td>5.9</td>\n",
       "      <td>0</td>\n",
       "      <td>0</td>\n",
       "    </tr>\n",
       "  </tbody>\n",
       "</table>\n",
       "<p>150 rows × 3 columns</p>\n",
       "</div>"
      ],
      "text/plain": [
       "     sepal_length  setosa  versicolor\n",
       "0             5.1       1           0\n",
       "1             4.9       1           0\n",
       "2             4.7       1           0\n",
       "3             4.6       1           0\n",
       "4             5.0       1           0\n",
       "..            ...     ...         ...\n",
       "145           6.7       0           0\n",
       "146           6.3       0           0\n",
       "147           6.5       0           0\n",
       "148           6.2       0           0\n",
       "149           5.9       0           0\n",
       "\n",
       "[150 rows x 3 columns]"
      ]
     },
     "execution_count": 48,
     "metadata": {},
     "output_type": "execute_result"
    }
   ],
   "source": [
    "X = pd.concat([iris.sepal_length, dummy.setosa, dummy.versicolor], axis=1)\n",
    "X # virginia as \"baseline\" where setosa and versicolor are both 0"
   ]
  },
  {
   "cell_type": "code",
   "execution_count": 49,
   "id": "59e56fd0",
   "metadata": {},
   "outputs": [
    {
     "data": {
      "text/html": [
       "<div>\n",
       "<style scoped>\n",
       "    .dataframe tbody tr th:only-of-type {\n",
       "        vertical-align: middle;\n",
       "    }\n",
       "\n",
       "    .dataframe tbody tr th {\n",
       "        vertical-align: top;\n",
       "    }\n",
       "\n",
       "    .dataframe thead th {\n",
       "        text-align: right;\n",
       "    }\n",
       "</style>\n",
       "<table border=\"1\" class=\"dataframe\">\n",
       "  <thead>\n",
       "    <tr style=\"text-align: right;\">\n",
       "      <th></th>\n",
       "      <th>const</th>\n",
       "      <th>sepal_length</th>\n",
       "      <th>setosa</th>\n",
       "      <th>versicolor</th>\n",
       "    </tr>\n",
       "  </thead>\n",
       "  <tbody>\n",
       "    <tr>\n",
       "      <th>0</th>\n",
       "      <td>1.0</td>\n",
       "      <td>5.1</td>\n",
       "      <td>1</td>\n",
       "      <td>0</td>\n",
       "    </tr>\n",
       "    <tr>\n",
       "      <th>1</th>\n",
       "      <td>1.0</td>\n",
       "      <td>4.9</td>\n",
       "      <td>1</td>\n",
       "      <td>0</td>\n",
       "    </tr>\n",
       "    <tr>\n",
       "      <th>2</th>\n",
       "      <td>1.0</td>\n",
       "      <td>4.7</td>\n",
       "      <td>1</td>\n",
       "      <td>0</td>\n",
       "    </tr>\n",
       "    <tr>\n",
       "      <th>3</th>\n",
       "      <td>1.0</td>\n",
       "      <td>4.6</td>\n",
       "      <td>1</td>\n",
       "      <td>0</td>\n",
       "    </tr>\n",
       "    <tr>\n",
       "      <th>4</th>\n",
       "      <td>1.0</td>\n",
       "      <td>5.0</td>\n",
       "      <td>1</td>\n",
       "      <td>0</td>\n",
       "    </tr>\n",
       "    <tr>\n",
       "      <th>...</th>\n",
       "      <td>...</td>\n",
       "      <td>...</td>\n",
       "      <td>...</td>\n",
       "      <td>...</td>\n",
       "    </tr>\n",
       "    <tr>\n",
       "      <th>145</th>\n",
       "      <td>1.0</td>\n",
       "      <td>6.7</td>\n",
       "      <td>0</td>\n",
       "      <td>0</td>\n",
       "    </tr>\n",
       "    <tr>\n",
       "      <th>146</th>\n",
       "      <td>1.0</td>\n",
       "      <td>6.3</td>\n",
       "      <td>0</td>\n",
       "      <td>0</td>\n",
       "    </tr>\n",
       "    <tr>\n",
       "      <th>147</th>\n",
       "      <td>1.0</td>\n",
       "      <td>6.5</td>\n",
       "      <td>0</td>\n",
       "      <td>0</td>\n",
       "    </tr>\n",
       "    <tr>\n",
       "      <th>148</th>\n",
       "      <td>1.0</td>\n",
       "      <td>6.2</td>\n",
       "      <td>0</td>\n",
       "      <td>0</td>\n",
       "    </tr>\n",
       "    <tr>\n",
       "      <th>149</th>\n",
       "      <td>1.0</td>\n",
       "      <td>5.9</td>\n",
       "      <td>0</td>\n",
       "      <td>0</td>\n",
       "    </tr>\n",
       "  </tbody>\n",
       "</table>\n",
       "<p>150 rows × 4 columns</p>\n",
       "</div>"
      ],
      "text/plain": [
       "     const  sepal_length  setosa  versicolor\n",
       "0      1.0           5.1       1           0\n",
       "1      1.0           4.9       1           0\n",
       "2      1.0           4.7       1           0\n",
       "3      1.0           4.6       1           0\n",
       "4      1.0           5.0       1           0\n",
       "..     ...           ...     ...         ...\n",
       "145    1.0           6.7       0           0\n",
       "146    1.0           6.3       0           0\n",
       "147    1.0           6.5       0           0\n",
       "148    1.0           6.2       0           0\n",
       "149    1.0           5.9       0           0\n",
       "\n",
       "[150 rows x 4 columns]"
      ]
     },
     "execution_count": 49,
     "metadata": {},
     "output_type": "execute_result"
    }
   ],
   "source": [
    "import statsmodels.api as sm\n",
    "X = sm.add_constant(X)\n",
    "X"
   ]
  },
  {
   "cell_type": "code",
   "execution_count": 50,
   "id": "61e7e61d",
   "metadata": {},
   "outputs": [
    {
     "data": {
      "text/html": [
       "<table class=\"simpletable\">\n",
       "<caption>OLS Regression Results</caption>\n",
       "<tr>\n",
       "  <th>Dep. Variable:</th>      <td>petal_length</td>   <th>  R-squared:         </th> <td>   0.975</td> \n",
       "</tr>\n",
       "<tr>\n",
       "  <th>Model:</th>                   <td>OLS</td>       <th>  Adj. R-squared:    </th> <td>   0.974</td> \n",
       "</tr>\n",
       "<tr>\n",
       "  <th>Method:</th>             <td>Least Squares</td>  <th>  F-statistic:       </th> <td>   1890.</td> \n",
       "</tr>\n",
       "<tr>\n",
       "  <th>Date:</th>             <td>Sun, 20 Apr 2025</td> <th>  Prob (F-statistic):</th> <td>1.46e-116</td>\n",
       "</tr>\n",
       "<tr>\n",
       "  <th>Time:</th>                 <td>21:51:23</td>     <th>  Log-Likelihood:    </th> <td> -21.237</td> \n",
       "</tr>\n",
       "<tr>\n",
       "  <th>No. Observations:</th>      <td>   150</td>      <th>  AIC:               </th> <td>   50.47</td> \n",
       "</tr>\n",
       "<tr>\n",
       "  <th>Df Residuals:</th>          <td>   146</td>      <th>  BIC:               </th> <td>   62.52</td> \n",
       "</tr>\n",
       "<tr>\n",
       "  <th>Df Model:</th>              <td>     3</td>      <th>                     </th>     <td> </td>    \n",
       "</tr>\n",
       "<tr>\n",
       "  <th>Covariance Type:</th>      <td>nonrobust</td>    <th>                     </th>     <td> </td>    \n",
       "</tr>\n",
       "</table>\n",
       "<table class=\"simpletable\">\n",
       "<tr>\n",
       "        <td></td>          <th>coef</th>     <th>std err</th>      <th>t</th>      <th>P>|t|</th>  <th>[0.025</th>    <th>0.975]</th>  \n",
       "</tr>\n",
       "<tr>\n",
       "  <th>const</th>        <td>    1.3877</td> <td>    0.301</td> <td>    4.611</td> <td> 0.000</td> <td>    0.793</td> <td>    1.982</td>\n",
       "</tr>\n",
       "<tr>\n",
       "  <th>sepal_length</th> <td>    0.6321</td> <td>    0.045</td> <td>   13.962</td> <td> 0.000</td> <td>    0.543</td> <td>    0.722</td>\n",
       "</tr>\n",
       "<tr>\n",
       "  <th>setosa</th>       <td>   -3.0900</td> <td>    0.091</td> <td>  -33.870</td> <td> 0.000</td> <td>   -3.270</td> <td>   -2.910</td>\n",
       "</tr>\n",
       "<tr>\n",
       "  <th>versicolor</th>   <td>   -0.8799</td> <td>    0.064</td> <td>  -13.800</td> <td> 0.000</td> <td>   -1.006</td> <td>   -0.754</td>\n",
       "</tr>\n",
       "</table>\n",
       "<table class=\"simpletable\">\n",
       "<tr>\n",
       "  <th>Omnibus:</th>       <td> 0.652</td> <th>  Durbin-Watson:     </th> <td>   1.757</td>\n",
       "</tr>\n",
       "<tr>\n",
       "  <th>Prob(Omnibus):</th> <td> 0.722</td> <th>  Jarque-Bera (JB):  </th> <td>   0.310</td>\n",
       "</tr>\n",
       "<tr>\n",
       "  <th>Skew:</th>          <td>-0.022</td> <th>  Prob(JB):          </th> <td>   0.856</td>\n",
       "</tr>\n",
       "<tr>\n",
       "  <th>Kurtosis:</th>      <td> 3.218</td> <th>  Cond. No.          </th> <td>    82.2</td>\n",
       "</tr>\n",
       "</table><br/><br/>Notes:<br/>[1] Standard Errors assume that the covariance matrix of the errors is correctly specified."
      ],
      "text/latex": [
       "\\begin{center}\n",
       "\\begin{tabular}{lclc}\n",
       "\\toprule\n",
       "\\textbf{Dep. Variable:}    &  petal\\_length   & \\textbf{  R-squared:         } &     0.975   \\\\\n",
       "\\textbf{Model:}            &       OLS        & \\textbf{  Adj. R-squared:    } &     0.974   \\\\\n",
       "\\textbf{Method:}           &  Least Squares   & \\textbf{  F-statistic:       } &     1890.   \\\\\n",
       "\\textbf{Date:}             & Sun, 20 Apr 2025 & \\textbf{  Prob (F-statistic):} & 1.46e-116   \\\\\n",
       "\\textbf{Time:}             &     21:51:23     & \\textbf{  Log-Likelihood:    } &   -21.237   \\\\\n",
       "\\textbf{No. Observations:} &         150      & \\textbf{  AIC:               } &     50.47   \\\\\n",
       "\\textbf{Df Residuals:}     &         146      & \\textbf{  BIC:               } &     62.52   \\\\\n",
       "\\textbf{Df Model:}         &           3      & \\textbf{                     } &             \\\\\n",
       "\\textbf{Covariance Type:}  &    nonrobust     & \\textbf{                     } &             \\\\\n",
       "\\bottomrule\n",
       "\\end{tabular}\n",
       "\\begin{tabular}{lcccccc}\n",
       "                       & \\textbf{coef} & \\textbf{std err} & \\textbf{t} & \\textbf{P$> |$t$|$} & \\textbf{[0.025} & \\textbf{0.975]}  \\\\\n",
       "\\midrule\n",
       "\\textbf{const}         &       1.3877  &        0.301     &     4.611  &         0.000        &        0.793    &        1.982     \\\\\n",
       "\\textbf{sepal\\_length} &       0.6321  &        0.045     &    13.962  &         0.000        &        0.543    &        0.722     \\\\\n",
       "\\textbf{setosa}        &      -3.0900  &        0.091     &   -33.870  &         0.000        &       -3.270    &       -2.910     \\\\\n",
       "\\textbf{versicolor}    &      -0.8799  &        0.064     &   -13.800  &         0.000        &       -1.006    &       -0.754     \\\\\n",
       "\\bottomrule\n",
       "\\end{tabular}\n",
       "\\begin{tabular}{lclc}\n",
       "\\textbf{Omnibus:}       &  0.652 & \\textbf{  Durbin-Watson:     } &    1.757  \\\\\n",
       "\\textbf{Prob(Omnibus):} &  0.722 & \\textbf{  Jarque-Bera (JB):  } &    0.310  \\\\\n",
       "\\textbf{Skew:}          & -0.022 & \\textbf{  Prob(JB):          } &    0.856  \\\\\n",
       "\\textbf{Kurtosis:}      &  3.218 & \\textbf{  Cond. No.          } &     82.2  \\\\\n",
       "\\bottomrule\n",
       "\\end{tabular}\n",
       "%\\caption{OLS Regression Results}\n",
       "\\end{center}\n",
       "\n",
       "Notes: \\newline\n",
       " [1] Standard Errors assume that the covariance matrix of the errors is correctly specified."
      ],
      "text/plain": [
       "<class 'statsmodels.iolib.summary.Summary'>\n",
       "\"\"\"\n",
       "                            OLS Regression Results                            \n",
       "==============================================================================\n",
       "Dep. Variable:           petal_length   R-squared:                       0.975\n",
       "Model:                            OLS   Adj. R-squared:                  0.974\n",
       "Method:                 Least Squares   F-statistic:                     1890.\n",
       "Date:                Sun, 20 Apr 2025   Prob (F-statistic):          1.46e-116\n",
       "Time:                        21:51:23   Log-Likelihood:                -21.237\n",
       "No. Observations:                 150   AIC:                             50.47\n",
       "Df Residuals:                     146   BIC:                             62.52\n",
       "Df Model:                           3                                         \n",
       "Covariance Type:            nonrobust                                         \n",
       "================================================================================\n",
       "                   coef    std err          t      P>|t|      [0.025      0.975]\n",
       "--------------------------------------------------------------------------------\n",
       "const            1.3877      0.301      4.611      0.000       0.793       1.982\n",
       "sepal_length     0.6321      0.045     13.962      0.000       0.543       0.722\n",
       "setosa          -3.0900      0.091    -33.870      0.000      -3.270      -2.910\n",
       "versicolor      -0.8799      0.064    -13.800      0.000      -1.006      -0.754\n",
       "==============================================================================\n",
       "Omnibus:                        0.652   Durbin-Watson:                   1.757\n",
       "Prob(Omnibus):                  0.722   Jarque-Bera (JB):                0.310\n",
       "Skew:                          -0.022   Prob(JB):                        0.856\n",
       "Kurtosis:                       3.218   Cond. No.                         82.2\n",
       "==============================================================================\n",
       "\n",
       "Notes:\n",
       "[1] Standard Errors assume that the covariance matrix of the errors is correctly specified.\n",
       "\"\"\""
      ]
     },
     "execution_count": 50,
     "metadata": {},
     "output_type": "execute_result"
    }
   ],
   "source": [
    "model = sm.OLS(y, X)\n",
    "results = model.fit() \n",
    "results.summary()"
   ]
  },
  {
   "cell_type": "markdown",
   "id": "3eb29e9c",
   "metadata": {},
   "source": [
    "Our earlier iris model, with sepal length as the only predictor of petal length, had $r^2 = 0.76$. In our latest iris model, a whopping 97% of the variance in petal length is explained by the predictors."
   ]
  },
  {
   "cell_type": "code",
   "execution_count": 51,
   "id": "ef136d71",
   "metadata": {},
   "outputs": [
    {
     "data": {
      "text/plain": [
       "const           1.387660\n",
       "sepal_length    0.632110\n",
       "setosa         -3.090002\n",
       "versicolor     -0.879864\n",
       "dtype: float64"
      ]
     },
     "execution_count": 51,
     "metadata": {},
     "output_type": "execute_result"
    }
   ],
   "source": [
    "beta = results.params\n",
    "beta"
   ]
  },
  {
   "cell_type": "code",
   "execution_count": 52,
   "id": "fd64ab00",
   "metadata": {},
   "outputs": [],
   "source": [
    "xline = np.linspace(4, 8, 1000)\n",
    "vi_yline = beta['const'] + beta['sepal_length']*xline\n",
    "se_yline = beta['const'] + beta['sepal_length']*xline + beta['setosa']\n",
    "ve_yline = beta['const'] + beta['sepal_length']*xline + beta['versicolor']"
   ]
  },
  {
   "cell_type": "code",
   "execution_count": 53,
   "id": "ca031ecc",
   "metadata": {},
   "outputs": [
    {
     "data": {
      "image/png": "[encoded data removed]",
      "text/plain": [
       "<Figure size 640x480 with 1 Axes>"
      ]
     },
     "metadata": {},
     "output_type": "display_data"
    }
   ],
   "source": [
    "sns.scatterplot(x='sepal_length', y='petal_length', hue='species', data=iris)\n",
    "plt.plot(xline, vi_yline, color='darkgreen')\n",
    "plt.plot(xline, se_yline, color='darkblue')\n",
    "_ = plt.plot(xline, ve_yline, color='orange')"
   ]
  },
  {
   "cell_type": "markdown",
   "id": "577d565d",
   "metadata": {},
   "source": [
    "Now using our refined model, such that it predicts the petal length of a *versicolor* iris with a 5.5cm-long sepal:"
   ]
  },
  {
   "cell_type": "code",
   "execution_count": 54,
   "id": "0d6a859f",
   "metadata": {},
   "outputs": [],
   "source": [
    "x_sepall_i = 5.5\n",
    "x_setosa_i = 0\n",
    "x_versic_i = 1"
   ]
  },
  {
   "cell_type": "code",
   "execution_count": 55,
   "id": "cb67094d",
   "metadata": {},
   "outputs": [
    {
     "data": {
      "text/plain": [
       "np.float64(3.984400080089948)"
      ]
     },
     "execution_count": 55,
     "metadata": {},
     "output_type": "execute_result"
    }
   ],
   "source": [
    "y_i = beta['const'] + beta['sepal_length']*x_sepall_i + beta['setosa']*x_setosa_i + beta['versicolor']*x_versic_i\n",
    "y_i"
   ]
  },
  {
   "cell_type": "code",
   "execution_count": 56,
   "id": "62760556",
   "metadata": {},
   "outputs": [
    {
     "data": {
      "image/png": "[encoded data removed]",
      "text/plain": [
       "<Figure size 640x480 with 1 Axes>"
      ]
     },
     "metadata": {},
     "output_type": "display_data"
    }
   ],
   "source": [
    "sns.scatterplot(x='sepal_length', y='petal_length', hue='species', data=iris)\n",
    "plt.plot(xline, vi_yline, color='darkgreen')\n",
    "plt.plot(xline, se_yline, color='darkblue')\n",
    "plt.plot(xline, ve_yline, color='orange')\n",
    "_ = plt.scatter(x_sepall_i, y_i, marker='o', color='purple')"
   ]
  },
  {
   "cell_type": "markdown",
   "id": "a683be60",
   "metadata": {},
   "source": [
    "...or a *virginica* with a sepal of the same length:"
   ]
  },
  {
   "cell_type": "code",
   "execution_count": 57,
   "id": "e0ff7c3c",
   "metadata": {},
   "outputs": [],
   "source": [
    "x_sepall_i = 5.5\n",
    "x_setosa_i = 0\n",
    "x_versic_i = 0 # the only change"
   ]
  },
  {
   "cell_type": "code",
   "execution_count": 58,
   "id": "4cdd7147",
   "metadata": {},
   "outputs": [],
   "source": [
    "x_i = np.array([1, x_sepall_i, x_versic_i, x_versic_i])"
   ]
  },
  {
   "cell_type": "code",
   "execution_count": 59,
   "id": "85377bb7",
   "metadata": {},
   "outputs": [],
   "source": [
    "y_i = np.dot(beta, x_i)"
   ]
  },
  {
   "cell_type": "code",
   "execution_count": 60,
   "id": "168da78d",
   "metadata": {},
   "outputs": [
    {
     "data": {
      "image/png": "[encoded data removed]",
      "text/plain": [
       "<Figure size 640x480 with 1 Axes>"
      ]
     },
     "metadata": {},
     "output_type": "display_data"
    }
   ],
   "source": [
    "sns.scatterplot(x='sepal_length', y='petal_length', hue='species', data=iris)\n",
    "plt.plot(xline, vi_yline, color='darkgreen')\n",
    "plt.plot(xline, se_yline, color='darkblue')\n",
    "plt.plot(xline, ve_yline, color='orange')\n",
    "_ = plt.scatter(x_i[1], y_i, marker='o', color='purple')"
   ]
  },
  {
   "cell_type": "markdown",
   "id": "bcafd6e0",
   "metadata": {},
   "source": [
    "(It is also possible to have the slope vary by categorical variable, not only the $y$-intercept. This is a *hierarchical linear model* and the classic text on it is [Gelman & Hill, 2006](https://amzn.to/3hoOevb).)"
   ]
  },
  {
   "cell_type": "markdown",
   "id": "9a2ae6e0",
   "metadata": {},
   "source": [
    "**Exercise**:\n",
    "Download the Boston housing dataset (process is immediately below) and use the statsmodels `OLS()` method to create a model that uses at least a few of the provided features to predict house price."
   ]
  },
  {
   "cell_type": "code",
   "execution_count": null,
   "id": "25e0ffc8",
   "metadata": {},
   "outputs": [
    {
     "data": {
      "text/html": [
       "<div>\n",
       "<style scoped>\n",
       "    .dataframe tbody tr th:only-of-type {\n",
       "        vertical-align: middle;\n",
       "    }\n",
       "\n",
       "    .dataframe tbody tr th {\n",
       "        vertical-align: top;\n",
       "    }\n",
       "\n",
       "    .dataframe thead th {\n",
       "        text-align: right;\n",
       "    }\n",
       "</style>\n",
       "<table border=\"1\" class=\"dataframe\">\n",
       "  <thead>\n",
       "    <tr style=\"text-align: right;\">\n",
       "      <th></th>\n",
       "      <th>crim</th>\n",
       "      <th>zn</th>\n",
       "      <th>indus</th>\n",
       "      <th>chas</th>\n",
       "      <th>nox</th>\n",
       "      <th>rm</th>\n",
       "      <th>age</th>\n",
       "      <th>dis</th>\n",
       "      <th>rad</th>\n",
       "      <th>tax</th>\n",
       "      <th>ptratio</th>\n",
       "      <th>b</th>\n",
       "      <th>lstat</th>\n",
       "      <th>medv</th>\n",
       "    </tr>\n",
       "  </thead>\n",
       "  <tbody>\n",
       "    <tr>\n",
       "      <th>0</th>\n",
       "      <td>0.00632</td>\n",
       "      <td>18.0</td>\n",
       "      <td>2.31</td>\n",
       "      <td>0</td>\n",
       "      <td>0.538</td>\n",
       "      <td>6.575</td>\n",
       "      <td>65.2</td>\n",
       "      <td>4.0900</td>\n",
       "      <td>1</td>\n",
       "      <td>296</td>\n",
       "      <td>15.3</td>\n",
       "      <td>396.90</td>\n",
       "      <td>4.98</td>\n",
       "      <td>24.0</td>\n",
       "    </tr>\n",
       "    <tr>\n",
       "      <th>1</th>\n",
       "      <td>0.02731</td>\n",
       "      <td>0.0</td>\n",
       "      <td>7.07</td>\n",
       "      <td>0</td>\n",
       "      <td>0.469</td>\n",
       "      <td>6.421</td>\n",
       "      <td>78.9</td>\n",
       "      <td>4.9671</td>\n",
       "      <td>2</td>\n",
       "      <td>242</td>\n",
       "      <td>17.8</td>\n",
       "      <td>396.90</td>\n",
       "      <td>9.14</td>\n",
       "      <td>21.6</td>\n",
       "    </tr>\n",
       "    <tr>\n",
       "      <th>2</th>\n",
       "      <td>0.02729</td>\n",
       "      <td>0.0</td>\n",
       "      <td>7.07</td>\n",
       "      <td>0</td>\n",
       "      <td>0.469</td>\n",
       "      <td>7.185</td>\n",
       "      <td>61.1</td>\n",
       "      <td>4.9671</td>\n",
       "      <td>2</td>\n",
       "      <td>242</td>\n",
       "      <td>17.8</td>\n",
       "      <td>392.83</td>\n",
       "      <td>4.03</td>\n",
       "      <td>34.7</td>\n",
       "    </tr>\n",
       "    <tr>\n",
       "      <th>3</th>\n",
       "      <td>0.03237</td>\n",
       "      <td>0.0</td>\n",
       "      <td>2.18</td>\n",
       "      <td>0</td>\n",
       "      <td>0.458</td>\n",
       "      <td>6.998</td>\n",
       "      <td>45.8</td>\n",
       "      <td>6.0622</td>\n",
       "      <td>3</td>\n",
       "      <td>222</td>\n",
       "      <td>18.7</td>\n",
       "      <td>394.63</td>\n",
       "      <td>2.94</td>\n",
       "      <td>33.4</td>\n",
       "    </tr>\n",
       "    <tr>\n",
       "      <th>4</th>\n",
       "      <td>0.06905</td>\n",
       "      <td>0.0</td>\n",
       "      <td>2.18</td>\n",
       "      <td>0</td>\n",
       "      <td>0.458</td>\n",
       "      <td>7.147</td>\n",
       "      <td>54.2</td>\n",
       "      <td>6.0622</td>\n",
       "      <td>3</td>\n",
       "      <td>222</td>\n",
       "      <td>18.7</td>\n",
       "      <td>396.90</td>\n",
       "      <td>5.33</td>\n",
       "      <td>36.2</td>\n",
       "    </tr>\n",
       "  </tbody>\n",
       "</table>\n",
       "</div>"
      ],
      "text/plain": [
       "      crim    zn  indus  chas    nox     rm   age     dis  rad  tax  ptratio  \\\n",
       "0  0.00632  18.0   2.31     0  0.538  6.575  65.2  4.0900    1  296     15.3   \n",
       "1  0.02731   0.0   7.07     0  0.469  6.421  78.9  4.9671    2  242     17.8   \n",
       "2  0.02729   0.0   7.07     0  0.469  7.185  61.1  4.9671    2  242     17.8   \n",
       "3  0.03237   0.0   2.18     0  0.458  6.998  45.8  6.0622    3  222     18.7   \n",
       "4  0.06905   0.0   2.18     0  0.458  7.147  54.2  6.0622    3  222     18.7   \n",
       "\n",
       "        b  lstat  medv  \n",
       "0  396.90   4.98  24.0  \n",
       "1  396.90   9.14  21.6  \n",
       "2  392.83   4.03  34.7  \n",
       "3  394.63   2.94  33.4  \n",
       "4  396.90   5.33  36.2  "
      ]
     },
     "execution_count": 63,
     "metadata": {},
     "output_type": "execute_result"
    }
   ],
   "source": [
    "import pandas as pd\n",
    "df = pd.read_csv('BostonHousing.csv')\n",
    "df.head()"
   ]
  },
  {
   "cell_type": "code",
   "execution_count": 65,
   "id": "c7430f62",
   "metadata": {},
   "outputs": [
    {
     "data": {
      "text/plain": [
       "array([24. , 21.6, 34.7, 33.4, 36.2, 28.7, 22.9, 27.1, 16.5, 18.9, 15. ,\n",
       "       18.9, 21.7, 20.4, 18.2, 19.9, 23.1, 17.5, 20.2, 18.2])"
      ]
     },
     "execution_count": 65,
     "metadata": {},
     "output_type": "execute_result"
    }
   ],
   "source": [
    "y = df[\"medv\"].to_numpy()\n",
    "y[0:20]"
   ]
  },
  {
   "cell_type": "code",
   "execution_count": 69,
   "id": "0e319104",
   "metadata": {},
   "outputs": [
    {
     "data": {
      "text/html": [
       "<div>\n",
       "<style scoped>\n",
       "    .dataframe tbody tr th:only-of-type {\n",
       "        vertical-align: middle;\n",
       "    }\n",
       "\n",
       "    .dataframe tbody tr th {\n",
       "        vertical-align: top;\n",
       "    }\n",
       "\n",
       "    .dataframe thead th {\n",
       "        text-align: right;\n",
       "    }\n",
       "</style>\n",
       "<table border=\"1\" class=\"dataframe\">\n",
       "  <thead>\n",
       "    <tr style=\"text-align: right;\">\n",
       "      <th></th>\n",
       "      <th>crim</th>\n",
       "      <th>zn</th>\n",
       "      <th>indus</th>\n",
       "      <th>chas</th>\n",
       "      <th>nox</th>\n",
       "      <th>rm</th>\n",
       "      <th>age</th>\n",
       "      <th>dis</th>\n",
       "      <th>rad</th>\n",
       "      <th>tax</th>\n",
       "      <th>ptratio</th>\n",
       "      <th>b</th>\n",
       "      <th>lstat</th>\n",
       "      <th>medv</th>\n",
       "    </tr>\n",
       "  </thead>\n",
       "  <tbody>\n",
       "    <tr>\n",
       "      <th>0</th>\n",
       "      <td>0.00632</td>\n",
       "      <td>18.0</td>\n",
       "      <td>2.31</td>\n",
       "      <td>0</td>\n",
       "      <td>0.538</td>\n",
       "      <td>6.575</td>\n",
       "      <td>65.2</td>\n",
       "      <td>4.0900</td>\n",
       "      <td>1</td>\n",
       "      <td>296</td>\n",
       "      <td>15.3</td>\n",
       "      <td>396.90</td>\n",
       "      <td>4.98</td>\n",
       "      <td>24.0</td>\n",
       "    </tr>\n",
       "    <tr>\n",
       "      <th>1</th>\n",
       "      <td>0.02731</td>\n",
       "      <td>0.0</td>\n",
       "      <td>7.07</td>\n",
       "      <td>0</td>\n",
       "      <td>0.469</td>\n",
       "      <td>6.421</td>\n",
       "      <td>78.9</td>\n",
       "      <td>4.9671</td>\n",
       "      <td>2</td>\n",
       "      <td>242</td>\n",
       "      <td>17.8</td>\n",
       "      <td>396.90</td>\n",
       "      <td>9.14</td>\n",
       "      <td>21.6</td>\n",
       "    </tr>\n",
       "    <tr>\n",
       "      <th>2</th>\n",
       "      <td>0.02729</td>\n",
       "      <td>0.0</td>\n",
       "      <td>7.07</td>\n",
       "      <td>0</td>\n",
       "      <td>0.469</td>\n",
       "      <td>7.185</td>\n",
       "      <td>61.1</td>\n",
       "      <td>4.9671</td>\n",
       "      <td>2</td>\n",
       "      <td>242</td>\n",
       "      <td>17.8</td>\n",
       "      <td>392.83</td>\n",
       "      <td>4.03</td>\n",
       "      <td>34.7</td>\n",
       "    </tr>\n",
       "    <tr>\n",
       "      <th>3</th>\n",
       "      <td>0.03237</td>\n",
       "      <td>0.0</td>\n",
       "      <td>2.18</td>\n",
       "      <td>0</td>\n",
       "      <td>0.458</td>\n",
       "      <td>6.998</td>\n",
       "      <td>45.8</td>\n",
       "      <td>6.0622</td>\n",
       "      <td>3</td>\n",
       "      <td>222</td>\n",
       "      <td>18.7</td>\n",
       "      <td>394.63</td>\n",
       "      <td>2.94</td>\n",
       "      <td>33.4</td>\n",
       "    </tr>\n",
       "    <tr>\n",
       "      <th>4</th>\n",
       "      <td>0.06905</td>\n",
       "      <td>0.0</td>\n",
       "      <td>2.18</td>\n",
       "      <td>0</td>\n",
       "      <td>0.458</td>\n",
       "      <td>7.147</td>\n",
       "      <td>54.2</td>\n",
       "      <td>6.0622</td>\n",
       "      <td>3</td>\n",
       "      <td>222</td>\n",
       "      <td>18.7</td>\n",
       "      <td>396.90</td>\n",
       "      <td>5.33</td>\n",
       "      <td>36.2</td>\n",
       "    </tr>\n",
       "  </tbody>\n",
       "</table>\n",
       "</div>"
      ],
      "text/plain": [
       "      crim    zn  indus  chas    nox     rm   age     dis  rad  tax  ptratio  \\\n",
       "0  0.00632  18.0   2.31     0  0.538  6.575  65.2  4.0900    1  296     15.3   \n",
       "1  0.02731   0.0   7.07     0  0.469  6.421  78.9  4.9671    2  242     17.8   \n",
       "2  0.02729   0.0   7.07     0  0.469  7.185  61.1  4.9671    2  242     17.8   \n",
       "3  0.03237   0.0   2.18     0  0.458  6.998  45.8  6.0622    3  222     18.7   \n",
       "4  0.06905   0.0   2.18     0  0.458  7.147  54.2  6.0622    3  222     18.7   \n",
       "\n",
       "        b  lstat  medv  \n",
       "0  396.90   4.98  24.0  \n",
       "1  396.90   9.14  21.6  \n",
       "2  392.83   4.03  34.7  \n",
       "3  394.63   2.94  33.4  \n",
       "4  396.90   5.33  36.2  "
      ]
     },
     "execution_count": 69,
     "metadata": {},
     "output_type": "execute_result"
    }
   ],
   "source": [
    "X = df\n",
    "X.head()\n"
   ]
  },
  {
   "cell_type": "code",
   "execution_count": null,
   "id": "80919f18",
   "metadata": {},
   "outputs": [],
   "source": []
  },
  {
   "cell_type": "markdown",
   "id": "796667b6",
   "metadata": {},
   "source": [
    "## Logistic Regression\n",
    "\n",
    "Reasonably often we'd like to have a regression model that predicts a binary outcome (e.g., identifying if a fast-food item is a hot dog or not a hot dog). This can be accomplished with **logistic regression**, which adapts linear regression by including the *logit* function:\n",
    "$$ x = \\text{log}(\\frac{p}{1-p}) $$\n",
    "This function uses the natural logarithm and maps a binary probability $p$ (which can only range from zero to one) to an unbounded range ($-\\infty$ to $\\infty$)."
   ]
  },
  {
   "cell_type": "code",
   "execution_count": 70,
   "id": "f43c6c43",
   "metadata": {},
   "outputs": [],
   "source": [
    "def logit(my_p): # this is also available as scipy.special.logit()\n",
    "    return np.log(my_p/(1-my_p))"
   ]
  },
  {
   "cell_type": "code",
   "execution_count": 71,
   "id": "1b1e4e34",
   "metadata": {},
   "outputs": [
    {
     "data": {
      "text/plain": [
       "np.float64(0.0)"
      ]
     },
     "execution_count": 71,
     "metadata": {},
     "output_type": "execute_result"
    }
   ],
   "source": [
    "logit(0.5)"
   ]
  },
  {
   "cell_type": "code",
   "execution_count": 74,
   "id": "7ad81e6a",
   "metadata": {},
   "outputs": [
    {
     "data": {
      "text/plain": [
       "np.float64(-2.197224577336219)"
      ]
     },
     "execution_count": 74,
     "metadata": {},
     "output_type": "execute_result"
    }
   ],
   "source": [
    "logit(0.1)"
   ]
  },
  {
   "cell_type": "code",
   "execution_count": null,
   "id": "ae0b1e34",
   "metadata": {},
   "outputs": [
    {
     "data": {
      "text/plain": [
       "np.float64(-4.59511985013459)"
      ]
     },
     "execution_count": 75,
     "metadata": {},
     "output_type": "execute_result"
    }
   ],
   "source": [
    "logit(0.01) # closer to zero approaches negative infinity"
   ]
  },
  {
   "cell_type": "code",
   "execution_count": 76,
   "id": "8b41f29a",
   "metadata": {},
   "outputs": [
    {
     "data": {
      "text/plain": [
       "np.float64(4.595119850134589)"
      ]
     },
     "execution_count": 76,
     "metadata": {},
     "output_type": "execute_result"
    }
   ],
   "source": [
    "logit(0.99) # closer to one approaches positive infinity"
   ]
  },
  {
   "cell_type": "markdown",
   "id": "c5c51d94",
   "metadata": {},
   "source": [
    "More specifically, logistic regression makes use of the *expit* function (a.k.a., logistic function), which is the inverse of the logit. That is, it returns a probability $p$ when passed some unbounded input $x$:\n",
    "$$ p = \\frac{1}{1+e^{-x}} $$"
   ]
  },
  {
   "cell_type": "code",
   "execution_count": 77,
   "id": "5b8b849b",
   "metadata": {},
   "outputs": [],
   "source": [
    "def expit(my_x): # this is also available as scipy.special.expit()\n",
    "    return 1/(1+np.exp(-my_x))"
   ]
  },
  {
   "cell_type": "code",
   "execution_count": 78,
   "id": "74fa3f6b",
   "metadata": {},
   "outputs": [
    {
     "data": {
      "text/plain": [
       "np.float64(0.99)"
      ]
     },
     "execution_count": 78,
     "metadata": {},
     "output_type": "execute_result"
    }
   ],
   "source": [
    "expit(4.595119850134589)"
   ]
  },
  {
   "cell_type": "markdown",
   "id": "fcd8562c",
   "metadata": {},
   "source": [
    "This logistic function allows us to map the unbounded output of a linear regression model to a probability ranging from zero to one.\n",
    "\n",
    "Let's dig right into a hands-on example:"
   ]
  },
  {
   "cell_type": "code",
   "execution_count": 79,
   "id": "d57563cd",
   "metadata": {},
   "outputs": [
    {
     "data": {
      "text/html": [
       "<div>\n",
       "<style scoped>\n",
       "    .dataframe tbody tr th:only-of-type {\n",
       "        vertical-align: middle;\n",
       "    }\n",
       "\n",
       "    .dataframe tbody tr th {\n",
       "        vertical-align: top;\n",
       "    }\n",
       "\n",
       "    .dataframe thead th {\n",
       "        text-align: right;\n",
       "    }\n",
       "</style>\n",
       "<table border=\"1\" class=\"dataframe\">\n",
       "  <thead>\n",
       "    <tr style=\"text-align: right;\">\n",
       "      <th></th>\n",
       "      <th>survived</th>\n",
       "      <th>pclass</th>\n",
       "      <th>sex</th>\n",
       "      <th>age</th>\n",
       "      <th>sibsp</th>\n",
       "      <th>parch</th>\n",
       "      <th>fare</th>\n",
       "      <th>embarked</th>\n",
       "      <th>class</th>\n",
       "      <th>who</th>\n",
       "      <th>adult_male</th>\n",
       "      <th>deck</th>\n",
       "      <th>embark_town</th>\n",
       "      <th>alive</th>\n",
       "      <th>alone</th>\n",
       "    </tr>\n",
       "  </thead>\n",
       "  <tbody>\n",
       "    <tr>\n",
       "      <th>0</th>\n",
       "      <td>0</td>\n",
       "      <td>3</td>\n",
       "      <td>male</td>\n",
       "      <td>22.0</td>\n",
       "      <td>1</td>\n",
       "      <td>0</td>\n",
       "      <td>7.2500</td>\n",
       "      <td>S</td>\n",
       "      <td>Third</td>\n",
       "      <td>man</td>\n",
       "      <td>True</td>\n",
       "      <td>NaN</td>\n",
       "      <td>Southampton</td>\n",
       "      <td>no</td>\n",
       "      <td>False</td>\n",
       "    </tr>\n",
       "    <tr>\n",
       "      <th>1</th>\n",
       "      <td>1</td>\n",
       "      <td>1</td>\n",
       "      <td>female</td>\n",
       "      <td>38.0</td>\n",
       "      <td>1</td>\n",
       "      <td>0</td>\n",
       "      <td>71.2833</td>\n",
       "      <td>C</td>\n",
       "      <td>First</td>\n",
       "      <td>woman</td>\n",
       "      <td>False</td>\n",
       "      <td>C</td>\n",
       "      <td>Cherbourg</td>\n",
       "      <td>yes</td>\n",
       "      <td>False</td>\n",
       "    </tr>\n",
       "    <tr>\n",
       "      <th>2</th>\n",
       "      <td>1</td>\n",
       "      <td>3</td>\n",
       "      <td>female</td>\n",
       "      <td>26.0</td>\n",
       "      <td>0</td>\n",
       "      <td>0</td>\n",
       "      <td>7.9250</td>\n",
       "      <td>S</td>\n",
       "      <td>Third</td>\n",
       "      <td>woman</td>\n",
       "      <td>False</td>\n",
       "      <td>NaN</td>\n",
       "      <td>Southampton</td>\n",
       "      <td>yes</td>\n",
       "      <td>True</td>\n",
       "    </tr>\n",
       "    <tr>\n",
       "      <th>3</th>\n",
       "      <td>1</td>\n",
       "      <td>1</td>\n",
       "      <td>female</td>\n",
       "      <td>35.0</td>\n",
       "      <td>1</td>\n",
       "      <td>0</td>\n",
       "      <td>53.1000</td>\n",
       "      <td>S</td>\n",
       "      <td>First</td>\n",
       "      <td>woman</td>\n",
       "      <td>False</td>\n",
       "      <td>C</td>\n",
       "      <td>Southampton</td>\n",
       "      <td>yes</td>\n",
       "      <td>False</td>\n",
       "    </tr>\n",
       "    <tr>\n",
       "      <th>4</th>\n",
       "      <td>0</td>\n",
       "      <td>3</td>\n",
       "      <td>male</td>\n",
       "      <td>35.0</td>\n",
       "      <td>0</td>\n",
       "      <td>0</td>\n",
       "      <td>8.0500</td>\n",
       "      <td>S</td>\n",
       "      <td>Third</td>\n",
       "      <td>man</td>\n",
       "      <td>True</td>\n",
       "      <td>NaN</td>\n",
       "      <td>Southampton</td>\n",
       "      <td>no</td>\n",
       "      <td>True</td>\n",
       "    </tr>\n",
       "  </tbody>\n",
       "</table>\n",
       "</div>"
      ],
      "text/plain": [
       "   survived  pclass     sex   age  sibsp  parch     fare embarked  class  \\\n",
       "0         0       3    male  22.0      1      0   7.2500        S  Third   \n",
       "1         1       1  female  38.0      1      0  71.2833        C  First   \n",
       "2         1       3  female  26.0      0      0   7.9250        S  Third   \n",
       "3         1       1  female  35.0      1      0  53.1000        S  First   \n",
       "4         0       3    male  35.0      0      0   8.0500        S  Third   \n",
       "\n",
       "     who  adult_male deck  embark_town alive  alone  \n",
       "0    man        True  NaN  Southampton    no  False  \n",
       "1  woman       False    C    Cherbourg   yes  False  \n",
       "2  woman       False  NaN  Southampton   yes   True  \n",
       "3  woman       False    C  Southampton   yes  False  \n",
       "4    man        True  NaN  Southampton    no   True  "
      ]
     },
     "execution_count": 79,
     "metadata": {},
     "output_type": "execute_result"
    }
   ],
   "source": [
    "titanic = sns.load_dataset('titanic')\n",
    "titanic.head()"
   ]
  },
  {
   "cell_type": "code",
   "execution_count": 80,
   "id": "232b497a",
   "metadata": {},
   "outputs": [
    {
     "data": {
      "text/plain": [
       "(array([0, 1]), array([549, 342]))"
      ]
     },
     "execution_count": 80,
     "metadata": {},
     "output_type": "execute_result"
    }
   ],
   "source": [
    "np.unique(titanic[\"survived\"], return_counts=True)"
   ]
  },
  {
   "cell_type": "code",
   "execution_count": 81,
   "id": "156ceae0",
   "metadata": {},
   "outputs": [
    {
     "data": {
      "text/plain": [
       "(array(['female', 'male'], dtype=object), array([314, 577]))"
      ]
     },
     "execution_count": 81,
     "metadata": {},
     "output_type": "execute_result"
    }
   ],
   "source": [
    "np.unique(titanic[\"sex\"], return_counts=True)"
   ]
  },
  {
   "cell_type": "code",
   "execution_count": 82,
   "id": "19cb5b72",
   "metadata": {},
   "outputs": [
    {
     "data": {
      "text/plain": [
       "(array(['First', 'Second', 'Third'], dtype=object), array([216, 184, 491]))"
      ]
     },
     "execution_count": 82,
     "metadata": {},
     "output_type": "execute_result"
    }
   ],
   "source": [
    "np.unique(titanic[\"class\"], return_counts=True)"
   ]
  },
  {
   "cell_type": "code",
   "execution_count": 85,
   "id": "32192fb3",
   "metadata": {},
   "outputs": [
    {
     "data": {
      "image/png": "[encoded data removed]",
      "text/plain": [
       "<Figure size 500x500 with 1 Axes>"
      ]
     },
     "metadata": {},
     "output_type": "display_data"
    }
   ],
   "source": [
    "_ = sns.displot(x = titanic[\"age\"], kde=True)"
   ]
  },
  {
   "cell_type": "code",
   "execution_count": 86,
   "id": "b0f1821e",
   "metadata": {},
   "outputs": [
    {
     "data": {
      "text/html": [
       "<div>\n",
       "<style scoped>\n",
       "    .dataframe tbody tr th:only-of-type {\n",
       "        vertical-align: middle;\n",
       "    }\n",
       "\n",
       "    .dataframe tbody tr th {\n",
       "        vertical-align: top;\n",
       "    }\n",
       "\n",
       "    .dataframe thead th {\n",
       "        text-align: right;\n",
       "    }\n",
       "</style>\n",
       "<table border=\"1\" class=\"dataframe\">\n",
       "  <thead>\n",
       "    <tr style=\"text-align: right;\">\n",
       "      <th></th>\n",
       "      <th>female</th>\n",
       "      <th>male</th>\n",
       "    </tr>\n",
       "  </thead>\n",
       "  <tbody>\n",
       "    <tr>\n",
       "      <th>0</th>\n",
       "      <td>0</td>\n",
       "      <td>1</td>\n",
       "    </tr>\n",
       "    <tr>\n",
       "      <th>1</th>\n",
       "      <td>1</td>\n",
       "      <td>0</td>\n",
       "    </tr>\n",
       "    <tr>\n",
       "      <th>2</th>\n",
       "      <td>1</td>\n",
       "      <td>0</td>\n",
       "    </tr>\n",
       "    <tr>\n",
       "      <th>3</th>\n",
       "      <td>1</td>\n",
       "      <td>0</td>\n",
       "    </tr>\n",
       "    <tr>\n",
       "      <th>4</th>\n",
       "      <td>0</td>\n",
       "      <td>1</td>\n",
       "    </tr>\n",
       "    <tr>\n",
       "      <th>...</th>\n",
       "      <td>...</td>\n",
       "      <td>...</td>\n",
       "    </tr>\n",
       "    <tr>\n",
       "      <th>886</th>\n",
       "      <td>0</td>\n",
       "      <td>1</td>\n",
       "    </tr>\n",
       "    <tr>\n",
       "      <th>887</th>\n",
       "      <td>1</td>\n",
       "      <td>0</td>\n",
       "    </tr>\n",
       "    <tr>\n",
       "      <th>888</th>\n",
       "      <td>1</td>\n",
       "      <td>0</td>\n",
       "    </tr>\n",
       "    <tr>\n",
       "      <th>889</th>\n",
       "      <td>0</td>\n",
       "      <td>1</td>\n",
       "    </tr>\n",
       "    <tr>\n",
       "      <th>890</th>\n",
       "      <td>0</td>\n",
       "      <td>1</td>\n",
       "    </tr>\n",
       "  </tbody>\n",
       "</table>\n",
       "<p>891 rows × 2 columns</p>\n",
       "</div>"
      ],
      "text/plain": [
       "     female  male\n",
       "0         0     1\n",
       "1         1     0\n",
       "2         1     0\n",
       "3         1     0\n",
       "4         0     1\n",
       "..      ...   ...\n",
       "886       0     1\n",
       "887       1     0\n",
       "888       1     0\n",
       "889       0     1\n",
       "890       0     1\n",
       "\n",
       "[891 rows x 2 columns]"
      ]
     },
     "execution_count": 86,
     "metadata": {},
     "output_type": "execute_result"
    }
   ],
   "source": [
    "gender = pd.get_dummies(titanic['sex'], dtype = 'int64')\n",
    "gender"
   ]
  },
  {
   "cell_type": "code",
   "execution_count": 87,
   "id": "6be18fa1",
   "metadata": {},
   "outputs": [
    {
     "data": {
      "text/html": [
       "<div>\n",
       "<style scoped>\n",
       "    .dataframe tbody tr th:only-of-type {\n",
       "        vertical-align: middle;\n",
       "    }\n",
       "\n",
       "    .dataframe tbody tr th {\n",
       "        vertical-align: top;\n",
       "    }\n",
       "\n",
       "    .dataframe thead th {\n",
       "        text-align: right;\n",
       "    }\n",
       "</style>\n",
       "<table border=\"1\" class=\"dataframe\">\n",
       "  <thead>\n",
       "    <tr style=\"text-align: right;\">\n",
       "      <th></th>\n",
       "      <th>First</th>\n",
       "      <th>Second</th>\n",
       "      <th>Third</th>\n",
       "    </tr>\n",
       "  </thead>\n",
       "  <tbody>\n",
       "    <tr>\n",
       "      <th>0</th>\n",
       "      <td>0</td>\n",
       "      <td>0</td>\n",
       "      <td>1</td>\n",
       "    </tr>\n",
       "    <tr>\n",
       "      <th>1</th>\n",
       "      <td>1</td>\n",
       "      <td>0</td>\n",
       "      <td>0</td>\n",
       "    </tr>\n",
       "    <tr>\n",
       "      <th>2</th>\n",
       "      <td>0</td>\n",
       "      <td>0</td>\n",
       "      <td>1</td>\n",
       "    </tr>\n",
       "    <tr>\n",
       "      <th>3</th>\n",
       "      <td>1</td>\n",
       "      <td>0</td>\n",
       "      <td>0</td>\n",
       "    </tr>\n",
       "    <tr>\n",
       "      <th>4</th>\n",
       "      <td>0</td>\n",
       "      <td>0</td>\n",
       "      <td>1</td>\n",
       "    </tr>\n",
       "    <tr>\n",
       "      <th>...</th>\n",
       "      <td>...</td>\n",
       "      <td>...</td>\n",
       "      <td>...</td>\n",
       "    </tr>\n",
       "    <tr>\n",
       "      <th>886</th>\n",
       "      <td>0</td>\n",
       "      <td>1</td>\n",
       "      <td>0</td>\n",
       "    </tr>\n",
       "    <tr>\n",
       "      <th>887</th>\n",
       "      <td>1</td>\n",
       "      <td>0</td>\n",
       "      <td>0</td>\n",
       "    </tr>\n",
       "    <tr>\n",
       "      <th>888</th>\n",
       "      <td>0</td>\n",
       "      <td>0</td>\n",
       "      <td>1</td>\n",
       "    </tr>\n",
       "    <tr>\n",
       "      <th>889</th>\n",
       "      <td>1</td>\n",
       "      <td>0</td>\n",
       "      <td>0</td>\n",
       "    </tr>\n",
       "    <tr>\n",
       "      <th>890</th>\n",
       "      <td>0</td>\n",
       "      <td>0</td>\n",
       "      <td>1</td>\n",
       "    </tr>\n",
       "  </tbody>\n",
       "</table>\n",
       "<p>891 rows × 3 columns</p>\n",
       "</div>"
      ],
      "text/plain": [
       "     First  Second  Third\n",
       "0        0       0      1\n",
       "1        1       0      0\n",
       "2        0       0      1\n",
       "3        1       0      0\n",
       "4        0       0      1\n",
       "..     ...     ...    ...\n",
       "886      0       1      0\n",
       "887      1       0      0\n",
       "888      0       0      1\n",
       "889      1       0      0\n",
       "890      0       0      1\n",
       "\n",
       "[891 rows x 3 columns]"
      ]
     },
     "execution_count": 87,
     "metadata": {},
     "output_type": "execute_result"
    }
   ],
   "source": [
    "clas = pd.get_dummies(titanic['class'], dtype = 'int64')\n",
    "clas\n"
   ]
  },
  {
   "cell_type": "code",
   "execution_count": 88,
   "id": "6cee5bfa",
   "metadata": {},
   "outputs": [],
   "source": [
    "y = titanic[\"survived\"]\n",
    "X = pd.concat([clas.First, clas.Second, gender.female, titanic.age], axis=1)\n",
    "X = sm.add_constant(X)"
   ]
  },
  {
   "cell_type": "code",
   "execution_count": 89,
   "id": "9e3e15ab",
   "metadata": {},
   "outputs": [],
   "source": [
    "model = sm.Logit(y, X, missing='drop') # drop missing values"
   ]
  },
  {
   "cell_type": "code",
   "execution_count": 90,
   "id": "c3652ac0",
   "metadata": {},
   "outputs": [
    {
     "name": "stdout",
     "output_type": "stream",
     "text": [
      "Optimization terminated successfully.\n",
      "         Current function value: 0.453279\n",
      "         Iterations 6\n"
     ]
    }
   ],
   "source": [
    "result = model.fit()"
   ]
  },
  {
   "cell_type": "code",
   "execution_count": 91,
   "id": "9f7776b2",
   "metadata": {},
   "outputs": [
    {
     "data": {
      "text/html": [
       "<table class=\"simpletable\">\n",
       "<caption>Logit Regression Results</caption>\n",
       "<tr>\n",
       "  <th>Dep. Variable:</th>       <td>survived</td>     <th>  No. Observations:  </th>  <td>   714</td>  \n",
       "</tr>\n",
       "<tr>\n",
       "  <th>Model:</th>                 <td>Logit</td>      <th>  Df Residuals:      </th>  <td>   709</td>  \n",
       "</tr>\n",
       "<tr>\n",
       "  <th>Method:</th>                 <td>MLE</td>       <th>  Df Model:          </th>  <td>     4</td>  \n",
       "</tr>\n",
       "<tr>\n",
       "  <th>Date:</th>            <td>Mon, 21 Apr 2025</td> <th>  Pseudo R-squ.:     </th>  <td>0.3289</td>  \n",
       "</tr>\n",
       "<tr>\n",
       "  <th>Time:</th>                <td>18:12:10</td>     <th>  Log-Likelihood:    </th> <td> -323.64</td> \n",
       "</tr>\n",
       "<tr>\n",
       "  <th>converged:</th>             <td>True</td>       <th>  LL-Null:           </th> <td> -482.26</td> \n",
       "</tr>\n",
       "<tr>\n",
       "  <th>Covariance Type:</th>     <td>nonrobust</td>    <th>  LLR p-value:       </th> <td>2.074e-67</td>\n",
       "</tr>\n",
       "</table>\n",
       "<table class=\"simpletable\">\n",
       "<tr>\n",
       "     <td></td>       <th>coef</th>     <th>std err</th>      <th>z</th>      <th>P>|z|</th>  <th>[0.025</th>    <th>0.975]</th>  \n",
       "</tr>\n",
       "<tr>\n",
       "  <th>const</th>  <td>   -1.3264</td> <td>    0.248</td> <td>   -5.351</td> <td> 0.000</td> <td>   -1.812</td> <td>   -0.841</td>\n",
       "</tr>\n",
       "<tr>\n",
       "  <th>First</th>  <td>    2.5806</td> <td>    0.281</td> <td>    9.169</td> <td> 0.000</td> <td>    2.029</td> <td>    3.132</td>\n",
       "</tr>\n",
       "<tr>\n",
       "  <th>Second</th> <td>    1.2708</td> <td>    0.244</td> <td>    5.207</td> <td> 0.000</td> <td>    0.793</td> <td>    1.749</td>\n",
       "</tr>\n",
       "<tr>\n",
       "  <th>female</th> <td>    2.5228</td> <td>    0.207</td> <td>   12.164</td> <td> 0.000</td> <td>    2.116</td> <td>    2.929</td>\n",
       "</tr>\n",
       "<tr>\n",
       "  <th>age</th>    <td>   -0.0370</td> <td>    0.008</td> <td>   -4.831</td> <td> 0.000</td> <td>   -0.052</td> <td>   -0.022</td>\n",
       "</tr>\n",
       "</table>"
      ],
      "text/latex": [
       "\\begin{center}\n",
       "\\begin{tabular}{lclc}\n",
       "\\toprule\n",
       "\\textbf{Dep. Variable:}   &     survived     & \\textbf{  No. Observations:  } &      714    \\\\\n",
       "\\textbf{Model:}           &      Logit       & \\textbf{  Df Residuals:      } &      709    \\\\\n",
       "\\textbf{Method:}          &       MLE        & \\textbf{  Df Model:          } &        4    \\\\\n",
       "\\textbf{Date:}            & Mon, 21 Apr 2025 & \\textbf{  Pseudo R-squ.:     } &   0.3289    \\\\\n",
       "\\textbf{Time:}            &     18:12:10     & \\textbf{  Log-Likelihood:    } &   -323.64   \\\\\n",
       "\\textbf{converged:}       &       True       & \\textbf{  LL-Null:           } &   -482.26   \\\\\n",
       "\\textbf{Covariance Type:} &    nonrobust     & \\textbf{  LLR p-value:       } & 2.074e-67   \\\\\n",
       "\\bottomrule\n",
       "\\end{tabular}\n",
       "\\begin{tabular}{lcccccc}\n",
       "                & \\textbf{coef} & \\textbf{std err} & \\textbf{z} & \\textbf{P$> |$z$|$} & \\textbf{[0.025} & \\textbf{0.975]}  \\\\\n",
       "\\midrule\n",
       "\\textbf{const}  &      -1.3264  &        0.248     &    -5.351  &         0.000        &       -1.812    &       -0.841     \\\\\n",
       "\\textbf{First}  &       2.5806  &        0.281     &     9.169  &         0.000        &        2.029    &        3.132     \\\\\n",
       "\\textbf{Second} &       1.2708  &        0.244     &     5.207  &         0.000        &        0.793    &        1.749     \\\\\n",
       "\\textbf{female} &       2.5228  &        0.207     &    12.164  &         0.000        &        2.116    &        2.929     \\\\\n",
       "\\textbf{age}    &      -0.0370  &        0.008     &    -4.831  &         0.000        &       -0.052    &       -0.022     \\\\\n",
       "\\bottomrule\n",
       "\\end{tabular}\n",
       "%\\caption{Logit Regression Results}\n",
       "\\end{center}"
      ],
      "text/plain": [
       "<class 'statsmodels.iolib.summary.Summary'>\n",
       "\"\"\"\n",
       "                           Logit Regression Results                           \n",
       "==============================================================================\n",
       "Dep. Variable:               survived   No. Observations:                  714\n",
       "Model:                          Logit   Df Residuals:                      709\n",
       "Method:                           MLE   Df Model:                            4\n",
       "Date:                Mon, 21 Apr 2025   Pseudo R-squ.:                  0.3289\n",
       "Time:                        18:12:10   Log-Likelihood:                -323.64\n",
       "converged:                       True   LL-Null:                       -482.26\n",
       "Covariance Type:            nonrobust   LLR p-value:                 2.074e-67\n",
       "==============================================================================\n",
       "                 coef    std err          z      P>|z|      [0.025      0.975]\n",
       "------------------------------------------------------------------------------\n",
       "const         -1.3264      0.248     -5.351      0.000      -1.812      -0.841\n",
       "First          2.5806      0.281      9.169      0.000       2.029       3.132\n",
       "Second         1.2708      0.244      5.207      0.000       0.793       1.749\n",
       "female         2.5228      0.207     12.164      0.000       2.116       2.929\n",
       "age           -0.0370      0.008     -4.831      0.000      -0.052      -0.022\n",
       "==============================================================================\n",
       "\"\"\""
      ]
     },
     "execution_count": 91,
     "metadata": {},
     "output_type": "execute_result"
    }
   ],
   "source": [
    "result.summary()"
   ]
  },
  {
   "cell_type": "code",
   "execution_count": 92,
   "id": "6e7b2826",
   "metadata": {},
   "outputs": [
    {
     "data": {
      "text/plain": [
       "const    -1.326394\n",
       "First     2.580625\n",
       "Second    1.270826\n",
       "female    2.522781\n",
       "age      -0.036985\n",
       "dtype: float64"
      ]
     },
     "execution_count": 92,
     "metadata": {},
     "output_type": "execute_result"
    }
   ],
   "source": [
    "beta = result.params\n",
    "beta"
   ]
  },
  {
   "cell_type": "markdown",
   "id": "f710b4b3",
   "metadata": {},
   "source": [
    "As an example, our model suggests a 17-year-old female traveling in first class (such as Rose in the 1997 James Cameron film) had a 95.9% of chance of surviving:"
   ]
  },
  {
   "cell_type": "code",
   "execution_count": 93,
   "id": "c6601ace",
   "metadata": {},
   "outputs": [
    {
     "data": {
      "text/plain": [
       "np.float64(3.1482631377764765)"
      ]
     },
     "execution_count": 93,
     "metadata": {},
     "output_type": "execute_result"
    }
   ],
   "source": [
    "linear_out = beta['const'] + beta['First']*1 + beta['Second']*0 + beta['female']*1 + beta['age']*17\n",
    "linear_out"
   ]
  },
  {
   "cell_type": "code",
   "execution_count": 94,
   "id": "773d1c8c",
   "metadata": {},
   "outputs": [
    {
     "data": {
      "text/plain": [
       "np.float64(0.9588402300157423)"
      ]
     },
     "execution_count": 94,
     "metadata": {},
     "output_type": "execute_result"
    }
   ],
   "source": [
    "expit(linear_out)"
   ]
  },
  {
   "cell_type": "markdown",
   "id": "6968c830",
   "metadata": {},
   "source": [
    "In contrast, a 20-year-old male traveling in third class had an 11.2% chance of surviving:"
   ]
  },
  {
   "cell_type": "code",
   "execution_count": null,
   "id": "ad24abee",
   "metadata": {},
   "outputs": [],
   "source": [
    "jack = np.array([1, 0, 0, 0, 20])"
   ]
  },
  {
   "cell_type": "code",
   "execution_count": 96,
   "id": "8a64c5ed",
   "metadata": {},
   "outputs": [
    {
     "data": {
      "text/plain": [
       "np.float64(-1.9551430995959052)"
      ]
     },
     "execution_count": 96,
     "metadata": {},
     "output_type": "execute_result"
    }
   ],
   "source": [
    "linear_out = np.dot(beta, jack)\n",
    "linear_out"
   ]
  },
  {
   "cell_type": "code",
   "execution_count": 97,
   "id": "e6a81d6d",
   "metadata": {},
   "outputs": [
    {
     "data": {
      "text/plain": [
       "np.float64(0.12399363756921496)"
      ]
     },
     "execution_count": 97,
     "metadata": {},
     "output_type": "execute_result"
    }
   ],
   "source": [
    "expit(linear_out)"
   ]
  },
  {
   "cell_type": "markdown",
   "id": "6b0a355d",
   "metadata": {},
   "source": [
    "**Exercises**\n",
    "\n",
    "1. Use the scikit-learn `train_test_split()` method ([documentation here](https://scikit-learn.org/stable/modules/generated/sklearn.model_selection.train_test_split.html)) to split the titanic data into a training data set (say, two thirds of the data) and a test data set (one third of the data).\n",
    "\n",
    "2. Re-train the OLS model above using your newly-created training data set. Using the test data set, test the model's quality, e.g., with respect to:\n",
    "\n",
    "    * Accuracy (using a standard 50% binary classification threshold)\n",
    "    * Area under the receiving operator characteristic curve (we covered this in [Calculus II](https://github.com/jonkrohn/ML-foundations/blob/master/notebooks/4-calculus-ii.ipynb)).\n",
    "\n",
    "3. Use your own creative whims to add additional features to an OLS model and train it using the training set. How does your new model compare on the test data set metrics relative to the baseline model? And how do they compare to the [Kaggle leaderboard](https://www.kaggle.com/c/titanic/leaderboard)?"
   ]
  }
 ],
 "metadata": {
  "kernelspec": {
   "display_name": "my_ai_py",
   "language": "python",
   "name": "python3"
  },
  "language_info": {
   "codemirror_mode": {
    "name": "ipython",
    "version": 3
   },
   "file_extension": ".py",
   "mimetype": "text/x-python",
   "name": "python",
   "nbconvert_exporter": "python",
   "pygments_lexer": "ipython3",
   "version": "3.12.9"
  }
 },
 "nbformat": 4,
 "nbformat_minor": 5
}
