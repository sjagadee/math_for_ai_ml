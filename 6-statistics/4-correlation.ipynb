{
 "cells": [
  {
   "cell_type": "markdown",
   "id": "771ec6eb",
   "metadata": {},
   "source": [
    "## Pearson Correlation Coefficient\n",
    "\n",
    "If we have two vectors of the same length, $x$ and $y$, where each element of $x$ is paired with the corresponding element of $y$, **covariance** provides a measure of how related the variables are to each other:\n",
    "$$ \\text{cov}(x, y) = \\frac{\\sum_{i=1}^n (x_i - \\bar{x})(y_i - \\bar{y}) }{n} $$\n",
    "\n",
    "A drawback of covariance is that it confounds the relative scale of two variables with a measure of the variables' relatedness. **Correlation** builds on covariance and overcomes this drawback via rescaling, thereby measuring (linear) relatedness exclusively. Correlation is much more common because of this difference.\n",
    "\n",
    "The correlation coefficient (developed by Karl Pearson in the 20th c. though known in the 19th c.) is often denoted with $r$ or $\\rho$ and is defined by:\n",
    "$$ \\rho_{x,y} = \\frac{\\text{cov}(x,y)}{\\sigma_x \\sigma_y} $$"
   ]
  },
  {
   "cell_type": "code",
   "execution_count": 2,
   "id": "cc9ab02e",
   "metadata": {},
   "outputs": [],
   "source": [
    "import numpy as np\n",
    "import scipy.stats as st\n",
    "import matplotlib.pyplot as plt\n",
    "import seaborn as sns"
   ]
  },
  {
   "cell_type": "code",
   "execution_count": 3,
   "id": "9c6165e7",
   "metadata": {},
   "outputs": [
    {
     "data": {
      "text/html": [
       "<div>\n",
       "<style scoped>\n",
       "    .dataframe tbody tr th:only-of-type {\n",
       "        vertical-align: middle;\n",
       "    }\n",
       "\n",
       "    .dataframe tbody tr th {\n",
       "        vertical-align: top;\n",
       "    }\n",
       "\n",
       "    .dataframe thead th {\n",
       "        text-align: right;\n",
       "    }\n",
       "</style>\n",
       "<table border=\"1\" class=\"dataframe\">\n",
       "  <thead>\n",
       "    <tr style=\"text-align: right;\">\n",
       "      <th></th>\n",
       "      <th>sepal_length</th>\n",
       "      <th>sepal_width</th>\n",
       "      <th>petal_length</th>\n",
       "      <th>petal_width</th>\n",
       "      <th>species</th>\n",
       "    </tr>\n",
       "  </thead>\n",
       "  <tbody>\n",
       "    <tr>\n",
       "      <th>0</th>\n",
       "      <td>5.1</td>\n",
       "      <td>3.5</td>\n",
       "      <td>1.4</td>\n",
       "      <td>0.2</td>\n",
       "      <td>setosa</td>\n",
       "    </tr>\n",
       "    <tr>\n",
       "      <th>1</th>\n",
       "      <td>4.9</td>\n",
       "      <td>3.0</td>\n",
       "      <td>1.4</td>\n",
       "      <td>0.2</td>\n",
       "      <td>setosa</td>\n",
       "    </tr>\n",
       "    <tr>\n",
       "      <th>2</th>\n",
       "      <td>4.7</td>\n",
       "      <td>3.2</td>\n",
       "      <td>1.3</td>\n",
       "      <td>0.2</td>\n",
       "      <td>setosa</td>\n",
       "    </tr>\n",
       "    <tr>\n",
       "      <th>3</th>\n",
       "      <td>4.6</td>\n",
       "      <td>3.1</td>\n",
       "      <td>1.5</td>\n",
       "      <td>0.2</td>\n",
       "      <td>setosa</td>\n",
       "    </tr>\n",
       "    <tr>\n",
       "      <th>4</th>\n",
       "      <td>5.0</td>\n",
       "      <td>3.6</td>\n",
       "      <td>1.4</td>\n",
       "      <td>0.2</td>\n",
       "      <td>setosa</td>\n",
       "    </tr>\n",
       "  </tbody>\n",
       "</table>\n",
       "</div>"
      ],
      "text/plain": [
       "   sepal_length  sepal_width  petal_length  petal_width species\n",
       "0           5.1          3.5           1.4          0.2  setosa\n",
       "1           4.9          3.0           1.4          0.2  setosa\n",
       "2           4.7          3.2           1.3          0.2  setosa\n",
       "3           4.6          3.1           1.5          0.2  setosa\n",
       "4           5.0          3.6           1.4          0.2  setosa"
      ]
     },
     "execution_count": 3,
     "metadata": {},
     "output_type": "execute_result"
    }
   ],
   "source": [
    "iris = sns.load_dataset('iris')\n",
    "iris.head()"
   ]
  },
  {
   "cell_type": "code",
   "execution_count": 4,
   "id": "9a9e6a29",
   "metadata": {},
   "outputs": [],
   "source": [
    "x = iris['sepal_length']\n",
    "y = iris['petal_length']\n",
    "\n",
    "sns.set_style('darkgrid')"
   ]
  },
  {
   "cell_type": "code",
   "execution_count": 5,
   "id": "fc08b2c7",
   "metadata": {},
   "outputs": [
    {
     "data": {
      "text/plain": [
       "<Axes: xlabel='sepal_length', ylabel='petal_length'>"
      ]
     },
     "execution_count": 5,
     "metadata": {},
     "output_type": "execute_result"
    },
    {
     "data": {
      "image/png": "[encoded data removed]",
      "text/plain": [
       "<Figure size 640x480 with 1 Axes>"
      ]
     },
     "metadata": {},
     "output_type": "display_data"
    }
   ],
   "source": [
    "sns.scatterplot(x=x, y=y)"
   ]
  },
  {
   "cell_type": "code",
   "execution_count": 8,
   "id": "ebf6a9f9",
   "metadata": {},
   "outputs": [
    {
     "name": "stdout",
     "output_type": "stream",
     "text": [
      "5.843333333333334 3.7580000000000005\n"
     ]
    }
   ],
   "source": [
    "xbar, ybar = np.mean(x), np.mean(y)\n",
    "print(xbar, ybar)"
   ]
  },
  {
   "cell_type": "code",
   "execution_count": 9,
   "id": "7eede541",
   "metadata": {},
   "outputs": [],
   "source": [
    "n = iris.sepal_length.size"
   ]
  },
  {
   "cell_type": "code",
   "execution_count": 10,
   "id": "aeac6bab",
   "metadata": {},
   "outputs": [
    {
     "data": {
      "text/plain": [
       "np.float64(1.2658200000000006)"
      ]
     },
     "execution_count": 10,
     "metadata": {},
     "output_type": "execute_result"
    }
   ],
   "source": [
    "product = []\n",
    "for i in range(n):\n",
    "    product.append((x[i] - xbar) * (y[i] - ybar))\n",
    "    \n",
    "cov = sum(product) / n\n",
    "cov"
   ]
  },
  {
   "cell_type": "code",
   "execution_count": 11,
   "id": "444537cb",
   "metadata": {},
   "outputs": [
    {
     "data": {
      "text/plain": [
       "np.float64(0.8717537758865835)"
      ]
     },
     "execution_count": 11,
     "metadata": {},
     "output_type": "execute_result"
    }
   ],
   "source": [
    "# pearson correlation coefficient\n",
    "r = cov / (np.std(x) * np.std(y))\n",
    "r"
   ]
  },
  {
   "cell_type": "markdown",
   "id": "1bc0f295",
   "metadata": {},
   "source": [
    "We reached this point in *Probability*. Now, as for how to determine a *p*-value, we first calculate the *t*-statistic...\n",
    "$$ t = r \\sqrt{\\frac{n-2}{1-r^2}} $$\n",
    "\n",
    "(This formula standardizes the correlation coefficient, taking into account the sample size *n* and the strength of the relationship *r*, to produce a *t*-statistic that follows [Student's *t*-distribution](https://en.wikipedia.org/wiki/Student%27s_t-distribution).)"
   ]
  },
  {
   "cell_type": "code",
   "execution_count": 12,
   "id": "5f8984fd",
   "metadata": {},
   "outputs": [
    {
     "data": {
      "text/plain": [
       "np.float64(21.646019345759807)"
      ]
     },
     "execution_count": 12,
     "metadata": {},
     "output_type": "execute_result"
    }
   ],
   "source": [
    "t = r * ((n-2)/ (1 - r**2))**0.5\n",
    "t"
   ]
  },
  {
   "cell_type": "markdown",
   "id": "4b5a6e55",
   "metadata": {},
   "source": [
    "Convert to p-value as we have done it several times:"
   ]
  },
  {
   "cell_type": "code",
   "execution_count": 15,
   "id": "775871c1",
   "metadata": {},
   "outputs": [],
   "source": [
    "def p_from_t(my_t, my_n):\n",
    "    return 2 * st.t.cdf(-abs(my_t), my_n-1) # 2nd arg to t.cdf() is \"degrees of freedom\""
   ]
  },
  {
   "cell_type": "code",
   "execution_count": 20,
   "id": "8ba18565",
   "metadata": {},
   "outputs": [
    {
     "data": {
      "text/plain": [
       "np.float64(1.0386674194495906e-47)"
      ]
     },
     "execution_count": 20,
     "metadata": {},
     "output_type": "execute_result"
    }
   ],
   "source": [
    "p = p_from_t(t, n-1)\n",
    "p"
   ]
  },
  {
   "cell_type": "code",
   "execution_count": 21,
   "id": "c34123cf",
   "metadata": {},
   "outputs": [
    {
     "data": {
      "text/plain": [
       "np.float64(46.98352349096045)"
      ]
     },
     "execution_count": 21,
     "metadata": {},
     "output_type": "execute_result"
    }
   ],
   "source": [
    "-np.log10(p)"
   ]
  },
  {
   "cell_type": "markdown",
   "id": "02b74d66",
   "metadata": {},
   "source": [
    "This confirms that iris sepal length's positive correlation with petal length is (extremely!) statistically significant.\n",
    "\n",
    "All of the above can be done in a single line with SciPy's `pearsonr()` method:"
   ]
  },
  {
   "cell_type": "code",
   "execution_count": 22,
   "id": "43222194",
   "metadata": {},
   "outputs": [
    {
     "data": {
      "text/plain": [
       "PearsonRResult(statistic=np.float64(0.8717537758865831), pvalue=np.float64(1.0386674194498828e-47))"
      ]
     },
     "execution_count": 22,
     "metadata": {},
     "output_type": "execute_result"
    }
   ],
   "source": [
    "st.pearsonr(x, y)"
   ]
  },
  {
   "cell_type": "markdown",
   "id": "2309dc01",
   "metadata": {},
   "source": [
    "And, for reference, here's a correlation that is not significant ($r \\approx 0$):"
   ]
  },
  {
   "cell_type": "code",
   "execution_count": 23,
   "id": "9052c246",
   "metadata": {},
   "outputs": [
    {
     "data": {
      "image/png": "[encoded data removed]",
      "text/plain": [
       "<Figure size 640x480 with 1 Axes>"
      ]
     },
     "metadata": {},
     "output_type": "display_data"
    }
   ],
   "source": [
    "_ = sns.scatterplot(x=iris.sepal_length, y=iris.sepal_width)"
   ]
  },
  {
   "cell_type": "code",
   "execution_count": 24,
   "id": "5e47bee4",
   "metadata": {},
   "outputs": [
    {
     "data": {
      "text/plain": [
       "PearsonRResult(statistic=np.float64(-0.11756978413300204), pvalue=np.float64(0.1518982607114478))"
      ]
     },
     "execution_count": 24,
     "metadata": {},
     "output_type": "execute_result"
    }
   ],
   "source": [
    "st.pearsonr(iris.sepal_length, iris.sepal_width)"
   ]
  },
  {
   "cell_type": "markdown",
   "id": "de35fedc",
   "metadata": {},
   "source": [
    "## The Coefficient of Determination\n",
    "\n",
    "...also known as $r^2$, this is the proportion of variance in one variable explained by another.\n",
    "\n",
    "It can range from 0 to 1 and it is simply the square of the Pearson $r$:"
   ]
  },
  {
   "cell_type": "code",
   "execution_count": 25,
   "id": "29b3b2e4",
   "metadata": {},
   "outputs": [
    {
     "data": {
      "text/plain": [
       "np.float64(0.7599546457725157)"
      ]
     },
     "execution_count": 25,
     "metadata": {},
     "output_type": "execute_result"
    }
   ],
   "source": [
    "rsq = r**2\n",
    "rsq"
   ]
  },
  {
   "cell_type": "markdown",
   "id": "641d5db7",
   "metadata": {},
   "source": [
    "In this case, it indicates that 76% of the variance in iris petal length can be explained by sepal length. (This is easier to understand where one variable could straightforwardly drive variation in the other; more on that in Segment 2.)\n",
    "\n",
    "For comparison, only 1.4% of the variance in sepal width can be explained by sepal length:"
   ]
  },
  {
   "cell_type": "code",
   "execution_count": 26,
   "id": "3a6365e4",
   "metadata": {},
   "outputs": [
    {
     "data": {
      "text/plain": [
       "np.float64(0.013822654141080698)"
      ]
     },
     "execution_count": 26,
     "metadata": {},
     "output_type": "execute_result"
    }
   ],
   "source": [
    "st.pearsonr(iris.sepal_length, iris.sepal_width)[0]**2"
   ]
  },
  {
   "cell_type": "markdown",
   "id": "89bf9cf3",
   "metadata": {},
   "source": [
    "## Correlation vs Causation"
   ]
  },
  {
   "cell_type": "markdown",
   "id": "00338e89",
   "metadata": {},
   "source": [
    "Correlation doesn't imply **causation** on its own. E.g., sepal length and petal length are extremely highly correlated, but this doesn't imply that sepal length causes petal length or vice versa. (Thousands of spurious correlations are provided [here](https://www.tylervigen.com/spurious-correlations) for your amusement.)\n",
    "\n",
    "There is a lot to causality and I recommend Judea Pearl's [*Causality*](http://bayes.cs.ucla.edu/BOOK-2K/), the classic technical text on the topic, if you're keen to explore this in depth. [*The Book of Why*](http://bayes.cs.ucla.edu/WHY/) is an exceptional lay alternative by the same author.\n",
    "\n",
    "In brief, three criteria are required for inferring causal relationships:\n",
    "\n",
    "1. **Covariation**: Two variables vary together (this criterion is satisfied by sepal and petal length)\n",
    "2. **Temporal precedence**: The affected variable must vary *after* the causal variable is varied.\n",
    "3. **Elimination of extraneous variables**: We must be sure no third variable is causing the variation. This can be tricky for data we obtained through observation alone, but easier when we can control the causal variable, e.g., with (ideally double-blind) randomized control trials.\n",
    "\n",
    "Some examples of where we could infer causality from correlation in ML:\n",
    "* Additional neurons --> higher accuracy\n",
    "* Additional servers or RAM --> shorter inference time\n",
    "* Removal of pronouns --> less demographic bias in model"
   ]
  },
  {
   "cell_type": "markdown",
   "id": "c6d9fc48",
   "metadata": {},
   "source": [
    "## Correcting for Multiple Comparisons\n",
    "\n",
    "A major issue with frequentist statistics is the issue of multiple comparisons:\n",
    "\n",
    "* If you perform 20 statistical tests where there is no real effect (i.e., the null hypothesis is true), then we would expect one of them to come up significant by chance alone (i.e., a *false positive* or *Type I error*).\n",
    "* If you perform a hundred tests in such a circumstance, then you should expect five false positives.\n",
    "\n",
    "The most straightforward, and indeed the most widely-used, solution is the **Bonferroni correction** (named after the 20th c. Italian mathematician Carlo Emilio Bonferroni). Assuming, we'd like an overall $\\alpha = .05$:\n",
    "\n",
    "* If we're planning on conducting ten tests ($m=10$), the significance threshold for each individual test is $\\frac{\\alpha}{m} = \\frac{.05}{10} = .005$\n",
    "* With 20 tests, it's $\\frac{\\alpha}{m} = \\frac{.05}{20} = .0025$\n",
    "* With 100 tests, it's $\\frac{\\alpha}{m} = \\frac{.05}{100} = .0005$\n",
    "\n",
    "(Other, less straightforward, approaches for adjusting $\\alpha$ for multiple comparisons exist. They're beyond our scope, but the major ones are listed under the *General methods of alpha adjustment for multiple comparisons* heading [here](https://en.wikipedia.org/wiki/Multiple_comparisons_problem#See_also).)"
   ]
  },
  {
   "cell_type": "markdown",
   "id": "d395e7a7",
   "metadata": {},
   "source": []
  }
 ],
 "metadata": {
  "kernelspec": {
   "display_name": "my_ai_py",
   "language": "python",
   "name": "python3"
  },
  "language_info": {
   "codemirror_mode": {
    "name": "ipython",
    "version": 3
   },
   "file_extension": ".py",
   "mimetype": "text/x-python",
   "name": "python",
   "nbconvert_exporter": "python",
   "pygments_lexer": "ipython3",
   "version": "3.12.9"
  }
 },
 "nbformat": 4,
 "nbformat_minor": 5
}
