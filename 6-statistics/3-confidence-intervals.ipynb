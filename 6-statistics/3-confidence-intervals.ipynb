{
 "cells": [
  {
   "cell_type": "markdown",
   "id": "7e5c4758",
   "metadata": {},
   "source": [
    "## Confidence Intervals\n",
    "\n",
    "When examining sample means as we have been for the *t*-test, a useful statistical tool is the **confidence interval** (CI), which we for example often see associated with polling results when there's an upcoming election. CIs allow us to make statements such as \"there is a 95% chance that the population mean lies within this particular range of values\".\n",
    "\n",
    "We can calculate a CI by rearranging the *z*-score formula:\n",
    "$$ \\text{C.I.} = \\bar{x} \\pm z \\frac{s}{\\sqrt{n}} $$\n",
    "Where:\n",
    "* $\\bar{x}$ is the sample mean\n",
    "* $s$ is the sample standard deviation\n",
    "* $n$ is the sample size\n",
    "* $z$ corresponds to a *z*-score threshold (e.g., the most common 95% CI is $z \\pm 1.960$; other popular ones are the 90% CI at $z \\pm 1.645$ and the 99% CI at $z \\pm 2.576$)\n",
    "\n",
    "For example, to find the 95% confidence interval for the true mean yield of our GMO yeast:"
   ]
  },
  {
   "cell_type": "code",
   "execution_count": 2,
   "id": "bee02689",
   "metadata": {},
   "outputs": [],
   "source": [
    "import numpy as np\n",
    "import scipy.stats as st\n",
    "import matplotlib.pyplot as plt\n",
    "import seaborn as sns"
   ]
  },
  {
   "cell_type": "code",
   "execution_count": 3,
   "id": "6629c77d",
   "metadata": {},
   "outputs": [],
   "source": [
    "x = np.array([48, 50, 54, 60, 49, 55, 59, 62])\n",
    "xbar = np.mean(x)\n",
    "s = x.std()\n",
    "n = len(x)"
   ]
  },
  {
   "cell_type": "code",
   "execution_count": 4,
   "id": "2509b62b",
   "metadata": {},
   "outputs": [],
   "source": [
    "z = 1.96"
   ]
  },
  {
   "cell_type": "code",
   "execution_count": 5,
   "id": "3fea33b9",
   "metadata": {},
   "outputs": [],
   "source": [
    "def CI_err_calc(my_z, my_s, my_n):\n",
    "    return my_z * (my_s / my_n**0.5)\n"
   ]
  },
  {
   "cell_type": "code",
   "execution_count": 7,
   "id": "7fbfce49",
   "metadata": {},
   "outputs": [
    {
     "data": {
      "text/plain": [
       "(np.float64(58.08874030132168), np.float64(51.16125969867832))"
      ]
     },
     "execution_count": 7,
     "metadata": {},
     "output_type": "execute_result"
    }
   ],
   "source": [
    "ci_err = CI_err_calc(z, s, n)\n",
    "ci_plus = xbar + ci_err\n",
    "ci_minus = xbar - ci_err\n",
    "ci_plus, ci_minus"
   ]
  },
  {
   "cell_type": "markdown",
   "id": "a052e6c3",
   "metadata": {},
   "source": [
    "Therefore, there's a 95% chance that the true mean yield of our GMO yeast lies in the range of 51.2 to 58.1 liters. Since this CI doesn't overlap with the established baseline mean of 50L, this corresponds to stating that the GMO yield is significantly greater than the baseline where $\\alpha = .05$, as we already determined:"
   ]
  },
  {
   "cell_type": "code",
   "execution_count": 9,
   "id": "6ff47706",
   "metadata": {},
   "outputs": [
    {
     "data": {
      "image/png": "[encoded data removed]",
      "text/plain": [
       "<Figure size 640x480 with 1 Axes>"
      ]
     },
     "metadata": {},
     "output_type": "display_data"
    }
   ],
   "source": [
    "fig, ax = plt.subplots()\n",
    "plt.ylabel('Stout Yield (L)')\n",
    "plt.grid(axis='y')\n",
    "ax.errorbar(['GMO'], [xbar], [ci_err], fmt='o', color='green')\n",
    "_ = ax.axhline(50, color='orange')"
   ]
  },
  {
   "cell_type": "markdown",
   "id": "f1e28ae1",
   "metadata": {},
   "source": [
    "Similarly, we can compare several sample means with CIs. Using our penguins again:"
   ]
  },
  {
   "cell_type": "code",
   "execution_count": 10,
   "id": "9ad238fd",
   "metadata": {},
   "outputs": [
    {
     "data": {
      "text/html": [
       "<div>\n",
       "<style scoped>\n",
       "    .dataframe tbody tr th:only-of-type {\n",
       "        vertical-align: middle;\n",
       "    }\n",
       "\n",
       "    .dataframe tbody tr th {\n",
       "        vertical-align: top;\n",
       "    }\n",
       "\n",
       "    .dataframe thead th {\n",
       "        text-align: right;\n",
       "    }\n",
       "</style>\n",
       "<table border=\"1\" class=\"dataframe\">\n",
       "  <thead>\n",
       "    <tr style=\"text-align: right;\">\n",
       "      <th></th>\n",
       "      <th>species</th>\n",
       "      <th>island</th>\n",
       "      <th>bill_length_mm</th>\n",
       "      <th>bill_depth_mm</th>\n",
       "      <th>flipper_length_mm</th>\n",
       "      <th>body_mass_g</th>\n",
       "      <th>sex</th>\n",
       "    </tr>\n",
       "  </thead>\n",
       "  <tbody>\n",
       "    <tr>\n",
       "      <th>0</th>\n",
       "      <td>Adelie</td>\n",
       "      <td>Torgersen</td>\n",
       "      <td>39.1</td>\n",
       "      <td>18.7</td>\n",
       "      <td>181.0</td>\n",
       "      <td>3750.0</td>\n",
       "      <td>Male</td>\n",
       "    </tr>\n",
       "    <tr>\n",
       "      <th>1</th>\n",
       "      <td>Adelie</td>\n",
       "      <td>Torgersen</td>\n",
       "      <td>39.5</td>\n",
       "      <td>17.4</td>\n",
       "      <td>186.0</td>\n",
       "      <td>3800.0</td>\n",
       "      <td>Female</td>\n",
       "    </tr>\n",
       "    <tr>\n",
       "      <th>2</th>\n",
       "      <td>Adelie</td>\n",
       "      <td>Torgersen</td>\n",
       "      <td>40.3</td>\n",
       "      <td>18.0</td>\n",
       "      <td>195.0</td>\n",
       "      <td>3250.0</td>\n",
       "      <td>Female</td>\n",
       "    </tr>\n",
       "    <tr>\n",
       "      <th>4</th>\n",
       "      <td>Adelie</td>\n",
       "      <td>Torgersen</td>\n",
       "      <td>36.7</td>\n",
       "      <td>19.3</td>\n",
       "      <td>193.0</td>\n",
       "      <td>3450.0</td>\n",
       "      <td>Female</td>\n",
       "    </tr>\n",
       "    <tr>\n",
       "      <th>5</th>\n",
       "      <td>Adelie</td>\n",
       "      <td>Torgersen</td>\n",
       "      <td>39.3</td>\n",
       "      <td>20.6</td>\n",
       "      <td>190.0</td>\n",
       "      <td>3650.0</td>\n",
       "      <td>Male</td>\n",
       "    </tr>\n",
       "  </tbody>\n",
       "</table>\n",
       "</div>"
      ],
      "text/plain": [
       "  species     island  bill_length_mm  bill_depth_mm  flipper_length_mm  \\\n",
       "0  Adelie  Torgersen            39.1           18.7              181.0   \n",
       "1  Adelie  Torgersen            39.5           17.4              186.0   \n",
       "2  Adelie  Torgersen            40.3           18.0              195.0   \n",
       "4  Adelie  Torgersen            36.7           19.3              193.0   \n",
       "5  Adelie  Torgersen            39.3           20.6              190.0   \n",
       "\n",
       "   body_mass_g     sex  \n",
       "0       3750.0    Male  \n",
       "1       3800.0  Female  \n",
       "2       3250.0  Female  \n",
       "4       3450.0  Female  \n",
       "5       3650.0    Male  "
      ]
     },
     "execution_count": 10,
     "metadata": {},
     "output_type": "execute_result"
    }
   ],
   "source": [
    "penguins = sns.load_dataset(\"penguins\").dropna() # drop missing values\n",
    "penguins.head()"
   ]
  },
  {
   "cell_type": "code",
   "execution_count": 13,
   "id": "b140bf8f",
   "metadata": {},
   "outputs": [],
   "source": [
    "adelie = penguins[penguins[\"species\"] == \"Adelie\"]\n",
    "f = adelie[adelie[\"sex\"] == \"Female\"].body_mass_g.to_numpy() / 1000\n",
    "m = adelie[adelie[\"sex\"] == \"Male\"].body_mass_g.to_numpy() / 1000\n",
    "sf = f.var(ddof=1)\n",
    "sm = m.var(ddof=1)\n",
    "nf = len(f)\n",
    "nm = len(m)\n",
    "fbar = f.mean()\n",
    "mbar = m.mean()\n"
   ]
  },
  {
   "cell_type": "code",
   "execution_count": null,
   "id": "2ea39ebb",
   "metadata": {},
   "outputs": [],
   "source": [
    "f_ci_err = CI_err_calc(z, sf, nf)\n",
    "m_ci_err = CI_err_calc(z, sm, nm)"
   ]
  },
  {
   "cell_type": "code",
   "execution_count": 15,
   "id": "033db9a7",
   "metadata": {},
   "outputs": [
    {
     "data": {
      "image/png": "[encoded data removed]",
      "text/plain": [
       "<Figure size 640x480 with 1 Axes>"
      ]
     },
     "metadata": {},
     "output_type": "display_data"
    }
   ],
   "source": [
    "fig, ax = plt.subplots()\n",
    "plt.title('Adélie Penguins')\n",
    "plt.ylabel('Weight (kg)')\n",
    "plt.grid(axis='y')\n",
    "_ = ax.errorbar(['female', 'male'], [fbar, mbar], [f_ci_err, m_ci_err],\n",
    "                fmt='.', color='green')"
   ]
  },
  {
   "cell_type": "markdown",
   "id": "aee88eb7",
   "metadata": {},
   "source": [
    "The CIs are nowhere near overlapping, corresponding to the extremely significant (-log*P* $\\approx 25$) difference in penguin weight.\n",
    "\n",
    "In contrast, the CIs for female penguins from the three islands..."
   ]
  },
  {
   "cell_type": "code",
   "execution_count": 16,
   "id": "f37d47d3",
   "metadata": {},
   "outputs": [],
   "source": [
    "t = adelie[(adelie.sex == 'Female') & (adelie.island == 'Torgersen')]['body_mass_g'].to_numpy()/1000\n",
    "b = adelie[(adelie.sex == 'Female') & (adelie.island == 'Biscoe')]['body_mass_g'].to_numpy()/1000\n",
    "d = adelie[(adelie.sex == 'Female') & (adelie.island == 'Dream')]['body_mass_g'].to_numpy()/1000\n",
    "\n",
    "means = [t.mean(), b.mean(), d.mean()]\n",
    "s_t, sb, sd = t.var(ddof=1), b.var(ddof=1), d.var(ddof=1) # s_t to disambiguate stats package\n",
    "nt, nb, nd = len(t), len(b), len(d)\n",
    "\n",
    "ci_errs = [CI_err_calc(z, s_t, nt), CI_err_calc(z, sb, nb), CI_err_calc(z, sd, nd)]"
   ]
  },
  {
   "cell_type": "code",
   "execution_count": 17,
   "id": "06d47d5b",
   "metadata": {},
   "outputs": [
    {
     "data": {
      "image/png": "[encoded data removed]",
      "text/plain": [
       "<Figure size 640x480 with 1 Axes>"
      ]
     },
     "metadata": {},
     "output_type": "display_data"
    }
   ],
   "source": [
    "fig, ax = plt.subplots()\n",
    "plt.title('Female Adélie Penguins')\n",
    "plt.ylabel('Weight (kg)')\n",
    "plt.grid(axis='y')\n",
    "_ = ax.errorbar(['Torgersen', 'Biscoe', 'Dream'], means, ci_errs,\n",
    "                fmt='o', color='green')"
   ]
  },
  {
   "cell_type": "code",
   "execution_count": null,
   "id": "204c6c29",
   "metadata": {},
   "outputs": [],
   "source": []
  }
 ],
 "metadata": {
  "kernelspec": {
   "display_name": "my_ai_py",
   "language": "python",
   "name": "python3"
  },
  "language_info": {
   "codemirror_mode": {
    "name": "ipython",
    "version": 3
   },
   "file_extension": ".py",
   "mimetype": "text/x-python",
   "name": "python",
   "nbconvert_exporter": "python",
   "pygments_lexer": "ipython3",
   "version": "3.12.9"
  }
 },
 "nbformat": 4,
 "nbformat_minor": 5
}
