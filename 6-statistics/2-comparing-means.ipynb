{
 "cells": [
  {
   "cell_type": "markdown",
   "id": "3bc1dd5b",
   "metadata": {},
   "source": [
    "## Comparing Means"
   ]
  },
  {
   "cell_type": "code",
   "execution_count": 1,
   "id": "86dc5eb7",
   "metadata": {},
   "outputs": [],
   "source": [
    "import numpy as np\n",
    "import scipy.stats as st\n",
    "import matplotlib.pyplot as plt\n",
    "import seaborn as sns"
   ]
  },
  {
   "cell_type": "markdown",
   "id": "6acfcf85",
   "metadata": {},
   "source": [
    "### Comparing means for t-test\n",
    "\n",
    "Where *z*-scores apply to *individual values* only, *t*-tests enables us to compare (the mean of) a sample of *multiple values* to a reference mean."
   ]
  },
  {
   "cell_type": "markdown",
   "id": "af10f611",
   "metadata": {},
   "source": [
    "#### Student's single value t-test\n",
    "\n",
    "Named after William Sealy Gosset, an Oxford-trained scientist and mathematician, who became a stout yield statistician for Guinness in Dublin (from 1899 to his fatal heart attack in 1937 shortly after being promoted to head brewer). Alongside sabbaticals in Karl Pearson's UCL Biometric Laboratory, Gosset published under the pseudonym Student (including on the *t*-test, starting in 1908) as it was against Guinness policy to publish."
   ]
  },
  {
   "cell_type": "markdown",
   "id": "2c2d7380",
   "metadata": {},
   "source": [
    "Recalling the formula for calculating a *z*-score:\n",
    "$$ z = \\frac{x_i-\\mu}{\\sigma} $$"
   ]
  },
  {
   "cell_type": "markdown",
   "id": "c7271ecd",
   "metadata": {},
   "source": [
    "The **single-sample *t*-test** is a variation on the theme and is defined by:\n",
    "$$ t = \\frac{\\bar{x} - \\mu_0}{s_{\\bar{x}}} $$\n",
    "Where:\n",
    "* $\\bar{x}$ is the sample mean\n",
    "* $\\mu_0$ is a reference mean, e.g., known population mean or \"null hypothesis\" mean\n",
    "* $s_{\\bar{x}}$ is the sample standard error"
   ]
  },
  {
   "cell_type": "markdown",
   "id": "a7be0dfd",
   "metadata": {},
   "source": [
    "Let's say you're the head brewer at Guinness. Your baseline brewing process yields 50L of stout. Using a new genetically-modified yeast, you obtain the following yields (all in liters) in four separate experiments:"
   ]
  },
  {
   "cell_type": "code",
   "execution_count": 2,
   "id": "942636ef",
   "metadata": {},
   "outputs": [],
   "source": [
    "x = [48, 50, 54, 60]"
   ]
  },
  {
   "cell_type": "markdown",
   "id": "7a764896",
   "metadata": {},
   "source": [
    "We can obtain the *t*-statistic for this sample as follows:"
   ]
  },
  {
   "cell_type": "code",
   "execution_count": 3,
   "id": "57dbce4d",
   "metadata": {},
   "outputs": [
    {
     "data": {
      "text/plain": [
       "np.float64(53.0)"
      ]
     },
     "execution_count": 3,
     "metadata": {},
     "output_type": "execute_result"
    }
   ],
   "source": [
    "xbar = np.mean(x)\n",
    "xbar"
   ]
  },
  {
   "cell_type": "code",
   "execution_count": 4,
   "id": "d8caa884",
   "metadata": {},
   "outputs": [
    {
     "data": {
      "text/plain": [
       "np.float64(2.6457513110645907)"
      ]
     },
     "execution_count": 4,
     "metadata": {},
     "output_type": "execute_result"
    }
   ],
   "source": [
    "sx = st.sem(x)\n",
    "sx"
   ]
  },
  {
   "cell_type": "code",
   "execution_count": 5,
   "id": "94d97082",
   "metadata": {},
   "outputs": [
    {
     "data": {
      "text/plain": [
       "np.float64(1.1338934190276817)"
      ]
     },
     "execution_count": 5,
     "metadata": {},
     "output_type": "execute_result"
    }
   ],
   "source": [
    "t = (xbar - 50) / sx\n",
    "t"
   ]
  },
  {
   "cell_type": "markdown",
   "id": "f3b6feb4",
   "metadata": {},
   "source": [
    "We can convert the *t*-value into a *p*-value using Student's *t*-distribution (similar to the normal *z*-distribution, but varies based on number of data points in sample; see [here](https://en.wikipedia.org/wiki/Student%27s_t-distribution) for more detail):"
   ]
  },
  {
   "cell_type": "code",
   "execution_count": 6,
   "id": "6d96d9c4",
   "metadata": {},
   "outputs": [],
   "source": [
    "def p_from_t(my_t, my_n):\n",
    "    return 2 * st.t.cdf(-abs(my_t), my_n-1) # 2nd arg to t.cdf() is \"degrees of freedom\""
   ]
  },
  {
   "cell_type": "code",
   "execution_count": 7,
   "id": "e23e1d25",
   "metadata": {},
   "outputs": [
    {
     "data": {
      "text/plain": [
       "np.float64(0.33925405085645427)"
      ]
     },
     "execution_count": 7,
     "metadata": {},
     "output_type": "execute_result"
    }
   ],
   "source": [
    "p_from_t(t, len(x))"
   ]
  },
  {
   "cell_type": "markdown",
   "id": "83864f96",
   "metadata": {},
   "source": [
    "(An illustration of **degrees of freedom**: If we know the mean of the array `x`, three of its four values can vary freely. That is, if we know three of the values in the array, the fourth has no \"freedom\"; it must be a specific value. Thus, the most common situation with statistical tests is that we have *n*-1 degrees of freedom.)"
   ]
  },
  {
   "cell_type": "markdown",
   "id": "74ff934c",
   "metadata": {},
   "source": [
    "For everyday usage, however, we can rely on the SciPy `ttest_1samp()` method:"
   ]
  },
  {
   "cell_type": "code",
   "execution_count": 8,
   "id": "0768844c",
   "metadata": {},
   "outputs": [
    {
     "data": {
      "text/plain": [
       "TtestResult(statistic=np.float64(1.1338934190276817), pvalue=np.float64(0.33925405085645427), df=np.int64(3))"
      ]
     },
     "execution_count": 8,
     "metadata": {},
     "output_type": "execute_result"
    }
   ],
   "source": [
    "st.ttest_1samp(x, 50)"
   ]
  },
  {
   "cell_type": "code",
   "execution_count": null,
   "id": "1026bfba",
   "metadata": {},
   "outputs": [],
   "source": []
  }
 ],
 "metadata": {
  "kernelspec": {
   "display_name": "my_ai_py",
   "language": "python",
   "name": "python3"
  },
  "language_info": {
   "codemirror_mode": {
    "name": "ipython",
    "version": 3
   },
   "file_extension": ".py",
   "mimetype": "text/x-python",
   "name": "python",
   "nbconvert_exporter": "python",
   "pygments_lexer": "ipython3",
   "version": "3.12.9"
  }
 },
 "nbformat": 4,
 "nbformat_minor": 5
}
