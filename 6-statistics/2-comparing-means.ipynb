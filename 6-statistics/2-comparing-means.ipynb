{
 "cells": [
  {
   "cell_type": "markdown",
   "id": "3bc1dd5b",
   "metadata": {},
   "source": [
    "## Comparing Means"
   ]
  },
  {
   "cell_type": "code",
   "execution_count": 1,
   "id": "86dc5eb7",
   "metadata": {},
   "outputs": [],
   "source": [
    "import numpy as np\n",
    "import scipy.stats as st\n",
    "import matplotlib.pyplot as plt\n",
    "import seaborn as sns"
   ]
  },
  {
   "cell_type": "markdown",
   "id": "6acfcf85",
   "metadata": {},
   "source": [
    "### Comparing means for t-test\n",
    "\n",
    "Where *z*-scores apply to *individual values* only, *t*-tests enables us to compare (the mean of) a sample of *multiple values* to a reference mean."
   ]
  },
  {
   "cell_type": "markdown",
   "id": "af10f611",
   "metadata": {},
   "source": [
    "#### Student's single value t-test\n",
    "\n",
    "Named after William Sealy Gosset, an Oxford-trained scientist and mathematician, who became a stout yield statistician for Guinness in Dublin (from 1899 to his fatal heart attack in 1937 shortly after being promoted to head brewer). Alongside sabbaticals in Karl Pearson's UCL Biometric Laboratory, Gosset published under the pseudonym Student (including on the *t*-test, starting in 1908) as it was against Guinness policy to publish."
   ]
  },
  {
   "cell_type": "markdown",
   "id": "2c2d7380",
   "metadata": {},
   "source": [
    "Recalling the formula for calculating a *z*-score:\n",
    "$$ z = \\frac{x_i-\\mu}{\\sigma} $$"
   ]
  },
  {
   "cell_type": "markdown",
   "id": "c7271ecd",
   "metadata": {},
   "source": [
    "The **single-sample *t*-test** is a variation on the theme and is defined by:\n",
    "$$ t = \\frac{\\bar{x} - \\mu_0}{s_{\\bar{x}}} $$\n",
    "Where:\n",
    "* $\\bar{x}$ is the sample mean\n",
    "* $\\mu_0$ is a reference mean, e.g., known population mean or \"null hypothesis\" mean\n",
    "* $s_{\\bar{x}}$ is the sample standard error"
   ]
  },
  {
   "cell_type": "markdown",
   "id": "a7be0dfd",
   "metadata": {},
   "source": [
    "Let's say you're the head brewer at Guinness. Your baseline brewing process yields 50L of stout. Using a new genetically-modified yeast, you obtain the following yields (all in liters) in four separate experiments:"
   ]
  },
  {
   "cell_type": "code",
   "execution_count": 2,
   "id": "942636ef",
   "metadata": {},
   "outputs": [],
   "source": [
    "x = [48, 50, 54, 60]"
   ]
  },
  {
   "cell_type": "markdown",
   "id": "7a764896",
   "metadata": {},
   "source": [
    "We can obtain the *t*-statistic for this sample as follows:"
   ]
  },
  {
   "cell_type": "code",
   "execution_count": 3,
   "id": "57dbce4d",
   "metadata": {},
   "outputs": [
    {
     "data": {
      "text/plain": [
       "np.float64(53.0)"
      ]
     },
     "execution_count": 3,
     "metadata": {},
     "output_type": "execute_result"
    }
   ],
   "source": [
    "xbar = np.mean(x)\n",
    "xbar"
   ]
  },
  {
   "cell_type": "code",
   "execution_count": 4,
   "id": "d8caa884",
   "metadata": {},
   "outputs": [
    {
     "data": {
      "text/plain": [
       "np.float64(2.6457513110645907)"
      ]
     },
     "execution_count": 4,
     "metadata": {},
     "output_type": "execute_result"
    }
   ],
   "source": [
    "sx = st.sem(x)\n",
    "sx"
   ]
  },
  {
   "cell_type": "code",
   "execution_count": 5,
   "id": "94d97082",
   "metadata": {},
   "outputs": [
    {
     "data": {
      "text/plain": [
       "np.float64(1.1338934190276817)"
      ]
     },
     "execution_count": 5,
     "metadata": {},
     "output_type": "execute_result"
    }
   ],
   "source": [
    "t = (xbar - 50) / sx\n",
    "t"
   ]
  },
  {
   "cell_type": "markdown",
   "id": "f3b6feb4",
   "metadata": {},
   "source": [
    "We can convert the *t*-value into a *p*-value using Student's *t*-distribution (similar to the normal *z*-distribution, but varies based on number of data points in sample; see [here](https://en.wikipedia.org/wiki/Student%27s_t-distribution) for more detail):"
   ]
  },
  {
   "cell_type": "code",
   "execution_count": 6,
   "id": "6d96d9c4",
   "metadata": {},
   "outputs": [],
   "source": [
    "def p_from_t(my_t, my_n):\n",
    "    return 2 * st.t.cdf(-abs(my_t), my_n-1) # 2nd arg to t.cdf() is \"degrees of freedom\""
   ]
  },
  {
   "cell_type": "code",
   "execution_count": 7,
   "id": "e23e1d25",
   "metadata": {},
   "outputs": [
    {
     "data": {
      "text/plain": [
       "np.float64(0.33925405085645427)"
      ]
     },
     "execution_count": 7,
     "metadata": {},
     "output_type": "execute_result"
    }
   ],
   "source": [
    "p_from_t(t, len(x))"
   ]
  },
  {
   "cell_type": "markdown",
   "id": "83864f96",
   "metadata": {},
   "source": [
    "(An illustration of **degrees of freedom**: If we know the mean of the array `x`, three of its four values can vary freely. That is, if we know three of the values in the array, the fourth has no \"freedom\"; it must be a specific value. Thus, the most common situation with statistical tests is that we have *n*-1 degrees of freedom.)"
   ]
  },
  {
   "cell_type": "markdown",
   "id": "74ff934c",
   "metadata": {},
   "source": [
    "For everyday usage, however, we can rely on the SciPy `ttest_1samp()` method:"
   ]
  },
  {
   "cell_type": "code",
   "execution_count": 8,
   "id": "0768844c",
   "metadata": {},
   "outputs": [
    {
     "data": {
      "text/plain": [
       "TtestResult(statistic=np.float64(1.1338934190276817), pvalue=np.float64(0.33925405085645427), df=np.int64(3))"
      ]
     },
     "execution_count": 8,
     "metadata": {},
     "output_type": "execute_result"
    }
   ],
   "source": [
    "st.ttest_1samp(x, 50)"
   ]
  },
  {
   "cell_type": "markdown",
   "id": "1cb201ed",
   "metadata": {},
   "source": [
    "## Welch's Independent t-Test\n",
    "\n",
    "In ordinary circumstances, if we have two samples whose means we'd like to compare, we use an **independent t-test**"
   ]
  },
  {
   "cell_type": "code",
   "execution_count": 9,
   "id": "1026bfba",
   "metadata": {},
   "outputs": [
    {
     "data": {
      "text/html": [
       "<div>\n",
       "<style scoped>\n",
       "    .dataframe tbody tr th:only-of-type {\n",
       "        vertical-align: middle;\n",
       "    }\n",
       "\n",
       "    .dataframe tbody tr th {\n",
       "        vertical-align: top;\n",
       "    }\n",
       "\n",
       "    .dataframe thead th {\n",
       "        text-align: right;\n",
       "    }\n",
       "</style>\n",
       "<table border=\"1\" class=\"dataframe\">\n",
       "  <thead>\n",
       "    <tr style=\"text-align: right;\">\n",
       "      <th></th>\n",
       "      <th>species</th>\n",
       "      <th>island</th>\n",
       "      <th>bill_length_mm</th>\n",
       "      <th>bill_depth_mm</th>\n",
       "      <th>flipper_length_mm</th>\n",
       "      <th>body_mass_g</th>\n",
       "      <th>sex</th>\n",
       "    </tr>\n",
       "  </thead>\n",
       "  <tbody>\n",
       "    <tr>\n",
       "      <th>0</th>\n",
       "      <td>Adelie</td>\n",
       "      <td>Torgersen</td>\n",
       "      <td>39.1</td>\n",
       "      <td>18.7</td>\n",
       "      <td>181.0</td>\n",
       "      <td>3750.0</td>\n",
       "      <td>Male</td>\n",
       "    </tr>\n",
       "    <tr>\n",
       "      <th>1</th>\n",
       "      <td>Adelie</td>\n",
       "      <td>Torgersen</td>\n",
       "      <td>39.5</td>\n",
       "      <td>17.4</td>\n",
       "      <td>186.0</td>\n",
       "      <td>3800.0</td>\n",
       "      <td>Female</td>\n",
       "    </tr>\n",
       "    <tr>\n",
       "      <th>2</th>\n",
       "      <td>Adelie</td>\n",
       "      <td>Torgersen</td>\n",
       "      <td>40.3</td>\n",
       "      <td>18.0</td>\n",
       "      <td>195.0</td>\n",
       "      <td>3250.0</td>\n",
       "      <td>Female</td>\n",
       "    </tr>\n",
       "    <tr>\n",
       "      <th>4</th>\n",
       "      <td>Adelie</td>\n",
       "      <td>Torgersen</td>\n",
       "      <td>36.7</td>\n",
       "      <td>19.3</td>\n",
       "      <td>193.0</td>\n",
       "      <td>3450.0</td>\n",
       "      <td>Female</td>\n",
       "    </tr>\n",
       "    <tr>\n",
       "      <th>5</th>\n",
       "      <td>Adelie</td>\n",
       "      <td>Torgersen</td>\n",
       "      <td>39.3</td>\n",
       "      <td>20.6</td>\n",
       "      <td>190.0</td>\n",
       "      <td>3650.0</td>\n",
       "      <td>Male</td>\n",
       "    </tr>\n",
       "  </tbody>\n",
       "</table>\n",
       "</div>"
      ],
      "text/plain": [
       "  species     island  bill_length_mm  bill_depth_mm  flipper_length_mm  \\\n",
       "0  Adelie  Torgersen            39.1           18.7              181.0   \n",
       "1  Adelie  Torgersen            39.5           17.4              186.0   \n",
       "2  Adelie  Torgersen            40.3           18.0              195.0   \n",
       "4  Adelie  Torgersen            36.7           19.3              193.0   \n",
       "5  Adelie  Torgersen            39.3           20.6              190.0   \n",
       "\n",
       "   body_mass_g     sex  \n",
       "0       3750.0    Male  \n",
       "1       3800.0  Female  \n",
       "2       3250.0  Female  \n",
       "4       3450.0  Female  \n",
       "5       3650.0    Male  "
      ]
     },
     "execution_count": 9,
     "metadata": {},
     "output_type": "execute_result"
    }
   ],
   "source": [
    "penguins = sns.load_dataset(\"penguins\").dropna() # drop missing values\n",
    "penguins.head()"
   ]
  },
  {
   "cell_type": "code",
   "execution_count": 10,
   "id": "7d41b66a",
   "metadata": {},
   "outputs": [
    {
     "data": {
      "text/plain": [
       "(333, 7)"
      ]
     },
     "execution_count": 10,
     "metadata": {},
     "output_type": "execute_result"
    }
   ],
   "source": [
    "penguins.shape"
   ]
  },
  {
   "cell_type": "code",
   "execution_count": 11,
   "id": "dbe434a7",
   "metadata": {},
   "outputs": [
    {
     "data": {
      "text/plain": [
       "(array(['Adelie', 'Chinstrap', 'Gentoo'], dtype=object),\n",
       " array([146,  68, 119]))"
      ]
     },
     "execution_count": 11,
     "metadata": {},
     "output_type": "execute_result"
    }
   ],
   "source": [
    "np.unique(penguins[\"species\"], return_counts=True)\n"
   ]
  },
  {
   "cell_type": "code",
   "execution_count": 12,
   "id": "6f2e2d25",
   "metadata": {},
   "outputs": [],
   "source": [
    "adelie = penguins[penguins[\"species\"] == \"Adelie\"]"
   ]
  },
  {
   "cell_type": "code",
   "execution_count": 13,
   "id": "86a4f0f9",
   "metadata": {},
   "outputs": [
    {
     "data": {
      "text/html": [
       "<div>\n",
       "<style scoped>\n",
       "    .dataframe tbody tr th:only-of-type {\n",
       "        vertical-align: middle;\n",
       "    }\n",
       "\n",
       "    .dataframe tbody tr th {\n",
       "        vertical-align: top;\n",
       "    }\n",
       "\n",
       "    .dataframe thead th {\n",
       "        text-align: right;\n",
       "    }\n",
       "</style>\n",
       "<table border=\"1\" class=\"dataframe\">\n",
       "  <thead>\n",
       "    <tr style=\"text-align: right;\">\n",
       "      <th></th>\n",
       "      <th>species</th>\n",
       "      <th>island</th>\n",
       "      <th>bill_length_mm</th>\n",
       "      <th>bill_depth_mm</th>\n",
       "      <th>flipper_length_mm</th>\n",
       "      <th>body_mass_g</th>\n",
       "      <th>sex</th>\n",
       "    </tr>\n",
       "  </thead>\n",
       "  <tbody>\n",
       "    <tr>\n",
       "      <th>0</th>\n",
       "      <td>Adelie</td>\n",
       "      <td>Torgersen</td>\n",
       "      <td>39.1</td>\n",
       "      <td>18.7</td>\n",
       "      <td>181.0</td>\n",
       "      <td>3750.0</td>\n",
       "      <td>Male</td>\n",
       "    </tr>\n",
       "    <tr>\n",
       "      <th>1</th>\n",
       "      <td>Adelie</td>\n",
       "      <td>Torgersen</td>\n",
       "      <td>39.5</td>\n",
       "      <td>17.4</td>\n",
       "      <td>186.0</td>\n",
       "      <td>3800.0</td>\n",
       "      <td>Female</td>\n",
       "    </tr>\n",
       "    <tr>\n",
       "      <th>2</th>\n",
       "      <td>Adelie</td>\n",
       "      <td>Torgersen</td>\n",
       "      <td>40.3</td>\n",
       "      <td>18.0</td>\n",
       "      <td>195.0</td>\n",
       "      <td>3250.0</td>\n",
       "      <td>Female</td>\n",
       "    </tr>\n",
       "    <tr>\n",
       "      <th>4</th>\n",
       "      <td>Adelie</td>\n",
       "      <td>Torgersen</td>\n",
       "      <td>36.7</td>\n",
       "      <td>19.3</td>\n",
       "      <td>193.0</td>\n",
       "      <td>3450.0</td>\n",
       "      <td>Female</td>\n",
       "    </tr>\n",
       "    <tr>\n",
       "      <th>5</th>\n",
       "      <td>Adelie</td>\n",
       "      <td>Torgersen</td>\n",
       "      <td>39.3</td>\n",
       "      <td>20.6</td>\n",
       "      <td>190.0</td>\n",
       "      <td>3650.0</td>\n",
       "      <td>Male</td>\n",
       "    </tr>\n",
       "    <tr>\n",
       "      <th>...</th>\n",
       "      <td>...</td>\n",
       "      <td>...</td>\n",
       "      <td>...</td>\n",
       "      <td>...</td>\n",
       "      <td>...</td>\n",
       "      <td>...</td>\n",
       "      <td>...</td>\n",
       "    </tr>\n",
       "    <tr>\n",
       "      <th>147</th>\n",
       "      <td>Adelie</td>\n",
       "      <td>Dream</td>\n",
       "      <td>36.6</td>\n",
       "      <td>18.4</td>\n",
       "      <td>184.0</td>\n",
       "      <td>3475.0</td>\n",
       "      <td>Female</td>\n",
       "    </tr>\n",
       "    <tr>\n",
       "      <th>148</th>\n",
       "      <td>Adelie</td>\n",
       "      <td>Dream</td>\n",
       "      <td>36.0</td>\n",
       "      <td>17.8</td>\n",
       "      <td>195.0</td>\n",
       "      <td>3450.0</td>\n",
       "      <td>Female</td>\n",
       "    </tr>\n",
       "    <tr>\n",
       "      <th>149</th>\n",
       "      <td>Adelie</td>\n",
       "      <td>Dream</td>\n",
       "      <td>37.8</td>\n",
       "      <td>18.1</td>\n",
       "      <td>193.0</td>\n",
       "      <td>3750.0</td>\n",
       "      <td>Male</td>\n",
       "    </tr>\n",
       "    <tr>\n",
       "      <th>150</th>\n",
       "      <td>Adelie</td>\n",
       "      <td>Dream</td>\n",
       "      <td>36.0</td>\n",
       "      <td>17.1</td>\n",
       "      <td>187.0</td>\n",
       "      <td>3700.0</td>\n",
       "      <td>Female</td>\n",
       "    </tr>\n",
       "    <tr>\n",
       "      <th>151</th>\n",
       "      <td>Adelie</td>\n",
       "      <td>Dream</td>\n",
       "      <td>41.5</td>\n",
       "      <td>18.5</td>\n",
       "      <td>201.0</td>\n",
       "      <td>4000.0</td>\n",
       "      <td>Male</td>\n",
       "    </tr>\n",
       "  </tbody>\n",
       "</table>\n",
       "<p>146 rows × 7 columns</p>\n",
       "</div>"
      ],
      "text/plain": [
       "    species     island  bill_length_mm  bill_depth_mm  flipper_length_mm  \\\n",
       "0    Adelie  Torgersen            39.1           18.7              181.0   \n",
       "1    Adelie  Torgersen            39.5           17.4              186.0   \n",
       "2    Adelie  Torgersen            40.3           18.0              195.0   \n",
       "4    Adelie  Torgersen            36.7           19.3              193.0   \n",
       "5    Adelie  Torgersen            39.3           20.6              190.0   \n",
       "..      ...        ...             ...            ...                ...   \n",
       "147  Adelie      Dream            36.6           18.4              184.0   \n",
       "148  Adelie      Dream            36.0           17.8              195.0   \n",
       "149  Adelie      Dream            37.8           18.1              193.0   \n",
       "150  Adelie      Dream            36.0           17.1              187.0   \n",
       "151  Adelie      Dream            41.5           18.5              201.0   \n",
       "\n",
       "     body_mass_g     sex  \n",
       "0         3750.0    Male  \n",
       "1         3800.0  Female  \n",
       "2         3250.0  Female  \n",
       "4         3450.0  Female  \n",
       "5         3650.0    Male  \n",
       "..           ...     ...  \n",
       "147       3475.0  Female  \n",
       "148       3450.0  Female  \n",
       "149       3750.0    Male  \n",
       "150       3700.0  Female  \n",
       "151       4000.0    Male  \n",
       "\n",
       "[146 rows x 7 columns]"
      ]
     },
     "execution_count": 13,
     "metadata": {},
     "output_type": "execute_result"
    }
   ],
   "source": [
    "adelie"
   ]
  },
  {
   "cell_type": "code",
   "execution_count": 14,
   "id": "d78b965c",
   "metadata": {},
   "outputs": [
    {
     "data": {
      "text/plain": [
       "(array(['Biscoe', 'Dream', 'Torgersen'], dtype=object), array([44, 55, 47]))"
      ]
     },
     "execution_count": 14,
     "metadata": {},
     "output_type": "execute_result"
    }
   ],
   "source": [
    "np.unique(adelie[\"island\"], return_counts=True)"
   ]
  },
  {
   "cell_type": "code",
   "execution_count": 15,
   "id": "8762042e",
   "metadata": {},
   "outputs": [
    {
     "data": {
      "text/plain": [
       "(array(['Female', 'Male'], dtype=object), array([73, 73]))"
      ]
     },
     "execution_count": 15,
     "metadata": {},
     "output_type": "execute_result"
    }
   ],
   "source": [
    "np.unique(adelie[\"sex\"], return_counts=True)"
   ]
  },
  {
   "cell_type": "code",
   "execution_count": 16,
   "id": "dcc90778",
   "metadata": {},
   "outputs": [
    {
     "data": {
      "image/png": "[encoded data removed]",
      "text/plain": [
       "<Figure size 640x480 with 1 Axes>"
      ]
     },
     "metadata": {},
     "output_type": "display_data"
    }
   ],
   "source": [
    "_ = sns.boxplot(x=\"island\", y=\"body_mass_g\", hue=\"sex\", data=adelie)"
   ]
  },
  {
   "cell_type": "markdown",
   "id": "e940d079",
   "metadata": {},
   "source": [
    "Mass doesn't appear to vary based on different islands, so, we can be group the data together by islands. Whereas mass difference appears to be varing based on sex, let us take a closer look at it. "
   ]
  },
  {
   "cell_type": "code",
   "execution_count": 17,
   "id": "e3f978a8",
   "metadata": {},
   "outputs": [
    {
     "data": {
      "text/plain": [
       "array([3.8  , 3.25 , 3.45 , 3.625, 3.2  , 3.7  , 3.45 , 3.325, 3.4  ,\n",
       "       3.8  , 3.8  , 3.2  , 3.15 , 3.25 , 3.3  , 3.325, 3.55 , 3.3  ,\n",
       "       3.15 , 3.1  , 3.   , 3.45 , 3.5  , 3.45 , 2.9  , 3.55 , 2.85 ,\n",
       "       3.15 , 3.6  , 2.85 , 3.35 , 3.05 , 3.6  , 3.55 , 3.7  , 3.7  ,\n",
       "       3.55 , 3.2  , 3.8  , 3.35 , 3.5  , 3.6  , 3.55 , 3.4  , 3.3  ,\n",
       "       3.7  , 2.9  , 3.725, 3.075, 2.925, 3.75 , 3.175, 3.825, 3.2  ,\n",
       "       3.9  , 2.9  , 3.35 , 3.15 , 3.45 , 3.05 , 3.275, 3.05 , 3.325,\n",
       "       3.5  , 3.425, 3.175, 3.4  , 3.4  , 3.05 , 3.   , 3.475, 3.45 ,\n",
       "       3.7  ])"
      ]
     },
     "execution_count": 17,
     "metadata": {},
     "output_type": "execute_result"
    }
   ],
   "source": [
    "f = adelie[adelie[\"sex\"] == \"Female\"].body_mass_g.to_numpy() / 1000\n",
    "f"
   ]
  },
  {
   "cell_type": "code",
   "execution_count": 18,
   "id": "5f5818c7",
   "metadata": {},
   "outputs": [
    {
     "data": {
      "text/plain": [
       "array([3.75 , 3.65 , 4.675, 3.8  , 4.4  , 4.5  , 4.2  , 3.6  , 3.95 ,\n",
       "       3.8  , 3.55 , 3.95 , 3.9  , 3.9  , 4.15 , 3.95 , 4.65 , 3.9  ,\n",
       "       4.4  , 4.6  , 3.425, 4.15 , 4.3  , 4.05 , 3.7  , 3.8  , 3.75 ,\n",
       "       4.4  , 4.05 , 3.95 , 4.1  , 4.45 , 3.9  , 4.15 , 4.25 , 3.9  ,\n",
       "       4.   , 4.7  , 4.2  , 3.55 , 3.8  , 3.95 , 4.3  , 4.45 , 4.3  ,\n",
       "       4.35 , 4.1  , 4.725, 4.25 , 3.55 , 3.9  , 4.775, 4.6  , 4.275,\n",
       "       4.075, 3.775, 3.325, 3.5  , 3.875, 4.   , 4.3  , 4.   , 3.5  ,\n",
       "       4.475, 3.9  , 3.975, 4.25 , 3.475, 3.725, 3.65 , 4.25 , 3.75 ,\n",
       "       4.   ])"
      ]
     },
     "execution_count": 18,
     "metadata": {},
     "output_type": "execute_result"
    }
   ],
   "source": [
    "m = adelie[adelie[\"sex\"] == \"Male\"].body_mass_g.to_numpy() / 1000\n",
    "m"
   ]
  },
  {
   "cell_type": "code",
   "execution_count": 19,
   "id": "887aa2c4",
   "metadata": {},
   "outputs": [
    {
     "data": {
      "text/plain": [
       "np.float64(3.368835616438356)"
      ]
     },
     "execution_count": 19,
     "metadata": {},
     "output_type": "execute_result"
    }
   ],
   "source": [
    "fbar = f.mean()\n",
    "fbar"
   ]
  },
  {
   "cell_type": "code",
   "execution_count": 20,
   "id": "f18c2fd1",
   "metadata": {},
   "outputs": [
    {
     "data": {
      "text/plain": [
       "np.float64(4.043493150684932)"
      ]
     },
     "execution_count": 20,
     "metadata": {},
     "output_type": "execute_result"
    }
   ],
   "source": [
    "mbar = m.mean()\n",
    "mbar"
   ]
  },
  {
   "cell_type": "markdown",
   "id": "f13d1100",
   "metadata": {},
   "source": [
    "To quantify whether males weigh significantly more than females, we can use the **Welch *t*-test**, devised by the 20th c. British statistician Bernard Lewis Welch:\n",
    "$$ t = \\frac{\\bar{x} - \\bar{y}}{\\sqrt{\\frac{s^2_x}{n_x} + \\frac{s^2_y}{n_y}}} $$\n",
    "Where:\n",
    "* $\\bar{x}$ and $\\bar{y}$ are the sample means\n",
    "* $s^2_x$ and $s^2_y$ are the sample variances\n",
    "* $n_x$ and $n_y$ are the sample sizes\n"
   ]
  },
  {
   "cell_type": "markdown",
   "id": "c01599be",
   "metadata": {},
   "source": [
    "**N.B.**: Student's independent *t*-test is markedly more popular than Welch's, but Student's assumes equal population variances (i.e., $\\sigma^2_x \\approx \\sigma^2_y$), making it less robust. In case you're curious, Student's formula is the same as Welch's, except that it uses a pooled variance $s^2_p$ in place of individual sample variances ($s^2_x$ and $s^2_y$). You can read more about it [here](https://en.wikipedia.org/wiki/Student%27s_t-test#Independent_two-sample_t-test)."
   ]
  },
  {
   "cell_type": "code",
   "execution_count": 21,
   "id": "a934b0a4",
   "metadata": {},
   "outputs": [
    {
     "data": {
      "text/plain": [
       "(np.float64(0.07256563926940643), np.float64(0.12027825342465753))"
      ]
     },
     "execution_count": 21,
     "metadata": {},
     "output_type": "execute_result"
    }
   ],
   "source": [
    "sf = f.var(ddof=1)\n",
    "sm = m.var(ddof=1)\n",
    "sf, sm"
   ]
  },
  {
   "cell_type": "code",
   "execution_count": 23,
   "id": "2ec76cdd",
   "metadata": {},
   "outputs": [
    {
     "data": {
      "text/plain": [
       "(73, 73)"
      ]
     },
     "execution_count": 23,
     "metadata": {},
     "output_type": "execute_result"
    }
   ],
   "source": [
    "nf = f.size\n",
    "nm = len(m)\n",
    "nf, nm"
   ]
  },
  {
   "cell_type": "code",
   "execution_count": 24,
   "id": "2afa5993",
   "metadata": {},
   "outputs": [
    {
     "data": {
      "text/plain": [
       "np.float64(-13.126285923485879)"
      ]
     },
     "execution_count": 24,
     "metadata": {},
     "output_type": "execute_result"
    }
   ],
   "source": [
    "t = (fbar - mbar) / np.sqrt(sf/nf + sm/nm)\n",
    "t"
   ]
  },
  {
   "cell_type": "markdown",
   "id": "c133a4ac",
   "metadata": {},
   "source": [
    "Degrees of freedom for calculating the *p*-value are estimated using the [Welch–Satterthwaite equation](https://en.wikipedia.org/wiki/Welch–Satterthwaite_equation), which we won't detail but is defined as:"
   ]
  },
  {
   "cell_type": "code",
   "execution_count": 25,
   "id": "801fa1ee",
   "metadata": {},
   "outputs": [],
   "source": [
    "def ws_eqn(sx, sy, nx, ny):\n",
    "    return (sx / nx + sy / ny)**2 / (sx**2 / (nx**2 * (nx - 1)) + sy**2 / (ny**2 * (ny - 1)))"
   ]
  },
  {
   "cell_type": "code",
   "execution_count": 26,
   "id": "8d0e3aa7",
   "metadata": {},
   "outputs": [
    {
     "data": {
      "text/plain": [
       "np.float64(135.69357893530386)"
      ]
     },
     "execution_count": 26,
     "metadata": {},
     "output_type": "execute_result"
    }
   ],
   "source": [
    "df = ws_eqn(sf, sm, nf, nm)\n",
    "df"
   ]
  },
  {
   "cell_type": "code",
   "execution_count": 27,
   "id": "18a25a9c",
   "metadata": {},
   "outputs": [
    {
     "data": {
      "text/plain": [
       "np.float64(6.402319748031473e-26)"
      ]
     },
     "execution_count": 27,
     "metadata": {},
     "output_type": "execute_result"
    }
   ],
   "source": [
    "p = 2 * st.t.cdf(-abs(t), df) # or p_from_t(t, df+1)\n",
    "p"
   ]
  },
  {
   "cell_type": "code",
   "execution_count": 28,
   "id": "f51a6c85",
   "metadata": {},
   "outputs": [
    {
     "data": {
      "text/plain": [
       "np.float64(25.193662639886046)"
      ]
     },
     "execution_count": 28,
     "metadata": {},
     "output_type": "execute_result"
    }
   ],
   "source": [
    "-np.log10(p)"
   ]
  },
  {
   "cell_type": "code",
   "execution_count": 30,
   "id": "5d262a41",
   "metadata": {},
   "outputs": [
    {
     "data": {
      "text/plain": [
       "TtestResult(statistic=np.float64(-13.126285923485879), pvalue=np.float64(6.402319748031473e-26), df=np.float64(135.69357893530386))"
      ]
     },
     "execution_count": 30,
     "metadata": {},
     "output_type": "execute_result"
    }
   ],
   "source": [
    "st.ttest_ind(f, m, equal_var=False) # equal_var=False means we don't assume the variances are equal and hence use Welch's t-test"
   ]
  },
  {
   "cell_type": "markdown",
   "id": "f3528406",
   "metadata": {},
   "source": [
    "## Student's Paired t-Test\n",
    "\n",
    "Occasionally, we have two vectors where each element in vector *x* has a corresponding element in vector *y*.\n",
    "\n",
    "For example, we could run an experiment where Alzheimer's disease patients receive a drug on one day (experimental condition) and a sugar pill placebo (control condition) on another day. We can then measure the patients' forgetfulness on both days to test whether the drug has a significant impact on memory.\n",
    "\n",
    "For a given sample size, such a paired *t*-test is more powerful relative to an unpaired (independent) *t*-test because the variance of *x* is directly related to the variance in *y*: A severe Alzheimer's patient will tend to be relatively forgetful on both days, while a mild Alzheimer's patient will tend to be relatively unforgetful on both days. With paired samples, we capture this power by comparing the *difference* between *x* and *y*, e.g., the difference in forgetfulness for a given patient when given the drug relative to when given the sugar pill.\n",
    "\n",
    "In contrast, consider the penguin dataset, wherein we wouldn't be able to obviously pair a given male penguin with a correponding female penguin. Or consider a situation where we provide a drug to one set of Alzheimer's patients while we provide a placebo to an entire different (an independent) group of patients. Indeed, with an independent *t*-test we could even have different sample sizes in the two groups whereas this is impossible with a paired *t*-test."
   ]
  },
  {
   "cell_type": "code",
   "execution_count": 33,
   "id": "f66f4630",
   "metadata": {},
   "outputs": [
    {
     "data": {
      "text/html": [
       "<div>\n",
       "<style scoped>\n",
       "    .dataframe tbody tr th:only-of-type {\n",
       "        vertical-align: middle;\n",
       "    }\n",
       "\n",
       "    .dataframe tbody tr th {\n",
       "        vertical-align: top;\n",
       "    }\n",
       "\n",
       "    .dataframe thead th {\n",
       "        text-align: right;\n",
       "    }\n",
       "</style>\n",
       "<table border=\"1\" class=\"dataframe\">\n",
       "  <thead>\n",
       "    <tr style=\"text-align: right;\">\n",
       "      <th></th>\n",
       "      <th>Unnamed: 0</th>\n",
       "      <th>id</th>\n",
       "      <th>diet</th>\n",
       "      <th>pulse</th>\n",
       "      <th>time</th>\n",
       "      <th>kind</th>\n",
       "    </tr>\n",
       "  </thead>\n",
       "  <tbody>\n",
       "    <tr>\n",
       "      <th>0</th>\n",
       "      <td>0</td>\n",
       "      <td>1</td>\n",
       "      <td>low fat</td>\n",
       "      <td>85</td>\n",
       "      <td>1 min</td>\n",
       "      <td>rest</td>\n",
       "    </tr>\n",
       "    <tr>\n",
       "      <th>1</th>\n",
       "      <td>1</td>\n",
       "      <td>1</td>\n",
       "      <td>low fat</td>\n",
       "      <td>85</td>\n",
       "      <td>15 min</td>\n",
       "      <td>rest</td>\n",
       "    </tr>\n",
       "    <tr>\n",
       "      <th>2</th>\n",
       "      <td>2</td>\n",
       "      <td>1</td>\n",
       "      <td>low fat</td>\n",
       "      <td>88</td>\n",
       "      <td>30 min</td>\n",
       "      <td>rest</td>\n",
       "    </tr>\n",
       "    <tr>\n",
       "      <th>3</th>\n",
       "      <td>3</td>\n",
       "      <td>2</td>\n",
       "      <td>low fat</td>\n",
       "      <td>90</td>\n",
       "      <td>1 min</td>\n",
       "      <td>rest</td>\n",
       "    </tr>\n",
       "    <tr>\n",
       "      <th>4</th>\n",
       "      <td>4</td>\n",
       "      <td>2</td>\n",
       "      <td>low fat</td>\n",
       "      <td>92</td>\n",
       "      <td>15 min</td>\n",
       "      <td>rest</td>\n",
       "    </tr>\n",
       "  </tbody>\n",
       "</table>\n",
       "</div>"
      ],
      "text/plain": [
       "   Unnamed: 0  id     diet  pulse    time  kind\n",
       "0           0   1  low fat     85   1 min  rest\n",
       "1           1   1  low fat     85  15 min  rest\n",
       "2           2   1  low fat     88  30 min  rest\n",
       "3           3   2  low fat     90   1 min  rest\n",
       "4           4   2  low fat     92  15 min  rest"
      ]
     },
     "execution_count": 33,
     "metadata": {},
     "output_type": "execute_result"
    }
   ],
   "source": [
    "# Here is an example\n",
    "\n",
    "exercise = sns.load_dataset(\"exercise\")\n",
    "exercise.head()"
   ]
  },
  {
   "cell_type": "markdown",
   "id": "94898dcf",
   "metadata": {},
   "source": [
    "There are 30 people in the dataset, with their pulse taken at three different time points in an experiment (i.e, after one, 15, and 30 minutes). Ten people were assigned to each of three activity groups:"
   ]
  },
  {
   "cell_type": "code",
   "execution_count": 34,
   "id": "da0af3be",
   "metadata": {},
   "outputs": [
    {
     "data": {
      "text/plain": [
       "(array(['rest', 'running', 'walking'], dtype=object), array([30, 30, 30]))"
      ]
     },
     "execution_count": 34,
     "metadata": {},
     "output_type": "execute_result"
    }
   ],
   "source": [
    "np.unique(exercise[\"kind\"], return_counts=True)"
   ]
  },
  {
   "cell_type": "markdown",
   "id": "3ee1c363",
   "metadata": {},
   "source": [
    "Within each of those activity groups, half of the participants are on a low-fat diet while the other half are on a no-fat diet:"
   ]
  },
  {
   "cell_type": "code",
   "execution_count": 35,
   "id": "23acf32d",
   "metadata": {},
   "outputs": [
    {
     "data": {
      "text/plain": [
       "(array(['low fat', 'no fat'], dtype=object), array([45, 45]))"
      ]
     },
     "execution_count": 35,
     "metadata": {},
     "output_type": "execute_result"
    }
   ],
   "source": [
    "np.unique(exercise[\"diet\"], return_counts=True)"
   ]
  },
  {
   "cell_type": "markdown",
   "id": "7631c9e8",
   "metadata": {},
   "source": [
    "For simplicity, let's only consider one of the six experimental groups, say the walking, no-fat dieters:"
   ]
  },
  {
   "cell_type": "code",
   "execution_count": 36,
   "id": "6c1599b0",
   "metadata": {},
   "outputs": [
    {
     "data": {
      "text/html": [
       "<div>\n",
       "<style scoped>\n",
       "    .dataframe tbody tr th:only-of-type {\n",
       "        vertical-align: middle;\n",
       "    }\n",
       "\n",
       "    .dataframe tbody tr th {\n",
       "        vertical-align: top;\n",
       "    }\n",
       "\n",
       "    .dataframe thead th {\n",
       "        text-align: right;\n",
       "    }\n",
       "</style>\n",
       "<table border=\"1\" class=\"dataframe\">\n",
       "  <thead>\n",
       "    <tr style=\"text-align: right;\">\n",
       "      <th></th>\n",
       "      <th>Unnamed: 0</th>\n",
       "      <th>id</th>\n",
       "      <th>diet</th>\n",
       "      <th>pulse</th>\n",
       "      <th>time</th>\n",
       "      <th>kind</th>\n",
       "    </tr>\n",
       "  </thead>\n",
       "  <tbody>\n",
       "    <tr>\n",
       "      <th>45</th>\n",
       "      <td>45</td>\n",
       "      <td>16</td>\n",
       "      <td>no fat</td>\n",
       "      <td>84</td>\n",
       "      <td>1 min</td>\n",
       "      <td>walking</td>\n",
       "    </tr>\n",
       "    <tr>\n",
       "      <th>46</th>\n",
       "      <td>46</td>\n",
       "      <td>16</td>\n",
       "      <td>no fat</td>\n",
       "      <td>86</td>\n",
       "      <td>15 min</td>\n",
       "      <td>walking</td>\n",
       "    </tr>\n",
       "    <tr>\n",
       "      <th>47</th>\n",
       "      <td>47</td>\n",
       "      <td>16</td>\n",
       "      <td>no fat</td>\n",
       "      <td>89</td>\n",
       "      <td>30 min</td>\n",
       "      <td>walking</td>\n",
       "    </tr>\n",
       "    <tr>\n",
       "      <th>48</th>\n",
       "      <td>48</td>\n",
       "      <td>17</td>\n",
       "      <td>no fat</td>\n",
       "      <td>103</td>\n",
       "      <td>1 min</td>\n",
       "      <td>walking</td>\n",
       "    </tr>\n",
       "    <tr>\n",
       "      <th>49</th>\n",
       "      <td>49</td>\n",
       "      <td>17</td>\n",
       "      <td>no fat</td>\n",
       "      <td>109</td>\n",
       "      <td>15 min</td>\n",
       "      <td>walking</td>\n",
       "    </tr>\n",
       "    <tr>\n",
       "      <th>50</th>\n",
       "      <td>50</td>\n",
       "      <td>17</td>\n",
       "      <td>no fat</td>\n",
       "      <td>90</td>\n",
       "      <td>30 min</td>\n",
       "      <td>walking</td>\n",
       "    </tr>\n",
       "    <tr>\n",
       "      <th>51</th>\n",
       "      <td>51</td>\n",
       "      <td>18</td>\n",
       "      <td>no fat</td>\n",
       "      <td>92</td>\n",
       "      <td>1 min</td>\n",
       "      <td>walking</td>\n",
       "    </tr>\n",
       "    <tr>\n",
       "      <th>52</th>\n",
       "      <td>52</td>\n",
       "      <td>18</td>\n",
       "      <td>no fat</td>\n",
       "      <td>96</td>\n",
       "      <td>15 min</td>\n",
       "      <td>walking</td>\n",
       "    </tr>\n",
       "    <tr>\n",
       "      <th>53</th>\n",
       "      <td>53</td>\n",
       "      <td>18</td>\n",
       "      <td>no fat</td>\n",
       "      <td>101</td>\n",
       "      <td>30 min</td>\n",
       "      <td>walking</td>\n",
       "    </tr>\n",
       "    <tr>\n",
       "      <th>54</th>\n",
       "      <td>54</td>\n",
       "      <td>19</td>\n",
       "      <td>no fat</td>\n",
       "      <td>97</td>\n",
       "      <td>1 min</td>\n",
       "      <td>walking</td>\n",
       "    </tr>\n",
       "    <tr>\n",
       "      <th>55</th>\n",
       "      <td>55</td>\n",
       "      <td>19</td>\n",
       "      <td>no fat</td>\n",
       "      <td>98</td>\n",
       "      <td>15 min</td>\n",
       "      <td>walking</td>\n",
       "    </tr>\n",
       "    <tr>\n",
       "      <th>56</th>\n",
       "      <td>56</td>\n",
       "      <td>19</td>\n",
       "      <td>no fat</td>\n",
       "      <td>100</td>\n",
       "      <td>30 min</td>\n",
       "      <td>walking</td>\n",
       "    </tr>\n",
       "    <tr>\n",
       "      <th>57</th>\n",
       "      <td>57</td>\n",
       "      <td>20</td>\n",
       "      <td>no fat</td>\n",
       "      <td>102</td>\n",
       "      <td>1 min</td>\n",
       "      <td>walking</td>\n",
       "    </tr>\n",
       "    <tr>\n",
       "      <th>58</th>\n",
       "      <td>58</td>\n",
       "      <td>20</td>\n",
       "      <td>no fat</td>\n",
       "      <td>104</td>\n",
       "      <td>15 min</td>\n",
       "      <td>walking</td>\n",
       "    </tr>\n",
       "    <tr>\n",
       "      <th>59</th>\n",
       "      <td>59</td>\n",
       "      <td>20</td>\n",
       "      <td>no fat</td>\n",
       "      <td>103</td>\n",
       "      <td>30 min</td>\n",
       "      <td>walking</td>\n",
       "    </tr>\n",
       "  </tbody>\n",
       "</table>\n",
       "</div>"
      ],
      "text/plain": [
       "    Unnamed: 0  id    diet  pulse    time     kind\n",
       "45          45  16  no fat     84   1 min  walking\n",
       "46          46  16  no fat     86  15 min  walking\n",
       "47          47  16  no fat     89  30 min  walking\n",
       "48          48  17  no fat    103   1 min  walking\n",
       "49          49  17  no fat    109  15 min  walking\n",
       "50          50  17  no fat     90  30 min  walking\n",
       "51          51  18  no fat     92   1 min  walking\n",
       "52          52  18  no fat     96  15 min  walking\n",
       "53          53  18  no fat    101  30 min  walking\n",
       "54          54  19  no fat     97   1 min  walking\n",
       "55          55  19  no fat     98  15 min  walking\n",
       "56          56  19  no fat    100  30 min  walking\n",
       "57          57  20  no fat    102   1 min  walking\n",
       "58          58  20  no fat    104  15 min  walking\n",
       "59          59  20  no fat    103  30 min  walking"
      ]
     },
     "execution_count": 36,
     "metadata": {},
     "output_type": "execute_result"
    }
   ],
   "source": [
    "walk_no = exercise[(exercise[\"diet\"] == \"no fat\") & (exercise[\"kind\"] == \"walking\")]\n",
    "walk_no"
   ]
  },
  {
   "cell_type": "markdown",
   "id": "31f26572",
   "metadata": {},
   "source": [
    "(Note how participant 16 has a relatively low heart rate at all three timepoints, whereas participant 20 has a relatively high heart rate at all three timepoints.)"
   ]
  },
  {
   "cell_type": "code",
   "execution_count": 37,
   "id": "658e1b2d",
   "metadata": {},
   "outputs": [
    {
     "data": {
      "image/png": "[encoded data removed]",
      "text/plain": [
       "<Figure size 640x480 with 1 Axes>"
      ]
     },
     "metadata": {},
     "output_type": "display_data"
    }
   ],
   "source": [
    "_ = sns.boxplot(x=\"time\", y=\"pulse\", data=walk_no)"
   ]
  },
  {
   "cell_type": "code",
   "execution_count": 38,
   "id": "9a4afae5",
   "metadata": {},
   "outputs": [
    {
     "data": {
      "text/plain": [
       "array([ 84, 103,  92,  97, 102])"
      ]
     },
     "execution_count": 38,
     "metadata": {},
     "output_type": "execute_result"
    }
   ],
   "source": [
    "min1 = walk_no[walk_no[\"time\"] == \"1 min\"][\"pulse\"].to_numpy()\n",
    "min1"
   ]
  },
  {
   "cell_type": "code",
   "execution_count": 39,
   "id": "4ffe9eb1",
   "metadata": {},
   "outputs": [
    {
     "data": {
      "text/plain": [
       "np.float64(95.6)"
      ]
     },
     "execution_count": 39,
     "metadata": {},
     "output_type": "execute_result"
    }
   ],
   "source": [
    "min1.mean()"
   ]
  },
  {
   "cell_type": "code",
   "execution_count": 40,
   "id": "9c5c59b1",
   "metadata": {},
   "outputs": [
    {
     "data": {
      "text/plain": [
       "array([ 86, 109,  96,  98, 104])"
      ]
     },
     "execution_count": 40,
     "metadata": {},
     "output_type": "execute_result"
    }
   ],
   "source": [
    "min15 = walk_no[walk_no[\"time\"] == \"15 min\"][\"pulse\"].to_numpy()\n",
    "min15"
   ]
  },
  {
   "cell_type": "code",
   "execution_count": 41,
   "id": "4161b45b",
   "metadata": {},
   "outputs": [
    {
     "data": {
      "text/plain": [
       "np.float64(98.6)"
      ]
     },
     "execution_count": 41,
     "metadata": {},
     "output_type": "execute_result"
    }
   ],
   "source": [
    "min15.mean()"
   ]
  },
  {
   "cell_type": "code",
   "execution_count": 42,
   "id": "3ddb1080",
   "metadata": {},
   "outputs": [
    {
     "data": {
      "text/plain": [
       "array([ 89,  90, 101, 100, 103])"
      ]
     },
     "execution_count": 42,
     "metadata": {},
     "output_type": "execute_result"
    }
   ],
   "source": [
    "min30 = walk_no[walk_no[\"time\"] == \"30 min\"][\"pulse\"].to_numpy()\n",
    "min30"
   ]
  },
  {
   "cell_type": "code",
   "execution_count": 43,
   "id": "90763d84",
   "metadata": {},
   "outputs": [
    {
     "data": {
      "text/plain": [
       "np.float64(96.6)"
      ]
     },
     "execution_count": 43,
     "metadata": {},
     "output_type": "execute_result"
    }
   ],
   "source": [
    "min30.mean()"
   ]
  },
  {
   "cell_type": "markdown",
   "id": "b31c55ac",
   "metadata": {},
   "source": [
    "(With paired samples, we can plot the values in a scatterplot, which wouldn't make any sense for independent samples, e.g.:)"
   ]
  },
  {
   "cell_type": "code",
   "execution_count": 44,
   "id": "e74c5aaa",
   "metadata": {},
   "outputs": [
    {
     "data": {
      "image/png": "[encoded data removed]",
      "text/plain": [
       "<Figure size 640x480 with 1 Axes>"
      ]
     },
     "metadata": {},
     "output_type": "display_data"
    }
   ],
   "source": [
    "sns.scatterplot(x=min1, y=min15)\n",
    "plt.title('Heart rate of no-fat dieters (beats per minute)')\n",
    "plt.xlabel('After 1 minute walking')\n",
    "_ = plt.ylabel('After 15 minutes walking')"
   ]
  },
  {
   "cell_type": "markdown",
   "id": "61bffa27",
   "metadata": {},
   "source": [
    "To assess whether the mean heart rate varies significantly after one minute of walking relative to after 15 minutes, we can use Student's **paired-sample** (a.k.a., **dependent**) *t*-test:\n",
    "$$ t = \\frac{\\bar{d} - \\mu_0}{s_{\\bar{d}}} $$\n",
    "Where:\n",
    "* $d$ is a vector of the differences between paired samples $x$ and $y$\n",
    "* $\\bar{d}$ is the mean of the differences\n",
    "* $\\mu_0$ will typically be zero, meaning the null hypothesis is that there is no difference between $x$ and $y$\n",
    "* $s_{\\bar{d}}$ is the standard error of the differences"
   ]
  },
  {
   "cell_type": "code",
   "execution_count": 45,
   "id": "39ffb9c3",
   "metadata": {},
   "outputs": [
    {
     "data": {
      "text/plain": [
       "array([2, 6, 4, 1, 2])"
      ]
     },
     "execution_count": 45,
     "metadata": {},
     "output_type": "execute_result"
    }
   ],
   "source": [
    "d = min15 - min1\n",
    "d"
   ]
  },
  {
   "cell_type": "code",
   "execution_count": 47,
   "id": "16bebc78",
   "metadata": {},
   "outputs": [
    {
     "data": {
      "text/plain": [
       "np.float64(3.0)"
      ]
     },
     "execution_count": 47,
     "metadata": {},
     "output_type": "execute_result"
    }
   ],
   "source": [
    "dmean = d.mean()\n",
    "dmean"
   ]
  },
  {
   "cell_type": "code",
   "execution_count": 49,
   "id": "7e041117",
   "metadata": {},
   "outputs": [
    {
     "data": {
      "text/plain": [
       "np.float64(0.8944271909999159)"
      ]
     },
     "execution_count": 49,
     "metadata": {},
     "output_type": "execute_result"
    }
   ],
   "source": [
    "# standard error\n",
    "dsem = st.sem(d)\n",
    "dsem"
   ]
  },
  {
   "cell_type": "code",
   "execution_count": 53,
   "id": "46952799",
   "metadata": {},
   "outputs": [
    {
     "data": {
      "text/plain": [
       "np.float64(3.3541019662496847)"
      ]
     },
     "execution_count": 53,
     "metadata": {},
     "output_type": "execute_result"
    }
   ],
   "source": [
    "#  calculate t\n",
    "t = (dmean - 0) / dsem\n",
    "t"
   ]
  },
  {
   "cell_type": "code",
   "execution_count": 54,
   "id": "f7744887",
   "metadata": {},
   "outputs": [
    {
     "data": {
      "text/plain": [
       "np.float64(0.02846020325433834)"
      ]
     },
     "execution_count": 54,
     "metadata": {},
     "output_type": "execute_result"
    }
   ],
   "source": [
    "p_from_t(t, len(d))"
   ]
  },
  {
   "cell_type": "code",
   "execution_count": 55,
   "id": "97ed4fc4",
   "metadata": {},
   "outputs": [
    {
     "data": {
      "text/plain": [
       "TtestResult(statistic=np.float64(3.3541019662496847), pvalue=np.float64(0.02846020325433834), df=np.int64(4))"
      ]
     },
     "execution_count": 55,
     "metadata": {},
     "output_type": "execute_result"
    }
   ],
   "source": [
    "st.ttest_rel(min15, min1)"
   ]
  },
  {
   "cell_type": "markdown",
   "id": "1524d5d3",
   "metadata": {},
   "source": [
    "In contrast, if we were to put the same values into an independent *t*-test..."
   ]
  },
  {
   "cell_type": "code",
   "execution_count": 57,
   "id": "f48460f6",
   "metadata": {},
   "outputs": [
    {
     "data": {
      "text/plain": [
       "TtestResult(statistic=np.float64(0.5729114862838532), pvalue=np.float64(0.5826164805627767), df=np.float64(7.91150470414055))"
      ]
     },
     "execution_count": 57,
     "metadata": {},
     "output_type": "execute_result"
    }
   ],
   "source": [
    "st.ttest_ind(min15, min1, equal_var=False)"
   ]
  },
  {
   "cell_type": "markdown",
   "id": "4039e83c",
   "metadata": {},
   "source": [
    "#### Machine Learning Example\n",
    "\n",
    "* Single-sample: Does my stochastic model tend to be more accurate than an established benchmark?\n",
    "* Independent samples: Does my model have unwanted bias in it, e.g., do white men score higher than other demographic groups with HR model?\n",
    "* Paired samples: Is new TensorFlow.js model significantly faster? (paired by browser / device)"
   ]
  },
  {
   "cell_type": "markdown",
   "id": "f626df68",
   "metadata": {},
   "source": [
    "**Exercises**\n",
    "1. You run four additional experiments with your GMO brewing yeast and now have the following eight stout yields: `[48, 50, 54, 60, 49, 55, 59, 62]`. What is the *t*-statistic and is it significantly different from the 50L-yielding baseline process?\n",
    "2. Does the flipper length of Adélie penguins from Dream island vary significantly by sex?\n",
    "2. Was the heart rate of low-fat dieters different after one minute of rest relative to after 15 minutes of rest?\n",
    "\n",
    "**Spoiler alert**: Solutions below"
   ]
  },
  {
   "cell_type": "markdown",
   "id": "83a57592",
   "metadata": {},
   "source": [
    "Solution 1. Perform student's independent t-test"
   ]
  },
  {
   "cell_type": "code",
   "execution_count": 62,
   "id": "6bdce007",
   "metadata": {},
   "outputs": [
    {
     "data": {
      "text/plain": [
       "(np.float64(2.448085108904054), np.float64(0.0442312968303811))"
      ]
     },
     "execution_count": 62,
     "metadata": {},
     "output_type": "execute_result"
    }
   ],
   "source": [
    "x = [48, 50, 54, 60, 49, 55, 59, 62]\n",
    "xmean = np.mean(x)\n",
    "sx = st.sem(x)\n",
    "t = (xmean - 50) / sx\n",
    "pval = p_from_t(t, len(x))\n",
    "t, pval\n"
   ]
  },
  {
   "cell_type": "code",
   "execution_count": 61,
   "id": "ca365ecf",
   "metadata": {},
   "outputs": [
    {
     "data": {
      "text/plain": [
       "TtestResult(statistic=np.float64(2.448085108904054), pvalue=np.float64(0.0442312968303811), df=np.int64(7))"
      ]
     },
     "execution_count": 61,
     "metadata": {},
     "output_type": "execute_result"
    }
   ],
   "source": [
    "st.ttest_1samp(x, 50)"
   ]
  },
  {
   "cell_type": "markdown",
   "id": "a7f957d7",
   "metadata": {},
   "source": [
    "conslusion of the above given x values signify that the p-value is less than 0.05 or 5 % and ttest(7) = 2.45 hence this the new GMO-yeast is significantly different"
   ]
  },
  {
   "cell_type": "markdown",
   "id": "c1aa8f79",
   "metadata": {},
   "source": [
    "Solution 2: As we are comparing flipper length between sex of penguiens species Adelie"
   ]
  },
  {
   "cell_type": "code",
   "execution_count": 63,
   "id": "da42bbcb",
   "metadata": {},
   "outputs": [
    {
     "data": {
      "text/html": [
       "<div>\n",
       "<style scoped>\n",
       "    .dataframe tbody tr th:only-of-type {\n",
       "        vertical-align: middle;\n",
       "    }\n",
       "\n",
       "    .dataframe tbody tr th {\n",
       "        vertical-align: top;\n",
       "    }\n",
       "\n",
       "    .dataframe thead th {\n",
       "        text-align: right;\n",
       "    }\n",
       "</style>\n",
       "<table border=\"1\" class=\"dataframe\">\n",
       "  <thead>\n",
       "    <tr style=\"text-align: right;\">\n",
       "      <th></th>\n",
       "      <th>species</th>\n",
       "      <th>island</th>\n",
       "      <th>bill_length_mm</th>\n",
       "      <th>bill_depth_mm</th>\n",
       "      <th>flipper_length_mm</th>\n",
       "      <th>body_mass_g</th>\n",
       "      <th>sex</th>\n",
       "    </tr>\n",
       "  </thead>\n",
       "  <tbody>\n",
       "    <tr>\n",
       "      <th>0</th>\n",
       "      <td>Adelie</td>\n",
       "      <td>Torgersen</td>\n",
       "      <td>39.1</td>\n",
       "      <td>18.7</td>\n",
       "      <td>181.0</td>\n",
       "      <td>3750.0</td>\n",
       "      <td>Male</td>\n",
       "    </tr>\n",
       "    <tr>\n",
       "      <th>1</th>\n",
       "      <td>Adelie</td>\n",
       "      <td>Torgersen</td>\n",
       "      <td>39.5</td>\n",
       "      <td>17.4</td>\n",
       "      <td>186.0</td>\n",
       "      <td>3800.0</td>\n",
       "      <td>Female</td>\n",
       "    </tr>\n",
       "    <tr>\n",
       "      <th>2</th>\n",
       "      <td>Adelie</td>\n",
       "      <td>Torgersen</td>\n",
       "      <td>40.3</td>\n",
       "      <td>18.0</td>\n",
       "      <td>195.0</td>\n",
       "      <td>3250.0</td>\n",
       "      <td>Female</td>\n",
       "    </tr>\n",
       "    <tr>\n",
       "      <th>4</th>\n",
       "      <td>Adelie</td>\n",
       "      <td>Torgersen</td>\n",
       "      <td>36.7</td>\n",
       "      <td>19.3</td>\n",
       "      <td>193.0</td>\n",
       "      <td>3450.0</td>\n",
       "      <td>Female</td>\n",
       "    </tr>\n",
       "    <tr>\n",
       "      <th>5</th>\n",
       "      <td>Adelie</td>\n",
       "      <td>Torgersen</td>\n",
       "      <td>39.3</td>\n",
       "      <td>20.6</td>\n",
       "      <td>190.0</td>\n",
       "      <td>3650.0</td>\n",
       "      <td>Male</td>\n",
       "    </tr>\n",
       "    <tr>\n",
       "      <th>...</th>\n",
       "      <td>...</td>\n",
       "      <td>...</td>\n",
       "      <td>...</td>\n",
       "      <td>...</td>\n",
       "      <td>...</td>\n",
       "      <td>...</td>\n",
       "      <td>...</td>\n",
       "    </tr>\n",
       "    <tr>\n",
       "      <th>147</th>\n",
       "      <td>Adelie</td>\n",
       "      <td>Dream</td>\n",
       "      <td>36.6</td>\n",
       "      <td>18.4</td>\n",
       "      <td>184.0</td>\n",
       "      <td>3475.0</td>\n",
       "      <td>Female</td>\n",
       "    </tr>\n",
       "    <tr>\n",
       "      <th>148</th>\n",
       "      <td>Adelie</td>\n",
       "      <td>Dream</td>\n",
       "      <td>36.0</td>\n",
       "      <td>17.8</td>\n",
       "      <td>195.0</td>\n",
       "      <td>3450.0</td>\n",
       "      <td>Female</td>\n",
       "    </tr>\n",
       "    <tr>\n",
       "      <th>149</th>\n",
       "      <td>Adelie</td>\n",
       "      <td>Dream</td>\n",
       "      <td>37.8</td>\n",
       "      <td>18.1</td>\n",
       "      <td>193.0</td>\n",
       "      <td>3750.0</td>\n",
       "      <td>Male</td>\n",
       "    </tr>\n",
       "    <tr>\n",
       "      <th>150</th>\n",
       "      <td>Adelie</td>\n",
       "      <td>Dream</td>\n",
       "      <td>36.0</td>\n",
       "      <td>17.1</td>\n",
       "      <td>187.0</td>\n",
       "      <td>3700.0</td>\n",
       "      <td>Female</td>\n",
       "    </tr>\n",
       "    <tr>\n",
       "      <th>151</th>\n",
       "      <td>Adelie</td>\n",
       "      <td>Dream</td>\n",
       "      <td>41.5</td>\n",
       "      <td>18.5</td>\n",
       "      <td>201.0</td>\n",
       "      <td>4000.0</td>\n",
       "      <td>Male</td>\n",
       "    </tr>\n",
       "  </tbody>\n",
       "</table>\n",
       "<p>146 rows × 7 columns</p>\n",
       "</div>"
      ],
      "text/plain": [
       "    species     island  bill_length_mm  bill_depth_mm  flipper_length_mm  \\\n",
       "0    Adelie  Torgersen            39.1           18.7              181.0   \n",
       "1    Adelie  Torgersen            39.5           17.4              186.0   \n",
       "2    Adelie  Torgersen            40.3           18.0              195.0   \n",
       "4    Adelie  Torgersen            36.7           19.3              193.0   \n",
       "5    Adelie  Torgersen            39.3           20.6              190.0   \n",
       "..      ...        ...             ...            ...                ...   \n",
       "147  Adelie      Dream            36.6           18.4              184.0   \n",
       "148  Adelie      Dream            36.0           17.8              195.0   \n",
       "149  Adelie      Dream            37.8           18.1              193.0   \n",
       "150  Adelie      Dream            36.0           17.1              187.0   \n",
       "151  Adelie      Dream            41.5           18.5              201.0   \n",
       "\n",
       "     body_mass_g     sex  \n",
       "0         3750.0    Male  \n",
       "1         3800.0  Female  \n",
       "2         3250.0  Female  \n",
       "4         3450.0  Female  \n",
       "5         3650.0    Male  \n",
       "..           ...     ...  \n",
       "147       3475.0  Female  \n",
       "148       3450.0  Female  \n",
       "149       3750.0    Male  \n",
       "150       3700.0  Female  \n",
       "151       4000.0    Male  \n",
       "\n",
       "[146 rows x 7 columns]"
      ]
     },
     "execution_count": 63,
     "metadata": {},
     "output_type": "execute_result"
    }
   ],
   "source": [
    "adelie"
   ]
  },
  {
   "cell_type": "code",
   "execution_count": 78,
   "id": "60298309",
   "metadata": {},
   "outputs": [
    {
     "data": {
      "text/plain": [
       "array([0.178, 0.188, 0.195, 0.18 , 0.181, 0.182, 0.186, 0.185, 0.19 ,\n",
       "       0.191, 0.189, 0.19 , 0.202, 0.185, 0.187, 0.19 , 0.178, 0.193,\n",
       "       0.187, 0.191, 0.185, 0.193, 0.188, 0.192, 0.184, 0.195, 0.187])"
      ]
     },
     "execution_count": 78,
     "metadata": {},
     "output_type": "execute_result"
    }
   ],
   "source": [
    "pa_f =adelie[(adelie[\"sex\"] == \"Female\") & (adelie[\"island\"] == \"Dream\")].flipper_length_mm.to_numpy() / 1000\n",
    "pa_f"
   ]
  },
  {
   "cell_type": "code",
   "execution_count": 79,
   "id": "4fd37fac",
   "metadata": {},
   "outputs": [
    {
     "data": {
      "text/plain": [
       "array([0.178, 0.184, 0.196, 0.19 , 0.184, 0.195, 0.196, 0.19 , 0.182,\n",
       "       0.191, 0.194, 0.19 , 0.189, 0.205, 0.186, 0.208, 0.196, 0.192,\n",
       "       0.199, 0.19 , 0.2  , 0.193, 0.187, 0.19 , 0.185, 0.19 , 0.193,\n",
       "       0.201])"
      ]
     },
     "execution_count": 79,
     "metadata": {},
     "output_type": "execute_result"
    }
   ],
   "source": [
    "pa_m = adelie[(adelie[\"sex\"] == \"Male\") & (adelie[\"island\"] == \"Dream\")].flipper_length_mm.to_numpy() / 1000\n",
    "pa_m"
   ]
  },
  {
   "cell_type": "code",
   "execution_count": 80,
   "id": "0d9239fc",
   "metadata": {},
   "outputs": [
    {
     "data": {
      "text/plain": [
       "(np.float64(0.18785185185185188), np.float64(0.19192857142857142))"
      ]
     },
     "execution_count": 80,
     "metadata": {},
     "output_type": "execute_result"
    }
   ],
   "source": [
    "fbar = pa_f.mean()\n",
    "mbar = pa_m.mean()\n",
    "fbar, mbar"
   ]
  },
  {
   "cell_type": "code",
   "execution_count": 81,
   "id": "fb867537",
   "metadata": {},
   "outputs": [
    {
     "data": {
      "text/plain": [
       "(np.float64(3.0361823361823413e-05), np.float64(4.629100529100531e-05))"
      ]
     },
     "execution_count": 81,
     "metadata": {},
     "output_type": "execute_result"
    }
   ],
   "source": [
    "sf = np.var(pa_f, ddof=1)\n",
    "sm = np.var(pa_m, ddof=1)\n",
    "sf, sm"
   ]
  },
  {
   "cell_type": "code",
   "execution_count": 82,
   "id": "502c4294",
   "metadata": {},
   "outputs": [
    {
     "data": {
      "text/plain": [
       "(27, 28)"
      ]
     },
     "execution_count": 82,
     "metadata": {},
     "output_type": "execute_result"
    }
   ],
   "source": [
    "nf = len(pa_f)\n",
    "nm = len(pa_m)\n",
    "nf, nm"
   ]
  },
  {
   "cell_type": "code",
   "execution_count": 83,
   "id": "6af514e4",
   "metadata": {},
   "outputs": [
    {
     "data": {
      "text/plain": [
       "np.float64(-2.4460386199991677)"
      ]
     },
     "execution_count": 83,
     "metadata": {},
     "output_type": "execute_result"
    }
   ],
   "source": [
    "t = (fbar - mbar) / (sf / nf + sm / nm)**0.5\n",
    "t"
   ]
  },
  {
   "cell_type": "code",
   "execution_count": 84,
   "id": "b79300c0",
   "metadata": {},
   "outputs": [
    {
     "data": {
      "text/plain": [
       "np.float64(51.485528184492175)"
      ]
     },
     "execution_count": 84,
     "metadata": {},
     "output_type": "execute_result"
    }
   ],
   "source": [
    "df = ws_eqn(sf, sm, nf, nm)\n",
    "df"
   ]
  },
  {
   "cell_type": "code",
   "execution_count": 85,
   "id": "3433b191",
   "metadata": {},
   "outputs": [
    {
     "data": {
      "text/plain": [
       "np.float64(0.017898599613025014)"
      ]
     },
     "execution_count": 85,
     "metadata": {},
     "output_type": "execute_result"
    }
   ],
   "source": [
    "p = 2 * st.t.cdf(-abs(t), df) # or p_from_t(t, df+1)\n",
    "p"
   ]
  },
  {
   "cell_type": "code",
   "execution_count": 86,
   "id": "14cb9077",
   "metadata": {},
   "outputs": [
    {
     "data": {
      "text/plain": [
       "TtestResult(statistic=np.float64(-2.4460386199991677), pvalue=np.float64(0.017898599613025014), df=np.float64(51.485528184492175))"
      ]
     },
     "execution_count": 86,
     "metadata": {},
     "output_type": "execute_result"
    }
   ],
   "source": [
    "st.ttest_ind(pa_f, pa_m, equal_var=False) # equal_var=False means we don't assume the variances are equal and hence use Welch's t-test"
   ]
  },
  {
   "cell_type": "markdown",
   "id": "d3f89345",
   "metadata": {},
   "source": [
    "p-value is 0.018 is less  than 0.05 and hence the difference is significane"
   ]
  },
  {
   "cell_type": "markdown",
   "id": "066777bd",
   "metadata": {},
   "source": [
    "Solution 3:\n"
   ]
  },
  {
   "cell_type": "code",
   "execution_count": 97,
   "id": "a4fd3b46",
   "metadata": {},
   "outputs": [
    {
     "data": {
      "text/html": [
       "<div>\n",
       "<style scoped>\n",
       "    .dataframe tbody tr th:only-of-type {\n",
       "        vertical-align: middle;\n",
       "    }\n",
       "\n",
       "    .dataframe tbody tr th {\n",
       "        vertical-align: top;\n",
       "    }\n",
       "\n",
       "    .dataframe thead th {\n",
       "        text-align: right;\n",
       "    }\n",
       "</style>\n",
       "<table border=\"1\" class=\"dataframe\">\n",
       "  <thead>\n",
       "    <tr style=\"text-align: right;\">\n",
       "      <th></th>\n",
       "      <th>Unnamed: 0</th>\n",
       "      <th>id</th>\n",
       "      <th>diet</th>\n",
       "      <th>pulse</th>\n",
       "      <th>time</th>\n",
       "      <th>kind</th>\n",
       "    </tr>\n",
       "  </thead>\n",
       "  <tbody>\n",
       "    <tr>\n",
       "      <th>0</th>\n",
       "      <td>0</td>\n",
       "      <td>1</td>\n",
       "      <td>low fat</td>\n",
       "      <td>85</td>\n",
       "      <td>1 min</td>\n",
       "      <td>rest</td>\n",
       "    </tr>\n",
       "    <tr>\n",
       "      <th>1</th>\n",
       "      <td>1</td>\n",
       "      <td>1</td>\n",
       "      <td>low fat</td>\n",
       "      <td>85</td>\n",
       "      <td>15 min</td>\n",
       "      <td>rest</td>\n",
       "    </tr>\n",
       "    <tr>\n",
       "      <th>2</th>\n",
       "      <td>2</td>\n",
       "      <td>1</td>\n",
       "      <td>low fat</td>\n",
       "      <td>88</td>\n",
       "      <td>30 min</td>\n",
       "      <td>rest</td>\n",
       "    </tr>\n",
       "    <tr>\n",
       "      <th>3</th>\n",
       "      <td>3</td>\n",
       "      <td>2</td>\n",
       "      <td>low fat</td>\n",
       "      <td>90</td>\n",
       "      <td>1 min</td>\n",
       "      <td>rest</td>\n",
       "    </tr>\n",
       "    <tr>\n",
       "      <th>4</th>\n",
       "      <td>4</td>\n",
       "      <td>2</td>\n",
       "      <td>low fat</td>\n",
       "      <td>92</td>\n",
       "      <td>15 min</td>\n",
       "      <td>rest</td>\n",
       "    </tr>\n",
       "  </tbody>\n",
       "</table>\n",
       "</div>"
      ],
      "text/plain": [
       "   Unnamed: 0  id     diet  pulse    time  kind\n",
       "0           0   1  low fat     85   1 min  rest\n",
       "1           1   1  low fat     85  15 min  rest\n",
       "2           2   1  low fat     88  30 min  rest\n",
       "3           3   2  low fat     90   1 min  rest\n",
       "4           4   2  low fat     92  15 min  rest"
      ]
     },
     "execution_count": 97,
     "metadata": {},
     "output_type": "execute_result"
    }
   ],
   "source": [
    "low_fat = exercise[(exercise[\"diet\"] == \"low fat\") & (exercise[\"kind\"] == \"rest\")]\n",
    "low_fat.head()"
   ]
  },
  {
   "cell_type": "code",
   "execution_count": 98,
   "id": "19ece1ac",
   "metadata": {},
   "outputs": [
    {
     "data": {
      "text/plain": [
       "array([85, 90, 97, 80, 91])"
      ]
     },
     "execution_count": 98,
     "metadata": {},
     "output_type": "execute_result"
    }
   ],
   "source": [
    "lf_1min = low_fat[low_fat[\"time\"] == \"1 min\"][\"pulse\"].to_numpy()\n",
    "lf_1min"
   ]
  },
  {
   "cell_type": "code",
   "execution_count": 99,
   "id": "589a154b",
   "metadata": {},
   "outputs": [
    {
     "data": {
      "text/plain": [
       "array([85, 92, 97, 82, 92])"
      ]
     },
     "execution_count": 99,
     "metadata": {},
     "output_type": "execute_result"
    }
   ],
   "source": [
    "lf_15min = low_fat[low_fat[\"time\"] == \"15 min\"][\"pulse\"].to_numpy()\n",
    "lf_15min"
   ]
  },
  {
   "cell_type": "code",
   "execution_count": 100,
   "id": "ee4ca592",
   "metadata": {},
   "outputs": [
    {
     "data": {
      "text/plain": [
       "(np.float64(88.6), np.float64(89.6))"
      ]
     },
     "execution_count": 100,
     "metadata": {},
     "output_type": "execute_result"
    }
   ],
   "source": [
    "mean_1min = lf_1min.mean()\n",
    "mean_15min = lf_15min.mean()\n",
    "mean_1min, mean_15min"
   ]
  },
  {
   "cell_type": "code",
   "execution_count": 101,
   "id": "396bd3f5",
   "metadata": {},
   "outputs": [
    {
     "data": {
      "text/plain": [
       "array([0, 2, 0, 2, 1])"
      ]
     },
     "execution_count": 101,
     "metadata": {},
     "output_type": "execute_result"
    }
   ],
   "source": [
    "d = lf_15min - lf_1min\n",
    "d"
   ]
  },
  {
   "cell_type": "code",
   "execution_count": 102,
   "id": "6901d5f9",
   "metadata": {},
   "outputs": [
    {
     "data": {
      "text/plain": [
       "np.float64(1.0)"
      ]
     },
     "execution_count": 102,
     "metadata": {},
     "output_type": "execute_result"
    }
   ],
   "source": [
    "dmean = d.mean()\n",
    "dmean"
   ]
  },
  {
   "cell_type": "code",
   "execution_count": 103,
   "id": "81289a79",
   "metadata": {},
   "outputs": [
    {
     "data": {
      "text/plain": [
       "np.float64(0.4472135954999579)"
      ]
     },
     "execution_count": 103,
     "metadata": {},
     "output_type": "execute_result"
    }
   ],
   "source": [
    "dsem = st.sem(d)\n",
    "dsem"
   ]
  },
  {
   "cell_type": "code",
   "execution_count": 104,
   "id": "a35f4fab",
   "metadata": {},
   "outputs": [
    {
     "data": {
      "text/plain": [
       "np.float64(2.23606797749979)"
      ]
     },
     "execution_count": 104,
     "metadata": {},
     "output_type": "execute_result"
    }
   ],
   "source": [
    "t = (dmean - 0) / dsem\n",
    "t"
   ]
  },
  {
   "cell_type": "code",
   "execution_count": 105,
   "id": "2dffcc78",
   "metadata": {},
   "outputs": [
    {
     "data": {
      "text/plain": [
       "np.float64(0.08900934250008564)"
      ]
     },
     "execution_count": 105,
     "metadata": {},
     "output_type": "execute_result"
    }
   ],
   "source": [
    "p_from_t(t, len(d))"
   ]
  },
  {
   "cell_type": "code",
   "execution_count": 106,
   "id": "d43bb62a",
   "metadata": {},
   "outputs": [
    {
     "data": {
      "text/plain": [
       "TtestResult(statistic=np.float64(2.23606797749979), pvalue=np.float64(0.08900934250008564), df=np.int64(4))"
      ]
     },
     "execution_count": 106,
     "metadata": {},
     "output_type": "execute_result"
    }
   ],
   "source": [
    "st.ttest_rel(lf_15min, lf_1min)"
   ]
  },
  {
   "cell_type": "markdown",
   "id": "dead8419",
   "metadata": {},
   "source": [
    "p value is > 0.05 and hence there is no significant difference "
   ]
  },
  {
   "cell_type": "markdown",
   "id": "b869c6c0",
   "metadata": {},
   "source": [
    "Finally,\n",
    "\n",
    "1. The GMO yeast yields a mean of 54.6L, which is significantly more stout than the baseline process, *t*(7) = 2.45, $p < .05$.\n",
    "2. On Dream island, the flippers of male Adélie penguins (191.9 mm) are significantly longer than those of females (187.9 mm), *t* = 2.4, *p* < .05.\n",
    "3. The heart rate of low-fat dieters did not change significantly after one minute of rest (88.6 bpm) relative to after 15 minutes of rest (89.6 bpm), *t*=2.2, *p* = .09."
   ]
  },
  {
   "cell_type": "code",
   "execution_count": null,
   "id": "e0a3b1a1",
   "metadata": {},
   "outputs": [],
   "source": []
  }
 ],
 "metadata": {
  "kernelspec": {
   "display_name": "my_ai_py",
   "language": "python",
   "name": "python3"
  },
  "language_info": {
   "codemirror_mode": {
    "name": "ipython",
    "version": 3
   },
   "file_extension": ".py",
   "mimetype": "text/x-python",
   "name": "python",
   "nbconvert_exporter": "python",
   "pygments_lexer": "ipython3",
   "version": "3.12.9"
  }
 },
 "nbformat": 4,
 "nbformat_minor": 5
}
