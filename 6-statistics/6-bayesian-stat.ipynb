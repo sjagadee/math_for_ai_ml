{
 "cells": [
  {
   "cell_type": "markdown",
   "id": "a41ce820",
   "metadata": {},
   "source": [
    "## Bayesian Stats\n",
    "\n",
    "Bayes Therom\n",
    "\n",
    "...allows us to find $P(\\text{x}|\\text{y})$ when we have $P(\\text{y}|\\text{x})$:\n",
    "$$ P(\\text{x}|\\text{y}) = \\frac{P(\\text{x})P(\\text{y}|\\text{x})}{P(\\text{y})} $$"
   ]
  },
  {
   "cell_type": "markdown",
   "id": "48517c9b",
   "metadata": {},
   "source": [
    "Let's use the *xkcd* [exploding sun cartoon](https://xkcd.com/1132/) as an example. Using a standard $\\alpha = .05$ threshold, the frequentist rejected the null hypothesis that the sun hadn't exploded because the probability the neutrino detector outputs `YES` when the sun hasn't exploded is $\\frac{1}{6} \\times \\frac{1}{6} = \\frac{1}{36} \\approx 0.0278$, which is $<.05$."
   ]
  },
  {
   "cell_type": "markdown",
   "id": "aede292e",
   "metadata": {},
   "source": [
    "Using Bayes' theorem, the Bayesian statistician incorporates additional information -- largely related to the probability that the sun has exploded irrespective what the neutrino detector says -- to draw a different conclusion.\n",
    "\n",
    "Let's likewise use some back-of-the-envelope figures to estimate the probability the sun has exploded ($x = \\text{exploded}$) given the neutrino detector output `YES` ($y = \\text{YES}$); that is, $P(x|y)$. To find this, we'll need $P(y|x)$, $P(x)$, and $P(y)$.\n",
    "\n",
    "$P(y = \\text{YES} | x = \\text{exploded}) = \\frac{35}{36} \\approx 0.972 $.\n",
    "\n",
    "$P(x = \\text{exploded})$ can be roughly estimated. It is generous to assume a $\\frac{1}{1000}$ chance because for every thousand days that pass, the sun explodes far less often than once. Further, unless the sun had exploded only in the past few minutes, we'd already be dead. So, the probability that we are alive in an instant where the sun has exploded is extremely small. Anyway, let's go with $\\frac{1}{1000}$ because even with this exceedingly generous figure, we'll demonstrate the point.\n",
    "\n",
    "$P(y = \\text{YES})$: As is often the case, this probability in the Bayes' theorem denominator can be calculated with information we already have because:\n",
    "$$ P(\\text{y}) = \\sum_x P(\\text{y}|x)P(x) $$\n",
    "Summing over the two possible states of x ($x =$ exploded, $x =$ not exploded):\n",
    "$$ P(y = \\text{YES}) = P(\\text{YES given exploded})P(\\text{exploded}) + P(\\text{YES given not exploded})P(\\text{not exploded}) $$\n",
    "$$ = \\left(\\frac{35}{36}\\right)\\left(\\frac{1}{1000}\\right) + \\left(\\frac{1}{36}\\right)\\left(\\frac{999}{1000}\\right) $$\n",
    "...which comes out to $P(y = \\text{YES}) \\approx 0.0287$:"
   ]
  },
  {
   "cell_type": "code",
   "execution_count": 4,
   "id": "2532a008",
   "metadata": {},
   "outputs": [
    {
     "data": {
      "text/plain": [
       "0.02872222222222222"
      ]
     },
     "execution_count": 4,
     "metadata": {},
     "output_type": "execute_result"
    }
   ],
   "source": [
    "py = (35/36.)*(1/1000.) + (1/36.)*(999/1000.)\n",
    "py"
   ]
  },
  {
   "cell_type": "markdown",
   "id": "4f7a5632",
   "metadata": {},
   "source": [
    "Now we have everything we need to apply Bayes' theorem:"
   ]
  },
  {
   "cell_type": "code",
   "execution_count": 5,
   "id": "17433701",
   "metadata": {},
   "outputs": [],
   "source": [
    "py_givenx = 0.972\n",
    "px = .0001"
   ]
  },
  {
   "cell_type": "code",
   "execution_count": 6,
   "id": "578186d8",
   "metadata": {},
   "outputs": [],
   "source": [
    "def bayes(my_px, my_pygivenx, my_py):\n",
    "    return (my_px*my_pygivenx)/my_py"
   ]
  },
  {
   "cell_type": "code",
   "execution_count": 7,
   "id": "128c729f",
   "metadata": {},
   "outputs": [
    {
     "data": {
      "text/plain": [
       "0.0033841392649903296"
      ]
     },
     "execution_count": 7,
     "metadata": {},
     "output_type": "execute_result"
    }
   ],
   "source": [
    "bayes(px, py_givenx, py)"
   ]
  },
  {
   "cell_type": "markdown",
   "id": "2784d0b6",
   "metadata": {},
   "source": [
    "Therefore, even with our generous baseline estimate of a $\\frac{1}{1000}$ chance of the sun having exploded, Bayes' rule enables us to find a 0.3% chance the sun has exploded given the neutrino detector output `YES`. Certainly odds that merit making a $50 bet!"
   ]
  },
  {
   "cell_type": "code",
   "execution_count": null,
   "id": "69703de5",
   "metadata": {},
   "outputs": [],
   "source": []
  }
 ],
 "metadata": {
  "kernelspec": {
   "display_name": "my_ai_py",
   "language": "python",
   "name": "python3"
  },
  "language_info": {
   "codemirror_mode": {
    "name": "ipython",
    "version": 3
   },
   "file_extension": ".py",
   "mimetype": "text/x-python",
   "name": "python",
   "nbconvert_exporter": "python",
   "pygments_lexer": "ipython3",
   "version": "3.12.9"
  }
 },
 "nbformat": 4,
 "nbformat_minor": 5
}
