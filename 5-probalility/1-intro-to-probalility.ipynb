{
 "cells": [
  {
   "cell_type": "markdown",
   "id": "467b18b9",
   "metadata": {},
   "source": [
    "## Introduction to Probability\n",
    "\n",
    "### What Probability Theory Is\n",
    "\n",
    "#### Events and Sample Spaces\n",
    "\n",
    "Let's assume we have a fair coin, which is equally likely to come up heads (H) or tails (T).\n",
    "\n",
    "In instances like this, where the two outcomes are equally likely, we can use probability theory to express the likelihood of a particular **event** by comparing it with the **sample space** (the set of all possible outcomes; can be denoted as $\\Omega$):\n",
    "\n",
    "$$ P(\\text{event}) = \\frac{\\text{Number of outcomes of event}}{\\text{Number of outcomes in }\\Omega} $$\n",
    "\n",
    "If we're only flipping the coin once, then there are only two possible outcomes in the sample space $\\Omega$: it will either be H or T (using set notation, we could write this as $\\Omega$ = {H, T}).\n",
    "\n",
    "Therefore: $$ P(H) = \\frac{1}{2} = 0.5 $$\n",
    "\n",
    "Equally: $$ P(T) = \\frac{1}{2} = 0.5 $$\n",
    "\n",
    "As a separate example, consider drawing a single card from a standard deck of 52 playing cards. In this case, the number of possible outcomes in the sample space $\\Omega$ is 52.\n",
    "\n",
    "There is only one ace of spades in the deck, so the probability of drawing it is: $$ P(\\text{ace of spades}) = \\frac{1}{52} \\approx 0.019 $$\n",
    "\n",
    "In contrast there are four aces, so the probability of drawing an ace is: $$ P(\\text{ace}) = \\frac{4}{52} \\approx 0.077 $$\n",
    "\n",
    "Some additional examples:\n",
    "$$ P(\\text{spade}) = \\frac{13}{52} = 0.25 $$\n",
    "$$ P(\\text{ace OR spade}) = \\frac{16}{52} \\approx 0.307 $$\n",
    "$$ P(\\text{card}) = \\frac{52}{52} = 1 $$\n",
    "$$ P(\\text{turnip}) = \\frac{0}{52} = 0 $$"
   ]
  },
  {
   "cell_type": "markdown",
   "id": "bb4aa05b",
   "metadata": {},
   "source": [
    "#### Multiple Independent Observations\n",
    "\n",
    "Let's return to coin flipping to illustrate situations where we have an event consisting of multiple independent observations. For example, the probability of throwing two consecutive heads is: $$ P(\\text{HH}) = \\frac{1}{4} = 0.25 $$ ...because there is one HH event in the sample set of four possible events ($\\Omega$ = {HH, HT, TH, TT}).\n",
    "\n",
    "Likewise, the probability of throwing *three* consecutive heads is: $$ P(\\text{HHH}) = \\frac{1}{8} = 0.125 $$ ...because there is one HHH event in the sample set of eight possible events ($\\Omega$ = {HHH, HHT, HTH, THH, HTT, THT, TTH, TTT}).\n",
    "\n",
    "As final examples, the probability of throwing exactly two heads in three tosses is $ P = \\frac{3}{8} = 0.375 $ \n",
    "\n",
    "while the probability of throwing at least two heads in three tosses is $ P = \\frac{4}{8} = 0.5 $."
   ]
  },
  {
   "cell_type": "markdown",
   "id": "12629e7f",
   "metadata": {},
   "source": [
    "#### Combining Probabilities\n",
    "\n",
    "In order to combine probabilities, we can multiply them. So the probability of throwing five consecutive heads, for example, is the product of probabilities we've already calculated: $$ P(\\text{HHHHH}) = P(\\text{HH}) \\times P(\\text{HHH}) = \\frac{1}{4} \\times \\frac{1}{8} = \\frac{1}{32} \\approx 0.031 $$"
   ]
  },
  {
   "cell_type": "markdown",
   "id": "3b54b4dc",
   "metadata": {},
   "source": [
    "#### Combinatorics\n",
    "\n",
    "*Combinatorics* is a field of mathematics devoted to counting that can be helpful to studying probabilities. We can use **factorials** (e.g., $4! = 4 \\times 3 \\times 2 \\times 1 = 24$), which feature prominently in combinatorics, to calculate probabilities instead of painstakingly determining all of the members of the sample space $\\Omega$ and counting subsets within $\\Omega$."
   ]
  },
  {
   "cell_type": "markdown",
   "id": "0bf722f7",
   "metadata": {},
   "source": [
    "More specifically, we can calculate the number of outcomes of an event using the \"number of combinations\" equation: $$ {n \\choose k} = \\frac{n!}{k!(n - k)!} $$\n",
    "\n",
    "The left-hand side of the equation is read \"$n$ choose $k$\" and is most quickly understood via an example: If we have three coin flips, $n = 3$, and if we're interested in the number of ways to get two head flips (or two tail flips, for that matter), $k = 2$. We would read this as \"3 choose 2\" and calculate it as:\n",
    "$$ {n \\choose k} = {3 \\choose 2} = \\frac{3!}{2!(3 - 2)!} = \\frac{3!}{(2!)(1!)} = \\frac{3 \\times 2 \\times 1}{(2 \\times 1)(1)} = \\frac{6}{(2)(1)} = \\frac{6}{2} = 3 $$\n",
    "\n",
    "\n",
    "This provide us with the numerator for event-probability equation from above: $$ P(\\text{event}) = \\frac{\\text{Number of outcomes of event}}{\\text{Number of outcomes in }\\Omega} $$\n",
    "\n",
    "In the case of coin-flipping (or any binary process with equally probable outcomes), the denominator can be calculated with $2^n$ (where $n$ is again the number of coin flips), so: $$ \\frac{\\text{Number of outcomes of event}}{\\text{Number of outcomes in }\\Omega} = \\frac{3}{2^n} = \\frac{3}{2^3} = \\frac{3}{8} = 0.375 $$"
   ]
  },
  {
   "cell_type": "markdown",
   "id": "1376f2f6",
   "metadata": {},
   "source": [
    "**Exercises**:\n",
    "\n",
    "1. What is the probability of drawing the ace of spades twice in a row? (Assume that any card drawn on the first draw will be put back in the deck before the second draw.)\n",
    "2. You draw a card from a deck of cards. After replacing the drawn card back in the deck and shuffling thoroughly, what is the probability of drawing the same card again?\n",
    "3. Use $n \\choose k$ to calculate the probability of throwing three heads in five coin tosses.\n",
    "4. Create a Python method that solves exercise 3 and incorporates the $n \\choose k$ formula $\\frac{n!}{k!(n - k)!}$. With the method in hand, calculate the probability of -- in five tosses -- throwing each of zero, one, two, three, four, and five heads."
   ]
  },
  {
   "cell_type": "markdown",
   "id": "4448e07a",
   "metadata": {},
   "source": [
    "**Solution**:\n",
    "\n",
    "1. $$P(\\text{ace of spades}) * P(\\text{ace of spades}) = (\\frac {1}{52}) * (\\frac {1}{52})  = (\\frac {1}{52})^2 = (\\frac {1}{2704}) = 0.00037 = 0.037%$$\n",
    "\n",
    "2. $$P(\\text{any card}) = (\\frac {52}{52}) = 1$$\n",
    "$$ P(\\text{same card as first draw}) = \\frac{1}{52} \\approx 0.019 $$\n",
    "$$P(\\text{any card}) * P(\\text{same card as first draw}) = (1)(\\frac {1}{52}) = (\\frac {1}{52}) \\approx 0.019$$\n",
    "\n",
    "3. $n = 5$ and $k = 3$: $$ {n \\choose k} = {5 \\choose 3} = \\frac {5!}{3! (5-2)!} = \\frac {5 \\times 4 \\times 3 \\times 2 \\times 1}{(3 \\times 2 \\times 1)(2 \\times 1)} = 5 \\times 2 = 10$$\n",
    "\n",
    "$$P = \\frac {n \\choose k}{2^n} = \\frac {10}{2^5} = \\frac {10}{32} = 0.3125$$"
   ]
  },
  {
   "cell_type": "code",
   "execution_count": 1,
   "id": "191ec2f8",
   "metadata": {},
   "outputs": [],
   "source": [
    "import numpy as np\n",
    "import scipy.stats as st\n",
    "import matplotlib.pyplot as plt\n",
    "import seaborn as sns\n",
    "from math import factorial\n"
   ]
  },
  {
   "cell_type": "code",
   "execution_count": 2,
   "id": "340ca4cf",
   "metadata": {},
   "outputs": [],
   "source": [
    "## solution for 4th problem\n",
    "def coin_flip_prob(n, k):\n",
    "    n_choose_k = factorial(n) / (factorial(k) * factorial(n - k))\n",
    "    return n_choose_k/(2**n)"
   ]
  },
  {
   "cell_type": "code",
   "execution_count": 3,
   "id": "25420976",
   "metadata": {},
   "outputs": [
    {
     "data": {
      "text/plain": [
       "0.03125"
      ]
     },
     "execution_count": 3,
     "metadata": {},
     "output_type": "execute_result"
    }
   ],
   "source": [
    "# in 5 coin flip - find throwing 0 heads\n",
    "coin_flip_prob(5, 0)"
   ]
  },
  {
   "cell_type": "code",
   "execution_count": 4,
   "id": "46539065",
   "metadata": {},
   "outputs": [
    {
     "data": {
      "text/plain": [
       "0.15625"
      ]
     },
     "execution_count": 4,
     "metadata": {},
     "output_type": "execute_result"
    }
   ],
   "source": [
    "# in 5 coin flip - find throwing 1 heads\n",
    "coin_flip_prob(5, 1)"
   ]
  },
  {
   "cell_type": "code",
   "execution_count": 5,
   "id": "c9e08857",
   "metadata": {},
   "outputs": [
    {
     "data": {
      "text/plain": [
       "0.3125"
      ]
     },
     "execution_count": 5,
     "metadata": {},
     "output_type": "execute_result"
    }
   ],
   "source": [
    "# in 5 coin flip - find throwing 2 heads\n",
    "coin_flip_prob(5, 2)"
   ]
  },
  {
   "cell_type": "code",
   "execution_count": 6,
   "id": "020ae909",
   "metadata": {},
   "outputs": [
    {
     "data": {
      "text/plain": [
       "0.3125"
      ]
     },
     "execution_count": 6,
     "metadata": {},
     "output_type": "execute_result"
    }
   ],
   "source": [
    "# in 5 coin flip - find throwing 3 heads\n",
    "coin_flip_prob(5, 3)"
   ]
  },
  {
   "cell_type": "code",
   "execution_count": 7,
   "id": "fbac062a",
   "metadata": {},
   "outputs": [
    {
     "data": {
      "text/plain": [
       "0.15625"
      ]
     },
     "execution_count": 7,
     "metadata": {},
     "output_type": "execute_result"
    }
   ],
   "source": [
    "# in 5 coin flip - find throwing 4 heads\n",
    "coin_flip_prob(5, 4)"
   ]
  },
  {
   "cell_type": "code",
   "execution_count": 8,
   "id": "be1c06c5",
   "metadata": {},
   "outputs": [
    {
     "data": {
      "text/plain": [
       "0.03125"
      ]
     },
     "execution_count": 8,
     "metadata": {},
     "output_type": "execute_result"
    }
   ],
   "source": [
    "# in 5 coin flip - find throwing 5 heads\n",
    "coin_flip_prob(5, 5)"
   ]
  },
  {
   "cell_type": "code",
   "execution_count": 9,
   "id": "a488733d",
   "metadata": {},
   "outputs": [
    {
     "name": "stdout",
     "output_type": "stream",
     "text": [
      "[0, 1, 2, 3, 4, 5]\n",
      "[0.03125, 0.15625, 0.3125, 0.3125, 0.15625, 0.03125]\n"
     ]
    }
   ],
   "source": [
    "#  using array to print all the above \n",
    "tosses = [i for i in range(6)]\n",
    "probabilities = [coin_flip_prob(5, i) for i in range(6)]\n",
    "print(tosses)\n",
    "print(probabilities)"
   ]
  },
  {
   "cell_type": "markdown",
   "id": "f082cab5",
   "metadata": {},
   "source": [
    "### Law of large numbers\n",
    "\n",
    "While a fair coin should land heads up 50% of the time, as we've seen above, with small sample sizes, there is a non-trivial possibility that in a given experiment we could flip heads on all of the tosses. For example, we've calculated that there's a 3.1% chance that we'll get heads on every toss in a small five-toss experiment.\n",
    "\n",
    "The **law of large numbers** states that the more experiments we run, the closer we will tend to get to the expected probability.\n",
    "\n",
    "Let's run some code to examine this in practice. To start, we'll create a vector of exponentially increasing numbers of coin tosses per experiment:"
   ]
  },
  {
   "cell_type": "code",
   "execution_count": 10,
   "id": "8add474a",
   "metadata": {},
   "outputs": [],
   "source": [
    "ns = np.array([2, 4, 8, 16, 32, 64, 128, 256, 512, 1024, 2048, 4096])"
   ]
  },
  {
   "cell_type": "code",
   "execution_count": 11,
   "id": "b45bb916",
   "metadata": {},
   "outputs": [],
   "source": [
    "np.random.seed(42) # seed for reproducibility"
   ]
  },
  {
   "cell_type": "markdown",
   "id": "fd7e812a",
   "metadata": {},
   "source": [
    "We will discuss the `binomial()` method in more detail in *Segment 2*. For now it suffices to think of its two arguments as *number of coin flips in experiment* and *probability of heads*, while it returns the number of flips that are heads in the experiment."
   ]
  },
  {
   "cell_type": "code",
   "execution_count": 12,
   "id": "2af21131",
   "metadata": {},
   "outputs": [
    {
     "data": {
      "text/plain": [
       "0"
      ]
     },
     "execution_count": 12,
     "metadata": {},
     "output_type": "execute_result"
    }
   ],
   "source": [
    "np.random.binomial(1, 0.5)"
   ]
  },
  {
   "cell_type": "code",
   "execution_count": 13,
   "id": "87060b90",
   "metadata": {},
   "outputs": [
    {
     "data": {
      "text/plain": [
       "[2, 3, 4, 6, 13, 27, 54, 136, 258, 509, 1038, 2094]"
      ]
     },
     "execution_count": 13,
     "metadata": {},
     "output_type": "execute_result"
    }
   ],
   "source": [
    "head_count = [np.random.binomial(n, 0.5) for n in ns]  \n",
    "head_count"
   ]
  },
  {
   "cell_type": "code",
   "execution_count": 14,
   "id": "42a5af2e",
   "metadata": {},
   "outputs": [
    {
     "data": {
      "text/plain": [
       "array([1.        , 0.75      , 0.5       , 0.375     , 0.40625   ,\n",
       "       0.421875  , 0.421875  , 0.53125   , 0.50390625, 0.49707031,\n",
       "       0.50683594, 0.51123047])"
      ]
     },
     "execution_count": 14,
     "metadata": {},
     "output_type": "execute_result"
    }
   ],
   "source": [
    "proportion_heads = head_count / ns\n",
    "proportion_heads"
   ]
  },
  {
   "cell_type": "code",
   "execution_count": 16,
   "id": "5fc1d3a3",
   "metadata": {},
   "outputs": [
    {
     "data": {
      "image/png": "[encoded data removed]",
      "text/plain": [
       "<Figure size 640x480 with 1 Axes>"
      ]
     },
     "metadata": {},
     "output_type": "display_data"
    }
   ],
   "source": [
    "fig, ax = plt.subplots()\n",
    "plt.xlabel(\"Number of coin tosses\")\n",
    "plt.ylabel(\"Proportion of heads\")\n",
    "plt.axhline(0.5, color=\"orange\")\n",
    "_ = ax.scatter(ns, proportion_heads)\n"
   ]
  },
  {
   "cell_type": "code",
   "execution_count": 17,
   "id": "f3f81c94",
   "metadata": {},
   "outputs": [
    {
     "data": {
      "text/plain": [
       "50007"
      ]
     },
     "execution_count": 17,
     "metadata": {},
     "output_type": "execute_result"
    }
   ],
   "source": [
    "np.random.binomial(100000, 0.5)"
   ]
  },
  {
   "cell_type": "code",
   "execution_count": 18,
   "id": "92d30f1d",
   "metadata": {},
   "outputs": [
    {
     "data": {
      "text/plain": [
       "0.50007"
      ]
     },
     "execution_count": 18,
     "metadata": {},
     "output_type": "execute_result"
    }
   ],
   "source": [
    "50007/100000"
   ]
  },
  {
   "cell_type": "markdown",
   "id": "19d5ed65",
   "metadata": {},
   "source": [
    "It is important at this juncture to address the **gambler's fallacy**. It is a common misconception that the law of large numbers dictates that if, say, five heads have been flipped in a row, then the probability of tails is higher on the sixth flip. In fact, probability theory holds that each coin flip is completely independent of all others. Thus, every single flip of a fair coin has a 50% chance of being heads, no matter what happened on preceding flips."
   ]
  },
  {
   "cell_type": "markdown",
   "id": "bb003eff",
   "metadata": {},
   "source": [
    "(To capitalize on this misunderstanding, roulette tables at casinos often have prominent displays tracking the history of red versus black even though there's a 47.4% chance of each and every spin of the roulette wheel no matter what happened on preceding spins. Gamblers will note, say, five reds in a row at a given table and flock to it to bet on black.)"
   ]
  },
  {
   "cell_type": "markdown",
   "id": "e5b08bf2",
   "metadata": {},
   "source": [
    "### Statistics\n",
    "\n",
    "The field of statistics applies probability theory to make inferences with a quantifiable degree of confidence. For example, let's say we ran the five-coin-flip experiment 1000 times with a fair coin:"
   ]
  },
  {
   "cell_type": "code",
   "execution_count": 19,
   "id": "22846212",
   "metadata": {},
   "outputs": [],
   "source": [
    "n_experiments = 1000\n",
    "head_count = np.random.binomial(5, 0.5, n_experiments)"
   ]
  },
  {
   "cell_type": "markdown",
   "id": "60a7b42f",
   "metadata": {},
   "source": [
    "We can plot the results of our experiments to create a **Probability Distribution**:"
   ]
  },
  {
   "cell_type": "code",
   "execution_count": 21,
   "id": "7a804e66",
   "metadata": {},
   "outputs": [
    {
     "data": {
      "text/plain": [
       "(array([0, 1, 2, 3, 4, 5]), array([ 33, 181, 283, 313, 161,  29]))"
      ]
     },
     "execution_count": 21,
     "metadata": {},
     "output_type": "execute_result"
    }
   ],
   "source": [
    "# Calculating the frequency of Heads in our experiment of 1000 times\n",
    "# heads = 0, 1, 2, 3, 4, 5 this denotes the number of heads in each experiment\n",
    "# event_count denotes the frequency of each head in 1000 experiments\n",
    "\n",
    "heads, event_count = np.unique(head_count, return_counts=True)\n",
    "heads, event_count"
   ]
  },
  {
   "cell_type": "markdown",
   "id": "da4f671b",
   "metadata": {},
   "source": [
    "In the above experiment we see that 0 Heads has a frequency of 33 (in 1000 experiments we have 33 times when all the 5 tosses resulted in 0 Heads)"
   ]
  },
  {
   "cell_type": "code",
   "execution_count": 22,
   "id": "c613e6c9",
   "metadata": {},
   "outputs": [
    {
     "data": {
      "text/plain": [
       "array([0.033, 0.181, 0.283, 0.313, 0.161, 0.029])"
      ]
     },
     "execution_count": 22,
     "metadata": {},
     "output_type": "execute_result"
    }
   ],
   "source": [
    "event_pobability = event_count / n_experiments\n",
    "event_pobability"
   ]
  },
  {
   "cell_type": "code",
   "execution_count": 23,
   "id": "4529f250",
   "metadata": {},
   "outputs": [
    {
     "data": {
      "image/png": "[encoded data removed]",
      "text/plain": [
       "<Figure size 640x480 with 1 Axes>"
      ]
     },
     "metadata": {},
     "output_type": "display_data"
    }
   ],
   "source": [
    "plt.bar(heads, event_pobability, color=\"mediumpurple\")\n",
    "plt.xlabel(\"Number of head flips (out of 5 tosses)\")\n",
    "_ = plt.ylabel(\"Event Probability\")"
   ]
  },
  {
   "cell_type": "markdown",
   "id": "5e66d621",
   "metadata": {},
   "source": [
    "Let's say we'd like to now test a coin as to whether it's fair or not. We flip it five times and all five times it comes up heads. Does this imply it's not a fair coin? Statistics arms us with tools to use the probability distribution above to answer this question with a particular degree of confidence."
   ]
  },
  {
   "cell_type": "code",
   "execution_count": null,
   "id": "7a10436b",
   "metadata": {},
   "outputs": [],
   "source": []
  }
 ],
 "metadata": {
  "kernelspec": {
   "display_name": "my_ai_py",
   "language": "python",
   "name": "python3"
  },
  "language_info": {
   "codemirror_mode": {
    "name": "ipython",
    "version": 3
   },
   "file_extension": ".py",
   "mimetype": "text/x-python",
   "name": "python",
   "nbconvert_exporter": "python",
   "pygments_lexer": "ipython3",
   "version": "3.12.9"
  }
 },
 "nbformat": 4,
 "nbformat_minor": 5
}
