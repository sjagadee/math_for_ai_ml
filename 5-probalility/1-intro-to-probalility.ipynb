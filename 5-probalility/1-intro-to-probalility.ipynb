{
 "cells": [
  {
   "cell_type": "markdown",
   "id": "467b18b9",
   "metadata": {},
   "source": [
    "## Introduction to Probability\n",
    "\n",
    "### What Probability Theory Is\n",
    "\n",
    "#### Events and Sample Spaces\n",
    "\n",
    "Let's assume we have a fair coin, which is equally likely to come up heads (H) or tails (T).\n",
    "\n",
    "In instances like this, where the two outcomes are equally likely, we can use probability theory to express the likelihood of a particular **event** by comparing it with the **sample space** (the set of all possible outcomes; can be denoted as $\\Omega$):\n",
    "\n",
    "$$ P(\\text{event}) = \\frac{\\text{Number of outcomes of event}}{\\text{Number of outcomes in }\\Omega} $$\n",
    "\n",
    "If we're only flipping the coin once, then there are only two possible outcomes in the sample space $\\Omega$: it will either be H or T (using set notation, we could write this as $\\Omega$ = {H, T}).\n",
    "\n",
    "Therefore: $$ P(H) = \\frac{1}{2} = 0.5 $$\n",
    "\n",
    "Equally: $$ P(T) = \\frac{1}{2} = 0.5 $$\n",
    "\n",
    "As a separate example, consider drawing a single card from a standard deck of 52 playing cards. In this case, the number of possible outcomes in the sample space $\\Omega$ is 52.\n",
    "\n",
    "There is only one ace of spades in the deck, so the probability of drawing it is: $$ P(\\text{ace of spades}) = \\frac{1}{52} \\approx 0.019 $$\n",
    "\n",
    "In contrast there are four aces, so the probability of drawing an ace is: $$ P(\\text{ace}) = \\frac{4}{52} \\approx 0.077 $$\n",
    "\n",
    "Some additional examples:\n",
    "$$ P(\\text{spade}) = \\frac{13}{52} = 0.25 $$\n",
    "$$ P(\\text{ace OR spade}) = \\frac{16}{52} \\approx 0.307 $$\n",
    "$$ P(\\text{card}) = \\frac{52}{52} = 1 $$\n",
    "$$ P(\\text{turnip}) = \\frac{0}{52} = 0 $$"
   ]
  },
  {
   "cell_type": "markdown",
   "id": "bb4aa05b",
   "metadata": {},
   "source": [
    "#### Multiple Independent Observations\n",
    "\n",
    "Let's return to coin flipping to illustrate situations where we have an event consisting of multiple independent observations. For example, the probability of throwing two consecutive heads is: $$ P(\\text{HH}) = \\frac{1}{4} = 0.25 $$ ...because there is one HH event in the sample set of four possible events ($\\Omega$ = {HH, HT, TH, TT}).\n",
    "\n",
    "Likewise, the probability of throwing *three* consecutive heads is: $$ P(\\text{HHH}) = \\frac{1}{8} = 0.125 $$ ...because there is one HHH event in the sample set of eight possible events ($\\Omega$ = {HHH, HHT, HTH, THH, HTT, THT, TTH, TTT}).\n",
    "\n",
    "As final examples, the probability of throwing exactly two heads in three tosses is $ P = \\frac{3}{8} = 0.375 $ \n",
    "\n",
    "while the probability of throwing at least two heads in three tosses is $ P = \\frac{4}{8} = 0.5 $."
   ]
  },
  {
   "cell_type": "markdown",
   "id": "12629e7f",
   "metadata": {},
   "source": [
    "#### Combining Probabilities\n",
    "\n",
    "In order to combine probabilities, we can multiply them. So the probability of throwing five consecutive heads, for example, is the product of probabilities we've already calculated: $$ P(\\text{HHHHH}) = P(\\text{HH}) \\times P(\\text{HHH}) = \\frac{1}{4} \\times \\frac{1}{8} = \\frac{1}{32} \\approx 0.031 $$"
   ]
  },
  {
   "cell_type": "markdown",
   "id": "3b54b4dc",
   "metadata": {},
   "source": [
    "#### Combinatorics\n",
    "\n",
    "*Combinatorics* is a field of mathematics devoted to counting that can be helpful to studying probabilities. We can use **factorials** (e.g., $4! = 4 \\times 3 \\times 2 \\times 1 = 24$), which feature prominently in combinatorics, to calculate probabilities instead of painstakingly determining all of the members of the sample space $\\Omega$ and counting subsets within $\\Omega$."
   ]
  },
  {
   "cell_type": "markdown",
   "id": "0bf722f7",
   "metadata": {},
   "source": [
    "More specifically, we can calculate the number of outcomes of an event using the \"number of combinations\" equation: $$ {n \\choose k} = \\frac{n!}{k!(n - k)!} $$\n",
    "\n",
    "The left-hand side of the equation is read \"$n$ choose $k$\" and is most quickly understood via an example: If we have three coin flips, $n = 3$, and if we're interested in the number of ways to get two head flips (or two tail flips, for that matter), $k = 2$. We would read this as \"3 choose 2\" and calculate it as:\n",
    "$$ {n \\choose k} = {3 \\choose 2} = \\frac{3!}{2!(3 - 2)!} = \\frac{3!}{(2!)(1!)} = \\frac{3 \\times 2 \\times 1}{(2 \\times 1)(1)} = \\frac{6}{(2)(1)} = \\frac{6}{2} = 3 $$\n",
    "\n",
    "\n",
    "This provide us with the numerator for event-probability equation from above: $$ P(\\text{event}) = \\frac{\\text{Number of outcomes of event}}{\\text{Number of outcomes in }\\Omega} $$\n",
    "\n",
    "In the case of coin-flipping (or any binary process with equally probable outcomes), the denominator can be calculated with $2^n$ (where $n$ is again the number of coin flips), so: $$ \\frac{\\text{Number of outcomes of event}}{\\text{Number of outcomes in }\\Omega} = \\frac{3}{2^n} = \\frac{3}{2^3} = \\frac{3}{8} = 0.375 $$"
   ]
  },
  {
   "cell_type": "markdown",
   "id": "1376f2f6",
   "metadata": {},
   "source": [
    "**Exercises**:\n",
    "\n",
    "1. What is the probability of drawing the ace of spades twice in a row? (Assume that any card drawn on the first draw will be put back in the deck before the second draw.)\n",
    "2. You draw a card from a deck of cards. After replacing the drawn card back in the deck and shuffling thoroughly, what is the probability of drawing the same card again?\n",
    "3. Use $n \\choose k$ to calculate the probability of throwing three heads in five coin tosses.\n",
    "4. Create a Python method that solves exercise 3 and incorporates the $n \\choose k$ formula $\\frac{n!}{k!(n - k)!}$. With the method in hand, calculate the probability of -- in five tosses -- throwing each of zero, one, two, three, four, and five heads."
   ]
  },
  {
   "cell_type": "markdown",
   "id": "4448e07a",
   "metadata": {},
   "source": [
    "**Solution**:\n",
    "\n",
    "1. $$P(\\text{ace of spades}) * P(\\text{ace of spades}) = (\\frac {1}{52}) * (\\frac {1}{52})  = (\\frac {1}{52})^2 = (\\frac {1}{2704}) = 0.00037 = 0.037%$$\n",
    "\n",
    "2. $$P(\\text{any card}) = (\\frac {52}{52}) = 1$$\n",
    "$$ P(\\text{same card as first draw}) = \\frac{1}{52} \\approx 0.019 $$\n",
    "$$P(\\text{any card}) * P(\\text{same card as first draw}) = (1)(\\frac {1}{52}) = (\\frac {1}{52}) \\approx 0.019$$\n",
    "\n",
    "3. $n = 5$ and $k = 3$: $$ {n \\choose k} = {5 \\choose 3} = \\frac {5!}{3! (5-2)!} = \\frac {5 \\times 4 \\times 3 \\times 2 \\times 1}{(3 \\times 2 \\times 1)(2 \\times 1)} = 5 \\times 2 = 10$$\n",
    "\n",
    "$$P = \\frac {n \\choose k}{2^n} = \\frac {10}{2^5} = \\frac {10}{32} = 0.3125$$"
   ]
  },
  {
   "cell_type": "code",
   "execution_count": 1,
   "id": "191ec2f8",
   "metadata": {},
   "outputs": [],
   "source": [
    "import numpy as np\n",
    "import scipy.stats as st\n",
    "import matplotlib.pyplot as plt\n",
    "import seaborn as sns\n",
    "from math import factorial\n"
   ]
  },
  {
   "cell_type": "code",
   "execution_count": 2,
   "id": "340ca4cf",
   "metadata": {},
   "outputs": [],
   "source": [
    "## solution for 4th problem\n",
    "def coin_flip_prob(n, k):\n",
    "    n_choose_k = factorial(n) / (factorial(k) * factorial(n - k))\n",
    "    return n_choose_k/(2**n)"
   ]
  },
  {
   "cell_type": "code",
   "execution_count": 9,
   "id": "25420976",
   "metadata": {},
   "outputs": [
    {
     "data": {
      "text/plain": [
       "0.03125"
      ]
     },
     "execution_count": 9,
     "metadata": {},
     "output_type": "execute_result"
    }
   ],
   "source": [
    "# in 5 coin flip - find throwing 0 heads\n",
    "coin_flip_prob(5, 0)"
   ]
  },
  {
   "cell_type": "code",
   "execution_count": null,
   "id": "46539065",
   "metadata": {},
   "outputs": [
    {
     "data": {
      "text/plain": [
       "0.15625"
      ]
     },
     "execution_count": 10,
     "metadata": {},
     "output_type": "execute_result"
    }
   ],
   "source": [
    "# in 5 coin flip - find throwing 1 heads\n",
    "coin_flip_prob(5, 1)"
   ]
  },
  {
   "cell_type": "code",
   "execution_count": null,
   "id": "c9e08857",
   "metadata": {},
   "outputs": [
    {
     "data": {
      "text/plain": [
       "0.3125"
      ]
     },
     "execution_count": 11,
     "metadata": {},
     "output_type": "execute_result"
    }
   ],
   "source": [
    "# in 5 coin flip - find throwing 2 heads\n",
    "coin_flip_prob(5, 2)"
   ]
  },
  {
   "cell_type": "code",
   "execution_count": null,
   "id": "020ae909",
   "metadata": {},
   "outputs": [
    {
     "data": {
      "text/plain": [
       "0.3125"
      ]
     },
     "execution_count": 6,
     "metadata": {},
     "output_type": "execute_result"
    }
   ],
   "source": [
    "# in 5 coin flip - find throwing 3 heads\n",
    "coin_flip_prob(5, 3)"
   ]
  },
  {
   "cell_type": "code",
   "execution_count": null,
   "id": "fbac062a",
   "metadata": {},
   "outputs": [
    {
     "data": {
      "text/plain": [
       "0.15625"
      ]
     },
     "execution_count": 7,
     "metadata": {},
     "output_type": "execute_result"
    }
   ],
   "source": [
    "# in 5 coin flip - find throwing 4 heads\n",
    "coin_flip_prob(5, 4)"
   ]
  },
  {
   "cell_type": "code",
   "execution_count": null,
   "id": "be1c06c5",
   "metadata": {},
   "outputs": [
    {
     "data": {
      "text/plain": [
       "0.03125"
      ]
     },
     "execution_count": 8,
     "metadata": {},
     "output_type": "execute_result"
    }
   ],
   "source": [
    "# in 5 coin flip - find throwing 5 heads\n",
    "coin_flip_prob(5, 5)"
   ]
  },
  {
   "cell_type": "code",
   "execution_count": 14,
   "id": "a488733d",
   "metadata": {},
   "outputs": [
    {
     "name": "stdout",
     "output_type": "stream",
     "text": [
      "[0, 1, 2, 3, 4, 5]\n",
      "[0.03125, 0.15625, 0.3125, 0.3125, 0.15625, 0.03125]\n"
     ]
    }
   ],
   "source": [
    "#  using array to print all the above \n",
    "tosses = [i for i in range(6)]\n",
    "probabilities = [coin_flip_prob(5, i) for i in range(6)]\n",
    "print(tosses)\n",
    "print(probabilities)"
   ]
  },
  {
   "cell_type": "code",
   "execution_count": null,
   "id": "8add474a",
   "metadata": {},
   "outputs": [],
   "source": []
  }
 ],
 "metadata": {
  "kernelspec": {
   "display_name": "my_ai_py",
   "language": "python",
   "name": "python3"
  },
  "language_info": {
   "codemirror_mode": {
    "name": "ipython",
    "version": 3
   },
   "file_extension": ".py",
   "mimetype": "text/x-python",
   "name": "python",
   "nbconvert_exporter": "python",
   "pygments_lexer": "ipython3",
   "version": "3.12.9"
  }
 },
 "nbformat": 4,
 "nbformat_minor": 5
}
