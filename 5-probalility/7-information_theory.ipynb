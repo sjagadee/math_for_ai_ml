{
 "cells": [
  {
   "cell_type": "markdown",
   "id": "d7824270",
   "metadata": {},
   "source": [
    "## Information Theory\n",
    "\n",
    "from the slides - self information formula is: $ I(x)=-\\text{log}P(x) $"
   ]
  },
  {
   "cell_type": "code",
   "execution_count": 1,
   "id": "ff53feac",
   "metadata": {},
   "outputs": [],
   "source": [
    "import numpy as np\n",
    "import scipy.stats as st\n",
    "import matplotlib.pyplot as plt\n",
    "import seaborn as sns"
   ]
  },
  {
   "cell_type": "code",
   "execution_count": 2,
   "id": "24094c6b",
   "metadata": {},
   "outputs": [],
   "source": [
    "def self_info(my_p):\n",
    "    return -1 * np.log(my_p)"
   ]
  },
  {
   "cell_type": "code",
   "execution_count": null,
   "id": "a47200ab",
   "metadata": {},
   "outputs": [
    {
     "data": {
      "text/plain": [
       "np.float64(-0.0)"
      ]
     },
     "execution_count": 3,
     "metadata": {},
     "output_type": "execute_result"
    }
   ],
   "source": [
    "# a probability of 1 (100%) means there is no information about the event\n",
    "self_info(1)"
   ]
  },
  {
   "cell_type": "code",
   "execution_count": null,
   "id": "19e01460",
   "metadata": {},
   "outputs": [
    {
     "data": {
      "text/plain": [
       "np.float64(2.3025850929940455)"
      ]
     },
     "execution_count": 4,
     "metadata": {},
     "output_type": "execute_result"
    }
   ],
   "source": [
    "# a probalility of 0.1 (10%) means there is a lot of information about the event\n",
    "self_info(0.1)"
   ]
  },
  {
   "cell_type": "code",
   "execution_count": 7,
   "id": "2d1d0739",
   "metadata": {},
   "outputs": [
    {
     "data": {
      "text/plain": [
       "np.float64(4.605170185988091)"
      ]
     },
     "execution_count": 7,
     "metadata": {},
     "output_type": "execute_result"
    }
   ],
   "source": [
    "# a probalility of 0.01 (1%) means there is a very high amount of information about the event\n",
    "self_info(0.01)"
   ]
  },
  {
   "cell_type": "code",
   "execution_count": null,
   "id": "4651849b",
   "metadata": {},
   "outputs": [
    {
     "data": {
      "text/plain": [
       "np.float64(0.6931471805599453)"
      ]
     },
     "execution_count": 6,
     "metadata": {},
     "output_type": "execute_result"
    }
   ],
   "source": [
    "# a probalility of 0.5 (50%) means there is a medium amount of information about the event\n",
    "self_info(0.5)"
   ]
  },
  {
   "cell_type": "code",
   "execution_count": null,
   "id": "b643f191",
   "metadata": {},
   "outputs": [
    {
     "data": {
      "text/plain": [
       "np.float64(1.3862943611198906)"
      ]
     },
     "execution_count": 8,
     "metadata": {},
     "output_type": "execute_result"
    }
   ],
   "source": [
    "# if there is 2 head flips with a probability of 0.5, then there is double the information compared to 1 head flip\n",
    "self_info(0.5) + self_info(0.5)"
   ]
  },
  {
   "cell_type": "markdown",
   "id": "357dc21e",
   "metadata": {},
   "source": [
    "Depending on what logarithm base we use, the units of self-information vary. Most frequently, the units are either:\n",
    "\n",
    "* **nats**:\n",
    "    * Natural logarithm, as above with `np.log()`\n",
    "    * Typical in ML\n",
    "* **bits**:\n",
    "    * Base-2 logarithm\n",
    "    * A.k.a. **shannons**\n",
    "    * Typical in computer science\n",
    "\n",
    "So, the self-information of $P(x) = 0.1$ is ~2.3 nats."
   ]
  },
  {
   "cell_type": "markdown",
   "id": "231ae0c6",
   "metadata": {},
   "source": [
    "### Shannon and Differential Entropy\n",
    "\n",
    "To quantify uncertainty about a probability distribution (as opposed to a single event), we can use **Shannon entropy**, which is denoted $H(x)$ or $H(P)$:\n",
    "$$ H(x) = \\mathbb{E}_{\\text{x}\\sim P}[I(x)] \\\\\n",
    "= -\\mathbb{E}_{\\text{x}\\sim P}[\\text{log}P(x)] $$\n",
    "\n",
    "Conveys the expected informational content associated with an event drawn from the distribution:\n",
    "* **Low entropy**:\n",
    "    * Distribution is ~deterministic and outcomes are ~certain\n",
    "    * E.g., weighted coin always lands heads up ($P(1)=1$)\n",
    "* **High entropy**:\n",
    "    * Outcomes are uncertain\n",
    "    * Uniform distribution can be highest entropy\n",
    "    * E.g., coin is as likely to be heads as tails ($P(0)=P(1)=0.5$)"
   ]
  },
  {
   "cell_type": "markdown",
   "id": "6f4481dc",
   "metadata": {},
   "source": [
    "As an example, Shannon entropy for a binary random variable (e.g., coin flip) is:\n",
    "$$ (p-1)\\text{log}(1-p)-p \\text{log}p $$"
   ]
  },
  {
   "cell_type": "code",
   "execution_count": 12,
   "id": "c4ff1319",
   "metadata": {},
   "outputs": [],
   "source": [
    "def binary_entropy(my_p):\n",
    "    return (my_p - 1) * np.log(1 - my_p) - my_p * np.log(my_p)"
   ]
  },
  {
   "cell_type": "markdown",
   "id": "85f8a954",
   "metadata": {},
   "source": [
    "Will throw `nan` with $p = 0$ (always tails) or $p = 1$ (always heads), but we can get close: "
   ]
  },
  {
   "cell_type": "code",
   "execution_count": 13,
   "id": "fa80a111",
   "metadata": {},
   "outputs": [
    {
     "data": {
      "text/plain": [
       "np.float64(0.00012512920464949012)"
      ]
     },
     "execution_count": 13,
     "metadata": {},
     "output_type": "execute_result"
    }
   ],
   "source": [
    "binary_entropy(0.00001)"
   ]
  },
  {
   "cell_type": "code",
   "execution_count": 14,
   "id": "1c69464c",
   "metadata": {},
   "outputs": [
    {
     "data": {
      "text/plain": [
       "np.float64(0.00012512920464901166)"
      ]
     },
     "execution_count": 14,
     "metadata": {},
     "output_type": "execute_result"
    }
   ],
   "source": [
    "binary_entropy(0.99999)"
   ]
  },
  {
   "cell_type": "code",
   "execution_count": 15,
   "id": "e5deff35",
   "metadata": {},
   "outputs": [
    {
     "data": {
      "text/plain": [
       "np.float64(0.3250829733914482)"
      ]
     },
     "execution_count": 15,
     "metadata": {},
     "output_type": "execute_result"
    }
   ],
   "source": [
    "binary_entropy(0.9)"
   ]
  },
  {
   "cell_type": "code",
   "execution_count": 16,
   "id": "c09b0a39",
   "metadata": {},
   "outputs": [
    {
     "data": {
      "text/plain": [
       "np.float64(0.6931471805599453)"
      ]
     },
     "execution_count": 16,
     "metadata": {},
     "output_type": "execute_result"
    }
   ],
   "source": [
    "binary_entropy(0.5)"
   ]
  },
  {
   "cell_type": "code",
   "execution_count": 18,
   "id": "fafe5edd",
   "metadata": {},
   "outputs": [],
   "source": [
    "# let us get whole bunch of probabilities\n",
    "\n",
    "p = np.linspace(0.001, 0.999, 1000)  # 1000 points between 0.001 and 0.999"
   ]
  },
  {
   "cell_type": "code",
   "execution_count": 19,
   "id": "9b13ad09",
   "metadata": {},
   "outputs": [],
   "source": [
    "H = binary_entropy(p)"
   ]
  },
  {
   "cell_type": "code",
   "execution_count": 20,
   "id": "b665bd29",
   "metadata": {},
   "outputs": [
    {
     "data": {
      "image/png": "[encoded data removed]",
      "text/plain": [
       "<Figure size 640x480 with 1 Axes>"
      ]
     },
     "metadata": {},
     "output_type": "display_data"
    }
   ],
   "source": [
    "fig, ax = plt.subplots()\n",
    "plt.title(\"Shannon Entropy of Bernoulli Trial\")\n",
    "plt.xlabel(\"p\")\n",
    "plt.ylabel(\"H (nats)\")\n",
    "_ = ax.plot(p, H)"
   ]
  },
  {
   "cell_type": "markdown",
   "id": "f16f2872",
   "metadata": {},
   "source": [
    "**Differential Entropy**: is the name for shannon entropy if the distribution is PDF"
   ]
  },
  {
   "cell_type": "markdown",
   "id": "abed9cfb",
   "metadata": {},
   "source": [
    "### Kullback-Leibler Divergence\n",
    "\n",
    "**KL divergence** enables us to quantify the relative Shannon (or differential) entropy of two probability distributions that are over the same random variable x.\n",
    "\n",
    "For example, if we have one probability distribution described by $P(x)$ and another by $Q(x)$, their KL divergence (denoted $D_\\text{KL}$) is:\n",
    "$$ D_\\text{KL}(P||Q) = \\mathbb{E}_{\\text{x} \\sim P}[\\text{log}P(x) - \\text{log}Q(x)] $$\n",
    "\n",
    "## Cross Entropy\n",
    "\n",
    "Cross-entropy is a concept derived from KL divergence. Its detail is beyond the scope of this series except to mention that it provides us with the **cross-entropy cost** function.\n",
    "\n",
    "This cost function is ubiquitous in neural networks as it's the cost function of choice for predicting discrete, categorical outcomes. E.g., for a binary classifier, the cross-entropy cost ($C$) is:\n",
    "\n",
    "$$ C = -(y \\cdot \\text{log}(\\hat{y}) + (1-y) \\cdot \\text{log}(1-\\hat{y})) $$"
   ]
  },
  {
   "cell_type": "code",
   "execution_count": 21,
   "id": "c8154be6",
   "metadata": {},
   "outputs": [],
   "source": [
    "def cross_entropy(y, a):\n",
    "    return -1*(y*np.log(a) + (1-y)*np.log(1-a))"
   ]
  },
  {
   "cell_type": "code",
   "execution_count": 22,
   "id": "3b7cbc5f",
   "metadata": {},
   "outputs": [
    {
     "data": {
      "text/plain": [
       "np.float64(0.00030004500900199243)"
      ]
     },
     "execution_count": 22,
     "metadata": {},
     "output_type": "execute_result"
    }
   ],
   "source": [
    "cross_entropy(1, 0.9997)"
   ]
  },
  {
   "cell_type": "code",
   "execution_count": 23,
   "id": "c1cc2f73",
   "metadata": {},
   "outputs": [
    {
     "data": {
      "text/plain": [
       "np.float64(0.10536051565782628)"
      ]
     },
     "execution_count": 23,
     "metadata": {},
     "output_type": "execute_result"
    }
   ],
   "source": [
    "cross_entropy(1, 0.9)"
   ]
  },
  {
   "cell_type": "code",
   "execution_count": 24,
   "id": "c31103fa",
   "metadata": {},
   "outputs": [
    {
     "data": {
      "text/plain": [
       "np.float64(0.5108256237659907)"
      ]
     },
     "execution_count": 24,
     "metadata": {},
     "output_type": "execute_result"
    }
   ],
   "source": [
    "cross_entropy(1, 0.6)"
   ]
  },
  {
   "cell_type": "code",
   "execution_count": 25,
   "id": "87707768",
   "metadata": {},
   "outputs": [
    {
     "data": {
      "text/plain": [
       "np.float64(1.2039728043259361)"
      ]
     },
     "execution_count": 25,
     "metadata": {},
     "output_type": "execute_result"
    }
   ],
   "source": [
    "cross_entropy(1, 0.3)"
   ]
  },
  {
   "cell_type": "code",
   "execution_count": null,
   "id": "843f815f",
   "metadata": {},
   "outputs": [],
   "source": []
  }
 ],
 "metadata": {
  "kernelspec": {
   "display_name": "my_ai_py",
   "language": "python",
   "name": "python3"
  },
  "language_info": {
   "codemirror_mode": {
    "name": "ipython",
    "version": 3
   },
   "file_extension": ".py",
   "mimetype": "text/x-python",
   "name": "python",
   "nbconvert_exporter": "python",
   "pygments_lexer": "ipython3",
   "version": "3.12.9"
  }
 },
 "nbformat": 4,
 "nbformat_minor": 5
}
