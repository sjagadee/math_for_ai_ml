{
 "cells": [
  {
   "cell_type": "markdown",
   "id": "d7824270",
   "metadata": {},
   "source": [
    "## Information Theory\n",
    "\n",
    "from the slides - self information formula is: $ I(x)=-\\text{log}P(x) $"
   ]
  },
  {
   "cell_type": "code",
   "execution_count": 1,
   "id": "ff53feac",
   "metadata": {},
   "outputs": [],
   "source": [
    "import numpy as np\n",
    "import scipy.stats as st\n",
    "import matplotlib.pyplot as plt\n",
    "import seaborn as sns"
   ]
  },
  {
   "cell_type": "code",
   "execution_count": 2,
   "id": "24094c6b",
   "metadata": {},
   "outputs": [],
   "source": [
    "def self_info(my_p):\n",
    "    return -1 * np.log(my_p)"
   ]
  },
  {
   "cell_type": "code",
   "execution_count": null,
   "id": "a47200ab",
   "metadata": {},
   "outputs": [
    {
     "data": {
      "text/plain": [
       "np.float64(-0.0)"
      ]
     },
     "execution_count": 3,
     "metadata": {},
     "output_type": "execute_result"
    }
   ],
   "source": [
    "# a probability of 1 (100%) means there is no information about the event\n",
    "self_info(1)"
   ]
  },
  {
   "cell_type": "code",
   "execution_count": null,
   "id": "19e01460",
   "metadata": {},
   "outputs": [
    {
     "data": {
      "text/plain": [
       "np.float64(2.3025850929940455)"
      ]
     },
     "execution_count": 4,
     "metadata": {},
     "output_type": "execute_result"
    }
   ],
   "source": [
    "# a probalility of 0.1 (10%) means there is a lot of information about the event\n",
    "self_info(0.1)"
   ]
  },
  {
   "cell_type": "code",
   "execution_count": 7,
   "id": "2d1d0739",
   "metadata": {},
   "outputs": [
    {
     "data": {
      "text/plain": [
       "np.float64(4.605170185988091)"
      ]
     },
     "execution_count": 7,
     "metadata": {},
     "output_type": "execute_result"
    }
   ],
   "source": [
    "# a probalility of 0.01 (1%) means there is a very high amount of information about the event\n",
    "self_info(0.01)"
   ]
  },
  {
   "cell_type": "code",
   "execution_count": null,
   "id": "4651849b",
   "metadata": {},
   "outputs": [
    {
     "data": {
      "text/plain": [
       "np.float64(0.6931471805599453)"
      ]
     },
     "execution_count": 6,
     "metadata": {},
     "output_type": "execute_result"
    }
   ],
   "source": [
    "# a probalility of 0.5 (50%) means there is a medium amount of information about the event\n",
    "self_info(0.5)"
   ]
  },
  {
   "cell_type": "code",
   "execution_count": null,
   "id": "b643f191",
   "metadata": {},
   "outputs": [
    {
     "data": {
      "text/plain": [
       "np.float64(1.3862943611198906)"
      ]
     },
     "execution_count": 8,
     "metadata": {},
     "output_type": "execute_result"
    }
   ],
   "source": [
    "# if there is 2 head flips, then there is double the information compared to 1 head flip\n",
    "self_info(0.5) + self_info(0.5)"
   ]
  },
  {
   "cell_type": "code",
   "execution_count": null,
   "id": "231ae0c6",
   "metadata": {},
   "outputs": [],
   "source": []
  }
 ],
 "metadata": {
  "kernelspec": {
   "display_name": "my_ai_py",
   "language": "python",
   "name": "python3"
  },
  "language_info": {
   "codemirror_mode": {
    "name": "ipython",
    "version": 3
   },
   "file_extension": ".py",
   "mimetype": "text/x-python",
   "name": "python",
   "nbconvert_exporter": "python",
   "pygments_lexer": "ipython3",
   "version": "3.12.9"
  }
 },
 "nbformat": 4,
 "nbformat_minor": 5
}
