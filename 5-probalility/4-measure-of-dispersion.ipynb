{
 "cells": [
  {
   "cell_type": "markdown",
   "id": "1df229a9",
   "metadata": {},
   "source": [
    "## Measure of Dispersion\n",
    "\n",
    "IQR is a relatively rare measure of the dispersion of values around the center of a distribution. The most widely-used are:\n",
    "\n",
    "* Variance,\n",
    "* Standard deviation, and\n",
    "* Standard error.\n",
    "\n",
    "**Variance** (denoted with $\\sigma^2$) can be written using expected-value notation, but it's easier to understand without it:\n",
    "$$ \\sigma^2 = \\frac{\\sum_{i=1}^n (x_i-\\bar{x})^2}{n} $$"
   ]
  },
  {
   "cell_type": "markdown",
   "id": "97c35a9c",
   "metadata": {},
   "source": [
    "(The astute follower of the *Machine Learning Foundations* series may notice that this formula is the same as mean-squared-error cost, except $x_i$ is being compared to the mean $\\mu$ instead of a predicted value $\\hat{x}_i$.)\n",
    "\n",
    "(Technically speaking, we should divide by $n$-1 with a sample of data, but with the large datasets typical of machine learning, it's a negligible difference. If $n$ were equal to a small number like 8 then it would matter.)\n",
    "\n",
    "(Also technically speaking, the variance of a sample is typically denoted with $s^2$ as opposed to the Greek $\\sigma^2$, akin to how $\\bar{x}$ denotes the mean of a sample while the Greek $\\mu$ is reserved for population mean.)\n",
    "\n",
    "As an example let's calculate the variance of the PDF `x` from earlier:"
   ]
  },
  {
   "cell_type": "code",
   "execution_count": 1,
   "id": "c0fc81b7",
   "metadata": {},
   "outputs": [],
   "source": [
    "import numpy as np\n",
    "import scipy.stats as st\n",
    "import matplotlib.pyplot as plt\n",
    "import seaborn as sns"
   ]
  },
  {
   "cell_type": "code",
   "execution_count": 3,
   "id": "fc809ac5",
   "metadata": {},
   "outputs": [],
   "source": [
    "x = st.skewnorm.rvs(10, size=1000)"
   ]
  },
  {
   "cell_type": "code",
   "execution_count": 5,
   "id": "69cffb13",
   "metadata": {},
   "outputs": [
    {
     "data": {
      "text/plain": [
       "np.float64(0.7832953050856645)"
      ]
     },
     "execution_count": 5,
     "metadata": {},
     "output_type": "execute_result"
    }
   ],
   "source": [
    "xbar = np.mean(x)\n",
    "\n",
    "xbar"
   ]
  },
  {
   "cell_type": "code",
   "execution_count": 6,
   "id": "56d809a2",
   "metadata": {},
   "outputs": [
    {
     "data": {
      "text/plain": [
       "[np.float64(0.038357296644034804),\n",
       " np.float64(0.26418508322805107),\n",
       " np.float64(0.292771781203173),\n",
       " np.float64(0.09515905149703945),\n",
       " np.float64(0.20107889814631363),\n",
       " np.float64(0.2380683563066718),\n",
       " np.float64(0.013517501334494387),\n",
       " np.float64(1.2692108799666457),\n",
       " np.float64(0.15024989048436893),\n",
       " np.float64(0.2090892198950378)]"
      ]
     },
     "execution_count": 6,
     "metadata": {},
     "output_type": "execute_result"
    }
   ],
   "source": [
    "squared_differences = [(x_i - xbar)**2 for x_i in x]\n",
    "squared_differences[:10]"
   ]
  },
  {
   "cell_type": "code",
   "execution_count": 7,
   "id": "6705dc0d",
   "metadata": {},
   "outputs": [
    {
     "data": {
      "text/plain": [
       "np.float64(0.32707623742907266)"
      ]
     },
     "execution_count": 7,
     "metadata": {},
     "output_type": "execute_result"
    }
   ],
   "source": [
    "sigma_squared = sum(squared_differences) / len(x)\n",
    "sigma_squared"
   ]
  },
  {
   "cell_type": "markdown",
   "id": "e95b43b2",
   "metadata": {},
   "source": [
    "We have a built in function in numpy:"
   ]
  },
  {
   "cell_type": "code",
   "execution_count": 8,
   "id": "c9c9478d",
   "metadata": {},
   "outputs": [
    {
     "data": {
      "text/plain": [
       "np.float64(0.32707623742907244)"
      ]
     },
     "execution_count": 8,
     "metadata": {},
     "output_type": "execute_result"
    }
   ],
   "source": [
    "np.var(x)"
   ]
  },
  {
   "cell_type": "markdown",
   "id": "37dcb232",
   "metadata": {},
   "source": [
    "#### Standard Deviation\n",
    "\n",
    "A straightforward derivative of variance is **standard deviation** (denoted with $\\sigma$), which is convenient because its units are on the same scale as the values in the distribution:\n",
    "$$ \\sigma = \\sqrt{\\sigma^2} $$"
   ]
  },
  {
   "cell_type": "code",
   "execution_count": 9,
   "id": "f457d124",
   "metadata": {},
   "outputs": [
    {
     "data": {
      "text/plain": [
       "np.float64(0.5719057941908551)"
      ]
     },
     "execution_count": 9,
     "metadata": {},
     "output_type": "execute_result"
    }
   ],
   "source": [
    "sigma = sigma_squared ** (1/2)\n",
    "sigma"
   ]
  },
  {
   "cell_type": "code",
   "execution_count": 10,
   "id": "a3ae844f",
   "metadata": {},
   "outputs": [
    {
     "data": {
      "text/plain": [
       "np.float64(0.5719057941908549)"
      ]
     },
     "execution_count": 10,
     "metadata": {},
     "output_type": "execute_result"
    }
   ],
   "source": [
    "np.std(x)"
   ]
  },
  {
   "cell_type": "code",
   "execution_count": 11,
   "id": "20fe7ea7",
   "metadata": {},
   "outputs": [
    {
     "data": {
      "image/png": "[encoded data removed]",
      "text/plain": [
       "<Figure size 640x480 with 1 Axes>"
      ]
     },
     "metadata": {},
     "output_type": "display_data"
    }
   ],
   "source": [
    "fig, ax = plt.subplots()\n",
    "plt.axvline(x = xbar, color='orange')\n",
    "plt.axvline(x = xbar + sigma, color='olivedrab')\n",
    "plt.axvline(x = xbar - sigma, color='olivedrab')\n",
    "_ = plt.hist(x, color = 'lightgray')"
   ]
  },
  {
   "cell_type": "markdown",
   "id": "b0e27eb9",
   "metadata": {},
   "source": [
    "#### Standard Error\n",
    "\n",
    "A further derivation of standard deviation is **standard error**, which is denoted with $\\sigma_{\\bar{x}}$:\n",
    "$$ \\sigma_{\\bar{x}} = \\frac{\\sigma}{\\sqrt{n}} $$"
   ]
  },
  {
   "cell_type": "code",
   "execution_count": 12,
   "id": "31fd2d93",
   "metadata": {},
   "outputs": [
    {
     "data": {
      "text/plain": [
       "np.float64(0.01808524916690596)"
      ]
     },
     "execution_count": 12,
     "metadata": {},
     "output_type": "execute_result"
    }
   ],
   "source": [
    "sigma / (len(x))**(1/2)"
   ]
  },
  {
   "cell_type": "code",
   "execution_count": 13,
   "id": "34dc5ef7",
   "metadata": {},
   "outputs": [
    {
     "data": {
      "text/plain": [
       "np.float64(0.018094298579114435)"
      ]
     },
     "execution_count": 13,
     "metadata": {},
     "output_type": "execute_result"
    }
   ],
   "source": [
    "st.sem(x) # standard error - defaults to 1 degree of freedom (n-1), which can be ignored with larger data sets"
   ]
  },
  {
   "cell_type": "code",
   "execution_count": 14,
   "id": "e9dd0563",
   "metadata": {},
   "outputs": [
    {
     "data": {
      "text/plain": [
       "np.float64(0.018085249166905952)"
      ]
     },
     "execution_count": 14,
     "metadata": {},
     "output_type": "execute_result"
    }
   ],
   "source": [
    "st.sem(x, ddof=0) # 0 degree of freedom"
   ]
  },
  {
   "cell_type": "markdown",
   "id": "b1a18909",
   "metadata": {},
   "source": [
    "Standard error enables us to compare whether the means of two distributions differ *significantly*, a focus of *Intro to Stats*."
   ]
  },
  {
   "cell_type": "code",
   "execution_count": null,
   "id": "a6aa45b6",
   "metadata": {},
   "outputs": [],
   "source": []
  }
 ],
 "metadata": {
  "kernelspec": {
   "display_name": "my_ai_py",
   "language": "python",
   "name": "python3"
  },
  "language_info": {
   "codemirror_mode": {
    "name": "ipython",
    "version": 3
   },
   "file_extension": ".py",
   "mimetype": "text/x-python",
   "name": "python",
   "nbconvert_exporter": "python",
   "pygments_lexer": "ipython3",
   "version": "3.12.9"
  }
 },
 "nbformat": 4,
 "nbformat_minor": 5
}
