{
 "cells": [
  {
   "cell_type": "markdown",
   "id": "99b8a97d",
   "metadata": {},
   "source": [
    "### Measures of Central Tendency\n",
    "\n",
    "Measures of central tendency provide a summary statistic on the center of a given distribution.\n",
    "\n",
    "Given that definition, the topic most recently covered above (expected value) should be recognizable as a measure of central tendency. There are indeed many measures of central tendency (see [here](https://en.wikipedia.org/wiki/Central_tendency)); the mean, median and mode are the most common and we'll detail them in this section."
   ]
  },
  {
   "cell_type": "markdown",
   "id": "83591c21",
   "metadata": {},
   "source": [
    "#### Mean\n",
    "\n",
    "The most common measure of central tendency of all (so much so that it's synonomous with the lay usage of the term \"average\"), is the **mean**, often symbolized with $\\mu$ (population) or $\\bar{x}$ (sample):\n",
    "\n",
    "$$ \\bar{x} = \\frac{\\sum_{i=1}^n x_i}{n} $$"
   ]
  },
  {
   "cell_type": "markdown",
   "id": "14cd4151",
   "metadata": {},
   "source": [
    "Expected value is in fact the long-term *mean* of some function (i.e., $\\mu = \\mathbb{E}$). Let's calculate how close the sample mean, $\\bar{x}$, of our five-coin-flip experiments comes to the expected value, $\\mathbb{E} = 2.5$."
   ]
  },
  {
   "cell_type": "code",
   "execution_count": 16,
   "id": "2c9a2009",
   "metadata": {},
   "outputs": [],
   "source": [
    "import numpy as np\n",
    "import scipy.stats as st\n",
    "import matplotlib.pyplot as plt\n",
    "import seaborn as sns"
   ]
  },
  {
   "cell_type": "code",
   "execution_count": 2,
   "id": "88d50a30",
   "metadata": {},
   "outputs": [],
   "source": [
    "n_experiments = 1000\n",
    "head_count = np.random.binomial(5, 0.5, n_experiments)"
   ]
  },
  {
   "cell_type": "code",
   "execution_count": 3,
   "id": "fb9211bd",
   "metadata": {},
   "outputs": [
    {
     "data": {
      "text/plain": [
       "1000"
      ]
     },
     "execution_count": 3,
     "metadata": {},
     "output_type": "execute_result"
    }
   ],
   "source": [
    "len(head_count)"
   ]
  },
  {
   "cell_type": "code",
   "execution_count": 4,
   "id": "06055784",
   "metadata": {},
   "outputs": [
    {
     "data": {
      "text/plain": [
       "array([0, 3, 5, 2, 2, 3, 3, 3, 3, 2, 2, 4, 2, 2, 3, 2, 5, 1, 2, 2])"
      ]
     },
     "execution_count": 4,
     "metadata": {},
     "output_type": "execute_result"
    }
   ],
   "source": [
    "head_count[0:20]"
   ]
  },
  {
   "cell_type": "code",
   "execution_count": 5,
   "id": "cbf2d2f7",
   "metadata": {},
   "outputs": [
    {
     "data": {
      "text/plain": [
       "np.float64(2.492)"
      ]
     },
     "execution_count": 5,
     "metadata": {},
     "output_type": "execute_result"
    }
   ],
   "source": [
    "sum(head_count)/n_experiments"
   ]
  },
  {
   "cell_type": "markdown",
   "id": "d914fe50",
   "metadata": {},
   "source": [
    "Unsuprisingly, numpy has a function to calculate mean"
   ]
  },
  {
   "cell_type": "code",
   "execution_count": 6,
   "id": "f41a8693",
   "metadata": {},
   "outputs": [
    {
     "data": {
      "text/plain": [
       "np.float64(2.492)"
      ]
     },
     "execution_count": 6,
     "metadata": {},
     "output_type": "execute_result"
    }
   ],
   "source": [
    "np.mean(head_count)"
   ]
  },
  {
   "cell_type": "markdown",
   "id": "228c0d71",
   "metadata": {},
   "source": [
    "Pretty close! The law of large numbers implies that as we increase the number of experiments (e.g., to a million -- you're welcome to try it), we'll converge on $\\mathbb{E}=2.5$.\n"
   ]
  },
  {
   "cell_type": "markdown",
   "id": "db0e3000",
   "metadata": {},
   "source": [
    "#### Median \n",
    "\n",
    "The second most common measure of central tendency is the **median**, the midpoint value in the distribution:"
   ]
  },
  {
   "cell_type": "code",
   "execution_count": 8,
   "id": "b23a91ab",
   "metadata": {},
   "outputs": [
    {
     "data": {
      "text/plain": [
       "array([0, 0, 0, 0, 0, 0, 0, 0, 0, 0, 0, 0, 0, 0, 0, 0, 0, 0, 0, 0])"
      ]
     },
     "execution_count": 8,
     "metadata": {},
     "output_type": "execute_result"
    }
   ],
   "source": [
    "head_count.sort()\n",
    "head_count[:20]"
   ]
  },
  {
   "cell_type": "markdown",
   "id": "b8aba3b2",
   "metadata": {},
   "source": [
    "With an odd number of values in a distribution, we consider the single midpoint to be the median, e.g., the midpoint of the sorted array `[2, 4, 6, 9, 10]` is six.\n",
    "\n",
    "With an even number, we take the mean of the two values that straddle the midpoint:"
   ]
  },
  {
   "cell_type": "code",
   "execution_count": 10,
   "id": "079976cb",
   "metadata": {},
   "outputs": [
    {
     "data": {
      "text/plain": [
       "np.int64(2)"
      ]
     },
     "execution_count": 10,
     "metadata": {},
     "output_type": "execute_result"
    }
   ],
   "source": [
    "head_count[499]\n"
   ]
  },
  {
   "cell_type": "code",
   "execution_count": 11,
   "id": "0fcf6175",
   "metadata": {},
   "outputs": [
    {
     "data": {
      "text/plain": [
       "np.int64(2)"
      ]
     },
     "execution_count": 11,
     "metadata": {},
     "output_type": "execute_result"
    }
   ],
   "source": [
    "head_count[500]"
   ]
  },
  {
   "cell_type": "code",
   "execution_count": 12,
   "id": "25eb888b",
   "metadata": {},
   "outputs": [
    {
     "data": {
      "text/plain": [
       "2.0"
      ]
     },
     "execution_count": 12,
     "metadata": {},
     "output_type": "execute_result"
    }
   ],
   "source": [
    "(2 + 2)/ 2"
   ]
  },
  {
   "cell_type": "markdown",
   "id": "ba318ffc",
   "metadata": {},
   "source": [
    "Built in method in numpy"
   ]
  },
  {
   "cell_type": "code",
   "execution_count": 13,
   "id": "0becf806",
   "metadata": {},
   "outputs": [
    {
     "data": {
      "text/plain": [
       "np.float64(2.0)"
      ]
     },
     "execution_count": 13,
     "metadata": {},
     "output_type": "execute_result"
    }
   ],
   "source": [
    "np.median(head_count)"
   ]
  },
  {
   "cell_type": "markdown",
   "id": "a355410e",
   "metadata": {},
   "source": [
    "#### Mode\n",
    "\n",
    "The **mode** is the final common measure of central tendency. It is simply the value in the distribution that occurs most frequently.\n",
    "\n",
    "As is clear in the most recently output chart, in the case of our five-coin-toss experiment, the mode is three.\n",
    "\n",
    "Method available in the SciPy `stats` module:"
   ]
  },
  {
   "cell_type": "code",
   "execution_count": 15,
   "id": "e38b99f2",
   "metadata": {},
   "outputs": [
    {
     "data": {
      "text/plain": [
       "ModeResult(mode=np.int64(2), count=np.int64(356))"
      ]
     },
     "execution_count": 15,
     "metadata": {},
     "output_type": "execute_result"
    }
   ],
   "source": [
    "st.mode(head_count)"
   ]
  },
  {
   "cell_type": "code",
   "execution_count": 18,
   "id": "1583d4c5",
   "metadata": {},
   "outputs": [
    {
     "data": {
      "text/plain": [
       "np.int64(2)"
      ]
     },
     "execution_count": 18,
     "metadata": {},
     "output_type": "execute_result"
    }
   ],
   "source": [
    "st.mode(head_count)[0]"
   ]
  },
  {
   "cell_type": "markdown",
   "id": "b7bd96d4",
   "metadata": {},
   "source": [
    "With small sample sizes, the mean typically provides the most accurate measure of central tendency.\n",
    "\n",
    "With larger sample sizes, the mean, median, and mode will tend to coincide, as long as the distribution isn't skewed:"
   ]
  },
  {
   "cell_type": "code",
   "execution_count": 19,
   "id": "398fa762",
   "metadata": {},
   "outputs": [],
   "source": [
    "x = st.skewnorm.rvs(0, size=1000) # first argument is \"skewness\"; 0 has no skew"
   ]
  },
  {
   "cell_type": "code",
   "execution_count": 20,
   "id": "7539d112",
   "metadata": {},
   "outputs": [
    {
     "data": {
      "image/png": "[encoded data removed]",
      "text/plain": [
       "<Figure size 640x480 with 1 Axes>"
      ]
     },
     "metadata": {},
     "output_type": "display_data"
    }
   ],
   "source": [
    "fig, ax = plt.subplots()\n",
    "plt.axvline(x = np.mean(x), color='orange')\n",
    "plt.axvline(x = np.median(x), color='green')\n",
    "_ = plt.hist(x, color = 'lightgray')\n",
    "# Note: Mode only applies to PMFs; this is a PDF"
   ]
  },
  {
   "cell_type": "markdown",
   "id": "8013f088",
   "metadata": {},
   "source": [
    "Skewed distributions, in contrast, drag the mean away from the center and toward the tail:"
   ]
  },
  {
   "cell_type": "code",
   "execution_count": 21,
   "id": "7b9b87de",
   "metadata": {},
   "outputs": [],
   "source": [
    "x = st.skewnorm.rvs(10, size=1000)"
   ]
  },
  {
   "cell_type": "code",
   "execution_count": 22,
   "id": "eae4a2c7",
   "metadata": {},
   "outputs": [
    {
     "data": {
      "image/png": "[encoded data removed]",
      "text/plain": [
       "<Figure size 640x480 with 1 Axes>"
      ]
     },
     "metadata": {},
     "output_type": "display_data"
    }
   ],
   "source": [
    "fig, ax = plt.subplots()\n",
    "plt.axvline(x = np.mean(x), color='orange')\n",
    "_ = plt.hist(x, color = 'lightgray')"
   ]
  },
  {
   "cell_type": "markdown",
   "id": "2816c996",
   "metadata": {},
   "source": [
    "The mode is least impacted by skew, but is only applicable to discrete distributions. For continuous distributions with skew (e.g., salary data), median is typically the choice for measure of central tendency:"
   ]
  },
  {
   "cell_type": "code",
   "execution_count": 24,
   "id": "1f0a1f87",
   "metadata": {},
   "outputs": [
    {
     "data": {
      "image/png": "[encoded data removed]",
      "text/plain": [
       "<Figure size 640x480 with 1 Axes>"
      ]
     },
     "metadata": {},
     "output_type": "display_data"
    }
   ],
   "source": [
    "fig, ax = plt.subplots()\n",
    "plt.axvline(x = np.mean(x), color='orange')\n",
    "plt.axvline(x = np.median(x), color='green')\n",
    "_ = plt.hist(x, color = 'lightgray')"
   ]
  },
  {
   "cell_type": "code",
   "execution_count": null,
   "id": "e196ea27",
   "metadata": {},
   "outputs": [],
   "source": []
  }
 ],
 "metadata": {
  "kernelspec": {
   "display_name": "my_ai_py",
   "language": "python",
   "name": "python3"
  },
  "language_info": {
   "codemirror_mode": {
    "name": "ipython",
    "version": 3
   },
   "file_extension": ".py",
   "mimetype": "text/x-python",
   "name": "python",
   "nbconvert_exporter": "python",
   "pygments_lexer": "ipython3",
   "version": "3.12.9"
  }
 },
 "nbformat": 4,
 "nbformat_minor": 5
}
