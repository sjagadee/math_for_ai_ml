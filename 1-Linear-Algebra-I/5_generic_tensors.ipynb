{
 "cells": [
  {
   "cell_type": "markdown",
   "metadata": {},
   "source": [
    "## Genric Tensor Notation (Higher-Rank Tensors)\n",
    "\n",
    "- Upper-case, bold, italics, sans serif, e.g., ***X***\n",
    "- In a 4-tensor ***X***, element at position(i,j,k,l) denoted as *$X_{(i,j,k,l)}$*\n",
    "\n",
    "Example, rank 4 tensors are common for images, where each dimension corresponds to:\n",
    "\n",
    "1. Number of images in training batch, eg: 32\n",
    "2. Image height in pixels, eg: 28 for MNIST digits\n",
    "3. Image width in pixels, eg: 28\n",
    "4. Number if color channels, eg: 3 for full-color images (RGB)\n",
    "\n"
   ]
  },
  {
   "cell_type": "code",
   "execution_count": 2,
   "metadata": {},
   "outputs": [],
   "source": [
    "import torch"
   ]
  },
  {
   "cell_type": "code",
   "execution_count": 4,
   "metadata": {},
   "outputs": [],
   "source": [
    "images_pt = torch.zeros([32, 28, 28, 3])\n",
    "#images_pt"
   ]
  },
  {
   "cell_type": "code",
   "execution_count": 5,
   "metadata": {},
   "outputs": [],
   "source": [
    "import tensorflow as tf"
   ]
  },
  {
   "cell_type": "code",
   "execution_count": 7,
   "metadata": {},
   "outputs": [],
   "source": [
    "images_tf = tf.zeros([32, 28, 28, 3])\n",
    "#images_tf"
   ]
  },
  {
   "cell_type": "code",
   "execution_count": null,
   "metadata": {},
   "outputs": [],
   "source": []
  }
 ],
 "metadata": {
  "kernelspec": {
   "display_name": "my_ai_py",
   "language": "python",
   "name": "python3"
  },
  "language_info": {
   "codemirror_mode": {
    "name": "ipython",
    "version": 3
   },
   "file_extension": ".py",
   "mimetype": "text/x-python",
   "name": "python",
   "nbconvert_exporter": "python",
   "pygments_lexer": "ipython3",
   "version": "3.12.9"
  }
 },
 "nbformat": 4,
 "nbformat_minor": 2
}
